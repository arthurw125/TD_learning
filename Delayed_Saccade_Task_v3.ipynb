{
 "cells": [
  {
   "cell_type": "code",
   "execution_count": 1,
   "metadata": {},
   "outputs": [
    {
     "data": {
      "text/html": [
       "<script>requirejs.config({paths: { 'plotly': ['https://cdn.plot.ly/plotly-latest.min']},});if(!window.Plotly) {{require(['plotly'],function(plotly) {window.Plotly=plotly;});}}</script>"
      ],
      "text/vnd.plotly.v1+html": [
       "<script>requirejs.config({paths: { 'plotly': ['https://cdn.plot.ly/plotly-latest.min']},});if(!window.Plotly) {{require(['plotly'],function(plotly) {window.Plotly=plotly;});}}</script>"
      ]
     },
     "metadata": {},
     "output_type": "display_data"
    }
   ],
   "source": [
    "import matplotlib.pyplot as plt\n",
    "import plotly\n",
    "import numpy as np\n",
    "import random\n",
    "import hrr\n",
    "import math\n",
    "import time\n",
    "from plotly.graph_objs import Scatter, Layout, Surface\n",
    "plotly.offline.init_notebook_mode(connected=True)"
   ]
  },
  {
   "cell_type": "code",
   "execution_count": 2,
   "metadata": {
    "collapsed": true
   },
   "outputs": [],
   "source": [
    "def log_transform(error):\n",
    "    return math.copysign(1.0,error)*math.log(math.fabs(error)+1,2)"
   ]
  },
  {
   "cell_type": "code",
   "execution_count": 3,
   "metadata": {
    "collapsed": true
   },
   "outputs": [],
   "source": [
    "def softmax(arr,t=1.0):\n",
    "    w = np.array(arr)\n",
    "    e = np.exp(w / t)\n",
    "    dist = e / np.sum(e)\n",
    "    return dist"
   ]
  },
  {
   "cell_type": "code",
   "execution_count": 31,
   "metadata": {
    "collapsed": true
   },
   "outputs": [],
   "source": [
    "def argmax1(arr_3d,outer,inner):\n",
    "    max_row = outer[0]\n",
    "    max_col = inner[0]\n",
    "    max_x = 0\n",
    "    #max_value = arr_2d[0,0]\n",
    "    max_value = arr_3d[outer[0],inner[0],0]\n",
    "    for row in range(arr_3d.shape[0]):\n",
    "        if row not in outer:\n",
    "            continue\n",
    "        for col in range(arr_3d.shape[1]):\n",
    "            if col not in inner:\n",
    "                continue\n",
    "            for x in range(arr_3d.shape[2]):\n",
    "                if arr_3d[row,col,x] > max_value:\n",
    "                    max_value = arr_3d[row,col,x]\n",
    "                    max_row,max_col,max_x = row,col,x\n",
    "    return list((max_row,max_col,max_x))"
   ]
  },
  {
   "cell_type": "code",
   "execution_count": 4,
   "metadata": {
    "collapsed": true
   },
   "outputs": [],
   "source": [
    "n = 2\n",
    "num = 5\n",
    "A = hrr.hrrs(n,num)\n",
    "B = hrr.hrrs(n,num)"
   ]
  },
  {
   "cell_type": "code",
   "execution_count": 5,
   "metadata": {
    "collapsed": true
   },
   "outputs": [],
   "source": [
    "C = hrr.compose(A,B)"
   ]
  },
  {
   "cell_type": "code",
   "execution_count": 6,
   "metadata": {},
   "outputs": [
    {
     "data": {
      "text/plain": [
       "array([[ 0.48533127,  0.82274783],\n",
       "       [-0.45205008, -1.67282745],\n",
       "       [-0.57192024,  0.73195571],\n",
       "       [-1.36429654, -0.34770737],\n",
       "       [ 0.83859226,  0.04457619]])"
      ]
     },
     "execution_count": 6,
     "metadata": {},
     "output_type": "execute_result"
    }
   ],
   "source": [
    "A"
   ]
  },
  {
   "cell_type": "code",
   "execution_count": 7,
   "metadata": {},
   "outputs": [
    {
     "data": {
      "text/plain": [
       "array([[-0.2614056 ,  0.16014444],\n",
       "       [ 1.55497017, -0.08762939],\n",
       "       [ 0.58734785,  0.47532485],\n",
       "       [-0.85251089,  0.33468313],\n",
       "       [ 0.26819364, -0.8377757 ]])"
      ]
     },
     "execution_count": 7,
     "metadata": {},
     "output_type": "execute_result"
    }
   ],
   "source": [
    "B"
   ]
  },
  {
   "cell_type": "code",
   "execution_count": 8,
   "metadata": {},
   "outputs": [
    {
     "data": {
      "text/plain": [
       "array([[ 0.11196283,  0.49144614],\n",
       "       [ 0.55146005, -0.88022842],\n",
       "       [ 0.00771381,  0.60364028],\n",
       "       [-1.10840372, -0.00651212],\n",
       "       [ 0.55339295, -0.39659975]])"
      ]
     },
     "execution_count": 8,
     "metadata": {},
     "output_type": "execute_result"
    }
   ],
   "source": [
    "C"
   ]
  },
  {
   "cell_type": "code",
   "execution_count": 9,
   "metadata": {
    "collapsed": true
   },
   "outputs": [],
   "source": [
    "D = A+B"
   ]
  },
  {
   "cell_type": "code",
   "execution_count": 10,
   "metadata": {},
   "outputs": [
    {
     "data": {
      "text/plain": [
       "array([[ 0.22392567,  0.98289228],\n",
       "       [ 1.10292009, -1.76045684],\n",
       "       [ 0.01542761,  1.20728056],\n",
       "       [-2.21680744, -0.01302424],\n",
       "       [ 1.10678589, -0.7931995 ]])"
      ]
     },
     "execution_count": 10,
     "metadata": {},
     "output_type": "execute_result"
    }
   ],
   "source": [
    "D"
   ]
  },
  {
   "cell_type": "code",
   "execution_count": null,
   "metadata": {
    "collapsed": true
   },
   "outputs": [],
   "source": []
  },
  {
   "cell_type": "code",
   "execution_count": 57,
   "metadata": {},
   "outputs": [],
   "source": [
    "def Delayed_Saccade(ntrials,lrate,gamma,td_lambda,temp):\n",
    "    n = 2\n",
    "    n_cross_locations = 5\n",
    "    n_dot_locations = 5\n",
    "    n_gaze_locations = 5\n",
    "    n_dot_colors = 4\n",
    "    n_cross_colors = 4\n",
    "    #n_saccades = 5 # actions\n",
    "    \n",
    "    # working memory chuncks\n",
    "    n_wm_crosshair_location = 5\n",
    "    n_wm_dot_location = 5\n",
    "    n_wm_agent_fixation = 5\n",
    "    \n",
    "    # identity vector\n",
    "    hrr_i = np.zeros(n)\n",
    "    hrr_i[0] = 1\n",
    "    \n",
    "    # saccade hrr\n",
    "    agent_gaze_location = hrr.hrrs(n,n_gaze_locations)\n",
    "    agent_gaze_location = np.row_stack((agent_gaze_location,hrr_i))\n",
    "    \n",
    "    # crosshair location hrr\n",
    "    crosshair_location = hrr.hrrs(n,n_cross_locations)\n",
    "    crosshair_location = np.row_stack((crosshair_location,hrr_i))\n",
    "    \n",
    "    # dot location hrr\n",
    "    dot_location = hrr.hrrs(n,n_dot_locations)\n",
    "    dot_location = np.row_stack((dot_location,hrr_i))\n",
    "    \n",
    "    # color hrr\n",
    "    dot_color = hrr.hrrs(n,n_dot_colors)\n",
    "    dot_color = np.row_stack((dot_color,hrr_i))\n",
    "    \n",
    "    # crosshair hrr\n",
    "    crosshair_color = hrr.hrrs(n,n_cross_colors)\n",
    "    crosshair_color = np.row_stack((crosshair_color,hrr_i))\n",
    "\n",
    "    # agent fixation working memory hrr\n",
    "    agent_fixation_wm = hrr.hrrs(n,n_wm_agent_fixation)\n",
    "    agent_fixation_wm = np.row_stack((agent_fixation_wm,hrr_i))\n",
    "    \n",
    "    # dot location working memory hrr\n",
    "    dot_location_wm = hrr.hrrs(n,n_wm_dot_location)\n",
    "    dot_location_wm = np.row_stack((dot_location_wm,hrr_i))\n",
    "    \n",
    "    # crosshair location working memory hrr\n",
    "    crosshair_location_wm = hrr.hrrs(n,n_wm_crosshair_location)\n",
    "    crosshair_location_wm = np.row_stack((crosshair_location_wm,hrr_i))\n",
    "    \n",
    "    #tick1 = time.time()\n",
    "    #print('starting precompute ...')\n",
    "    # precompute hrrs\n",
    "    \n",
    "    #tick2 = time.time()\n",
    "    #print(\"time spent precomputing:\",(tick2-tick1),\"seconds\")\n",
    "    #print(representation.shape)\n",
    "    # weight vector and bias\n",
    "    W = hrr.hrr(n)\n",
    "    bias = 1\n",
    "    \n",
    "    # epsilon for e-soft policy\n",
    "    epsilon = .1\n",
    "    \n",
    "    # temperature for softmax\n",
    "    t = temp\n",
    "    \n",
    "    # eligibility trace\n",
    "    eligibility = np.zeros(n)\n",
    "    center = 4\n",
    "    correct_response_count = 0\n",
    "    count = 0\n",
    "    for trial in range(1):#ntrials):\n",
    "        count += 1\n",
    "        r = 0\n",
    "        flag_count = 0 # used to determine if agent completed all stages correct\n",
    "        \n",
    "        eligibility = np.zeros(n)\n",
    "        ######## just the crosshair on the screen ###########\n",
    "        representation = hrr.convolve(agent_gaze_location,hrr.convolve(crosshair_location[center],dot_location[-1]))\n",
    "        wm = hrr.oconvolve(agent_fixation_wm,hrr.oconvolve(dot_location_wm,crosshair_location_wm))\n",
    "        representation = hrr.oconvolve(representation,wm)\n",
    "        representation = representation.reshape((n_gaze_locations+1,n_wm_dot_location+1,n_wm_crosshair_location+1,\n",
    "                                                n_wm_agent_fixation+1,n))\n",
    "        #print(representation.shape)\n",
    "        values = np.dot(representation,W) + bias\n",
    "        #print(values)\n",
    "        #print(values.shape)\n",
    "        sm_prob = softmax(values,t)\n",
    "        #print(sm_prob)\n",
    "    \n",
    "        wm_saccade = np.unravel_index(np.argmax(sm_prob),sm_prob.shape)\n",
    "        fixation = wm_saccade[0]\n",
    "        wm_agent = wm_saccade[1]\n",
    "        wm_crosshair = wm_saccade[2]\n",
    "        wm_dot = wm_saccade[3]\n",
    "        #print(wm_cross,wm_agent,action)\n",
    "        #epsilon = .2\n",
    "        if random.random() < epsilon:\n",
    "            fixation = random.randrange(n_gaze_locations)\n",
    "        \n",
    "        value = values[fixation,wm_agent,wm_crosshair,wm_dot]\n",
    "        pvalue = value\n",
    "        pfixation = fixation\n",
    "        \n",
    "        #eligibility = representation[fixation,wm_agent,wm_crosshair,wm_dot,:] + td_lambda*eligibility\n",
    "        trace1 = hrr.convolve(agent_gaze_location[fixation],agent_fixation_wm[wm_agent])\n",
    "        trace2 = hrr.convolve(crosshair_location_wm[wm_crosshair],dot_location_wm[wm_dot])\n",
    "        e = hrr.convolve(trace1,trace2)\n",
    "        eligibility = eligibility + td_lambda*eligibility\n",
    "        if fixation == center:\n",
    "            flag_count += 1\n",
    "            r = 0\n",
    "        \n",
    "        #print(fixation,end=\" \")\n",
    "        ####################\n",
    "        \n",
    "        ########## crosshair and colored dot on the screen #######\n",
    "        dot_loc = random.randint(0,3)\n",
    "        representation = hrr.convolve(agent_gaze_location,hrr.convolve(crosshair_location[center],dot_location[dot_loc]))\n",
    "        wm = hrr.oconvolve(agent_fixation_wm,hrr.oconvolve(dot_location_wm,crosshair_location_wm))\n",
    "        representation = hrr.oconvolve(representation,wm)\n",
    "        representation = representation.reshape((n_gaze_locations+1,n_wm_dot_location+1,n_wm_crosshair_location+1,\n",
    "                                                n_wm_agent_fixation+1,n))\n",
    "        #print(representation.shape)\n",
    "        values = np.dot(representation,W) + bias\n",
    "        sm_prob = softmax(values,t)\n",
    "        wm_saccade = np.unravel_index(np.argmax(sm_prob),sm_prob.shape)\n",
    "        fixation = wm_saccade[0]\n",
    "        wm_agent = wm_saccade[1]\n",
    "        wm_crosshair = wm_saccade[2]\n",
    "        wm_dot = wm_saccade[3]\n",
    "        \n",
    "        #epsilon = .2\n",
    "        if random.random() < epsilon:\n",
    "            fixation = random.randrange(n_gaze_locations)\n",
    "        \n",
    "        value = values[fixation,wm_agent,wm_crosshair,wm_dot]\n",
    "        # update error and weights\n",
    "        error = (r+gamma*value) - pvalue\n",
    "        W += lrate*log_transform(error)*eligibility\n",
    "        \n",
    "        pvalue = value\n",
    "        pfixation = fixation\n",
    "        \n",
    "        #eligibility = representation[fixation,wm_agent,wm_crosshair,wm_dot,:] + td_lambda*eligibility\n",
    "        trace1 = hrr.convolve(agent_gaze_location[fixation],agent_fixation_wm[wm_agent])\n",
    "        trace2 = hrr.convolve(crosshair_location_wm[wm_crosshair],dot_location_wm[wm_dot])\n",
    "        e = hrr.convolve(trace1,trace2)\n",
    "        eligibility = e + td_lambda*eligibility\n",
    "        if fixation == center:\n",
    "            flag_count += 1\n",
    "            r = 0\n",
    "        \n",
    "        #print(fixation,end=\" \")\n",
    "        ######################\n",
    "        \n",
    "        ####### just the crosshair on the screen ################\n",
    "        \n",
    "        representation = hrr.convolve(agent_gaze_location,hrr.convolve(crosshair_location[center],dot_location[-1]))\n",
    "        wm = hrr.oconvolve(agent_fixation_wm,hrr.oconvolve(dot_location_wm,crosshair_location_wm))\n",
    "        representation = hrr.oconvolve(representation,wm)\n",
    "        representation = representation.reshape((n_gaze_locations+1,n_wm_dot_location+1,n_wm_crosshair_location+1,\n",
    "                                                n_wm_agent_fixation+1,n))\n",
    "        #print(representation.shape)\n",
    "        values = np.dot(representation,W) + bias\n",
    "        #print(values)\n",
    "        #print(values.shape)\n",
    "        sm_prob = softmax(values,t)\n",
    "        #print(sm_prob)\n",
    "        wm_saccade = np.unravel_index(np.argmax(sm_prob),sm_prob.shape)\n",
    "        fixation = wm_saccade[0]\n",
    "        wm_agent = wm_saccade[1]\n",
    "        wm_crosshair = wm_saccade[2]\n",
    "        wm_dot = wm_saccade[3]\n",
    "        #print(wm_cross,wm_agent,action)\n",
    "        \n",
    "        #epsilon = .2\n",
    "        if random.random() < epsilon:\n",
    "            fixation = random.randrange(n_gaze_locations)\n",
    "        \n",
    "        value = values[fixation,wm_agent,wm_crosshair,wm_dot]\n",
    "        error = (r+gamma*value) - pvalue\n",
    "        W += lrate*log_transform(error)*eligibility\n",
    "        \n",
    "        pvalue = value\n",
    "        pfixation = fixation\n",
    "        #eligibility = representation[fixation,wm_agent,wm_crosshair,wm_dot,:] + td_lambda*eligibility\n",
    "        trace1 = hrr.convolve(agent_gaze_location[fixation],agent_fixation_wm[wm_agent])\n",
    "        trace2 = hrr.convolve(crosshair_location_wm[wm_crosshair],dot_location_wm[wm_dot])\n",
    "        e = hrr.convolve(trace1,trace2)\n",
    "        eligibility = e + td_lambda*eligibility\n",
    "        \n",
    "        if fixation == center:\n",
    "            flag_count += 1\n",
    "            r = 0\n",
    "        \n",
    "        #print(fixation,end=\" \")\n",
    "        ##############################\n",
    "        \n",
    "        ######## remove crosshair on the screen ################\n",
    "        representation = hrr.convolve(agent_gaze_location,hrr.convolve(crosshair_location[-1],dot_location[-1]))\n",
    "        \n",
    "        values = np.dot(representation,W) + bias\n",
    "        sm_prob = softmax(values,t)\n",
    "        #print(sm_prob.shape)\n",
    "        fixation = np.argmax(sm_prob)\n",
    "        \n",
    "        # updated info\n",
    "        '''\n",
    "        if random.random() < epsilon:\n",
    "            fixation = random.randrange(n_gaze_locations)\n",
    "        \n",
    "        if fixation == dot_loc:\n",
    "            flag_count += 1\n",
    "            r = 1\n",
    "           \n",
    "        if flag_count == 4:\n",
    "            r = 4\n",
    "        '''\n",
    "        value = values[fixation]\n",
    "        error = (r+gamma*value) - pvalue\n",
    "        #error = r - value\n",
    "        W += lrate*log_transform(error)*eligibility\n",
    "        \n",
    "        pvalue = value\n",
    "        pfixation = fixation\n",
    "        #eligibility = representation[fixation,:] + td_lambda*eligibility\n",
    "        e = hrr.convolve(agent_gaze_location[fixation],hrr.convolve(crosshair_location[-1],dot_location[-1]))\n",
    "        eligibility = e + td_lambda*eligibility\n",
    "        \n",
    "        #############################\n",
    "        \n",
    "        #print('dot_loc:','(',dot_loc,')',end = ' ')\n",
    "        #epsilon = .4\n",
    "        if random.random() < epsilon:\n",
    "            fixation = random.randrange(n_gaze_locations)\n",
    "        \n",
    "        if fixation == dot_loc:\n",
    "            flag_count += 1 \n",
    "            r = 0\n",
    "            \n",
    "        if flag_count == 4:\n",
    "            r = 1\n",
    "            print('correct')\n",
    "            correct_response_count += 1 # used to track performance\n",
    "        value = values[fixation]\n",
    "        error = r - value\n",
    "        W += lrate*log_transform(error)*eligibility\n",
    "        \n",
    "        #print(fixation)\n",
    "        if trial % 100 == 0:\n",
    "            performance = correct_response_count/count\n",
    "            print('Trial:',trial)\n",
    "            print('Performance:',performance)\n",
    "            count = 0\n",
    "            correct_response_count = 0\n",
    "    try:   \n",
    "        performance = correct_response_count/count\n",
    "        print('Trial:',trial)\n",
    "        print('Performance:',performance)\n",
    "        count = 0\n",
    "        correct_response_count = 0\n",
    "    except ZeroDivisionError:\n",
    "        print('Trial:',trial)\n",
    "        print('Performance:',0)\n",
    "    "
   ]
  },
  {
   "cell_type": "code",
   "execution_count": 58,
   "metadata": {},
   "outputs": [
    {
     "name": "stdout",
     "output_type": "stream",
     "text": [
      "Trial: 0\n",
      "Performance: 0.0\n",
      "Trial: 0\n",
      "Performance: 0\n"
     ]
    }
   ],
   "source": [
    "Delayed_Saccade(100000,.1,.9,.8,.1)\n",
    "# (num trials, learning rate, discount factor(gamma), lambda, temperature)"
   ]
  },
  {
   "cell_type": "code",
   "execution_count": null,
   "metadata": {
    "collapsed": true
   },
   "outputs": [],
   "source": []
  }
 ],
 "metadata": {
  "kernelspec": {
   "display_name": "Python 3",
   "language": "python",
   "name": "python3"
  },
  "language_info": {
   "codemirror_mode": {
    "name": "ipython",
    "version": 3
   },
   "file_extension": ".py",
   "mimetype": "text/x-python",
   "name": "python",
   "nbconvert_exporter": "python",
   "pygments_lexer": "ipython3",
   "version": "3.6.0"
  }
 },
 "nbformat": 4,
 "nbformat_minor": 2
}
