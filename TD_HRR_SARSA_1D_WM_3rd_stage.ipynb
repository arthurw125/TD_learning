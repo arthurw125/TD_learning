{
 "cells": [
  {
   "cell_type": "markdown",
   "metadata": {},
   "source": [
    "# Equations"
   ]
  },
  {
   "cell_type": "markdown",
   "metadata": {},
   "source": [
    "$ \\delta = [R_{t+1} + \\gamma Q(s_{t+1}, a_{t+1})] - Q(s_t,a_t) $"
   ]
  },
  {
   "cell_type": "markdown",
   "metadata": {},
   "source": [
    "$ Q(s_t,a_t) = Q(s_t,a_t) + \\alpha\\delta $"
   ]
  },
  {
   "cell_type": "markdown",
   "metadata": {},
   "source": [
    "## Working Memory With SARSA"
   ]
  },
  {
   "cell_type": "code",
   "execution_count": 27,
   "metadata": {},
   "outputs": [
    {
     "data": {
      "text/html": [
       "<script>requirejs.config({paths: { 'plotly': ['https://cdn.plot.ly/plotly-latest.min']},});if(!window.Plotly) {{require(['plotly'],function(plotly) {window.Plotly=plotly;});}}</script>"
      ],
      "text/vnd.plotly.v1+html": [
       "<script>requirejs.config({paths: { 'plotly': ['https://cdn.plot.ly/plotly-latest.min']},});if(!window.Plotly) {{require(['plotly'],function(plotly) {window.Plotly=plotly;});}}</script>"
      ]
     },
     "metadata": {},
     "output_type": "display_data"
    }
   ],
   "source": [
    "#from plotly.graph_objs import Scatter, Layout\n",
    "import matplotlib.pyplot as plt\n",
    "import plotly\n",
    "import numpy as np\n",
    "import random\n",
    "import hrr\n",
    "import math\n",
    "from plotly.graph_objs import Scatter, Layout, Surface\n",
    "plotly.offline.init_notebook_mode(connected=True)"
   ]
  },
  {
   "cell_type": "code",
   "execution_count": 28,
   "metadata": {
    "collapsed": true
   },
   "outputs": [],
   "source": [
    "def log_transform(error):\n",
    "    return math.copysign(1.0,error)*math.log(math.fabs(error)+1,2)"
   ]
  },
  {
   "cell_type": "code",
   "execution_count": 120,
   "metadata": {
    "collapsed": true
   },
   "outputs": [],
   "source": [
    "def argmax(arr_2d,restrict):\n",
    "    max_row = 0\n",
    "    max_col = 0\n",
    "    max_value = arr_2d[0,0]\n",
    "    for row in range(arr_2d.shape[0]):\n",
    "        if row not in restrict:\n",
    "            continue\n",
    "    \n",
    "        for col in range(arr_2d.shape[1]):\n",
    "            if arr_2d[row,col] > max_value:\n",
    "                max_value = arr_2d[row,col]\n",
    "                max_row,max_col = row,col\n",
    "    return list((max_row,max_col))"
   ]
  },
  {
   "cell_type": "code",
   "execution_count": 123,
   "metadata": {},
   "outputs": [],
   "source": [
    "def TD(nstates,nepisodes,lrate,gamma,td_lambda): \n",
    "    #n = 2048\n",
    "    #n = 4096\n",
    "    #n = 8192\n",
    "    #n = 16000\n",
    "    #n = 32000\n",
    "    n = 64000\n",
    "    #nstates = 50\n",
    "    nactions = 2\n",
    "    nslots = 2\n",
    "    ncolors = 2\n",
    "    \n",
    "    #goal for red is at 0, green at middle\n",
    "    goal = [0,nstates//2]\n",
    "    reward = np.zeros((nslots+1,nstates))\n",
    "    \n",
    "    # reward matrix for each context\n",
    "    for x in range(nslots):\n",
    "        reward[x,goal[x]] = 1\n",
    "    \n",
    "    # basic actions are left and right\n",
    "    states = hrr.hrrs(n,nstates)\n",
    "    actions = hrr.hrrs(n,nactions)\n",
    "    \n",
    "    # identity vector\n",
    "    hrr_i = np.zeros(n)\n",
    "    hrr_i[0] = 1\n",
    "    \n",
    "    # external color\n",
    "    external = hrr.hrrs(n,nslots)\n",
    "    external = np.row_stack((external,hrr_i))\n",
    "    \n",
    "    # WorkingMemory\n",
    "    wm_slots = hrr.hrrs(n,nslots)\n",
    "    wm_slots = np.row_stack((wm_slots,hrr_i))\n",
    "    \n",
    "    # precomputed state/state/action/working_memory \n",
    "    #stateactions = hrr.oconvolve(actions,states)\n",
    "    #s_a_wm = hrr.oconvolve(stateactions,wm_slots)\n",
    "    #s_s_a_wm = hrr.oconvolve(s_a_wm,external)\n",
    "    #s_s_a_wm = np.reshape(s_s_a_wm,(nslots+1,nslots+1,nstates,nactions,n))\n",
    "    \n",
    "    stateactions = hrr.oconvolve(actions,states)\n",
    "    s_s_a_wm = hrr.oconvolve(stateactions,hrr.oconvolve(wm_slots,external))\n",
    "    s_s_a_wm = np.reshape(s_s_a_wm,(nslots+1,nslots+1,nstates,nactions,n))\n",
    "    # External representation of color\n",
    "    #ncolors = 2\n",
    "    #colors = hrr.hrrs(n,ncolors)\n",
    "    \n",
    "    # weight vector\n",
    "    W = hrr.hrr(n)\n",
    "    bias = 1\n",
    "\n",
    "    #lrate = 0.1\n",
    "    eligibility = np.zeros(n)\n",
    "    #gamma = 0.9\n",
    "    #td_lambda = 0.5\n",
    "    epsilon = 0.05\n",
    "    #nepisodes = 10000\n",
    "    nsteps = 100\n",
    "    \n",
    "    color_signal = -1\n",
    "    current_wm = 2\n",
    "    for episode in range(nepisodes):\n",
    "        state = random.randrange(0,nstates)\n",
    "        \n",
    "        # cue to signal context\n",
    "        #color_signal = random.randrange(0,ncolors)\n",
    "        color_signal = (color_signal+1)%len(external)\n",
    "        # set external cue\n",
    "        cue = color_signal\n",
    "        color = cue\n",
    "        \n",
    "        # set context \n",
    "        #current_wm = 2\n",
    "        \n",
    "        values = np.dot(s_s_a_wm[color,current_wm,state,:,:],W) + bias\n",
    "        \n",
    "        action = values.argmax()\n",
    "        # returns index (row,col) of max value\n",
    "        #color_action = np.unravel_index(values.argmax(), values.shape)\n",
    "        #current_wm = color_action[0]\n",
    "        #action = color_action[1]\n",
    "        if random.random() < epsilon:\n",
    "            action = random.randrange(0,nactions)\n",
    "        values = values[action]\n",
    "        eligibility = np.zeros(n)\n",
    "        \n",
    "        # turn signal off\n",
    "        \n",
    "        for step in range(nsteps):\n",
    "            r = reward[color,state]\n",
    "            if color < 2 and state == goal[color]:\n",
    "                eligibility = s_s_a_wm[cue,current_wm,state,action,:] + td_lambda*eligibility\n",
    "                #error = r - values[action]\n",
    "                error = r - values\n",
    "                #W += lrate*error*eligibility\n",
    "                W += lrate*log_transform(error)*eligibility\n",
    "                #print(cue,current_wm)\n",
    "                break\n",
    "            \n",
    "            ## update\n",
    "            pstate = state\n",
    "            pvalues = values\n",
    "            paction = action\n",
    "            previous_wm = current_wm\n",
    "            psignal = cue\n",
    "            \n",
    "            eligibility = s_s_a_wm[cue,current_wm,state,action,:] + td_lambda*eligibility\n",
    "            \n",
    "            state = ((state+np.array([-1,1]))%nstates)[action]\n",
    "            # turn off cue\n",
    "            cue = 2\n",
    "            \n",
    "            values = np.dot(s_s_a_wm[cue,:,state,:,:],W) + bias \n",
    "            #action = values.argmax()\n",
    "            possible_wm = np.unique(np.array([2,previous_wm,psignal]))\n",
    "            #print(values)\n",
    "            #print()\n",
    "            #print('possible wm:\\n',possible_wm)\n",
    "            #print('nothing:',2,'previous:',previous_wm,'psignal:',psignal)\n",
    "            #wm_action = np.unravel_index(values.argmax(), values.shape)\n",
    "            wm_action = argmax(values,possible_wm)\n",
    "            #print('wm_action:',wm_action)\n",
    "            #print('episode:',episode)\n",
    "            current_wm = wm_action[0]\n",
    "            action = wm_action[1]\n",
    "            values = values[current_wm,action]\n",
    "            #print('values:',values)\n",
    "            #print('current:',current_wm)\n",
    "            #print('cue:',cue)\n",
    "            #print(color_action)\n",
    "            #wm_values = np.dot(s_s_a_wm[cue,:,state,action,:],W) + bias\n",
    "            #print(wm_values)\n",
    "            #current_wm = np.unique(np.array([wm_values[2],wm_values[previous_wm]],wm_values[psignal])).argmax()\n",
    "            #print('current',current_wm)\n",
    "            #print('current_wm:',current_wm)\n",
    "            #action = color_action[1]\n",
    "            #print('action:',color_action[1])\n",
    "            if random.random() < epsilon:\n",
    "                action = random.randrange(0,nactions)\n",
    "                current_wm = random.randrange(0,nslots+1)\n",
    "                \n",
    "            #values = values[current_wm,action]\n",
    "            #print('values:',values)\n",
    "            #print()\n",
    "            #error = (r+gamma*values[action])-pvalues[paction]\n",
    "            error = (r+gamma*values)-pvalues\n",
    "            #print('error:',error)\n",
    "            #W += lrate*error*eligibility\n",
    "            W += lrate*log_transform(error)*eligibility\n",
    "            \n",
    "        if episode%1000==0:\n",
    "            V1 = list(map(lambda x: np.dot(x,W)+bias, s_s_a_wm[0,0,:,0,:]))\n",
    "            V2 = list(map(lambda x: np.dot(x,W)+bias, s_s_a_wm[0,0,:,1,:]))\n",
    "            V3 = list(map(lambda x: np.dot(x,W)+bias, s_s_a_wm[1,1,:,0,:]))\n",
    "            V4 = list(map(lambda x: np.dot(x,W)+bias, s_s_a_wm[1,1,:,1,:]))\n",
    "            plotly.offline.iplot([\n",
    "            dict(x=[x for x in range(len(V1))] , y=V1, type='scatter',name='left and cue_0 and wm_0'),\n",
    "            dict(x=[x for x in range(len(V1))] , y=V2, type='scatter',name='right and cue_0 and wm_0'),\n",
    "            dict(x=[x for x in range(len(V1))] , y=V3, type='scatter',name='left and cue_1 and wm_1'),\n",
    "            dict(x=[x for x in range(len(V1))] , y=V4, type='scatter',name='right and cue_1 and wm_1'),\n",
    "            ])\n",
    "            \n",
    "    V1 = list(map(lambda x: np.dot(x,W)+bias, s_s_a_wm[0,0,:,0,:]))\n",
    "    V2 = list(map(lambda x: np.dot(x,W)+bias, s_s_a_wm[0,0,:,1,:]))\n",
    "    V3 = list(map(lambda x: np.dot(x,W)+bias, s_s_a_wm[1,1,:,0,:]))\n",
    "    V4 = list(map(lambda x: np.dot(x,W)+bias, s_s_a_wm[1,1,:,1,:]))\n",
    "    V5 = list(map(lambda x: np.dot(x,W)+bias, s_s_a_wm[1,2,:,0,:]))\n",
    "    V6 = list(map(lambda x: np.dot(x,W)+bias, s_s_a_wm[1,2,:,1,:]))\n",
    "    V7 = list(map(lambda x: np.dot(x,W)+bias, s_s_a_wm[0,2,:,0,:]))\n",
    "    V8 = list(map(lambda x: np.dot(x,W)+bias, s_s_a_wm[0,2,:,1,:]))\n",
    "    V9 = list(map(lambda x: np.dot(x,W)+bias, s_s_a_wm[0,1,:,0,:]))\n",
    "    V10 = list(map(lambda x: np.dot(x,W)+bias, s_s_a_wm[0,1,:,1,:]))\n",
    "    V11 = list(map(lambda x: np.dot(x,W)+bias, s_s_a_wm[1,0,:,0,:]))\n",
    "    V12 = list(map(lambda x: np.dot(x,W)+bias, s_s_a_wm[1,0,:,1,:]))\n",
    "    V13 = list(map(lambda x: np.dot(x,W)+bias, s_s_a_wm[2,2,:,0,:]))\n",
    "    V14 = list(map(lambda x: np.dot(x,W)+bias, s_s_a_wm[2,2,:,1,:]))\n",
    "    V15 = list(map(lambda x: np.dot(x,W)+bias, s_s_a_wm[2,1,:,0,:]))\n",
    "    V16 = list(map(lambda x: np.dot(x,W)+bias, s_s_a_wm[2,1,:,1,:]))\n",
    "    V17 = list(map(lambda x: np.dot(x,W)+bias, s_s_a_wm[2,0,:,0,:]))\n",
    "    V18 = list(map(lambda x: np.dot(x,W)+bias, s_s_a_wm[2,0,:,1,:]))\n",
    "    \n",
    "    plotly.offline.iplot([\n",
    "    dict(x=[x for x in range(len(V1))] , y=V1, type='scatter',name='left and cue_0 and wm_0'),\n",
    "    dict(x=[x for x in range(len(V1))] , y=V2, type='scatter',name='right and cue_0 and wm_0'),\n",
    "    dict(x=[x for x in range(len(V1))] , y=V3, type='scatter',name='left and cue_1 and wm_1'),\n",
    "    dict(x=[x for x in range(len(V1))] , y=V4, type='scatter',name='right and cue_1 and wm_1'),\n",
    "    dict(x=[x for x in range(len(V1))] , y=V5, type='scatter',name='left and cue_1 and wm_2'),\n",
    "    dict(x=[x for x in range(len(V1))] , y=V6, type='scatter',name='right and cue_1 and wm_2'),\n",
    "    dict(x=[x for x in range(len(V1))] , y=V7, type='scatter',name='left and cue_0 and wm_2'),\n",
    "    dict(x=[x for x in range(len(V1))] , y=V8, type='scatter',name='right and cue_0 and wm_2'),\n",
    "    dict(x=[x for x in range(len(V1))] , y=V9, type='scatter',name='left and cue_0 and wm_1'),\n",
    "    dict(x=[x for x in range(len(V1))] , y=V10, type='scatter',name='right and cue_0 and wm_1'),\n",
    "    dict(x=[x for x in range(len(V1))] , y=V11, type='scatter',name='left and cue_1 and wm_0'),\n",
    "    dict(x=[x for x in range(len(V1))] , y=V12, type='scatter',name='right and cue_1 and wm_0'),\n",
    "    dict(x=[x for x in range(len(V1))] , y=V13, type='scatter',name='left and cue_2 and wm_2'),\n",
    "    dict(x=[x for x in range(len(V1))] , y=V14, type='scatter',name='right and cue_2 and wm_2'),\n",
    "    dict(x=[x for x in range(len(V1))] , y=V15, type='scatter',name='left and cue_2 and wm_1'),\n",
    "    dict(x=[x for x in range(len(V1))] , y=V16, type='scatter',name='right and cue_2 and wm_1'),\n",
    "    dict(x=[x for x in range(len(V1))] , y=V15, type='scatter',name='left and cue_2 and wm_0'),\n",
    "    dict(x=[x for x in range(len(V1))] , y=V16, type='scatter',name='right and cue_2 and wm_0')    \n",
    "    ])"
   ]
  },
  {
   "cell_type": "code",
   "execution_count": null,
   "metadata": {},
   "outputs": [
    {
     "data": {
      "application/vnd.plotly.v1+json": {
       "data": [
        {
         "name": "left and cue_red and wm_red",
         "type": "scatter",
         "x": [
          0,
          1,
          2,
          3,
          4,
          5,
          6,
          7,
          8,
          9,
          10,
          11,
          12,
          13,
          14
         ],
         "y": [
          1.0056821936688882,
          0.9901559814036514,
          0.9972659931067555,
          0.9964229380279889,
          1.0073450891811686,
          0.9942319799734964,
          0.9951230341003147,
          1.0025033113759592,
          1.0033084835070363,
          0.9995212664083344,
          1.0001199740834084,
          0.9994026349362334,
          0.9962501829852022,
          0.9990434251557546,
          1.0016572054387625
         ]
        },
        {
         "name": "right and cue_red and wm_red",
         "type": "scatter",
         "x": [
          0,
          1,
          2,
          3,
          4,
          5,
          6,
          7,
          8,
          9,
          10,
          11,
          12,
          13,
          14
         ],
         "y": [
          1.0035279203027831,
          1.0020515121798443,
          0.9977870010213825,
          1.0060273049598225,
          0.9948394052201983,
          0.9993731499850369,
          1.0018051510994375,
          1.004254390082743,
          1.0000170141302962,
          1.0036891870516096,
          0.9962553185210455,
          0.9969181212675476,
          0.998799563081257,
          0.9991637718476967,
          0.9922046268302396
         ]
        },
        {
         "name": "left and cue_green and wm_green",
         "type": "scatter",
         "x": [
          0,
          1,
          2,
          3,
          4,
          5,
          6,
          7,
          8,
          9,
          10,
          11,
          12,
          13,
          14
         ],
         "y": [
          0.9988138800053062,
          0.9991736075344325,
          0.9948385420775151,
          0.999354612136584,
          1.0007639487878202,
          1.0035483825862601,
          0.997849275425175,
          0.997144459691683,
          0.9999595291631396,
          0.998967095926537,
          1.0083710291367498,
          0.9925166574482609,
          1.0001517912382827,
          0.9970977105980713,
          1.0094577317150883
         ]
        },
        {
         "name": "right and cue_green and wm_green",
         "type": "scatter",
         "x": [
          0,
          1,
          2,
          3,
          4,
          5,
          6,
          7,
          8,
          9,
          10,
          11,
          12,
          13,
          14
         ],
         "y": [
          0.9965686975915181,
          0.9934182927134272,
          1.0033658240802332,
          0.9959079307059993,
          1.0125705956106084,
          0.9979836882761148,
          0.9938922509568512,
          1.002084770573843,
          0.9946044256730956,
          0.994423007708323,
          1.0071847111907968,
          0.9973609307725056,
          0.9971705937788186,
          1.00060051319475,
          1.0023973274917308
         ]
        }
       ],
       "layout": {}
      },
      "text/html": [
       "<div id=\"b4e64afe-3e84-4516-9b0e-bbe7c97a3b09\" style=\"height: 525px; width: 100%;\" class=\"plotly-graph-div\"></div><script type=\"text/javascript\">require([\"plotly\"], function(Plotly) { window.PLOTLYENV=window.PLOTLYENV || {};window.PLOTLYENV.BASE_URL=\"https://plot.ly\";Plotly.newPlot(\"b4e64afe-3e84-4516-9b0e-bbe7c97a3b09\", [{\"x\": [0, 1, 2, 3, 4, 5, 6, 7, 8, 9, 10, 11, 12, 13, 14], \"y\": [1.0056821936688882, 0.9901559814036514, 0.9972659931067555, 0.9964229380279889, 1.0073450891811686, 0.9942319799734964, 0.9951230341003147, 1.0025033113759592, 1.0033084835070363, 0.9995212664083344, 1.0001199740834084, 0.9994026349362334, 0.9962501829852022, 0.9990434251557546, 1.0016572054387625], \"type\": \"scatter\", \"name\": \"left and cue_red and wm_red\"}, {\"x\": [0, 1, 2, 3, 4, 5, 6, 7, 8, 9, 10, 11, 12, 13, 14], \"y\": [1.0035279203027831, 1.0020515121798443, 0.9977870010213825, 1.0060273049598225, 0.9948394052201983, 0.9993731499850369, 1.0018051510994375, 1.004254390082743, 1.0000170141302962, 1.0036891870516096, 0.9962553185210455, 0.9969181212675476, 0.998799563081257, 0.9991637718476967, 0.9922046268302396], \"type\": \"scatter\", \"name\": \"right and cue_red and wm_red\"}, {\"x\": [0, 1, 2, 3, 4, 5, 6, 7, 8, 9, 10, 11, 12, 13, 14], \"y\": [0.9988138800053062, 0.9991736075344325, 0.9948385420775151, 0.999354612136584, 1.0007639487878202, 1.0035483825862601, 0.997849275425175, 0.997144459691683, 0.9999595291631396, 0.998967095926537, 1.0083710291367498, 0.9925166574482609, 1.0001517912382827, 0.9970977105980713, 1.0094577317150883], \"type\": \"scatter\", \"name\": \"left and cue_green and wm_green\"}, {\"x\": [0, 1, 2, 3, 4, 5, 6, 7, 8, 9, 10, 11, 12, 13, 14], \"y\": [0.9965686975915181, 0.9934182927134272, 1.0033658240802332, 0.9959079307059993, 1.0125705956106084, 0.9979836882761148, 0.9938922509568512, 1.002084770573843, 0.9946044256730956, 0.994423007708323, 1.0071847111907968, 0.9973609307725056, 0.9971705937788186, 1.00060051319475, 1.0023973274917308], \"type\": \"scatter\", \"name\": \"right and cue_green and wm_green\"}], {}, {\"showLink\": true, \"linkText\": \"Export to plot.ly\"})});</script>"
      ],
      "text/vnd.plotly.v1+html": [
       "<div id=\"b4e64afe-3e84-4516-9b0e-bbe7c97a3b09\" style=\"height: 525px; width: 100%;\" class=\"plotly-graph-div\"></div><script type=\"text/javascript\">require([\"plotly\"], function(Plotly) { window.PLOTLYENV=window.PLOTLYENV || {};window.PLOTLYENV.BASE_URL=\"https://plot.ly\";Plotly.newPlot(\"b4e64afe-3e84-4516-9b0e-bbe7c97a3b09\", [{\"x\": [0, 1, 2, 3, 4, 5, 6, 7, 8, 9, 10, 11, 12, 13, 14], \"y\": [1.0056821936688882, 0.9901559814036514, 0.9972659931067555, 0.9964229380279889, 1.0073450891811686, 0.9942319799734964, 0.9951230341003147, 1.0025033113759592, 1.0033084835070363, 0.9995212664083344, 1.0001199740834084, 0.9994026349362334, 0.9962501829852022, 0.9990434251557546, 1.0016572054387625], \"type\": \"scatter\", \"name\": \"left and cue_red and wm_red\"}, {\"x\": [0, 1, 2, 3, 4, 5, 6, 7, 8, 9, 10, 11, 12, 13, 14], \"y\": [1.0035279203027831, 1.0020515121798443, 0.9977870010213825, 1.0060273049598225, 0.9948394052201983, 0.9993731499850369, 1.0018051510994375, 1.004254390082743, 1.0000170141302962, 1.0036891870516096, 0.9962553185210455, 0.9969181212675476, 0.998799563081257, 0.9991637718476967, 0.9922046268302396], \"type\": \"scatter\", \"name\": \"right and cue_red and wm_red\"}, {\"x\": [0, 1, 2, 3, 4, 5, 6, 7, 8, 9, 10, 11, 12, 13, 14], \"y\": [0.9988138800053062, 0.9991736075344325, 0.9948385420775151, 0.999354612136584, 1.0007639487878202, 1.0035483825862601, 0.997849275425175, 0.997144459691683, 0.9999595291631396, 0.998967095926537, 1.0083710291367498, 0.9925166574482609, 1.0001517912382827, 0.9970977105980713, 1.0094577317150883], \"type\": \"scatter\", \"name\": \"left and cue_green and wm_green\"}, {\"x\": [0, 1, 2, 3, 4, 5, 6, 7, 8, 9, 10, 11, 12, 13, 14], \"y\": [0.9965686975915181, 0.9934182927134272, 1.0033658240802332, 0.9959079307059993, 1.0125705956106084, 0.9979836882761148, 0.9938922509568512, 1.002084770573843, 0.9946044256730956, 0.994423007708323, 1.0071847111907968, 0.9973609307725056, 0.9971705937788186, 1.00060051319475, 1.0023973274917308], \"type\": \"scatter\", \"name\": \"right and cue_green and wm_green\"}], {}, {\"showLink\": true, \"linkText\": \"Export to plot.ly\"})});</script>"
      ]
     },
     "metadata": {},
     "output_type": "display_data"
    },
    {
     "data": {
      "application/vnd.plotly.v1+json": {
       "data": [
        {
         "name": "left and cue_red and wm_red",
         "type": "scatter",
         "x": [
          0,
          1,
          2,
          3,
          4,
          5,
          6,
          7,
          8,
          9,
          10,
          11,
          12,
          13,
          14
         ],
         "y": [
          0.9952865652339553,
          0.7093314552415441,
          0.5987228146697018,
          0.8073924882672946,
          0.6482263174245813,
          0.39463523883873,
          0.6249822894937216,
          0.5929036369547558,
          0.4952038864934921,
          0.6253577079674527,
          0.5006586650630602,
          0.5125519600907464,
          0.7438865782104741,
          0.6797003726741133,
          0.7284181318190992
         ]
        },
        {
         "name": "right and cue_red and wm_red",
         "type": "scatter",
         "x": [
          0,
          1,
          2,
          3,
          4,
          5,
          6,
          7,
          8,
          9,
          10,
          11,
          12,
          13,
          14
         ],
         "y": [
          0.8898011529674867,
          0.6984848637582768,
          0.6356640046374055,
          0.772543018825007,
          0.6967395257196627,
          0.37871339378296676,
          0.627856769458008,
          0.6184112698446245,
          0.5325730600399528,
          0.5952905632572539,
          0.46829382315395995,
          0.4821854665889428,
          0.6982170086434597,
          0.7254749149675872,
          0.7783817646243105
         ]
        },
        {
         "name": "left and cue_green and wm_green",
         "type": "scatter",
         "x": [
          0,
          1,
          2,
          3,
          4,
          5,
          6,
          7,
          8,
          9,
          10,
          11,
          12,
          13,
          14
         ],
         "y": [
          0.8869116176626632,
          0.8765970382561276,
          1.0367447480607117,
          1.0648882294450246,
          0.9671986440794292,
          0.8674256185159255,
          0.9364474868296849,
          1.1056021808546033,
          1.0659449011515687,
          0.8571819540567759,
          0.8886801412893928,
          0.9788667951059025,
          0.8650830617022041,
          0.9833294096215033,
          0.96522003087267
         ]
        },
        {
         "name": "right and cue_green and wm_green",
         "type": "scatter",
         "x": [
          0,
          1,
          2,
          3,
          4,
          5,
          6,
          7,
          8,
          9,
          10,
          11,
          12,
          13,
          14
         ],
         "y": [
          0.9519002122807599,
          0.9819136813024294,
          0.9837964943602819,
          1.0237716571588813,
          0.931115915179723,
          0.8483379664446056,
          0.9661120131524166,
          1.0178630477272619,
          1.0857291765164006,
          0.9396286761135675,
          0.9545923214909655,
          0.975603540868033,
          0.9251231874510467,
          0.934673588947035,
          0.8568216349054527
         ]
        }
       ],
       "layout": {}
      },
      "text/html": [
       "<div id=\"f6ba386d-749d-4a03-b11a-d2f1ef754e3f\" style=\"height: 525px; width: 100%;\" class=\"plotly-graph-div\"></div><script type=\"text/javascript\">require([\"plotly\"], function(Plotly) { window.PLOTLYENV=window.PLOTLYENV || {};window.PLOTLYENV.BASE_URL=\"https://plot.ly\";Plotly.newPlot(\"f6ba386d-749d-4a03-b11a-d2f1ef754e3f\", [{\"x\": [0, 1, 2, 3, 4, 5, 6, 7, 8, 9, 10, 11, 12, 13, 14], \"y\": [0.9952865652339553, 0.7093314552415441, 0.5987228146697018, 0.8073924882672946, 0.6482263174245813, 0.39463523883873, 0.6249822894937216, 0.5929036369547558, 0.4952038864934921, 0.6253577079674527, 0.5006586650630602, 0.5125519600907464, 0.7438865782104741, 0.6797003726741133, 0.7284181318190992], \"type\": \"scatter\", \"name\": \"left and cue_red and wm_red\"}, {\"x\": [0, 1, 2, 3, 4, 5, 6, 7, 8, 9, 10, 11, 12, 13, 14], \"y\": [0.8898011529674867, 0.6984848637582768, 0.6356640046374055, 0.772543018825007, 0.6967395257196627, 0.37871339378296676, 0.627856769458008, 0.6184112698446245, 0.5325730600399528, 0.5952905632572539, 0.46829382315395995, 0.4821854665889428, 0.6982170086434597, 0.7254749149675872, 0.7783817646243105], \"type\": \"scatter\", \"name\": \"right and cue_red and wm_red\"}, {\"x\": [0, 1, 2, 3, 4, 5, 6, 7, 8, 9, 10, 11, 12, 13, 14], \"y\": [0.8869116176626632, 0.8765970382561276, 1.0367447480607117, 1.0648882294450246, 0.9671986440794292, 0.8674256185159255, 0.9364474868296849, 1.1056021808546033, 1.0659449011515687, 0.8571819540567759, 0.8886801412893928, 0.9788667951059025, 0.8650830617022041, 0.9833294096215033, 0.96522003087267], \"type\": \"scatter\", \"name\": \"left and cue_green and wm_green\"}, {\"x\": [0, 1, 2, 3, 4, 5, 6, 7, 8, 9, 10, 11, 12, 13, 14], \"y\": [0.9519002122807599, 0.9819136813024294, 0.9837964943602819, 1.0237716571588813, 0.931115915179723, 0.8483379664446056, 0.9661120131524166, 1.0178630477272619, 1.0857291765164006, 0.9396286761135675, 0.9545923214909655, 0.975603540868033, 0.9251231874510467, 0.934673588947035, 0.8568216349054527], \"type\": \"scatter\", \"name\": \"right and cue_green and wm_green\"}], {}, {\"showLink\": true, \"linkText\": \"Export to plot.ly\"})});</script>"
      ],
      "text/vnd.plotly.v1+html": [
       "<div id=\"f6ba386d-749d-4a03-b11a-d2f1ef754e3f\" style=\"height: 525px; width: 100%;\" class=\"plotly-graph-div\"></div><script type=\"text/javascript\">require([\"plotly\"], function(Plotly) { window.PLOTLYENV=window.PLOTLYENV || {};window.PLOTLYENV.BASE_URL=\"https://plot.ly\";Plotly.newPlot(\"f6ba386d-749d-4a03-b11a-d2f1ef754e3f\", [{\"x\": [0, 1, 2, 3, 4, 5, 6, 7, 8, 9, 10, 11, 12, 13, 14], \"y\": [0.9952865652339553, 0.7093314552415441, 0.5987228146697018, 0.8073924882672946, 0.6482263174245813, 0.39463523883873, 0.6249822894937216, 0.5929036369547558, 0.4952038864934921, 0.6253577079674527, 0.5006586650630602, 0.5125519600907464, 0.7438865782104741, 0.6797003726741133, 0.7284181318190992], \"type\": \"scatter\", \"name\": \"left and cue_red and wm_red\"}, {\"x\": [0, 1, 2, 3, 4, 5, 6, 7, 8, 9, 10, 11, 12, 13, 14], \"y\": [0.8898011529674867, 0.6984848637582768, 0.6356640046374055, 0.772543018825007, 0.6967395257196627, 0.37871339378296676, 0.627856769458008, 0.6184112698446245, 0.5325730600399528, 0.5952905632572539, 0.46829382315395995, 0.4821854665889428, 0.6982170086434597, 0.7254749149675872, 0.7783817646243105], \"type\": \"scatter\", \"name\": \"right and cue_red and wm_red\"}, {\"x\": [0, 1, 2, 3, 4, 5, 6, 7, 8, 9, 10, 11, 12, 13, 14], \"y\": [0.8869116176626632, 0.8765970382561276, 1.0367447480607117, 1.0648882294450246, 0.9671986440794292, 0.8674256185159255, 0.9364474868296849, 1.1056021808546033, 1.0659449011515687, 0.8571819540567759, 0.8886801412893928, 0.9788667951059025, 0.8650830617022041, 0.9833294096215033, 0.96522003087267], \"type\": \"scatter\", \"name\": \"left and cue_green and wm_green\"}, {\"x\": [0, 1, 2, 3, 4, 5, 6, 7, 8, 9, 10, 11, 12, 13, 14], \"y\": [0.9519002122807599, 0.9819136813024294, 0.9837964943602819, 1.0237716571588813, 0.931115915179723, 0.8483379664446056, 0.9661120131524166, 1.0178630477272619, 1.0857291765164006, 0.9396286761135675, 0.9545923214909655, 0.975603540868033, 0.9251231874510467, 0.934673588947035, 0.8568216349054527], \"type\": \"scatter\", \"name\": \"right and cue_green and wm_green\"}], {}, {\"showLink\": true, \"linkText\": \"Export to plot.ly\"})});</script>"
      ]
     },
     "metadata": {},
     "output_type": "display_data"
    },
    {
     "data": {
      "application/vnd.plotly.v1+json": {
       "data": [
        {
         "name": "left and cue_red and wm_red",
         "type": "scatter",
         "x": [
          0,
          1,
          2,
          3,
          4,
          5,
          6,
          7,
          8,
          9,
          10,
          11,
          12,
          13,
          14
         ],
         "y": [
          0.9988352907232438,
          0.5546173050947729,
          0.38188585358900107,
          0.5133279916734037,
          0.3936546874979032,
          0.21521566392154168,
          0.40450018990027736,
          0.34720182550899414,
          0.27333286891558406,
          0.3750573941127062,
          0.3246274819016832,
          0.3570421777330608,
          0.572922147773953,
          0.42304876322529616,
          0.6070649167218224
         ]
        },
        {
         "name": "right and cue_red and wm_red",
         "type": "scatter",
         "x": [
          0,
          1,
          2,
          3,
          4,
          5,
          6,
          7,
          8,
          9,
          10,
          11,
          12,
          13,
          14
         ],
         "y": [
          0.8816887890124812,
          0.457447308058635,
          0.3725057964199405,
          0.5450265869821804,
          0.42486339990739297,
          0.2280973762245384,
          0.39179659768687436,
          0.3271523108550686,
          0.27274758280422606,
          0.34822468549855845,
          0.29858649939125836,
          0.3429271227089721,
          0.5618620110484753,
          0.4087682742299733,
          0.6228551147501408
         ]
        },
        {
         "name": "left and cue_green and wm_green",
         "type": "scatter",
         "x": [
          0,
          1,
          2,
          3,
          4,
          5,
          6,
          7,
          8,
          9,
          10,
          11,
          12,
          13,
          14
         ],
         "y": [
          0.8581798650844272,
          0.868033887539286,
          0.9392662358577489,
          0.9535586441973201,
          0.834594106942417,
          0.8826913809250189,
          0.9255626198534794,
          1.1006046097728328,
          1.1142950343981906,
          0.8494111254649462,
          0.8890398812947777,
          0.995449919890614,
          0.7912327418391554,
          0.871771724305259,
          1.0042389752814336
         ]
        },
        {
         "name": "right and cue_green and wm_green",
         "type": "scatter",
         "x": [
          0,
          1,
          2,
          3,
          4,
          5,
          6,
          7,
          8,
          9,
          10,
          11,
          12,
          13,
          14
         ],
         "y": [
          0.9425912337689178,
          0.8080841671774031,
          0.9930296024555209,
          1.0142080379645484,
          0.8545931455383797,
          0.8638161913947948,
          0.9631966765837832,
          1.006176975609188,
          1.117333747265885,
          0.9420557543944025,
          0.8276952564180516,
          0.9755330350192292,
          0.8355642114550371,
          0.9273055534482872,
          0.8465325486485149
         ]
        }
       ],
       "layout": {}
      },
      "text/html": [
       "<div id=\"6909c5e2-d990-4bc0-845a-65dc290a4ac5\" style=\"height: 525px; width: 100%;\" class=\"plotly-graph-div\"></div><script type=\"text/javascript\">require([\"plotly\"], function(Plotly) { window.PLOTLYENV=window.PLOTLYENV || {};window.PLOTLYENV.BASE_URL=\"https://plot.ly\";Plotly.newPlot(\"6909c5e2-d990-4bc0-845a-65dc290a4ac5\", [{\"x\": [0, 1, 2, 3, 4, 5, 6, 7, 8, 9, 10, 11, 12, 13, 14], \"y\": [0.9988352907232438, 0.5546173050947729, 0.38188585358900107, 0.5133279916734037, 0.3936546874979032, 0.21521566392154168, 0.40450018990027736, 0.34720182550899414, 0.27333286891558406, 0.3750573941127062, 0.3246274819016832, 0.3570421777330608, 0.572922147773953, 0.42304876322529616, 0.6070649167218224], \"type\": \"scatter\", \"name\": \"left and cue_red and wm_red\"}, {\"x\": [0, 1, 2, 3, 4, 5, 6, 7, 8, 9, 10, 11, 12, 13, 14], \"y\": [0.8816887890124812, 0.457447308058635, 0.3725057964199405, 0.5450265869821804, 0.42486339990739297, 0.2280973762245384, 0.39179659768687436, 0.3271523108550686, 0.27274758280422606, 0.34822468549855845, 0.29858649939125836, 0.3429271227089721, 0.5618620110484753, 0.4087682742299733, 0.6228551147501408], \"type\": \"scatter\", \"name\": \"right and cue_red and wm_red\"}, {\"x\": [0, 1, 2, 3, 4, 5, 6, 7, 8, 9, 10, 11, 12, 13, 14], \"y\": [0.8581798650844272, 0.868033887539286, 0.9392662358577489, 0.9535586441973201, 0.834594106942417, 0.8826913809250189, 0.9255626198534794, 1.1006046097728328, 1.1142950343981906, 0.8494111254649462, 0.8890398812947777, 0.995449919890614, 0.7912327418391554, 0.871771724305259, 1.0042389752814336], \"type\": \"scatter\", \"name\": \"left and cue_green and wm_green\"}, {\"x\": [0, 1, 2, 3, 4, 5, 6, 7, 8, 9, 10, 11, 12, 13, 14], \"y\": [0.9425912337689178, 0.8080841671774031, 0.9930296024555209, 1.0142080379645484, 0.8545931455383797, 0.8638161913947948, 0.9631966765837832, 1.006176975609188, 1.117333747265885, 0.9420557543944025, 0.8276952564180516, 0.9755330350192292, 0.8355642114550371, 0.9273055534482872, 0.8465325486485149], \"type\": \"scatter\", \"name\": \"right and cue_green and wm_green\"}], {}, {\"showLink\": true, \"linkText\": \"Export to plot.ly\"})});</script>"
      ],
      "text/vnd.plotly.v1+html": [
       "<div id=\"6909c5e2-d990-4bc0-845a-65dc290a4ac5\" style=\"height: 525px; width: 100%;\" class=\"plotly-graph-div\"></div><script type=\"text/javascript\">require([\"plotly\"], function(Plotly) { window.PLOTLYENV=window.PLOTLYENV || {};window.PLOTLYENV.BASE_URL=\"https://plot.ly\";Plotly.newPlot(\"6909c5e2-d990-4bc0-845a-65dc290a4ac5\", [{\"x\": [0, 1, 2, 3, 4, 5, 6, 7, 8, 9, 10, 11, 12, 13, 14], \"y\": [0.9988352907232438, 0.5546173050947729, 0.38188585358900107, 0.5133279916734037, 0.3936546874979032, 0.21521566392154168, 0.40450018990027736, 0.34720182550899414, 0.27333286891558406, 0.3750573941127062, 0.3246274819016832, 0.3570421777330608, 0.572922147773953, 0.42304876322529616, 0.6070649167218224], \"type\": \"scatter\", \"name\": \"left and cue_red and wm_red\"}, {\"x\": [0, 1, 2, 3, 4, 5, 6, 7, 8, 9, 10, 11, 12, 13, 14], \"y\": [0.8816887890124812, 0.457447308058635, 0.3725057964199405, 0.5450265869821804, 0.42486339990739297, 0.2280973762245384, 0.39179659768687436, 0.3271523108550686, 0.27274758280422606, 0.34822468549855845, 0.29858649939125836, 0.3429271227089721, 0.5618620110484753, 0.4087682742299733, 0.6228551147501408], \"type\": \"scatter\", \"name\": \"right and cue_red and wm_red\"}, {\"x\": [0, 1, 2, 3, 4, 5, 6, 7, 8, 9, 10, 11, 12, 13, 14], \"y\": [0.8581798650844272, 0.868033887539286, 0.9392662358577489, 0.9535586441973201, 0.834594106942417, 0.8826913809250189, 0.9255626198534794, 1.1006046097728328, 1.1142950343981906, 0.8494111254649462, 0.8890398812947777, 0.995449919890614, 0.7912327418391554, 0.871771724305259, 1.0042389752814336], \"type\": \"scatter\", \"name\": \"left and cue_green and wm_green\"}, {\"x\": [0, 1, 2, 3, 4, 5, 6, 7, 8, 9, 10, 11, 12, 13, 14], \"y\": [0.9425912337689178, 0.8080841671774031, 0.9930296024555209, 1.0142080379645484, 0.8545931455383797, 0.8638161913947948, 0.9631966765837832, 1.006176975609188, 1.117333747265885, 0.9420557543944025, 0.8276952564180516, 0.9755330350192292, 0.8355642114550371, 0.9273055534482872, 0.8465325486485149], \"type\": \"scatter\", \"name\": \"right and cue_green and wm_green\"}], {}, {\"showLink\": true, \"linkText\": \"Export to plot.ly\"})});</script>"
      ]
     },
     "metadata": {},
     "output_type": "display_data"
    },
    {
     "data": {
      "application/vnd.plotly.v1+json": {
       "data": [
        {
         "name": "left and cue_red and wm_red",
         "type": "scatter",
         "x": [
          0,
          1,
          2,
          3,
          4,
          5,
          6,
          7,
          8,
          9,
          10,
          11,
          12,
          13,
          14
         ],
         "y": [
          0.9992650248864239,
          0.4780201431946989,
          0.32896559162742,
          0.3545040245715889,
          0.2931941936970113,
          0.1419815630128275,
          0.2411503689973602,
          0.1673689651374045,
          0.18932618423571257,
          0.2566205905168628,
          0.20974893165877262,
          0.17840222585297116,
          0.30694450872736356,
          0.1787634448570381,
          0.4899020073360465
         ]
        },
        {
         "name": "right and cue_red and wm_red",
         "type": "scatter",
         "x": [
          0,
          1,
          2,
          3,
          4,
          5,
          6,
          7,
          8,
          9,
          10,
          11,
          12,
          13,
          14
         ],
         "y": [
          0.8716185459633747,
          0.4338775113132005,
          0.28835930749532523,
          0.32605639266194264,
          0.28942725523449575,
          0.13842429193596217,
          0.23008514399158253,
          0.15795121768017717,
          0.19671279858208257,
          0.23876829922437826,
          0.21369302707072624,
          0.18745718943446732,
          0.3254695928818214,
          0.17682923621635127,
          0.48922202046587326
         ]
        },
        {
         "name": "left and cue_green and wm_green",
         "type": "scatter",
         "x": [
          0,
          1,
          2,
          3,
          4,
          5,
          6,
          7,
          8,
          9,
          10,
          11,
          12,
          13,
          14
         ],
         "y": [
          0.8393341432458806,
          0.7742625233658648,
          0.9412757650290919,
          0.9507745635565631,
          0.8335155563864493,
          0.8844896037228664,
          0.9174437113605339,
          1.1147137329051373,
          1.1355098074913568,
          0.8454357593141442,
          0.899114114036207,
          0.9258944355569346,
          0.8140990099558428,
          0.8701421837920742,
          0.7491851517558297
         ]
        },
        {
         "name": "right and cue_green and wm_green",
         "type": "scatter",
         "x": [
          0,
          1,
          2,
          3,
          4,
          5,
          6,
          7,
          8,
          9,
          10,
          11,
          12,
          13,
          14
         ],
         "y": [
          0.9479197632002092,
          0.799942975614416,
          1.0022930743362521,
          1.0155725091826844,
          0.7985198200152701,
          0.8638890588656727,
          0.9123930242809888,
          1.0012975320518238,
          1.1213565596503536,
          0.8736110493605123,
          0.8127538055394884,
          0.9821953673883306,
          0.8410844176137182,
          0.8385443329721427,
          0.7615393960025162
         ]
        }
       ],
       "layout": {}
      },
      "text/html": [
       "<div id=\"f4dbdcf9-1c16-49b6-b8c9-e0bd8ddb9146\" style=\"height: 525px; width: 100%;\" class=\"plotly-graph-div\"></div><script type=\"text/javascript\">require([\"plotly\"], function(Plotly) { window.PLOTLYENV=window.PLOTLYENV || {};window.PLOTLYENV.BASE_URL=\"https://plot.ly\";Plotly.newPlot(\"f4dbdcf9-1c16-49b6-b8c9-e0bd8ddb9146\", [{\"x\": [0, 1, 2, 3, 4, 5, 6, 7, 8, 9, 10, 11, 12, 13, 14], \"y\": [0.9992650248864239, 0.4780201431946989, 0.32896559162742, 0.3545040245715889, 0.2931941936970113, 0.1419815630128275, 0.2411503689973602, 0.1673689651374045, 0.18932618423571257, 0.2566205905168628, 0.20974893165877262, 0.17840222585297116, 0.30694450872736356, 0.1787634448570381, 0.4899020073360465], \"type\": \"scatter\", \"name\": \"left and cue_red and wm_red\"}, {\"x\": [0, 1, 2, 3, 4, 5, 6, 7, 8, 9, 10, 11, 12, 13, 14], \"y\": [0.8716185459633747, 0.4338775113132005, 0.28835930749532523, 0.32605639266194264, 0.28942725523449575, 0.13842429193596217, 0.23008514399158253, 0.15795121768017717, 0.19671279858208257, 0.23876829922437826, 0.21369302707072624, 0.18745718943446732, 0.3254695928818214, 0.17682923621635127, 0.48922202046587326], \"type\": \"scatter\", \"name\": \"right and cue_red and wm_red\"}, {\"x\": [0, 1, 2, 3, 4, 5, 6, 7, 8, 9, 10, 11, 12, 13, 14], \"y\": [0.8393341432458806, 0.7742625233658648, 0.9412757650290919, 0.9507745635565631, 0.8335155563864493, 0.8844896037228664, 0.9174437113605339, 1.1147137329051373, 1.1355098074913568, 0.8454357593141442, 0.899114114036207, 0.9258944355569346, 0.8140990099558428, 0.8701421837920742, 0.7491851517558297], \"type\": \"scatter\", \"name\": \"left and cue_green and wm_green\"}, {\"x\": [0, 1, 2, 3, 4, 5, 6, 7, 8, 9, 10, 11, 12, 13, 14], \"y\": [0.9479197632002092, 0.799942975614416, 1.0022930743362521, 1.0155725091826844, 0.7985198200152701, 0.8638890588656727, 0.9123930242809888, 1.0012975320518238, 1.1213565596503536, 0.8736110493605123, 0.8127538055394884, 0.9821953673883306, 0.8410844176137182, 0.8385443329721427, 0.7615393960025162], \"type\": \"scatter\", \"name\": \"right and cue_green and wm_green\"}], {}, {\"showLink\": true, \"linkText\": \"Export to plot.ly\"})});</script>"
      ],
      "text/vnd.plotly.v1+html": [
       "<div id=\"f4dbdcf9-1c16-49b6-b8c9-e0bd8ddb9146\" style=\"height: 525px; width: 100%;\" class=\"plotly-graph-div\"></div><script type=\"text/javascript\">require([\"plotly\"], function(Plotly) { window.PLOTLYENV=window.PLOTLYENV || {};window.PLOTLYENV.BASE_URL=\"https://plot.ly\";Plotly.newPlot(\"f4dbdcf9-1c16-49b6-b8c9-e0bd8ddb9146\", [{\"x\": [0, 1, 2, 3, 4, 5, 6, 7, 8, 9, 10, 11, 12, 13, 14], \"y\": [0.9992650248864239, 0.4780201431946989, 0.32896559162742, 0.3545040245715889, 0.2931941936970113, 0.1419815630128275, 0.2411503689973602, 0.1673689651374045, 0.18932618423571257, 0.2566205905168628, 0.20974893165877262, 0.17840222585297116, 0.30694450872736356, 0.1787634448570381, 0.4899020073360465], \"type\": \"scatter\", \"name\": \"left and cue_red and wm_red\"}, {\"x\": [0, 1, 2, 3, 4, 5, 6, 7, 8, 9, 10, 11, 12, 13, 14], \"y\": [0.8716185459633747, 0.4338775113132005, 0.28835930749532523, 0.32605639266194264, 0.28942725523449575, 0.13842429193596217, 0.23008514399158253, 0.15795121768017717, 0.19671279858208257, 0.23876829922437826, 0.21369302707072624, 0.18745718943446732, 0.3254695928818214, 0.17682923621635127, 0.48922202046587326], \"type\": \"scatter\", \"name\": \"right and cue_red and wm_red\"}, {\"x\": [0, 1, 2, 3, 4, 5, 6, 7, 8, 9, 10, 11, 12, 13, 14], \"y\": [0.8393341432458806, 0.7742625233658648, 0.9412757650290919, 0.9507745635565631, 0.8335155563864493, 0.8844896037228664, 0.9174437113605339, 1.1147137329051373, 1.1355098074913568, 0.8454357593141442, 0.899114114036207, 0.9258944355569346, 0.8140990099558428, 0.8701421837920742, 0.7491851517558297], \"type\": \"scatter\", \"name\": \"left and cue_green and wm_green\"}, {\"x\": [0, 1, 2, 3, 4, 5, 6, 7, 8, 9, 10, 11, 12, 13, 14], \"y\": [0.9479197632002092, 0.799942975614416, 1.0022930743362521, 1.0155725091826844, 0.7985198200152701, 0.8638890588656727, 0.9123930242809888, 1.0012975320518238, 1.1213565596503536, 0.8736110493605123, 0.8127538055394884, 0.9821953673883306, 0.8410844176137182, 0.8385443329721427, 0.7615393960025162], \"type\": \"scatter\", \"name\": \"right and cue_green and wm_green\"}], {}, {\"showLink\": true, \"linkText\": \"Export to plot.ly\"})});</script>"
      ]
     },
     "metadata": {},
     "output_type": "display_data"
    },
    {
     "data": {
      "application/vnd.plotly.v1+json": {
       "data": [
        {
         "name": "left and cue_red and wm_red",
         "type": "scatter",
         "x": [
          0,
          1,
          2,
          3,
          4,
          5,
          6,
          7,
          8,
          9,
          10,
          11,
          12,
          13,
          14
         ],
         "y": [
          0.9989069608632494,
          0.46138387652392177,
          0.25421248067859303,
          0.209713895397166,
          0.16111340899180993,
          0.10647133139548748,
          0.11525684596352348,
          0.10820527811418623,
          0.10936774250551284,
          0.16843641950454602,
          0.1414390667187877,
          0.09997944668685754,
          0.1543665113600149,
          0.11260268154601494,
          0.44035537947369474
         ]
        },
        {
         "name": "right and cue_red and wm_red",
         "type": "scatter",
         "x": [
          0,
          1,
          2,
          3,
          4,
          5,
          6,
          7,
          8,
          9,
          10,
          11,
          12,
          13,
          14
         ],
         "y": [
          0.8901400217560059,
          0.4202682544450097,
          0.21512791020919964,
          0.20501692881602374,
          0.15727414562057918,
          0.10941448975759238,
          0.11514370392176687,
          0.10680586731407804,
          0.10775445394568017,
          0.16792847437711145,
          0.13260200212722784,
          0.09823415329315699,
          0.1475386659706761,
          0.1054980385876152,
          0.4681919293916377
         ]
        },
        {
         "name": "left and cue_green and wm_green",
         "type": "scatter",
         "x": [
          0,
          1,
          2,
          3,
          4,
          5,
          6,
          7,
          8,
          9,
          10,
          11,
          12,
          13,
          14
         ],
         "y": [
          0.8363204072057306,
          0.773850879371596,
          0.8535860753365252,
          0.9368352552365072,
          0.745218890950717,
          0.8012583178374704,
          0.8316298568338663,
          1.118409787720262,
          1.135670974147822,
          0.8299390862727394,
          0.8990990109096234,
          0.9276232999307027,
          0.7378991426967972,
          0.7098181304026583,
          0.7631001268753845
         ]
        },
        {
         "name": "right and cue_green and wm_green",
         "type": "scatter",
         "x": [
          0,
          1,
          2,
          3,
          4,
          5,
          6,
          7,
          8,
          9,
          10,
          11,
          12,
          13,
          14
         ],
         "y": [
          0.8563930183451577,
          0.7854552337228231,
          0.8097966965065663,
          1.0096150481908306,
          0.802275269854094,
          0.8639573012324918,
          0.9118448157442217,
          1.001739491946563,
          1.113541150874354,
          0.8055944248035085,
          0.7951560848924696,
          0.8910783721808815,
          0.75151874046591,
          0.7444994513574068,
          0.7709116994939265
         ]
        }
       ],
       "layout": {}
      },
      "text/html": [
       "<div id=\"d7b1a3c4-64be-484e-abca-7c74c6189033\" style=\"height: 525px; width: 100%;\" class=\"plotly-graph-div\"></div><script type=\"text/javascript\">require([\"plotly\"], function(Plotly) { window.PLOTLYENV=window.PLOTLYENV || {};window.PLOTLYENV.BASE_URL=\"https://plot.ly\";Plotly.newPlot(\"d7b1a3c4-64be-484e-abca-7c74c6189033\", [{\"x\": [0, 1, 2, 3, 4, 5, 6, 7, 8, 9, 10, 11, 12, 13, 14], \"y\": [0.9989069608632494, 0.46138387652392177, 0.25421248067859303, 0.209713895397166, 0.16111340899180993, 0.10647133139548748, 0.11525684596352348, 0.10820527811418623, 0.10936774250551284, 0.16843641950454602, 0.1414390667187877, 0.09997944668685754, 0.1543665113600149, 0.11260268154601494, 0.44035537947369474], \"type\": \"scatter\", \"name\": \"left and cue_red and wm_red\"}, {\"x\": [0, 1, 2, 3, 4, 5, 6, 7, 8, 9, 10, 11, 12, 13, 14], \"y\": [0.8901400217560059, 0.4202682544450097, 0.21512791020919964, 0.20501692881602374, 0.15727414562057918, 0.10941448975759238, 0.11514370392176687, 0.10680586731407804, 0.10775445394568017, 0.16792847437711145, 0.13260200212722784, 0.09823415329315699, 0.1475386659706761, 0.1054980385876152, 0.4681919293916377], \"type\": \"scatter\", \"name\": \"right and cue_red and wm_red\"}, {\"x\": [0, 1, 2, 3, 4, 5, 6, 7, 8, 9, 10, 11, 12, 13, 14], \"y\": [0.8363204072057306, 0.773850879371596, 0.8535860753365252, 0.9368352552365072, 0.745218890950717, 0.8012583178374704, 0.8316298568338663, 1.118409787720262, 1.135670974147822, 0.8299390862727394, 0.8990990109096234, 0.9276232999307027, 0.7378991426967972, 0.7098181304026583, 0.7631001268753845], \"type\": \"scatter\", \"name\": \"left and cue_green and wm_green\"}, {\"x\": [0, 1, 2, 3, 4, 5, 6, 7, 8, 9, 10, 11, 12, 13, 14], \"y\": [0.8563930183451577, 0.7854552337228231, 0.8097966965065663, 1.0096150481908306, 0.802275269854094, 0.8639573012324918, 0.9118448157442217, 1.001739491946563, 1.113541150874354, 0.8055944248035085, 0.7951560848924696, 0.8910783721808815, 0.75151874046591, 0.7444994513574068, 0.7709116994939265], \"type\": \"scatter\", \"name\": \"right and cue_green and wm_green\"}], {}, {\"showLink\": true, \"linkText\": \"Export to plot.ly\"})});</script>"
      ],
      "text/vnd.plotly.v1+html": [
       "<div id=\"d7b1a3c4-64be-484e-abca-7c74c6189033\" style=\"height: 525px; width: 100%;\" class=\"plotly-graph-div\"></div><script type=\"text/javascript\">require([\"plotly\"], function(Plotly) { window.PLOTLYENV=window.PLOTLYENV || {};window.PLOTLYENV.BASE_URL=\"https://plot.ly\";Plotly.newPlot(\"d7b1a3c4-64be-484e-abca-7c74c6189033\", [{\"x\": [0, 1, 2, 3, 4, 5, 6, 7, 8, 9, 10, 11, 12, 13, 14], \"y\": [0.9989069608632494, 0.46138387652392177, 0.25421248067859303, 0.209713895397166, 0.16111340899180993, 0.10647133139548748, 0.11525684596352348, 0.10820527811418623, 0.10936774250551284, 0.16843641950454602, 0.1414390667187877, 0.09997944668685754, 0.1543665113600149, 0.11260268154601494, 0.44035537947369474], \"type\": \"scatter\", \"name\": \"left and cue_red and wm_red\"}, {\"x\": [0, 1, 2, 3, 4, 5, 6, 7, 8, 9, 10, 11, 12, 13, 14], \"y\": [0.8901400217560059, 0.4202682544450097, 0.21512791020919964, 0.20501692881602374, 0.15727414562057918, 0.10941448975759238, 0.11514370392176687, 0.10680586731407804, 0.10775445394568017, 0.16792847437711145, 0.13260200212722784, 0.09823415329315699, 0.1475386659706761, 0.1054980385876152, 0.4681919293916377], \"type\": \"scatter\", \"name\": \"right and cue_red and wm_red\"}, {\"x\": [0, 1, 2, 3, 4, 5, 6, 7, 8, 9, 10, 11, 12, 13, 14], \"y\": [0.8363204072057306, 0.773850879371596, 0.8535860753365252, 0.9368352552365072, 0.745218890950717, 0.8012583178374704, 0.8316298568338663, 1.118409787720262, 1.135670974147822, 0.8299390862727394, 0.8990990109096234, 0.9276232999307027, 0.7378991426967972, 0.7098181304026583, 0.7631001268753845], \"type\": \"scatter\", \"name\": \"left and cue_green and wm_green\"}, {\"x\": [0, 1, 2, 3, 4, 5, 6, 7, 8, 9, 10, 11, 12, 13, 14], \"y\": [0.8563930183451577, 0.7854552337228231, 0.8097966965065663, 1.0096150481908306, 0.802275269854094, 0.8639573012324918, 0.9118448157442217, 1.001739491946563, 1.113541150874354, 0.8055944248035085, 0.7951560848924696, 0.8910783721808815, 0.75151874046591, 0.7444994513574068, 0.7709116994939265], \"type\": \"scatter\", \"name\": \"right and cue_green and wm_green\"}], {}, {\"showLink\": true, \"linkText\": \"Export to plot.ly\"})});</script>"
      ]
     },
     "metadata": {},
     "output_type": "display_data"
    },
    {
     "data": {
      "application/vnd.plotly.v1+json": {
       "data": [
        {
         "name": "left and cue_red and wm_red",
         "type": "scatter",
         "x": [
          0,
          1,
          2,
          3,
          4,
          5,
          6,
          7,
          8,
          9,
          10,
          11,
          12,
          13,
          14
         ],
         "y": [
          1.0011323352815342,
          0.4604846079765784,
          0.25550905486339603,
          0.17738314492721852,
          0.13115076879856402,
          0.10265197794286607,
          0.08190139317209078,
          0.08587537223048924,
          0.08663020337287586,
          0.09647503638058197,
          0.08990234955295973,
          0.07472444798595557,
          0.09746493298722503,
          0.08101620416347521,
          0.44893111257052065
         ]
        },
        {
         "name": "right and cue_red and wm_red",
         "type": "scatter",
         "x": [
          0,
          1,
          2,
          3,
          4,
          5,
          6,
          7,
          8,
          9,
          10,
          11,
          12,
          13,
          14
         ],
         "y": [
          0.9146454808792911,
          0.4132390059097404,
          0.2120937309276334,
          0.16832159811367875,
          0.12312729424870927,
          0.08743511991600983,
          0.07949265129018013,
          0.08391279855031764,
          0.08799058653083591,
          0.09912321405271651,
          0.09178159651586215,
          0.07832467080932859,
          0.09955511876855216,
          0.08135204595878398,
          0.4604668849977449
         ]
        },
        {
         "name": "left and cue_green and wm_green",
         "type": "scatter",
         "x": [
          0,
          1,
          2,
          3,
          4,
          5,
          6,
          7,
          8,
          9,
          10,
          11,
          12,
          13,
          14
         ],
         "y": [
          0.8323578888090456,
          0.6967657568487985,
          0.8551084813203607,
          0.7668680410477391,
          0.6678735265952197,
          0.7308386493927269,
          0.8261683284745123,
          1.1012289841910075,
          1.0913543292485324,
          0.7228676248125607,
          0.8304371900418325,
          0.9301238232874661,
          0.7471599338129036,
          0.6410012115842381,
          0.7610174068645413
         ]
        },
        {
         "name": "right and cue_green and wm_green",
         "type": "scatter",
         "x": [
          0,
          1,
          2,
          3,
          4,
          5,
          6,
          7,
          8,
          9,
          10,
          11,
          12,
          13,
          14
         ],
         "y": [
          0.8583484289157564,
          0.7005925152191024,
          0.820560137425471,
          0.8148725049813647,
          0.6580267147243339,
          0.7750433691349972,
          0.8502586404815342,
          1.002210751436463,
          1.016498152654623,
          0.7422170059439979,
          0.7915796971685981,
          0.8878493904811929,
          0.7585336280596136,
          0.6733333316491501,
          0.7009050019758079
         ]
        }
       ],
       "layout": {}
      },
      "text/html": [
       "<div id=\"5444e3c4-8e08-479c-9789-fd033d286d70\" style=\"height: 525px; width: 100%;\" class=\"plotly-graph-div\"></div><script type=\"text/javascript\">require([\"plotly\"], function(Plotly) { window.PLOTLYENV=window.PLOTLYENV || {};window.PLOTLYENV.BASE_URL=\"https://plot.ly\";Plotly.newPlot(\"5444e3c4-8e08-479c-9789-fd033d286d70\", [{\"x\": [0, 1, 2, 3, 4, 5, 6, 7, 8, 9, 10, 11, 12, 13, 14], \"y\": [1.0011323352815342, 0.4604846079765784, 0.25550905486339603, 0.17738314492721852, 0.13115076879856402, 0.10265197794286607, 0.08190139317209078, 0.08587537223048924, 0.08663020337287586, 0.09647503638058197, 0.08990234955295973, 0.07472444798595557, 0.09746493298722503, 0.08101620416347521, 0.44893111257052065], \"type\": \"scatter\", \"name\": \"left and cue_red and wm_red\"}, {\"x\": [0, 1, 2, 3, 4, 5, 6, 7, 8, 9, 10, 11, 12, 13, 14], \"y\": [0.9146454808792911, 0.4132390059097404, 0.2120937309276334, 0.16832159811367875, 0.12312729424870927, 0.08743511991600983, 0.07949265129018013, 0.08391279855031764, 0.08799058653083591, 0.09912321405271651, 0.09178159651586215, 0.07832467080932859, 0.09955511876855216, 0.08135204595878398, 0.4604668849977449], \"type\": \"scatter\", \"name\": \"right and cue_red and wm_red\"}, {\"x\": [0, 1, 2, 3, 4, 5, 6, 7, 8, 9, 10, 11, 12, 13, 14], \"y\": [0.8323578888090456, 0.6967657568487985, 0.8551084813203607, 0.7668680410477391, 0.6678735265952197, 0.7308386493927269, 0.8261683284745123, 1.1012289841910075, 1.0913543292485324, 0.7228676248125607, 0.8304371900418325, 0.9301238232874661, 0.7471599338129036, 0.6410012115842381, 0.7610174068645413], \"type\": \"scatter\", \"name\": \"left and cue_green and wm_green\"}, {\"x\": [0, 1, 2, 3, 4, 5, 6, 7, 8, 9, 10, 11, 12, 13, 14], \"y\": [0.8583484289157564, 0.7005925152191024, 0.820560137425471, 0.8148725049813647, 0.6580267147243339, 0.7750433691349972, 0.8502586404815342, 1.002210751436463, 1.016498152654623, 0.7422170059439979, 0.7915796971685981, 0.8878493904811929, 0.7585336280596136, 0.6733333316491501, 0.7009050019758079], \"type\": \"scatter\", \"name\": \"right and cue_green and wm_green\"}], {}, {\"showLink\": true, \"linkText\": \"Export to plot.ly\"})});</script>"
      ],
      "text/vnd.plotly.v1+html": [
       "<div id=\"5444e3c4-8e08-479c-9789-fd033d286d70\" style=\"height: 525px; width: 100%;\" class=\"plotly-graph-div\"></div><script type=\"text/javascript\">require([\"plotly\"], function(Plotly) { window.PLOTLYENV=window.PLOTLYENV || {};window.PLOTLYENV.BASE_URL=\"https://plot.ly\";Plotly.newPlot(\"5444e3c4-8e08-479c-9789-fd033d286d70\", [{\"x\": [0, 1, 2, 3, 4, 5, 6, 7, 8, 9, 10, 11, 12, 13, 14], \"y\": [1.0011323352815342, 0.4604846079765784, 0.25550905486339603, 0.17738314492721852, 0.13115076879856402, 0.10265197794286607, 0.08190139317209078, 0.08587537223048924, 0.08663020337287586, 0.09647503638058197, 0.08990234955295973, 0.07472444798595557, 0.09746493298722503, 0.08101620416347521, 0.44893111257052065], \"type\": \"scatter\", \"name\": \"left and cue_red and wm_red\"}, {\"x\": [0, 1, 2, 3, 4, 5, 6, 7, 8, 9, 10, 11, 12, 13, 14], \"y\": [0.9146454808792911, 0.4132390059097404, 0.2120937309276334, 0.16832159811367875, 0.12312729424870927, 0.08743511991600983, 0.07949265129018013, 0.08391279855031764, 0.08799058653083591, 0.09912321405271651, 0.09178159651586215, 0.07832467080932859, 0.09955511876855216, 0.08135204595878398, 0.4604668849977449], \"type\": \"scatter\", \"name\": \"right and cue_red and wm_red\"}, {\"x\": [0, 1, 2, 3, 4, 5, 6, 7, 8, 9, 10, 11, 12, 13, 14], \"y\": [0.8323578888090456, 0.6967657568487985, 0.8551084813203607, 0.7668680410477391, 0.6678735265952197, 0.7308386493927269, 0.8261683284745123, 1.1012289841910075, 1.0913543292485324, 0.7228676248125607, 0.8304371900418325, 0.9301238232874661, 0.7471599338129036, 0.6410012115842381, 0.7610174068645413], \"type\": \"scatter\", \"name\": \"left and cue_green and wm_green\"}, {\"x\": [0, 1, 2, 3, 4, 5, 6, 7, 8, 9, 10, 11, 12, 13, 14], \"y\": [0.8583484289157564, 0.7005925152191024, 0.820560137425471, 0.8148725049813647, 0.6580267147243339, 0.7750433691349972, 0.8502586404815342, 1.002210751436463, 1.016498152654623, 0.7422170059439979, 0.7915796971685981, 0.8878493904811929, 0.7585336280596136, 0.6733333316491501, 0.7009050019758079], \"type\": \"scatter\", \"name\": \"right and cue_green and wm_green\"}], {}, {\"showLink\": true, \"linkText\": \"Export to plot.ly\"})});</script>"
      ]
     },
     "metadata": {},
     "output_type": "display_data"
    },
    {
     "data": {
      "application/vnd.plotly.v1+json": {
       "data": [
        {
         "name": "left and cue_red and wm_red",
         "type": "scatter",
         "x": [
          0,
          1,
          2,
          3,
          4,
          5,
          6,
          7,
          8,
          9,
          10,
          11,
          12,
          13,
          14
         ],
         "y": [
          0.9998221123820031,
          0.46613405968630484,
          0.25059763483954445,
          0.1672769875783755,
          0.12205858129121905,
          0.09654135692903665,
          0.07934423090056364,
          0.07190668944518963,
          0.07240365824693495,
          0.0938505437247511,
          0.07805455280953977,
          0.08008206012438224,
          0.07705935157296562,
          0.06976408950349611,
          0.45598365754482106
         ]
        },
        {
         "name": "right and cue_red and wm_red",
         "type": "scatter",
         "x": [
          0,
          1,
          2,
          3,
          4,
          5,
          6,
          7,
          8,
          9,
          10,
          11,
          12,
          13,
          14
         ],
         "y": [
          0.9223096891279183,
          0.4050642941940876,
          0.2124223030913429,
          0.16174923327018687,
          0.1146709157130612,
          0.08981862331701906,
          0.07601211861202495,
          0.07992587993808431,
          0.08198996514034884,
          0.08455535946801584,
          0.08005626072561456,
          0.07071181608753185,
          0.07518735067527271,
          0.06499644170894636,
          0.46865332387057346
         ]
        },
        {
         "name": "left and cue_green and wm_green",
         "type": "scatter",
         "x": [
          0,
          1,
          2,
          3,
          4,
          5,
          6,
          7,
          8,
          9,
          10,
          11,
          12,
          13,
          14
         ],
         "y": [
          0.826303208968835,
          0.6918101089311197,
          0.7618592196093719,
          0.7616355012626008,
          0.6051082437118032,
          0.725319727495507,
          0.827346833384655,
          1.1062044304349639,
          0.989296703405324,
          0.728226264259917,
          0.7072808778479017,
          0.8586875763408026,
          0.7391236172205666,
          0.6472243031473419,
          0.6856491751066558
         ]
        },
        {
         "name": "right and cue_green and wm_green",
         "type": "scatter",
         "x": [
          0,
          1,
          2,
          3,
          4,
          5,
          6,
          7,
          8,
          9,
          10,
          11,
          12,
          13,
          14
         ],
         "y": [
          0.8578521400152981,
          0.6962009632636758,
          0.8243535174589711,
          0.7392356164438817,
          0.6626738194122884,
          0.7787239601009646,
          0.8522662670787999,
          1.0045864938822784,
          1.015605037213012,
          0.7463568654080635,
          0.7072399723043173,
          0.8909216306231647,
          0.7600104760401873,
          0.6035593680154232,
          0.631633733292989
         ]
        }
       ],
       "layout": {}
      },
      "text/html": [
       "<div id=\"992e2f63-2b2f-4d10-8651-2901c794a8d0\" style=\"height: 525px; width: 100%;\" class=\"plotly-graph-div\"></div><script type=\"text/javascript\">require([\"plotly\"], function(Plotly) { window.PLOTLYENV=window.PLOTLYENV || {};window.PLOTLYENV.BASE_URL=\"https://plot.ly\";Plotly.newPlot(\"992e2f63-2b2f-4d10-8651-2901c794a8d0\", [{\"x\": [0, 1, 2, 3, 4, 5, 6, 7, 8, 9, 10, 11, 12, 13, 14], \"y\": [0.9998221123820031, 0.46613405968630484, 0.25059763483954445, 0.1672769875783755, 0.12205858129121905, 0.09654135692903665, 0.07934423090056364, 0.07190668944518963, 0.07240365824693495, 0.0938505437247511, 0.07805455280953977, 0.08008206012438224, 0.07705935157296562, 0.06976408950349611, 0.45598365754482106], \"type\": \"scatter\", \"name\": \"left and cue_red and wm_red\"}, {\"x\": [0, 1, 2, 3, 4, 5, 6, 7, 8, 9, 10, 11, 12, 13, 14], \"y\": [0.9223096891279183, 0.4050642941940876, 0.2124223030913429, 0.16174923327018687, 0.1146709157130612, 0.08981862331701906, 0.07601211861202495, 0.07992587993808431, 0.08198996514034884, 0.08455535946801584, 0.08005626072561456, 0.07071181608753185, 0.07518735067527271, 0.06499644170894636, 0.46865332387057346], \"type\": \"scatter\", \"name\": \"right and cue_red and wm_red\"}, {\"x\": [0, 1, 2, 3, 4, 5, 6, 7, 8, 9, 10, 11, 12, 13, 14], \"y\": [0.826303208968835, 0.6918101089311197, 0.7618592196093719, 0.7616355012626008, 0.6051082437118032, 0.725319727495507, 0.827346833384655, 1.1062044304349639, 0.989296703405324, 0.728226264259917, 0.7072808778479017, 0.8586875763408026, 0.7391236172205666, 0.6472243031473419, 0.6856491751066558], \"type\": \"scatter\", \"name\": \"left and cue_green and wm_green\"}, {\"x\": [0, 1, 2, 3, 4, 5, 6, 7, 8, 9, 10, 11, 12, 13, 14], \"y\": [0.8578521400152981, 0.6962009632636758, 0.8243535174589711, 0.7392356164438817, 0.6626738194122884, 0.7787239601009646, 0.8522662670787999, 1.0045864938822784, 1.015605037213012, 0.7463568654080635, 0.7072399723043173, 0.8909216306231647, 0.7600104760401873, 0.6035593680154232, 0.631633733292989], \"type\": \"scatter\", \"name\": \"right and cue_green and wm_green\"}], {}, {\"showLink\": true, \"linkText\": \"Export to plot.ly\"})});</script>"
      ],
      "text/vnd.plotly.v1+html": [
       "<div id=\"992e2f63-2b2f-4d10-8651-2901c794a8d0\" style=\"height: 525px; width: 100%;\" class=\"plotly-graph-div\"></div><script type=\"text/javascript\">require([\"plotly\"], function(Plotly) { window.PLOTLYENV=window.PLOTLYENV || {};window.PLOTLYENV.BASE_URL=\"https://plot.ly\";Plotly.newPlot(\"992e2f63-2b2f-4d10-8651-2901c794a8d0\", [{\"x\": [0, 1, 2, 3, 4, 5, 6, 7, 8, 9, 10, 11, 12, 13, 14], \"y\": [0.9998221123820031, 0.46613405968630484, 0.25059763483954445, 0.1672769875783755, 0.12205858129121905, 0.09654135692903665, 0.07934423090056364, 0.07190668944518963, 0.07240365824693495, 0.0938505437247511, 0.07805455280953977, 0.08008206012438224, 0.07705935157296562, 0.06976408950349611, 0.45598365754482106], \"type\": \"scatter\", \"name\": \"left and cue_red and wm_red\"}, {\"x\": [0, 1, 2, 3, 4, 5, 6, 7, 8, 9, 10, 11, 12, 13, 14], \"y\": [0.9223096891279183, 0.4050642941940876, 0.2124223030913429, 0.16174923327018687, 0.1146709157130612, 0.08981862331701906, 0.07601211861202495, 0.07992587993808431, 0.08198996514034884, 0.08455535946801584, 0.08005626072561456, 0.07071181608753185, 0.07518735067527271, 0.06499644170894636, 0.46865332387057346], \"type\": \"scatter\", \"name\": \"right and cue_red and wm_red\"}, {\"x\": [0, 1, 2, 3, 4, 5, 6, 7, 8, 9, 10, 11, 12, 13, 14], \"y\": [0.826303208968835, 0.6918101089311197, 0.7618592196093719, 0.7616355012626008, 0.6051082437118032, 0.725319727495507, 0.827346833384655, 1.1062044304349639, 0.989296703405324, 0.728226264259917, 0.7072808778479017, 0.8586875763408026, 0.7391236172205666, 0.6472243031473419, 0.6856491751066558], \"type\": \"scatter\", \"name\": \"left and cue_green and wm_green\"}, {\"x\": [0, 1, 2, 3, 4, 5, 6, 7, 8, 9, 10, 11, 12, 13, 14], \"y\": [0.8578521400152981, 0.6962009632636758, 0.8243535174589711, 0.7392356164438817, 0.6626738194122884, 0.7787239601009646, 0.8522662670787999, 1.0045864938822784, 1.015605037213012, 0.7463568654080635, 0.7072399723043173, 0.8909216306231647, 0.7600104760401873, 0.6035593680154232, 0.631633733292989], \"type\": \"scatter\", \"name\": \"right and cue_green and wm_green\"}], {}, {\"showLink\": true, \"linkText\": \"Export to plot.ly\"})});</script>"
      ]
     },
     "metadata": {},
     "output_type": "display_data"
    },
    {
     "data": {
      "application/vnd.plotly.v1+json": {
       "data": [
        {
         "name": "left and cue_red and wm_red",
         "type": "scatter",
         "x": [
          0,
          1,
          2,
          3,
          4,
          5,
          6,
          7,
          8,
          9,
          10,
          11,
          12,
          13,
          14
         ],
         "y": [
          1.0009662944222195,
          0.46523138296446254,
          0.25463140634080295,
          0.16753329718384302,
          0.11429771279988343,
          0.0898470873946402,
          0.07616553902456447,
          0.06627258035931183,
          0.07405657681480193,
          0.08742304411234691,
          0.0783317600211092,
          0.0668933013550892,
          0.06987515961476265,
          0.06431737907347457,
          0.4550318132632909
         ]
        },
        {
         "name": "right and cue_red and wm_red",
         "type": "scatter",
         "x": [
          0,
          1,
          2,
          3,
          4,
          5,
          6,
          7,
          8,
          9,
          10,
          11,
          12,
          13,
          14
         ],
         "y": [
          0.9229090085421254,
          0.4006602997411608,
          0.20962488199825524,
          0.15916005326728655,
          0.10411942214056924,
          0.0861060760317065,
          0.07377664490971592,
          0.07697166932651256,
          0.07935563254927414,
          0.08267583916287113,
          0.07693031700640929,
          0.06899787247178613,
          0.06776388250828114,
          0.06173452441567451,
          0.4689213390306115
         ]
        },
        {
         "name": "left and cue_green and wm_green",
         "type": "scatter",
         "x": [
          0,
          1,
          2,
          3,
          4,
          5,
          6,
          7,
          8,
          9,
          10,
          11,
          12,
          13,
          14
         ],
         "y": [
          0.8229976179423178,
          0.6888729176950197,
          0.7642984204192104,
          0.6746249061388635,
          0.6025632323734722,
          0.7288752965881904,
          0.8229719735042105,
          1.0777392085667292,
          0.9863635629360158,
          0.7147923567665585,
          0.7158296150534879,
          0.8534162441722353,
          0.7411478008562394,
          0.6427461058455765,
          0.6903291191343875
         ]
        },
        {
         "name": "right and cue_green and wm_green",
         "type": "scatter",
         "x": [
          0,
          1,
          2,
          3,
          4,
          5,
          6,
          7,
          8,
          9,
          10,
          11,
          12,
          13,
          14
         ],
         "y": [
          0.8564351776562986,
          0.6225803170020401,
          0.8210148604007338,
          0.7383233857043008,
          0.670386799288677,
          0.779753733825227,
          0.8487368241890748,
          1.009277921416762,
          1.0121896714531016,
          0.7497718009153732,
          0.6999658842423352,
          0.8924575902839291,
          0.6121711358298187,
          0.5976779660834435,
          0.6318935784642068
         ]
        }
       ],
       "layout": {}
      },
      "text/html": [
       "<div id=\"58f6b236-7873-4f09-b13d-882f7d256357\" style=\"height: 525px; width: 100%;\" class=\"plotly-graph-div\"></div><script type=\"text/javascript\">require([\"plotly\"], function(Plotly) { window.PLOTLYENV=window.PLOTLYENV || {};window.PLOTLYENV.BASE_URL=\"https://plot.ly\";Plotly.newPlot(\"58f6b236-7873-4f09-b13d-882f7d256357\", [{\"x\": [0, 1, 2, 3, 4, 5, 6, 7, 8, 9, 10, 11, 12, 13, 14], \"y\": [1.0009662944222195, 0.46523138296446254, 0.25463140634080295, 0.16753329718384302, 0.11429771279988343, 0.0898470873946402, 0.07616553902456447, 0.06627258035931183, 0.07405657681480193, 0.08742304411234691, 0.0783317600211092, 0.0668933013550892, 0.06987515961476265, 0.06431737907347457, 0.4550318132632909], \"type\": \"scatter\", \"name\": \"left and cue_red and wm_red\"}, {\"x\": [0, 1, 2, 3, 4, 5, 6, 7, 8, 9, 10, 11, 12, 13, 14], \"y\": [0.9229090085421254, 0.4006602997411608, 0.20962488199825524, 0.15916005326728655, 0.10411942214056924, 0.0861060760317065, 0.07377664490971592, 0.07697166932651256, 0.07935563254927414, 0.08267583916287113, 0.07693031700640929, 0.06899787247178613, 0.06776388250828114, 0.06173452441567451, 0.4689213390306115], \"type\": \"scatter\", \"name\": \"right and cue_red and wm_red\"}, {\"x\": [0, 1, 2, 3, 4, 5, 6, 7, 8, 9, 10, 11, 12, 13, 14], \"y\": [0.8229976179423178, 0.6888729176950197, 0.7642984204192104, 0.6746249061388635, 0.6025632323734722, 0.7288752965881904, 0.8229719735042105, 1.0777392085667292, 0.9863635629360158, 0.7147923567665585, 0.7158296150534879, 0.8534162441722353, 0.7411478008562394, 0.6427461058455765, 0.6903291191343875], \"type\": \"scatter\", \"name\": \"left and cue_green and wm_green\"}, {\"x\": [0, 1, 2, 3, 4, 5, 6, 7, 8, 9, 10, 11, 12, 13, 14], \"y\": [0.8564351776562986, 0.6225803170020401, 0.8210148604007338, 0.7383233857043008, 0.670386799288677, 0.779753733825227, 0.8487368241890748, 1.009277921416762, 1.0121896714531016, 0.7497718009153732, 0.6999658842423352, 0.8924575902839291, 0.6121711358298187, 0.5976779660834435, 0.6318935784642068], \"type\": \"scatter\", \"name\": \"right and cue_green and wm_green\"}], {}, {\"showLink\": true, \"linkText\": \"Export to plot.ly\"})});</script>"
      ],
      "text/vnd.plotly.v1+html": [
       "<div id=\"58f6b236-7873-4f09-b13d-882f7d256357\" style=\"height: 525px; width: 100%;\" class=\"plotly-graph-div\"></div><script type=\"text/javascript\">require([\"plotly\"], function(Plotly) { window.PLOTLYENV=window.PLOTLYENV || {};window.PLOTLYENV.BASE_URL=\"https://plot.ly\";Plotly.newPlot(\"58f6b236-7873-4f09-b13d-882f7d256357\", [{\"x\": [0, 1, 2, 3, 4, 5, 6, 7, 8, 9, 10, 11, 12, 13, 14], \"y\": [1.0009662944222195, 0.46523138296446254, 0.25463140634080295, 0.16753329718384302, 0.11429771279988343, 0.0898470873946402, 0.07616553902456447, 0.06627258035931183, 0.07405657681480193, 0.08742304411234691, 0.0783317600211092, 0.0668933013550892, 0.06987515961476265, 0.06431737907347457, 0.4550318132632909], \"type\": \"scatter\", \"name\": \"left and cue_red and wm_red\"}, {\"x\": [0, 1, 2, 3, 4, 5, 6, 7, 8, 9, 10, 11, 12, 13, 14], \"y\": [0.9229090085421254, 0.4006602997411608, 0.20962488199825524, 0.15916005326728655, 0.10411942214056924, 0.0861060760317065, 0.07377664490971592, 0.07697166932651256, 0.07935563254927414, 0.08267583916287113, 0.07693031700640929, 0.06899787247178613, 0.06776388250828114, 0.06173452441567451, 0.4689213390306115], \"type\": \"scatter\", \"name\": \"right and cue_red and wm_red\"}, {\"x\": [0, 1, 2, 3, 4, 5, 6, 7, 8, 9, 10, 11, 12, 13, 14], \"y\": [0.8229976179423178, 0.6888729176950197, 0.7642984204192104, 0.6746249061388635, 0.6025632323734722, 0.7288752965881904, 0.8229719735042105, 1.0777392085667292, 0.9863635629360158, 0.7147923567665585, 0.7158296150534879, 0.8534162441722353, 0.7411478008562394, 0.6427461058455765, 0.6903291191343875], \"type\": \"scatter\", \"name\": \"left and cue_green and wm_green\"}, {\"x\": [0, 1, 2, 3, 4, 5, 6, 7, 8, 9, 10, 11, 12, 13, 14], \"y\": [0.8564351776562986, 0.6225803170020401, 0.8210148604007338, 0.7383233857043008, 0.670386799288677, 0.779753733825227, 0.8487368241890748, 1.009277921416762, 1.0121896714531016, 0.7497718009153732, 0.6999658842423352, 0.8924575902839291, 0.6121711358298187, 0.5976779660834435, 0.6318935784642068], \"type\": \"scatter\", \"name\": \"right and cue_green and wm_green\"}], {}, {\"showLink\": true, \"linkText\": \"Export to plot.ly\"})});</script>"
      ]
     },
     "metadata": {},
     "output_type": "display_data"
    },
    {
     "data": {
      "application/vnd.plotly.v1+json": {
       "data": [
        {
         "name": "left and cue_red and wm_red",
         "type": "scatter",
         "x": [
          0,
          1,
          2,
          3,
          4,
          5,
          6,
          7,
          8,
          9,
          10,
          11,
          12,
          13,
          14
         ],
         "y": [
          0.9993980742787028,
          0.46007909337169717,
          0.2470486388763098,
          0.15865226936918586,
          0.11726902696048147,
          0.09077750023665454,
          0.07235993081940273,
          0.06281379269226406,
          0.0729018266865209,
          0.08366915486444149,
          0.07160648518019641,
          0.07484708833287956,
          0.06978039178902717,
          0.059059720029176255,
          0.4081148109512094
         ]
        },
        {
         "name": "right and cue_red and wm_red",
         "type": "scatter",
         "x": [
          0,
          1,
          2,
          3,
          4,
          5,
          6,
          7,
          8,
          9,
          10,
          11,
          12,
          13,
          14
         ],
         "y": [
          0.924129161893726,
          0.40127775374868546,
          0.2103991118995573,
          0.15001620569877616,
          0.10457504099986914,
          0.07927540096677599,
          0.07299900231441203,
          0.08147434910452889,
          0.0654413562130074,
          0.08674678740970454,
          0.0669530873573001,
          0.06815839127216561,
          0.06458213348384922,
          0.05737394303607313,
          0.4580815394305471
         ]
        },
        {
         "name": "left and cue_green and wm_green",
         "type": "scatter",
         "x": [
          0,
          1,
          2,
          3,
          4,
          5,
          6,
          7,
          8,
          9,
          10,
          11,
          12,
          13,
          14
         ],
         "y": [
          0.8114401940953172,
          0.6170668651190849,
          0.773319249759329,
          0.6776219336784244,
          0.6008139088259844,
          0.7224659826289762,
          0.7556898204224332,
          1.0811731674951472,
          0.9836819322433697,
          0.6335538010925691,
          0.6625837700976852,
          0.7763531245518508,
          0.7421864930857648,
          0.5861847398933842,
          0.6908806795591647
         ]
        },
        {
         "name": "right and cue_green and wm_green",
         "type": "scatter",
         "x": [
          0,
          1,
          2,
          3,
          4,
          5,
          6,
          7,
          8,
          9,
          10,
          11,
          12,
          13,
          14
         ],
         "y": [
          0.8627912532911026,
          0.6143917917372421,
          0.7400693474311024,
          0.7301681606264141,
          0.6086163259748893,
          0.7253027981566235,
          0.8192866469559038,
          1.005148220493014,
          1.0071964400357434,
          0.6207852476788657,
          0.69608710409741,
          0.8077603667585576,
          0.6115178657834145,
          0.5998752222268128,
          0.6331755733838047
         ]
        }
       ],
       "layout": {}
      },
      "text/html": [
       "<div id=\"83fe58c6-ca47-43e4-a91b-d9a05db56dce\" style=\"height: 525px; width: 100%;\" class=\"plotly-graph-div\"></div><script type=\"text/javascript\">require([\"plotly\"], function(Plotly) { window.PLOTLYENV=window.PLOTLYENV || {};window.PLOTLYENV.BASE_URL=\"https://plot.ly\";Plotly.newPlot(\"83fe58c6-ca47-43e4-a91b-d9a05db56dce\", [{\"x\": [0, 1, 2, 3, 4, 5, 6, 7, 8, 9, 10, 11, 12, 13, 14], \"y\": [0.9993980742787028, 0.46007909337169717, 0.2470486388763098, 0.15865226936918586, 0.11726902696048147, 0.09077750023665454, 0.07235993081940273, 0.06281379269226406, 0.0729018266865209, 0.08366915486444149, 0.07160648518019641, 0.07484708833287956, 0.06978039178902717, 0.059059720029176255, 0.4081148109512094], \"type\": \"scatter\", \"name\": \"left and cue_red and wm_red\"}, {\"x\": [0, 1, 2, 3, 4, 5, 6, 7, 8, 9, 10, 11, 12, 13, 14], \"y\": [0.924129161893726, 0.40127775374868546, 0.2103991118995573, 0.15001620569877616, 0.10457504099986914, 0.07927540096677599, 0.07299900231441203, 0.08147434910452889, 0.0654413562130074, 0.08674678740970454, 0.0669530873573001, 0.06815839127216561, 0.06458213348384922, 0.05737394303607313, 0.4580815394305471], \"type\": \"scatter\", \"name\": \"right and cue_red and wm_red\"}, {\"x\": [0, 1, 2, 3, 4, 5, 6, 7, 8, 9, 10, 11, 12, 13, 14], \"y\": [0.8114401940953172, 0.6170668651190849, 0.773319249759329, 0.6776219336784244, 0.6008139088259844, 0.7224659826289762, 0.7556898204224332, 1.0811731674951472, 0.9836819322433697, 0.6335538010925691, 0.6625837700976852, 0.7763531245518508, 0.7421864930857648, 0.5861847398933842, 0.6908806795591647], \"type\": \"scatter\", \"name\": \"left and cue_green and wm_green\"}, {\"x\": [0, 1, 2, 3, 4, 5, 6, 7, 8, 9, 10, 11, 12, 13, 14], \"y\": [0.8627912532911026, 0.6143917917372421, 0.7400693474311024, 0.7301681606264141, 0.6086163259748893, 0.7253027981566235, 0.8192866469559038, 1.005148220493014, 1.0071964400357434, 0.6207852476788657, 0.69608710409741, 0.8077603667585576, 0.6115178657834145, 0.5998752222268128, 0.6331755733838047], \"type\": \"scatter\", \"name\": \"right and cue_green and wm_green\"}], {}, {\"showLink\": true, \"linkText\": \"Export to plot.ly\"})});</script>"
      ],
      "text/vnd.plotly.v1+html": [
       "<div id=\"83fe58c6-ca47-43e4-a91b-d9a05db56dce\" style=\"height: 525px; width: 100%;\" class=\"plotly-graph-div\"></div><script type=\"text/javascript\">require([\"plotly\"], function(Plotly) { window.PLOTLYENV=window.PLOTLYENV || {};window.PLOTLYENV.BASE_URL=\"https://plot.ly\";Plotly.newPlot(\"83fe58c6-ca47-43e4-a91b-d9a05db56dce\", [{\"x\": [0, 1, 2, 3, 4, 5, 6, 7, 8, 9, 10, 11, 12, 13, 14], \"y\": [0.9993980742787028, 0.46007909337169717, 0.2470486388763098, 0.15865226936918586, 0.11726902696048147, 0.09077750023665454, 0.07235993081940273, 0.06281379269226406, 0.0729018266865209, 0.08366915486444149, 0.07160648518019641, 0.07484708833287956, 0.06978039178902717, 0.059059720029176255, 0.4081148109512094], \"type\": \"scatter\", \"name\": \"left and cue_red and wm_red\"}, {\"x\": [0, 1, 2, 3, 4, 5, 6, 7, 8, 9, 10, 11, 12, 13, 14], \"y\": [0.924129161893726, 0.40127775374868546, 0.2103991118995573, 0.15001620569877616, 0.10457504099986914, 0.07927540096677599, 0.07299900231441203, 0.08147434910452889, 0.0654413562130074, 0.08674678740970454, 0.0669530873573001, 0.06815839127216561, 0.06458213348384922, 0.05737394303607313, 0.4580815394305471], \"type\": \"scatter\", \"name\": \"right and cue_red and wm_red\"}, {\"x\": [0, 1, 2, 3, 4, 5, 6, 7, 8, 9, 10, 11, 12, 13, 14], \"y\": [0.8114401940953172, 0.6170668651190849, 0.773319249759329, 0.6776219336784244, 0.6008139088259844, 0.7224659826289762, 0.7556898204224332, 1.0811731674951472, 0.9836819322433697, 0.6335538010925691, 0.6625837700976852, 0.7763531245518508, 0.7421864930857648, 0.5861847398933842, 0.6908806795591647], \"type\": \"scatter\", \"name\": \"left and cue_green and wm_green\"}, {\"x\": [0, 1, 2, 3, 4, 5, 6, 7, 8, 9, 10, 11, 12, 13, 14], \"y\": [0.8627912532911026, 0.6143917917372421, 0.7400693474311024, 0.7301681606264141, 0.6086163259748893, 0.7253027981566235, 0.8192866469559038, 1.005148220493014, 1.0071964400357434, 0.6207852476788657, 0.69608710409741, 0.8077603667585576, 0.6115178657834145, 0.5998752222268128, 0.6331755733838047], \"type\": \"scatter\", \"name\": \"right and cue_green and wm_green\"}], {}, {\"showLink\": true, \"linkText\": \"Export to plot.ly\"})});</script>"
      ]
     },
     "metadata": {},
     "output_type": "display_data"
    },
    {
     "data": {
      "application/vnd.plotly.v1+json": {
       "data": [
        {
         "name": "left and cue_red and wm_red",
         "type": "scatter",
         "x": [
          0,
          1,
          2,
          3,
          4,
          5,
          6,
          7,
          8,
          9,
          10,
          11,
          12,
          13,
          14
         ],
         "y": [
          1.0031639725829606,
          0.4620186895216437,
          0.2398600784244913,
          0.157878874424752,
          0.11954105897829392,
          0.09587214440041747,
          0.07384006452857894,
          0.0671596294820671,
          0.08053373169601397,
          0.07838669849682145,
          0.07246192748041469,
          0.07019841514620462,
          0.06428000703024672,
          0.06127498385921992,
          0.294442069361331
         ]
        },
        {
         "name": "right and cue_red and wm_red",
         "type": "scatter",
         "x": [
          0,
          1,
          2,
          3,
          4,
          5,
          6,
          7,
          8,
          9,
          10,
          11,
          12,
          13,
          14
         ],
         "y": [
          0.9324272660536788,
          0.37181328476940545,
          0.2084640929717141,
          0.13549310068022902,
          0.1051916393467831,
          0.08373071941254495,
          0.07248075875984905,
          0.08166703488500793,
          0.06336040691560796,
          0.07673723721494563,
          0.06553855001052578,
          0.06937999504589931,
          0.06073747327735568,
          0.054929133612997005,
          0.4672152190969737
         ]
        },
        {
         "name": "left and cue_green and wm_green",
         "type": "scatter",
         "x": [
          0,
          1,
          2,
          3,
          4,
          5,
          6,
          7,
          8,
          9,
          10,
          11,
          12,
          13,
          14
         ],
         "y": [
          0.8101953591502566,
          0.6186296143874724,
          0.6945509124001497,
          0.545248494072267,
          0.6062190588322842,
          0.7167597400907989,
          0.7568065653707234,
          1.0682856983964615,
          0.9932513690156058,
          0.588910026455884,
          0.669973469617738,
          0.7815287486663205,
          0.7486244589116113,
          0.5961793471722501,
          0.5545638137704405
         ]
        },
        {
         "name": "right and cue_green and wm_green",
         "type": "scatter",
         "x": [
          0,
          1,
          2,
          3,
          4,
          5,
          6,
          7,
          8,
          9,
          10,
          11,
          12,
          13,
          14
         ],
         "y": [
          0.8584180755473331,
          0.600028890329414,
          0.7399954444504626,
          0.5192665504917738,
          0.6176092634418149,
          0.7214463211883242,
          0.7890534619865388,
          1.0063380072067238,
          0.9160826980316742,
          0.5696348157952521,
          0.6254607298577353,
          0.72539271828798,
          0.6089634196677016,
          0.5999605804631175,
          0.5715153565697453
         ]
        }
       ],
       "layout": {}
      },
      "text/html": [
       "<div id=\"3f92371a-39ff-4191-bbf6-a1d744ce510d\" style=\"height: 525px; width: 100%;\" class=\"plotly-graph-div\"></div><script type=\"text/javascript\">require([\"plotly\"], function(Plotly) { window.PLOTLYENV=window.PLOTLYENV || {};window.PLOTLYENV.BASE_URL=\"https://plot.ly\";Plotly.newPlot(\"3f92371a-39ff-4191-bbf6-a1d744ce510d\", [{\"x\": [0, 1, 2, 3, 4, 5, 6, 7, 8, 9, 10, 11, 12, 13, 14], \"y\": [1.0031639725829606, 0.4620186895216437, 0.2398600784244913, 0.157878874424752, 0.11954105897829392, 0.09587214440041747, 0.07384006452857894, 0.0671596294820671, 0.08053373169601397, 0.07838669849682145, 0.07246192748041469, 0.07019841514620462, 0.06428000703024672, 0.06127498385921992, 0.294442069361331], \"type\": \"scatter\", \"name\": \"left and cue_red and wm_red\"}, {\"x\": [0, 1, 2, 3, 4, 5, 6, 7, 8, 9, 10, 11, 12, 13, 14], \"y\": [0.9324272660536788, 0.37181328476940545, 0.2084640929717141, 0.13549310068022902, 0.1051916393467831, 0.08373071941254495, 0.07248075875984905, 0.08166703488500793, 0.06336040691560796, 0.07673723721494563, 0.06553855001052578, 0.06937999504589931, 0.06073747327735568, 0.054929133612997005, 0.4672152190969737], \"type\": \"scatter\", \"name\": \"right and cue_red and wm_red\"}, {\"x\": [0, 1, 2, 3, 4, 5, 6, 7, 8, 9, 10, 11, 12, 13, 14], \"y\": [0.8101953591502566, 0.6186296143874724, 0.6945509124001497, 0.545248494072267, 0.6062190588322842, 0.7167597400907989, 0.7568065653707234, 1.0682856983964615, 0.9932513690156058, 0.588910026455884, 0.669973469617738, 0.7815287486663205, 0.7486244589116113, 0.5961793471722501, 0.5545638137704405], \"type\": \"scatter\", \"name\": \"left and cue_green and wm_green\"}, {\"x\": [0, 1, 2, 3, 4, 5, 6, 7, 8, 9, 10, 11, 12, 13, 14], \"y\": [0.8584180755473331, 0.600028890329414, 0.7399954444504626, 0.5192665504917738, 0.6176092634418149, 0.7214463211883242, 0.7890534619865388, 1.0063380072067238, 0.9160826980316742, 0.5696348157952521, 0.6254607298577353, 0.72539271828798, 0.6089634196677016, 0.5999605804631175, 0.5715153565697453], \"type\": \"scatter\", \"name\": \"right and cue_green and wm_green\"}], {}, {\"showLink\": true, \"linkText\": \"Export to plot.ly\"})});</script>"
      ],
      "text/vnd.plotly.v1+html": [
       "<div id=\"3f92371a-39ff-4191-bbf6-a1d744ce510d\" style=\"height: 525px; width: 100%;\" class=\"plotly-graph-div\"></div><script type=\"text/javascript\">require([\"plotly\"], function(Plotly) { window.PLOTLYENV=window.PLOTLYENV || {};window.PLOTLYENV.BASE_URL=\"https://plot.ly\";Plotly.newPlot(\"3f92371a-39ff-4191-bbf6-a1d744ce510d\", [{\"x\": [0, 1, 2, 3, 4, 5, 6, 7, 8, 9, 10, 11, 12, 13, 14], \"y\": [1.0031639725829606, 0.4620186895216437, 0.2398600784244913, 0.157878874424752, 0.11954105897829392, 0.09587214440041747, 0.07384006452857894, 0.0671596294820671, 0.08053373169601397, 0.07838669849682145, 0.07246192748041469, 0.07019841514620462, 0.06428000703024672, 0.06127498385921992, 0.294442069361331], \"type\": \"scatter\", \"name\": \"left and cue_red and wm_red\"}, {\"x\": [0, 1, 2, 3, 4, 5, 6, 7, 8, 9, 10, 11, 12, 13, 14], \"y\": [0.9324272660536788, 0.37181328476940545, 0.2084640929717141, 0.13549310068022902, 0.1051916393467831, 0.08373071941254495, 0.07248075875984905, 0.08166703488500793, 0.06336040691560796, 0.07673723721494563, 0.06553855001052578, 0.06937999504589931, 0.06073747327735568, 0.054929133612997005, 0.4672152190969737], \"type\": \"scatter\", \"name\": \"right and cue_red and wm_red\"}, {\"x\": [0, 1, 2, 3, 4, 5, 6, 7, 8, 9, 10, 11, 12, 13, 14], \"y\": [0.8101953591502566, 0.6186296143874724, 0.6945509124001497, 0.545248494072267, 0.6062190588322842, 0.7167597400907989, 0.7568065653707234, 1.0682856983964615, 0.9932513690156058, 0.588910026455884, 0.669973469617738, 0.7815287486663205, 0.7486244589116113, 0.5961793471722501, 0.5545638137704405], \"type\": \"scatter\", \"name\": \"left and cue_green and wm_green\"}, {\"x\": [0, 1, 2, 3, 4, 5, 6, 7, 8, 9, 10, 11, 12, 13, 14], \"y\": [0.8584180755473331, 0.600028890329414, 0.7399954444504626, 0.5192665504917738, 0.6176092634418149, 0.7214463211883242, 0.7890534619865388, 1.0063380072067238, 0.9160826980316742, 0.5696348157952521, 0.6254607298577353, 0.72539271828798, 0.6089634196677016, 0.5999605804631175, 0.5715153565697453], \"type\": \"scatter\", \"name\": \"right and cue_green and wm_green\"}], {}, {\"showLink\": true, \"linkText\": \"Export to plot.ly\"})});</script>"
      ]
     },
     "metadata": {},
     "output_type": "display_data"
    },
    {
     "data": {
      "application/vnd.plotly.v1+json": {
       "data": [
        {
         "name": "left and cue_red and wm_red",
         "type": "scatter",
         "x": [
          0,
          1,
          2,
          3,
          4,
          5,
          6,
          7,
          8,
          9,
          10,
          11,
          12,
          13,
          14
         ],
         "y": [
          0.9993443959645069,
          0.4696595922314968,
          0.2642783728581791,
          0.16470212019462305,
          0.11271560688421411,
          0.09846987644848892,
          0.07708948302395535,
          0.06331005884381291,
          0.07058361620721976,
          0.08151426095430903,
          0.08229938509666779,
          0.07478906516461303,
          0.07164632883191036,
          0.05506289280248722,
          0.29563416032351897
         ]
        },
        {
         "name": "right and cue_red and wm_red",
         "type": "scatter",
         "x": [
          0,
          1,
          2,
          3,
          4,
          5,
          6,
          7,
          8,
          9,
          10,
          11,
          12,
          13,
          14
         ],
         "y": [
          0.9349755296847647,
          0.3617648030029633,
          0.20645928494003207,
          0.1402391808448138,
          0.10660557399184079,
          0.08511956847023838,
          0.07342056626453952,
          0.07554853518944815,
          0.06564783163313825,
          0.07109588503472497,
          0.06574490436937808,
          0.06717787789753316,
          0.06318263848736838,
          0.06317427830927058,
          0.4699007099610679
         ]
        },
        {
         "name": "left and cue_green and wm_green",
         "type": "scatter",
         "x": [
          0,
          1,
          2,
          3,
          4,
          5,
          6,
          7,
          8,
          9,
          10,
          11,
          12,
          13,
          14
         ],
         "y": [
          0.8060902868444075,
          0.614905538164707,
          0.6920881172317036,
          0.545005636738197,
          0.6079416738660829,
          0.7200674934603668,
          0.754083886235866,
          1.0642804605412919,
          0.9959993226023686,
          0.586955931868042,
          0.6694613769044702,
          0.7868735169360002,
          0.6811423994184245,
          0.6006243452619368,
          0.5510464852734632
         ]
        },
        {
         "name": "right and cue_green and wm_green",
         "type": "scatter",
         "x": [
          0,
          1,
          2,
          3,
          4,
          5,
          6,
          7,
          8,
          9,
          10,
          11,
          12,
          13,
          14
         ],
         "y": [
          0.8606710230750685,
          0.593452536764254,
          0.6685967069968193,
          0.5228497420703324,
          0.6213800462651091,
          0.6480181763149221,
          0.7320440893483652,
          1.0073657432616607,
          0.9101123833240411,
          0.5708898141282364,
          0.6213453957168255,
          0.7263647640717529,
          0.6098457191556066,
          0.6007737205831102,
          0.5121566454208266
         ]
        }
       ],
       "layout": {}
      },
      "text/html": [
       "<div id=\"e5b5131b-a922-4607-9b95-310601362251\" style=\"height: 525px; width: 100%;\" class=\"plotly-graph-div\"></div><script type=\"text/javascript\">require([\"plotly\"], function(Plotly) { window.PLOTLYENV=window.PLOTLYENV || {};window.PLOTLYENV.BASE_URL=\"https://plot.ly\";Plotly.newPlot(\"e5b5131b-a922-4607-9b95-310601362251\", [{\"x\": [0, 1, 2, 3, 4, 5, 6, 7, 8, 9, 10, 11, 12, 13, 14], \"y\": [0.9993443959645069, 0.4696595922314968, 0.2642783728581791, 0.16470212019462305, 0.11271560688421411, 0.09846987644848892, 0.07708948302395535, 0.06331005884381291, 0.07058361620721976, 0.08151426095430903, 0.08229938509666779, 0.07478906516461303, 0.07164632883191036, 0.05506289280248722, 0.29563416032351897], \"type\": \"scatter\", \"name\": \"left and cue_red and wm_red\"}, {\"x\": [0, 1, 2, 3, 4, 5, 6, 7, 8, 9, 10, 11, 12, 13, 14], \"y\": [0.9349755296847647, 0.3617648030029633, 0.20645928494003207, 0.1402391808448138, 0.10660557399184079, 0.08511956847023838, 0.07342056626453952, 0.07554853518944815, 0.06564783163313825, 0.07109588503472497, 0.06574490436937808, 0.06717787789753316, 0.06318263848736838, 0.06317427830927058, 0.4699007099610679], \"type\": \"scatter\", \"name\": \"right and cue_red and wm_red\"}, {\"x\": [0, 1, 2, 3, 4, 5, 6, 7, 8, 9, 10, 11, 12, 13, 14], \"y\": [0.8060902868444075, 0.614905538164707, 0.6920881172317036, 0.545005636738197, 0.6079416738660829, 0.7200674934603668, 0.754083886235866, 1.0642804605412919, 0.9959993226023686, 0.586955931868042, 0.6694613769044702, 0.7868735169360002, 0.6811423994184245, 0.6006243452619368, 0.5510464852734632], \"type\": \"scatter\", \"name\": \"left and cue_green and wm_green\"}, {\"x\": [0, 1, 2, 3, 4, 5, 6, 7, 8, 9, 10, 11, 12, 13, 14], \"y\": [0.8606710230750685, 0.593452536764254, 0.6685967069968193, 0.5228497420703324, 0.6213800462651091, 0.6480181763149221, 0.7320440893483652, 1.0073657432616607, 0.9101123833240411, 0.5708898141282364, 0.6213453957168255, 0.7263647640717529, 0.6098457191556066, 0.6007737205831102, 0.5121566454208266], \"type\": \"scatter\", \"name\": \"right and cue_green and wm_green\"}], {}, {\"showLink\": true, \"linkText\": \"Export to plot.ly\"})});</script>"
      ],
      "text/vnd.plotly.v1+html": [
       "<div id=\"e5b5131b-a922-4607-9b95-310601362251\" style=\"height: 525px; width: 100%;\" class=\"plotly-graph-div\"></div><script type=\"text/javascript\">require([\"plotly\"], function(Plotly) { window.PLOTLYENV=window.PLOTLYENV || {};window.PLOTLYENV.BASE_URL=\"https://plot.ly\";Plotly.newPlot(\"e5b5131b-a922-4607-9b95-310601362251\", [{\"x\": [0, 1, 2, 3, 4, 5, 6, 7, 8, 9, 10, 11, 12, 13, 14], \"y\": [0.9993443959645069, 0.4696595922314968, 0.2642783728581791, 0.16470212019462305, 0.11271560688421411, 0.09846987644848892, 0.07708948302395535, 0.06331005884381291, 0.07058361620721976, 0.08151426095430903, 0.08229938509666779, 0.07478906516461303, 0.07164632883191036, 0.05506289280248722, 0.29563416032351897], \"type\": \"scatter\", \"name\": \"left and cue_red and wm_red\"}, {\"x\": [0, 1, 2, 3, 4, 5, 6, 7, 8, 9, 10, 11, 12, 13, 14], \"y\": [0.9349755296847647, 0.3617648030029633, 0.20645928494003207, 0.1402391808448138, 0.10660557399184079, 0.08511956847023838, 0.07342056626453952, 0.07554853518944815, 0.06564783163313825, 0.07109588503472497, 0.06574490436937808, 0.06717787789753316, 0.06318263848736838, 0.06317427830927058, 0.4699007099610679], \"type\": \"scatter\", \"name\": \"right and cue_red and wm_red\"}, {\"x\": [0, 1, 2, 3, 4, 5, 6, 7, 8, 9, 10, 11, 12, 13, 14], \"y\": [0.8060902868444075, 0.614905538164707, 0.6920881172317036, 0.545005636738197, 0.6079416738660829, 0.7200674934603668, 0.754083886235866, 1.0642804605412919, 0.9959993226023686, 0.586955931868042, 0.6694613769044702, 0.7868735169360002, 0.6811423994184245, 0.6006243452619368, 0.5510464852734632], \"type\": \"scatter\", \"name\": \"left and cue_green and wm_green\"}, {\"x\": [0, 1, 2, 3, 4, 5, 6, 7, 8, 9, 10, 11, 12, 13, 14], \"y\": [0.8606710230750685, 0.593452536764254, 0.6685967069968193, 0.5228497420703324, 0.6213800462651091, 0.6480181763149221, 0.7320440893483652, 1.0073657432616607, 0.9101123833240411, 0.5708898141282364, 0.6213453957168255, 0.7263647640717529, 0.6098457191556066, 0.6007737205831102, 0.5121566454208266], \"type\": \"scatter\", \"name\": \"right and cue_green and wm_green\"}], {}, {\"showLink\": true, \"linkText\": \"Export to plot.ly\"})});</script>"
      ]
     },
     "metadata": {},
     "output_type": "display_data"
    },
    {
     "data": {
      "application/vnd.plotly.v1+json": {
       "data": [
        {
         "name": "left and cue_red and wm_red",
         "type": "scatter",
         "x": [
          0,
          1,
          2,
          3,
          4,
          5,
          6,
          7,
          8,
          9,
          10,
          11,
          12,
          13,
          14
         ],
         "y": [
          1.0008172597480205,
          0.46670681888895127,
          0.25734164370979373,
          0.16270769990323508,
          0.12397467196166478,
          0.09149459080440403,
          0.08072725534545733,
          0.06645465575733922,
          0.07912216753975909,
          0.07957357540505428,
          0.0824618425187289,
          0.07224642066001652,
          0.07117218892742616,
          0.05708118558143627,
          0.26556415685244505
         ]
        },
        {
         "name": "right and cue_red and wm_red",
         "type": "scatter",
         "x": [
          0,
          1,
          2,
          3,
          4,
          5,
          6,
          7,
          8,
          9,
          10,
          11,
          12,
          13,
          14
         ],
         "y": [
          0.9352564869937003,
          0.3600825942576633,
          0.20057879430874315,
          0.1450715683963283,
          0.10509829282871297,
          0.08368090487624491,
          0.07951983036505805,
          0.07273670778865637,
          0.06337104777556068,
          0.0733836471983128,
          0.06979601166359917,
          0.06817016546379917,
          0.06381055966573423,
          0.09520020022547537,
          0.46671760427751685
         ]
        },
        {
         "name": "left and cue_green and wm_green",
         "type": "scatter",
         "x": [
          0,
          1,
          2,
          3,
          4,
          5,
          6,
          7,
          8,
          9,
          10,
          11,
          12,
          13,
          14
         ],
         "y": [
          0.7283367452360565,
          0.5520349609981725,
          0.6193441055666329,
          0.48784500568230227,
          0.6087122535869794,
          0.7166070327208416,
          0.7488160154192515,
          1.0520034001928011,
          0.9943342196857246,
          0.5498088590805159,
          0.6264167622978261,
          0.72041675553449,
          0.6183912284872985,
          0.5471404125876758,
          0.5572259888884848
         ]
        },
        {
         "name": "right and cue_green and wm_green",
         "type": "scatter",
         "x": [
          0,
          1,
          2,
          3,
          4,
          5,
          6,
          7,
          8,
          9,
          10,
          11,
          12,
          13,
          14
         ],
         "y": [
          0.7733330657871225,
          0.5896895694842877,
          0.6660318872997413,
          0.5236880506133537,
          0.6272723840591521,
          0.6405608547601264,
          0.7316514783226483,
          1.0043861711448239,
          0.9103554011087069,
          0.5252494338114814,
          0.6195055873907035,
          0.7305759542548792,
          0.6066508462393813,
          0.5942293531564133,
          0.5155715543512166
         ]
        }
       ],
       "layout": {}
      },
      "text/html": [
       "<div id=\"4915c455-0473-4ea2-b52d-535d6816ff27\" style=\"height: 525px; width: 100%;\" class=\"plotly-graph-div\"></div><script type=\"text/javascript\">require([\"plotly\"], function(Plotly) { window.PLOTLYENV=window.PLOTLYENV || {};window.PLOTLYENV.BASE_URL=\"https://plot.ly\";Plotly.newPlot(\"4915c455-0473-4ea2-b52d-535d6816ff27\", [{\"x\": [0, 1, 2, 3, 4, 5, 6, 7, 8, 9, 10, 11, 12, 13, 14], \"y\": [1.0008172597480205, 0.46670681888895127, 0.25734164370979373, 0.16270769990323508, 0.12397467196166478, 0.09149459080440403, 0.08072725534545733, 0.06645465575733922, 0.07912216753975909, 0.07957357540505428, 0.0824618425187289, 0.07224642066001652, 0.07117218892742616, 0.05708118558143627, 0.26556415685244505], \"type\": \"scatter\", \"name\": \"left and cue_red and wm_red\"}, {\"x\": [0, 1, 2, 3, 4, 5, 6, 7, 8, 9, 10, 11, 12, 13, 14], \"y\": [0.9352564869937003, 0.3600825942576633, 0.20057879430874315, 0.1450715683963283, 0.10509829282871297, 0.08368090487624491, 0.07951983036505805, 0.07273670778865637, 0.06337104777556068, 0.0733836471983128, 0.06979601166359917, 0.06817016546379917, 0.06381055966573423, 0.09520020022547537, 0.46671760427751685], \"type\": \"scatter\", \"name\": \"right and cue_red and wm_red\"}, {\"x\": [0, 1, 2, 3, 4, 5, 6, 7, 8, 9, 10, 11, 12, 13, 14], \"y\": [0.7283367452360565, 0.5520349609981725, 0.6193441055666329, 0.48784500568230227, 0.6087122535869794, 0.7166070327208416, 0.7488160154192515, 1.0520034001928011, 0.9943342196857246, 0.5498088590805159, 0.6264167622978261, 0.72041675553449, 0.6183912284872985, 0.5471404125876758, 0.5572259888884848], \"type\": \"scatter\", \"name\": \"left and cue_green and wm_green\"}, {\"x\": [0, 1, 2, 3, 4, 5, 6, 7, 8, 9, 10, 11, 12, 13, 14], \"y\": [0.7733330657871225, 0.5896895694842877, 0.6660318872997413, 0.5236880506133537, 0.6272723840591521, 0.6405608547601264, 0.7316514783226483, 1.0043861711448239, 0.9103554011087069, 0.5252494338114814, 0.6195055873907035, 0.7305759542548792, 0.6066508462393813, 0.5942293531564133, 0.5155715543512166], \"type\": \"scatter\", \"name\": \"right and cue_green and wm_green\"}], {}, {\"showLink\": true, \"linkText\": \"Export to plot.ly\"})});</script>"
      ],
      "text/vnd.plotly.v1+html": [
       "<div id=\"4915c455-0473-4ea2-b52d-535d6816ff27\" style=\"height: 525px; width: 100%;\" class=\"plotly-graph-div\"></div><script type=\"text/javascript\">require([\"plotly\"], function(Plotly) { window.PLOTLYENV=window.PLOTLYENV || {};window.PLOTLYENV.BASE_URL=\"https://plot.ly\";Plotly.newPlot(\"4915c455-0473-4ea2-b52d-535d6816ff27\", [{\"x\": [0, 1, 2, 3, 4, 5, 6, 7, 8, 9, 10, 11, 12, 13, 14], \"y\": [1.0008172597480205, 0.46670681888895127, 0.25734164370979373, 0.16270769990323508, 0.12397467196166478, 0.09149459080440403, 0.08072725534545733, 0.06645465575733922, 0.07912216753975909, 0.07957357540505428, 0.0824618425187289, 0.07224642066001652, 0.07117218892742616, 0.05708118558143627, 0.26556415685244505], \"type\": \"scatter\", \"name\": \"left and cue_red and wm_red\"}, {\"x\": [0, 1, 2, 3, 4, 5, 6, 7, 8, 9, 10, 11, 12, 13, 14], \"y\": [0.9352564869937003, 0.3600825942576633, 0.20057879430874315, 0.1450715683963283, 0.10509829282871297, 0.08368090487624491, 0.07951983036505805, 0.07273670778865637, 0.06337104777556068, 0.0733836471983128, 0.06979601166359917, 0.06817016546379917, 0.06381055966573423, 0.09520020022547537, 0.46671760427751685], \"type\": \"scatter\", \"name\": \"right and cue_red and wm_red\"}, {\"x\": [0, 1, 2, 3, 4, 5, 6, 7, 8, 9, 10, 11, 12, 13, 14], \"y\": [0.7283367452360565, 0.5520349609981725, 0.6193441055666329, 0.48784500568230227, 0.6087122535869794, 0.7166070327208416, 0.7488160154192515, 1.0520034001928011, 0.9943342196857246, 0.5498088590805159, 0.6264167622978261, 0.72041675553449, 0.6183912284872985, 0.5471404125876758, 0.5572259888884848], \"type\": \"scatter\", \"name\": \"left and cue_green and wm_green\"}, {\"x\": [0, 1, 2, 3, 4, 5, 6, 7, 8, 9, 10, 11, 12, 13, 14], \"y\": [0.7733330657871225, 0.5896895694842877, 0.6660318872997413, 0.5236880506133537, 0.6272723840591521, 0.6405608547601264, 0.7316514783226483, 1.0043861711448239, 0.9103554011087069, 0.5252494338114814, 0.6195055873907035, 0.7305759542548792, 0.6066508462393813, 0.5942293531564133, 0.5155715543512166], \"type\": \"scatter\", \"name\": \"right and cue_green and wm_green\"}], {}, {\"showLink\": true, \"linkText\": \"Export to plot.ly\"})});</script>"
      ]
     },
     "metadata": {},
     "output_type": "display_data"
    },
    {
     "data": {
      "application/vnd.plotly.v1+json": {
       "data": [
        {
         "name": "left and cue_red and wm_red",
         "type": "scatter",
         "x": [
          0,
          1,
          2,
          3,
          4,
          5,
          6,
          7,
          8,
          9,
          10,
          11,
          12,
          13,
          14
         ],
         "y": [
          0.9993866203432368,
          0.46182974995665615,
          0.25939881025944866,
          0.1591251451649821,
          0.11505678970835787,
          0.09819445347546263,
          0.07587803973781582,
          0.06559384513172173,
          0.07094072826435327,
          0.077670426335541,
          0.08505103867673824,
          0.08265338497076458,
          0.07205774073904403,
          0.0554594317426329,
          0.21633202288599074
         ]
        },
        {
         "name": "right and cue_red and wm_red",
         "type": "scatter",
         "x": [
          0,
          1,
          2,
          3,
          4,
          5,
          6,
          7,
          8,
          9,
          10,
          11,
          12,
          13,
          14
         ],
         "y": [
          0.9318200530960501,
          0.3349582434659628,
          0.17863832309850514,
          0.14279647015931196,
          0.10089115096724166,
          0.0782379379415381,
          0.06999856895920775,
          0.0762414826735025,
          0.05809406657917804,
          0.07308877056302954,
          0.07628084581474803,
          0.0633234538031211,
          0.06536763573037285,
          0.06960306741143008,
          0.46366789201844805
         ]
        },
        {
         "name": "left and cue_green and wm_green",
         "type": "scatter",
         "x": [
          0,
          1,
          2,
          3,
          4,
          5,
          6,
          7,
          8,
          9,
          10,
          11,
          12,
          13,
          14
         ],
         "y": [
          0.6543609808993324,
          0.5510887766300201,
          0.555671308290089,
          0.48423922338561154,
          0.6082914454024497,
          0.7184281237282834,
          0.6853607788258069,
          1.0512623986730665,
          0.9943833549789945,
          0.5197357506944824,
          0.5765052125983028,
          0.7244538048449284,
          0.558895375891848,
          0.5469661742312599,
          0.5641525270167986
         ]
        },
        {
         "name": "right and cue_green and wm_green",
         "type": "scatter",
         "x": [
          0,
          1,
          2,
          3,
          4,
          5,
          6,
          7,
          8,
          9,
          10,
          11,
          12,
          13,
          14
         ],
         "y": [
          0.6245085010184718,
          0.5898147803923789,
          0.5998555040970746,
          0.5256057555016809,
          0.6362018235470981,
          0.6383946254257691,
          0.7328115179793389,
          1.0036212976744459,
          0.9097749761587616,
          0.5326695719635984,
          0.612220309896016,
          0.7335187015839915,
          0.5494476820003719,
          0.5891686193750503,
          0.518158577921973
         ]
        }
       ],
       "layout": {}
      },
      "text/html": [
       "<div id=\"dbbbfaa4-f29f-4271-9422-5f9e5aaff92b\" style=\"height: 525px; width: 100%;\" class=\"plotly-graph-div\"></div><script type=\"text/javascript\">require([\"plotly\"], function(Plotly) { window.PLOTLYENV=window.PLOTLYENV || {};window.PLOTLYENV.BASE_URL=\"https://plot.ly\";Plotly.newPlot(\"dbbbfaa4-f29f-4271-9422-5f9e5aaff92b\", [{\"x\": [0, 1, 2, 3, 4, 5, 6, 7, 8, 9, 10, 11, 12, 13, 14], \"y\": [0.9993866203432368, 0.46182974995665615, 0.25939881025944866, 0.1591251451649821, 0.11505678970835787, 0.09819445347546263, 0.07587803973781582, 0.06559384513172173, 0.07094072826435327, 0.077670426335541, 0.08505103867673824, 0.08265338497076458, 0.07205774073904403, 0.0554594317426329, 0.21633202288599074], \"type\": \"scatter\", \"name\": \"left and cue_red and wm_red\"}, {\"x\": [0, 1, 2, 3, 4, 5, 6, 7, 8, 9, 10, 11, 12, 13, 14], \"y\": [0.9318200530960501, 0.3349582434659628, 0.17863832309850514, 0.14279647015931196, 0.10089115096724166, 0.0782379379415381, 0.06999856895920775, 0.0762414826735025, 0.05809406657917804, 0.07308877056302954, 0.07628084581474803, 0.0633234538031211, 0.06536763573037285, 0.06960306741143008, 0.46366789201844805], \"type\": \"scatter\", \"name\": \"right and cue_red and wm_red\"}, {\"x\": [0, 1, 2, 3, 4, 5, 6, 7, 8, 9, 10, 11, 12, 13, 14], \"y\": [0.6543609808993324, 0.5510887766300201, 0.555671308290089, 0.48423922338561154, 0.6082914454024497, 0.7184281237282834, 0.6853607788258069, 1.0512623986730665, 0.9943833549789945, 0.5197357506944824, 0.5765052125983028, 0.7244538048449284, 0.558895375891848, 0.5469661742312599, 0.5641525270167986], \"type\": \"scatter\", \"name\": \"left and cue_green and wm_green\"}, {\"x\": [0, 1, 2, 3, 4, 5, 6, 7, 8, 9, 10, 11, 12, 13, 14], \"y\": [0.6245085010184718, 0.5898147803923789, 0.5998555040970746, 0.5256057555016809, 0.6362018235470981, 0.6383946254257691, 0.7328115179793389, 1.0036212976744459, 0.9097749761587616, 0.5326695719635984, 0.612220309896016, 0.7335187015839915, 0.5494476820003719, 0.5891686193750503, 0.518158577921973], \"type\": \"scatter\", \"name\": \"right and cue_green and wm_green\"}], {}, {\"showLink\": true, \"linkText\": \"Export to plot.ly\"})});</script>"
      ],
      "text/vnd.plotly.v1+html": [
       "<div id=\"dbbbfaa4-f29f-4271-9422-5f9e5aaff92b\" style=\"height: 525px; width: 100%;\" class=\"plotly-graph-div\"></div><script type=\"text/javascript\">require([\"plotly\"], function(Plotly) { window.PLOTLYENV=window.PLOTLYENV || {};window.PLOTLYENV.BASE_URL=\"https://plot.ly\";Plotly.newPlot(\"dbbbfaa4-f29f-4271-9422-5f9e5aaff92b\", [{\"x\": [0, 1, 2, 3, 4, 5, 6, 7, 8, 9, 10, 11, 12, 13, 14], \"y\": [0.9993866203432368, 0.46182974995665615, 0.25939881025944866, 0.1591251451649821, 0.11505678970835787, 0.09819445347546263, 0.07587803973781582, 0.06559384513172173, 0.07094072826435327, 0.077670426335541, 0.08505103867673824, 0.08265338497076458, 0.07205774073904403, 0.0554594317426329, 0.21633202288599074], \"type\": \"scatter\", \"name\": \"left and cue_red and wm_red\"}, {\"x\": [0, 1, 2, 3, 4, 5, 6, 7, 8, 9, 10, 11, 12, 13, 14], \"y\": [0.9318200530960501, 0.3349582434659628, 0.17863832309850514, 0.14279647015931196, 0.10089115096724166, 0.0782379379415381, 0.06999856895920775, 0.0762414826735025, 0.05809406657917804, 0.07308877056302954, 0.07628084581474803, 0.0633234538031211, 0.06536763573037285, 0.06960306741143008, 0.46366789201844805], \"type\": \"scatter\", \"name\": \"right and cue_red and wm_red\"}, {\"x\": [0, 1, 2, 3, 4, 5, 6, 7, 8, 9, 10, 11, 12, 13, 14], \"y\": [0.6543609808993324, 0.5510887766300201, 0.555671308290089, 0.48423922338561154, 0.6082914454024497, 0.7184281237282834, 0.6853607788258069, 1.0512623986730665, 0.9943833549789945, 0.5197357506944824, 0.5765052125983028, 0.7244538048449284, 0.558895375891848, 0.5469661742312599, 0.5641525270167986], \"type\": \"scatter\", \"name\": \"left and cue_green and wm_green\"}, {\"x\": [0, 1, 2, 3, 4, 5, 6, 7, 8, 9, 10, 11, 12, 13, 14], \"y\": [0.6245085010184718, 0.5898147803923789, 0.5998555040970746, 0.5256057555016809, 0.6362018235470981, 0.6383946254257691, 0.7328115179793389, 1.0036212976744459, 0.9097749761587616, 0.5326695719635984, 0.612220309896016, 0.7335187015839915, 0.5494476820003719, 0.5891686193750503, 0.518158577921973], \"type\": \"scatter\", \"name\": \"right and cue_green and wm_green\"}], {}, {\"showLink\": true, \"linkText\": \"Export to plot.ly\"})});</script>"
      ]
     },
     "metadata": {},
     "output_type": "display_data"
    },
    {
     "data": {
      "application/vnd.plotly.v1+json": {
       "data": [
        {
         "name": "left and cue_red and wm_red",
         "type": "scatter",
         "x": [
          0,
          1,
          2,
          3,
          4,
          5,
          6,
          7,
          8,
          9,
          10,
          11,
          12,
          13,
          14
         ],
         "y": [
          1.0015478804152158,
          0.46325129492976247,
          0.25875801490104866,
          0.14875434423399736,
          0.11329571995006771,
          0.0904083364774223,
          0.07278310909254126,
          0.06631786294714148,
          0.06959263104878421,
          0.0734052019858199,
          0.08437207751854381,
          0.07290053831230336,
          0.06551514695355398,
          0.05935656145298074,
          0.21270103549771835
         ]
        },
        {
         "name": "right and cue_red and wm_red",
         "type": "scatter",
         "x": [
          0,
          1,
          2,
          3,
          4,
          5,
          6,
          7,
          8,
          9,
          10,
          11,
          12,
          13,
          14
         ],
         "y": [
          0.9350363575731009,
          0.2958432905575088,
          0.17135210659099298,
          0.12747438538582323,
          0.09980073910903964,
          0.07514421063154542,
          0.07705084043684285,
          0.07625191379642793,
          0.06266784029145933,
          0.06599202415101668,
          0.07216669102053763,
          0.06492463363085743,
          0.060426269155019696,
          0.05913321766087565,
          0.4719779843764489
         ]
        },
        {
         "name": "left and cue_green and wm_green",
         "type": "scatter",
         "x": [
          0,
          1,
          2,
          3,
          4,
          5,
          6,
          7,
          8,
          9,
          10,
          11,
          12,
          13,
          14
         ],
         "y": [
          0.5268028537565032,
          0.49878772281109884,
          0.554161246949534,
          0.48685840130995706,
          0.5511960833475869,
          0.6654561125271817,
          0.6790197083907501,
          1.0359918585484218,
          0.9873191946763596,
          0.45895258828010443,
          0.5840571078916768,
          0.732324711959615,
          0.502748700478745,
          0.49466976264188167,
          0.5074849091566025
         ]
        },
        {
         "name": "right and cue_green and wm_green",
         "type": "scatter",
         "x": [
          0,
          1,
          2,
          3,
          4,
          5,
          6,
          7,
          8,
          9,
          10,
          11,
          12,
          13,
          14
         ],
         "y": [
          0.55368943644964,
          0.5232539733050325,
          0.6014057858086357,
          0.475118548298453,
          0.5753437025606053,
          0.6330675968971181,
          0.7147558115569808,
          0.9902737293367595,
          0.9026852424833214,
          0.48260488321466577,
          0.5514287692974406,
          0.6636189689119825,
          0.5481685890877963,
          0.48230959946859175,
          0.5249747698693062
         ]
        }
       ],
       "layout": {}
      },
      "text/html": [
       "<div id=\"440ddb80-2e3f-47a3-87da-d16358f1e67b\" style=\"height: 525px; width: 100%;\" class=\"plotly-graph-div\"></div><script type=\"text/javascript\">require([\"plotly\"], function(Plotly) { window.PLOTLYENV=window.PLOTLYENV || {};window.PLOTLYENV.BASE_URL=\"https://plot.ly\";Plotly.newPlot(\"440ddb80-2e3f-47a3-87da-d16358f1e67b\", [{\"x\": [0, 1, 2, 3, 4, 5, 6, 7, 8, 9, 10, 11, 12, 13, 14], \"y\": [1.0015478804152158, 0.46325129492976247, 0.25875801490104866, 0.14875434423399736, 0.11329571995006771, 0.0904083364774223, 0.07278310909254126, 0.06631786294714148, 0.06959263104878421, 0.0734052019858199, 0.08437207751854381, 0.07290053831230336, 0.06551514695355398, 0.05935656145298074, 0.21270103549771835], \"type\": \"scatter\", \"name\": \"left and cue_red and wm_red\"}, {\"x\": [0, 1, 2, 3, 4, 5, 6, 7, 8, 9, 10, 11, 12, 13, 14], \"y\": [0.9350363575731009, 0.2958432905575088, 0.17135210659099298, 0.12747438538582323, 0.09980073910903964, 0.07514421063154542, 0.07705084043684285, 0.07625191379642793, 0.06266784029145933, 0.06599202415101668, 0.07216669102053763, 0.06492463363085743, 0.060426269155019696, 0.05913321766087565, 0.4719779843764489], \"type\": \"scatter\", \"name\": \"right and cue_red and wm_red\"}, {\"x\": [0, 1, 2, 3, 4, 5, 6, 7, 8, 9, 10, 11, 12, 13, 14], \"y\": [0.5268028537565032, 0.49878772281109884, 0.554161246949534, 0.48685840130995706, 0.5511960833475869, 0.6654561125271817, 0.6790197083907501, 1.0359918585484218, 0.9873191946763596, 0.45895258828010443, 0.5840571078916768, 0.732324711959615, 0.502748700478745, 0.49466976264188167, 0.5074849091566025], \"type\": \"scatter\", \"name\": \"left and cue_green and wm_green\"}, {\"x\": [0, 1, 2, 3, 4, 5, 6, 7, 8, 9, 10, 11, 12, 13, 14], \"y\": [0.55368943644964, 0.5232539733050325, 0.6014057858086357, 0.475118548298453, 0.5753437025606053, 0.6330675968971181, 0.7147558115569808, 0.9902737293367595, 0.9026852424833214, 0.48260488321466577, 0.5514287692974406, 0.6636189689119825, 0.5481685890877963, 0.48230959946859175, 0.5249747698693062], \"type\": \"scatter\", \"name\": \"right and cue_green and wm_green\"}], {}, {\"showLink\": true, \"linkText\": \"Export to plot.ly\"})});</script>"
      ],
      "text/vnd.plotly.v1+html": [
       "<div id=\"440ddb80-2e3f-47a3-87da-d16358f1e67b\" style=\"height: 525px; width: 100%;\" class=\"plotly-graph-div\"></div><script type=\"text/javascript\">require([\"plotly\"], function(Plotly) { window.PLOTLYENV=window.PLOTLYENV || {};window.PLOTLYENV.BASE_URL=\"https://plot.ly\";Plotly.newPlot(\"440ddb80-2e3f-47a3-87da-d16358f1e67b\", [{\"x\": [0, 1, 2, 3, 4, 5, 6, 7, 8, 9, 10, 11, 12, 13, 14], \"y\": [1.0015478804152158, 0.46325129492976247, 0.25875801490104866, 0.14875434423399736, 0.11329571995006771, 0.0904083364774223, 0.07278310909254126, 0.06631786294714148, 0.06959263104878421, 0.0734052019858199, 0.08437207751854381, 0.07290053831230336, 0.06551514695355398, 0.05935656145298074, 0.21270103549771835], \"type\": \"scatter\", \"name\": \"left and cue_red and wm_red\"}, {\"x\": [0, 1, 2, 3, 4, 5, 6, 7, 8, 9, 10, 11, 12, 13, 14], \"y\": [0.9350363575731009, 0.2958432905575088, 0.17135210659099298, 0.12747438538582323, 0.09980073910903964, 0.07514421063154542, 0.07705084043684285, 0.07625191379642793, 0.06266784029145933, 0.06599202415101668, 0.07216669102053763, 0.06492463363085743, 0.060426269155019696, 0.05913321766087565, 0.4719779843764489], \"type\": \"scatter\", \"name\": \"right and cue_red and wm_red\"}, {\"x\": [0, 1, 2, 3, 4, 5, 6, 7, 8, 9, 10, 11, 12, 13, 14], \"y\": [0.5268028537565032, 0.49878772281109884, 0.554161246949534, 0.48685840130995706, 0.5511960833475869, 0.6654561125271817, 0.6790197083907501, 1.0359918585484218, 0.9873191946763596, 0.45895258828010443, 0.5840571078916768, 0.732324711959615, 0.502748700478745, 0.49466976264188167, 0.5074849091566025], \"type\": \"scatter\", \"name\": \"left and cue_green and wm_green\"}, {\"x\": [0, 1, 2, 3, 4, 5, 6, 7, 8, 9, 10, 11, 12, 13, 14], \"y\": [0.55368943644964, 0.5232539733050325, 0.6014057858086357, 0.475118548298453, 0.5753437025606053, 0.6330675968971181, 0.7147558115569808, 0.9902737293367595, 0.9026852424833214, 0.48260488321466577, 0.5514287692974406, 0.6636189689119825, 0.5481685890877963, 0.48230959946859175, 0.5249747698693062], \"type\": \"scatter\", \"name\": \"right and cue_green and wm_green\"}], {}, {\"showLink\": true, \"linkText\": \"Export to plot.ly\"})});</script>"
      ]
     },
     "metadata": {},
     "output_type": "display_data"
    },
    {
     "data": {
      "application/vnd.plotly.v1+json": {
       "data": [
        {
         "name": "left and cue_red and wm_red",
         "type": "scatter",
         "x": [
          0,
          1,
          2,
          3,
          4,
          5,
          6,
          7,
          8,
          9,
          10,
          11,
          12,
          13,
          14
         ],
         "y": [
          1.0009270726731787,
          0.4605944649242405,
          0.2400687911734528,
          0.16346003051694669,
          0.11573785034141515,
          0.08740114092133067,
          0.068293145878775,
          0.06493381173408219,
          0.07146097952202446,
          0.0726576417300927,
          0.06938003322375363,
          0.06936387412854517,
          0.07005150060784837,
          0.06255845467638521,
          0.1978340966078298
         ]
        },
        {
         "name": "right and cue_red and wm_red",
         "type": "scatter",
         "x": [
          0,
          1,
          2,
          3,
          4,
          5,
          6,
          7,
          8,
          9,
          10,
          11,
          12,
          13,
          14
         ],
         "y": [
          0.9442059128800522,
          0.2930656486312532,
          0.15655094519169666,
          0.1255253731603383,
          0.10303951019562274,
          0.08089929260581608,
          0.06876291691521019,
          0.07087877377221585,
          0.06913676194100149,
          0.06626347651040798,
          0.07431476154424699,
          0.06976607732663154,
          0.06288387390941219,
          0.09772974475199603,
          0.4653533565704977
         ]
        },
        {
         "name": "left and cue_green and wm_green",
         "type": "scatter",
         "x": [
          0,
          1,
          2,
          3,
          4,
          5,
          6,
          7,
          8,
          9,
          10,
          11,
          12,
          13,
          14
         ],
         "y": [
          0.5304603795715286,
          0.4987685755634007,
          0.5037509297020228,
          0.4324674919397855,
          0.5506195285081139,
          0.6138079112487558,
          0.6805568249426706,
          1.0334109424412692,
          0.9917225638912857,
          0.46662252293724205,
          0.5501872302466959,
          0.7376563901877367,
          0.45276355602037577,
          0.44245318333553385,
          0.5112357044922271
         ]
        },
        {
         "name": "right and cue_green and wm_green",
         "type": "scatter",
         "x": [
          0,
          1,
          2,
          3,
          4,
          5,
          6,
          7,
          8,
          9,
          10,
          11,
          12,
          13,
          14
         ],
         "y": [
          0.5015525057004975,
          0.52367249249622,
          0.5450312726045441,
          0.4736425083873266,
          0.5154105907285416,
          0.5968605848099553,
          0.7185823026782299,
          0.9956438581851212,
          0.9007974343905102,
          0.4904215501041014,
          0.5510778432783023,
          0.6653412039216703,
          0.490793097472601,
          0.42661092036950643,
          0.5292532572715677
         ]
        }
       ],
       "layout": {}
      },
      "text/html": [
       "<div id=\"903e633d-092b-4e9f-a7ef-300df2656fdb\" style=\"height: 525px; width: 100%;\" class=\"plotly-graph-div\"></div><script type=\"text/javascript\">require([\"plotly\"], function(Plotly) { window.PLOTLYENV=window.PLOTLYENV || {};window.PLOTLYENV.BASE_URL=\"https://plot.ly\";Plotly.newPlot(\"903e633d-092b-4e9f-a7ef-300df2656fdb\", [{\"x\": [0, 1, 2, 3, 4, 5, 6, 7, 8, 9, 10, 11, 12, 13, 14], \"y\": [1.0009270726731787, 0.4605944649242405, 0.2400687911734528, 0.16346003051694669, 0.11573785034141515, 0.08740114092133067, 0.068293145878775, 0.06493381173408219, 0.07146097952202446, 0.0726576417300927, 0.06938003322375363, 0.06936387412854517, 0.07005150060784837, 0.06255845467638521, 0.1978340966078298], \"type\": \"scatter\", \"name\": \"left and cue_red and wm_red\"}, {\"x\": [0, 1, 2, 3, 4, 5, 6, 7, 8, 9, 10, 11, 12, 13, 14], \"y\": [0.9442059128800522, 0.2930656486312532, 0.15655094519169666, 0.1255253731603383, 0.10303951019562274, 0.08089929260581608, 0.06876291691521019, 0.07087877377221585, 0.06913676194100149, 0.06626347651040798, 0.07431476154424699, 0.06976607732663154, 0.06288387390941219, 0.09772974475199603, 0.4653533565704977], \"type\": \"scatter\", \"name\": \"right and cue_red and wm_red\"}, {\"x\": [0, 1, 2, 3, 4, 5, 6, 7, 8, 9, 10, 11, 12, 13, 14], \"y\": [0.5304603795715286, 0.4987685755634007, 0.5037509297020228, 0.4324674919397855, 0.5506195285081139, 0.6138079112487558, 0.6805568249426706, 1.0334109424412692, 0.9917225638912857, 0.46662252293724205, 0.5501872302466959, 0.7376563901877367, 0.45276355602037577, 0.44245318333553385, 0.5112357044922271], \"type\": \"scatter\", \"name\": \"left and cue_green and wm_green\"}, {\"x\": [0, 1, 2, 3, 4, 5, 6, 7, 8, 9, 10, 11, 12, 13, 14], \"y\": [0.5015525057004975, 0.52367249249622, 0.5450312726045441, 0.4736425083873266, 0.5154105907285416, 0.5968605848099553, 0.7185823026782299, 0.9956438581851212, 0.9007974343905102, 0.4904215501041014, 0.5510778432783023, 0.6653412039216703, 0.490793097472601, 0.42661092036950643, 0.5292532572715677], \"type\": \"scatter\", \"name\": \"right and cue_green and wm_green\"}], {}, {\"showLink\": true, \"linkText\": \"Export to plot.ly\"})});</script>"
      ],
      "text/vnd.plotly.v1+html": [
       "<div id=\"903e633d-092b-4e9f-a7ef-300df2656fdb\" style=\"height: 525px; width: 100%;\" class=\"plotly-graph-div\"></div><script type=\"text/javascript\">require([\"plotly\"], function(Plotly) { window.PLOTLYENV=window.PLOTLYENV || {};window.PLOTLYENV.BASE_URL=\"https://plot.ly\";Plotly.newPlot(\"903e633d-092b-4e9f-a7ef-300df2656fdb\", [{\"x\": [0, 1, 2, 3, 4, 5, 6, 7, 8, 9, 10, 11, 12, 13, 14], \"y\": [1.0009270726731787, 0.4605944649242405, 0.2400687911734528, 0.16346003051694669, 0.11573785034141515, 0.08740114092133067, 0.068293145878775, 0.06493381173408219, 0.07146097952202446, 0.0726576417300927, 0.06938003322375363, 0.06936387412854517, 0.07005150060784837, 0.06255845467638521, 0.1978340966078298], \"type\": \"scatter\", \"name\": \"left and cue_red and wm_red\"}, {\"x\": [0, 1, 2, 3, 4, 5, 6, 7, 8, 9, 10, 11, 12, 13, 14], \"y\": [0.9442059128800522, 0.2930656486312532, 0.15655094519169666, 0.1255253731603383, 0.10303951019562274, 0.08089929260581608, 0.06876291691521019, 0.07087877377221585, 0.06913676194100149, 0.06626347651040798, 0.07431476154424699, 0.06976607732663154, 0.06288387390941219, 0.09772974475199603, 0.4653533565704977], \"type\": \"scatter\", \"name\": \"right and cue_red and wm_red\"}, {\"x\": [0, 1, 2, 3, 4, 5, 6, 7, 8, 9, 10, 11, 12, 13, 14], \"y\": [0.5304603795715286, 0.4987685755634007, 0.5037509297020228, 0.4324674919397855, 0.5506195285081139, 0.6138079112487558, 0.6805568249426706, 1.0334109424412692, 0.9917225638912857, 0.46662252293724205, 0.5501872302466959, 0.7376563901877367, 0.45276355602037577, 0.44245318333553385, 0.5112357044922271], \"type\": \"scatter\", \"name\": \"left and cue_green and wm_green\"}, {\"x\": [0, 1, 2, 3, 4, 5, 6, 7, 8, 9, 10, 11, 12, 13, 14], \"y\": [0.5015525057004975, 0.52367249249622, 0.5450312726045441, 0.4736425083873266, 0.5154105907285416, 0.5968605848099553, 0.7185823026782299, 0.9956438581851212, 0.9007974343905102, 0.4904215501041014, 0.5510778432783023, 0.6653412039216703, 0.490793097472601, 0.42661092036950643, 0.5292532572715677], \"type\": \"scatter\", \"name\": \"right and cue_green and wm_green\"}], {}, {\"showLink\": true, \"linkText\": \"Export to plot.ly\"})});</script>"
      ]
     },
     "metadata": {},
     "output_type": "display_data"
    },
    {
     "data": {
      "application/vnd.plotly.v1+json": {
       "data": [
        {
         "name": "left and cue_red and wm_red",
         "type": "scatter",
         "x": [
          0,
          1,
          2,
          3,
          4,
          5,
          6,
          7,
          8,
          9,
          10,
          11,
          12,
          13,
          14
         ],
         "y": [
          0.997820133231861,
          0.46402348599085474,
          0.2539907942586934,
          0.16324342947994808,
          0.11599192362824617,
          0.08788635740631545,
          0.07265263780329756,
          0.06626718179897428,
          0.0754513257620284,
          0.08173452923728397,
          0.06865619584822102,
          0.06524496629624199,
          0.06773397619939048,
          0.059721505325997626,
          0.16228420427334433
         ]
        },
        {
         "name": "right and cue_red and wm_red",
         "type": "scatter",
         "x": [
          0,
          1,
          2,
          3,
          4,
          5,
          6,
          7,
          8,
          9,
          10,
          11,
          12,
          13,
          14
         ],
         "y": [
          0.9497557515605092,
          0.28573721764547444,
          0.15456771839771544,
          0.12794571852337833,
          0.10678737671007388,
          0.08412081512652225,
          0.07769900073110314,
          0.06776955827546383,
          0.06295256539418648,
          0.05967915561104897,
          0.07588978809040992,
          0.06613363780349102,
          0.06213171610505119,
          0.12496791127158513,
          0.45819612229150386
         ]
        },
        {
         "name": "left and cue_green and wm_green",
         "type": "scatter",
         "x": [
          0,
          1,
          2,
          3,
          4,
          5,
          6,
          7,
          8,
          9,
          10,
          11,
          12,
          13,
          14
         ],
         "y": [
          0.5269831130314011,
          0.44466208834917853,
          0.5007097916263953,
          0.42380857628760615,
          0.5520824882630638,
          0.614326987350716,
          0.6769149806133937,
          1.0263172769074058,
          0.9902560608602461,
          0.4600924412321996,
          0.5486577492284148,
          0.6101672668570279,
          0.4506591493176023,
          0.4474518077358802,
          0.5185732710454679
         ]
        },
        {
         "name": "right and cue_green and wm_green",
         "type": "scatter",
         "x": [
          0,
          1,
          2,
          3,
          4,
          5,
          6,
          7,
          8,
          9,
          10,
          11,
          12,
          13,
          14
         ],
         "y": [
          0.5018253569749098,
          0.46659093599516144,
          0.5440436828870385,
          0.47704140538398865,
          0.5171625343666695,
          0.5893934102663244,
          0.719357890519601,
          0.9931073451392338,
          0.9023330170302991,
          0.48832427267939593,
          0.5515589623921792,
          0.6637293475220253,
          0.4363586551594203,
          0.4305531688509281,
          0.47313434200600857
         ]
        }
       ],
       "layout": {}
      },
      "text/html": [
       "<div id=\"1c222fe5-4a54-483f-ab93-8d612d41fe83\" style=\"height: 525px; width: 100%;\" class=\"plotly-graph-div\"></div><script type=\"text/javascript\">require([\"plotly\"], function(Plotly) { window.PLOTLYENV=window.PLOTLYENV || {};window.PLOTLYENV.BASE_URL=\"https://plot.ly\";Plotly.newPlot(\"1c222fe5-4a54-483f-ab93-8d612d41fe83\", [{\"x\": [0, 1, 2, 3, 4, 5, 6, 7, 8, 9, 10, 11, 12, 13, 14], \"y\": [0.997820133231861, 0.46402348599085474, 0.2539907942586934, 0.16324342947994808, 0.11599192362824617, 0.08788635740631545, 0.07265263780329756, 0.06626718179897428, 0.0754513257620284, 0.08173452923728397, 0.06865619584822102, 0.06524496629624199, 0.06773397619939048, 0.059721505325997626, 0.16228420427334433], \"type\": \"scatter\", \"name\": \"left and cue_red and wm_red\"}, {\"x\": [0, 1, 2, 3, 4, 5, 6, 7, 8, 9, 10, 11, 12, 13, 14], \"y\": [0.9497557515605092, 0.28573721764547444, 0.15456771839771544, 0.12794571852337833, 0.10678737671007388, 0.08412081512652225, 0.07769900073110314, 0.06776955827546383, 0.06295256539418648, 0.05967915561104897, 0.07588978809040992, 0.06613363780349102, 0.06213171610505119, 0.12496791127158513, 0.45819612229150386], \"type\": \"scatter\", \"name\": \"right and cue_red and wm_red\"}, {\"x\": [0, 1, 2, 3, 4, 5, 6, 7, 8, 9, 10, 11, 12, 13, 14], \"y\": [0.5269831130314011, 0.44466208834917853, 0.5007097916263953, 0.42380857628760615, 0.5520824882630638, 0.614326987350716, 0.6769149806133937, 1.0263172769074058, 0.9902560608602461, 0.4600924412321996, 0.5486577492284148, 0.6101672668570279, 0.4506591493176023, 0.4474518077358802, 0.5185732710454679], \"type\": \"scatter\", \"name\": \"left and cue_green and wm_green\"}, {\"x\": [0, 1, 2, 3, 4, 5, 6, 7, 8, 9, 10, 11, 12, 13, 14], \"y\": [0.5018253569749098, 0.46659093599516144, 0.5440436828870385, 0.47704140538398865, 0.5171625343666695, 0.5893934102663244, 0.719357890519601, 0.9931073451392338, 0.9023330170302991, 0.48832427267939593, 0.5515589623921792, 0.6637293475220253, 0.4363586551594203, 0.4305531688509281, 0.47313434200600857], \"type\": \"scatter\", \"name\": \"right and cue_green and wm_green\"}], {}, {\"showLink\": true, \"linkText\": \"Export to plot.ly\"})});</script>"
      ],
      "text/vnd.plotly.v1+html": [
       "<div id=\"1c222fe5-4a54-483f-ab93-8d612d41fe83\" style=\"height: 525px; width: 100%;\" class=\"plotly-graph-div\"></div><script type=\"text/javascript\">require([\"plotly\"], function(Plotly) { window.PLOTLYENV=window.PLOTLYENV || {};window.PLOTLYENV.BASE_URL=\"https://plot.ly\";Plotly.newPlot(\"1c222fe5-4a54-483f-ab93-8d612d41fe83\", [{\"x\": [0, 1, 2, 3, 4, 5, 6, 7, 8, 9, 10, 11, 12, 13, 14], \"y\": [0.997820133231861, 0.46402348599085474, 0.2539907942586934, 0.16324342947994808, 0.11599192362824617, 0.08788635740631545, 0.07265263780329756, 0.06626718179897428, 0.0754513257620284, 0.08173452923728397, 0.06865619584822102, 0.06524496629624199, 0.06773397619939048, 0.059721505325997626, 0.16228420427334433], \"type\": \"scatter\", \"name\": \"left and cue_red and wm_red\"}, {\"x\": [0, 1, 2, 3, 4, 5, 6, 7, 8, 9, 10, 11, 12, 13, 14], \"y\": [0.9497557515605092, 0.28573721764547444, 0.15456771839771544, 0.12794571852337833, 0.10678737671007388, 0.08412081512652225, 0.07769900073110314, 0.06776955827546383, 0.06295256539418648, 0.05967915561104897, 0.07588978809040992, 0.06613363780349102, 0.06213171610505119, 0.12496791127158513, 0.45819612229150386], \"type\": \"scatter\", \"name\": \"right and cue_red and wm_red\"}, {\"x\": [0, 1, 2, 3, 4, 5, 6, 7, 8, 9, 10, 11, 12, 13, 14], \"y\": [0.5269831130314011, 0.44466208834917853, 0.5007097916263953, 0.42380857628760615, 0.5520824882630638, 0.614326987350716, 0.6769149806133937, 1.0263172769074058, 0.9902560608602461, 0.4600924412321996, 0.5486577492284148, 0.6101672668570279, 0.4506591493176023, 0.4474518077358802, 0.5185732710454679], \"type\": \"scatter\", \"name\": \"left and cue_green and wm_green\"}, {\"x\": [0, 1, 2, 3, 4, 5, 6, 7, 8, 9, 10, 11, 12, 13, 14], \"y\": [0.5018253569749098, 0.46659093599516144, 0.5440436828870385, 0.47704140538398865, 0.5171625343666695, 0.5893934102663244, 0.719357890519601, 0.9931073451392338, 0.9023330170302991, 0.48832427267939593, 0.5515589623921792, 0.6637293475220253, 0.4363586551594203, 0.4305531688509281, 0.47313434200600857], \"type\": \"scatter\", \"name\": \"right and cue_green and wm_green\"}], {}, {\"showLink\": true, \"linkText\": \"Export to plot.ly\"})});</script>"
      ]
     },
     "metadata": {},
     "output_type": "display_data"
    },
    {
     "data": {
      "application/vnd.plotly.v1+json": {
       "data": [
        {
         "name": "left and cue_red and wm_red",
         "type": "scatter",
         "x": [
          0,
          1,
          2,
          3,
          4,
          5,
          6,
          7,
          8,
          9,
          10,
          11,
          12,
          13,
          14
         ],
         "y": [
          1.0013356785875727,
          0.4717847030305722,
          0.2374359623153356,
          0.1586770600445102,
          0.10988847199791041,
          0.09549137919710182,
          0.0743513691493296,
          0.06772461010700925,
          0.07140138770923388,
          0.07857438841714626,
          0.06757856480714353,
          0.06329084127356543,
          0.0644466311891505,
          0.0604729311846961,
          0.15756233843872014
         ]
        },
        {
         "name": "right and cue_red and wm_red",
         "type": "scatter",
         "x": [
          0,
          1,
          2,
          3,
          4,
          5,
          6,
          7,
          8,
          9,
          10,
          11,
          12,
          13,
          14
         ],
         "y": [
          0.9486443028651959,
          0.260219430249113,
          0.14845788872122112,
          0.12624790126088814,
          0.10241571313283315,
          0.08486098814783472,
          0.06914868189189871,
          0.07998835329014242,
          0.0589303540614764,
          0.059888331536385064,
          0.0663209027704379,
          0.06295249120172819,
          0.05992157660566,
          0.07495333338217713,
          0.4704511762439768
         ]
        },
        {
         "name": "left and cue_green and wm_green",
         "type": "scatter",
         "x": [
          0,
          1,
          2,
          3,
          4,
          5,
          6,
          7,
          8,
          9,
          10,
          11,
          12,
          13,
          14
         ],
         "y": [
          0.5236876615247956,
          0.4478705813642617,
          0.5113986173656544,
          0.3825111382674995,
          0.4982701483531292,
          0.5451651498383581,
          0.6766741590962156,
          1.015543487683042,
          0.9930383175123765,
          0.4636388816813195,
          0.508913109501335,
          0.5515812553172434,
          0.4069615876931165,
          0.39996565486694724,
          0.5139860498065743
         ]
        },
        {
         "name": "right and cue_green and wm_green",
         "type": "scatter",
         "x": [
          0,
          1,
          2,
          3,
          4,
          5,
          6,
          7,
          8,
          9,
          10,
          11,
          12,
          13,
          14
         ],
         "y": [
          0.499659013749695,
          0.4119893425567991,
          0.5471206895355529,
          0.3770532350068778,
          0.5222836047639331,
          0.5902755347387061,
          0.7241892103090746,
          0.9872358230571116,
          0.9032814555429356,
          0.4388230381292302,
          0.5480054264977602,
          0.5955506338451235,
          0.39438366896926325,
          0.4287077542680253,
          0.47547512138846626
         ]
        }
       ],
       "layout": {}
      },
      "text/html": [
       "<div id=\"728cf299-4905-4d0e-81de-b3eafc089caf\" style=\"height: 525px; width: 100%;\" class=\"plotly-graph-div\"></div><script type=\"text/javascript\">require([\"plotly\"], function(Plotly) { window.PLOTLYENV=window.PLOTLYENV || {};window.PLOTLYENV.BASE_URL=\"https://plot.ly\";Plotly.newPlot(\"728cf299-4905-4d0e-81de-b3eafc089caf\", [{\"x\": [0, 1, 2, 3, 4, 5, 6, 7, 8, 9, 10, 11, 12, 13, 14], \"y\": [1.0013356785875727, 0.4717847030305722, 0.2374359623153356, 0.1586770600445102, 0.10988847199791041, 0.09549137919710182, 0.0743513691493296, 0.06772461010700925, 0.07140138770923388, 0.07857438841714626, 0.06757856480714353, 0.06329084127356543, 0.0644466311891505, 0.0604729311846961, 0.15756233843872014], \"type\": \"scatter\", \"name\": \"left and cue_red and wm_red\"}, {\"x\": [0, 1, 2, 3, 4, 5, 6, 7, 8, 9, 10, 11, 12, 13, 14], \"y\": [0.9486443028651959, 0.260219430249113, 0.14845788872122112, 0.12624790126088814, 0.10241571313283315, 0.08486098814783472, 0.06914868189189871, 0.07998835329014242, 0.0589303540614764, 0.059888331536385064, 0.0663209027704379, 0.06295249120172819, 0.05992157660566, 0.07495333338217713, 0.4704511762439768], \"type\": \"scatter\", \"name\": \"right and cue_red and wm_red\"}, {\"x\": [0, 1, 2, 3, 4, 5, 6, 7, 8, 9, 10, 11, 12, 13, 14], \"y\": [0.5236876615247956, 0.4478705813642617, 0.5113986173656544, 0.3825111382674995, 0.4982701483531292, 0.5451651498383581, 0.6766741590962156, 1.015543487683042, 0.9930383175123765, 0.4636388816813195, 0.508913109501335, 0.5515812553172434, 0.4069615876931165, 0.39996565486694724, 0.5139860498065743], \"type\": \"scatter\", \"name\": \"left and cue_green and wm_green\"}, {\"x\": [0, 1, 2, 3, 4, 5, 6, 7, 8, 9, 10, 11, 12, 13, 14], \"y\": [0.499659013749695, 0.4119893425567991, 0.5471206895355529, 0.3770532350068778, 0.5222836047639331, 0.5902755347387061, 0.7241892103090746, 0.9872358230571116, 0.9032814555429356, 0.4388230381292302, 0.5480054264977602, 0.5955506338451235, 0.39438366896926325, 0.4287077542680253, 0.47547512138846626], \"type\": \"scatter\", \"name\": \"right and cue_green and wm_green\"}], {}, {\"showLink\": true, \"linkText\": \"Export to plot.ly\"})});</script>"
      ],
      "text/vnd.plotly.v1+html": [
       "<div id=\"728cf299-4905-4d0e-81de-b3eafc089caf\" style=\"height: 525px; width: 100%;\" class=\"plotly-graph-div\"></div><script type=\"text/javascript\">require([\"plotly\"], function(Plotly) { window.PLOTLYENV=window.PLOTLYENV || {};window.PLOTLYENV.BASE_URL=\"https://plot.ly\";Plotly.newPlot(\"728cf299-4905-4d0e-81de-b3eafc089caf\", [{\"x\": [0, 1, 2, 3, 4, 5, 6, 7, 8, 9, 10, 11, 12, 13, 14], \"y\": [1.0013356785875727, 0.4717847030305722, 0.2374359623153356, 0.1586770600445102, 0.10988847199791041, 0.09549137919710182, 0.0743513691493296, 0.06772461010700925, 0.07140138770923388, 0.07857438841714626, 0.06757856480714353, 0.06329084127356543, 0.0644466311891505, 0.0604729311846961, 0.15756233843872014], \"type\": \"scatter\", \"name\": \"left and cue_red and wm_red\"}, {\"x\": [0, 1, 2, 3, 4, 5, 6, 7, 8, 9, 10, 11, 12, 13, 14], \"y\": [0.9486443028651959, 0.260219430249113, 0.14845788872122112, 0.12624790126088814, 0.10241571313283315, 0.08486098814783472, 0.06914868189189871, 0.07998835329014242, 0.0589303540614764, 0.059888331536385064, 0.0663209027704379, 0.06295249120172819, 0.05992157660566, 0.07495333338217713, 0.4704511762439768], \"type\": \"scatter\", \"name\": \"right and cue_red and wm_red\"}, {\"x\": [0, 1, 2, 3, 4, 5, 6, 7, 8, 9, 10, 11, 12, 13, 14], \"y\": [0.5236876615247956, 0.4478705813642617, 0.5113986173656544, 0.3825111382674995, 0.4982701483531292, 0.5451651498383581, 0.6766741590962156, 1.015543487683042, 0.9930383175123765, 0.4636388816813195, 0.508913109501335, 0.5515812553172434, 0.4069615876931165, 0.39996565486694724, 0.5139860498065743], \"type\": \"scatter\", \"name\": \"left and cue_green and wm_green\"}, {\"x\": [0, 1, 2, 3, 4, 5, 6, 7, 8, 9, 10, 11, 12, 13, 14], \"y\": [0.499659013749695, 0.4119893425567991, 0.5471206895355529, 0.3770532350068778, 0.5222836047639331, 0.5902755347387061, 0.7241892103090746, 0.9872358230571116, 0.9032814555429356, 0.4388230381292302, 0.5480054264977602, 0.5955506338451235, 0.39438366896926325, 0.4287077542680253, 0.47547512138846626], \"type\": \"scatter\", \"name\": \"right and cue_green and wm_green\"}], {}, {\"showLink\": true, \"linkText\": \"Export to plot.ly\"})});</script>"
      ]
     },
     "metadata": {},
     "output_type": "display_data"
    },
    {
     "data": {
      "application/vnd.plotly.v1+json": {
       "data": [
        {
         "name": "left and cue_red and wm_red",
         "type": "scatter",
         "x": [
          0,
          1,
          2,
          3,
          4,
          5,
          6,
          7,
          8,
          9,
          10,
          11,
          12,
          13,
          14
         ],
         "y": [
          0.9997590541706836,
          0.4655414129731097,
          0.24571219275255318,
          0.16310684013599075,
          0.12447293170214357,
          0.09149542818160339,
          0.0718741620893597,
          0.065762465367745,
          0.07108783239130667,
          0.07909302645550154,
          0.06734059373001933,
          0.06854532512006017,
          0.061590027185366325,
          0.05992713786641879,
          0.14424913505845094
         ]
        },
        {
         "name": "right and cue_red and wm_red",
         "type": "scatter",
         "x": [
          0,
          1,
          2,
          3,
          4,
          5,
          6,
          7,
          8,
          9,
          10,
          11,
          12,
          13,
          14
         ],
         "y": [
          0.9496234879591318,
          0.23579385272655284,
          0.14756809243227342,
          0.12386449726256477,
          0.09805091358393425,
          0.08687003718773956,
          0.07108987260201327,
          0.07306172744407224,
          0.06005080268276042,
          0.06189813450397952,
          0.07060432038625652,
          0.06431033118476903,
          0.05877416199346763,
          0.08290941714152689,
          0.47186937750275515
         ]
        },
        {
         "name": "left and cue_green and wm_green",
         "type": "scatter",
         "x": [
          0,
          1,
          2,
          3,
          4,
          5,
          6,
          7,
          8,
          9,
          10,
          11,
          12,
          13,
          14
         ],
         "y": [
          0.4693769146347134,
          0.4484053728454157,
          0.513113691943312,
          0.34244665237331484,
          0.43810657163030853,
          0.5508154583615047,
          0.6756882229582444,
          1.0106094999964867,
          0.9887483766896346,
          0.46838424279235424,
          0.5146546484919028,
          0.5572863379593493,
          0.34360393900755637,
          0.4032330275316003,
          0.4652935717041107
         ]
        },
        {
         "name": "right and cue_green and wm_green",
         "type": "scatter",
         "x": [
          0,
          1,
          2,
          3,
          4,
          5,
          6,
          7,
          8,
          9,
          10,
          11,
          12,
          13,
          14
         ],
         "y": [
          0.5053382977122695,
          0.4165628246350943,
          0.49096512936161174,
          0.37251334119513513,
          0.40003231292246355,
          0.5318603879784836,
          0.7058513551451352,
          0.9865932422564184,
          0.906679933240785,
          0.44208088917861377,
          0.49265768830012235,
          0.5400436998391658,
          0.3830700017088833,
          0.3786258579561639,
          0.48020985861770726
         ]
        }
       ],
       "layout": {}
      },
      "text/html": [
       "<div id=\"0d33281a-994a-4494-9960-85cb2e748c8f\" style=\"height: 525px; width: 100%;\" class=\"plotly-graph-div\"></div><script type=\"text/javascript\">require([\"plotly\"], function(Plotly) { window.PLOTLYENV=window.PLOTLYENV || {};window.PLOTLYENV.BASE_URL=\"https://plot.ly\";Plotly.newPlot(\"0d33281a-994a-4494-9960-85cb2e748c8f\", [{\"x\": [0, 1, 2, 3, 4, 5, 6, 7, 8, 9, 10, 11, 12, 13, 14], \"y\": [0.9997590541706836, 0.4655414129731097, 0.24571219275255318, 0.16310684013599075, 0.12447293170214357, 0.09149542818160339, 0.0718741620893597, 0.065762465367745, 0.07108783239130667, 0.07909302645550154, 0.06734059373001933, 0.06854532512006017, 0.061590027185366325, 0.05992713786641879, 0.14424913505845094], \"type\": \"scatter\", \"name\": \"left and cue_red and wm_red\"}, {\"x\": [0, 1, 2, 3, 4, 5, 6, 7, 8, 9, 10, 11, 12, 13, 14], \"y\": [0.9496234879591318, 0.23579385272655284, 0.14756809243227342, 0.12386449726256477, 0.09805091358393425, 0.08687003718773956, 0.07108987260201327, 0.07306172744407224, 0.06005080268276042, 0.06189813450397952, 0.07060432038625652, 0.06431033118476903, 0.05877416199346763, 0.08290941714152689, 0.47186937750275515], \"type\": \"scatter\", \"name\": \"right and cue_red and wm_red\"}, {\"x\": [0, 1, 2, 3, 4, 5, 6, 7, 8, 9, 10, 11, 12, 13, 14], \"y\": [0.4693769146347134, 0.4484053728454157, 0.513113691943312, 0.34244665237331484, 0.43810657163030853, 0.5508154583615047, 0.6756882229582444, 1.0106094999964867, 0.9887483766896346, 0.46838424279235424, 0.5146546484919028, 0.5572863379593493, 0.34360393900755637, 0.4032330275316003, 0.4652935717041107], \"type\": \"scatter\", \"name\": \"left and cue_green and wm_green\"}, {\"x\": [0, 1, 2, 3, 4, 5, 6, 7, 8, 9, 10, 11, 12, 13, 14], \"y\": [0.5053382977122695, 0.4165628246350943, 0.49096512936161174, 0.37251334119513513, 0.40003231292246355, 0.5318603879784836, 0.7058513551451352, 0.9865932422564184, 0.906679933240785, 0.44208088917861377, 0.49265768830012235, 0.5400436998391658, 0.3830700017088833, 0.3786258579561639, 0.48020985861770726], \"type\": \"scatter\", \"name\": \"right and cue_green and wm_green\"}], {}, {\"showLink\": true, \"linkText\": \"Export to plot.ly\"})});</script>"
      ],
      "text/vnd.plotly.v1+html": [
       "<div id=\"0d33281a-994a-4494-9960-85cb2e748c8f\" style=\"height: 525px; width: 100%;\" class=\"plotly-graph-div\"></div><script type=\"text/javascript\">require([\"plotly\"], function(Plotly) { window.PLOTLYENV=window.PLOTLYENV || {};window.PLOTLYENV.BASE_URL=\"https://plot.ly\";Plotly.newPlot(\"0d33281a-994a-4494-9960-85cb2e748c8f\", [{\"x\": [0, 1, 2, 3, 4, 5, 6, 7, 8, 9, 10, 11, 12, 13, 14], \"y\": [0.9997590541706836, 0.4655414129731097, 0.24571219275255318, 0.16310684013599075, 0.12447293170214357, 0.09149542818160339, 0.0718741620893597, 0.065762465367745, 0.07108783239130667, 0.07909302645550154, 0.06734059373001933, 0.06854532512006017, 0.061590027185366325, 0.05992713786641879, 0.14424913505845094], \"type\": \"scatter\", \"name\": \"left and cue_red and wm_red\"}, {\"x\": [0, 1, 2, 3, 4, 5, 6, 7, 8, 9, 10, 11, 12, 13, 14], \"y\": [0.9496234879591318, 0.23579385272655284, 0.14756809243227342, 0.12386449726256477, 0.09805091358393425, 0.08687003718773956, 0.07108987260201327, 0.07306172744407224, 0.06005080268276042, 0.06189813450397952, 0.07060432038625652, 0.06431033118476903, 0.05877416199346763, 0.08290941714152689, 0.47186937750275515], \"type\": \"scatter\", \"name\": \"right and cue_red and wm_red\"}, {\"x\": [0, 1, 2, 3, 4, 5, 6, 7, 8, 9, 10, 11, 12, 13, 14], \"y\": [0.4693769146347134, 0.4484053728454157, 0.513113691943312, 0.34244665237331484, 0.43810657163030853, 0.5508154583615047, 0.6756882229582444, 1.0106094999964867, 0.9887483766896346, 0.46838424279235424, 0.5146546484919028, 0.5572863379593493, 0.34360393900755637, 0.4032330275316003, 0.4652935717041107], \"type\": \"scatter\", \"name\": \"left and cue_green and wm_green\"}, {\"x\": [0, 1, 2, 3, 4, 5, 6, 7, 8, 9, 10, 11, 12, 13, 14], \"y\": [0.5053382977122695, 0.4165628246350943, 0.49096512936161174, 0.37251334119513513, 0.40003231292246355, 0.5318603879784836, 0.7058513551451352, 0.9865932422564184, 0.906679933240785, 0.44208088917861377, 0.49265768830012235, 0.5400436998391658, 0.3830700017088833, 0.3786258579561639, 0.48020985861770726], \"type\": \"scatter\", \"name\": \"right and cue_green and wm_green\"}], {}, {\"showLink\": true, \"linkText\": \"Export to plot.ly\"})});</script>"
      ]
     },
     "metadata": {},
     "output_type": "display_data"
    },
    {
     "data": {
      "application/vnd.plotly.v1+json": {
       "data": [
        {
         "name": "left and cue_red and wm_red",
         "type": "scatter",
         "x": [
          0,
          1,
          2,
          3,
          4,
          5,
          6,
          7,
          8,
          9,
          10,
          11,
          12,
          13,
          14
         ],
         "y": [
          1.0023665576379786,
          0.4716060185507065,
          0.26437253541130945,
          0.17228812946120087,
          0.11621511811363439,
          0.09398245898828939,
          0.07245410089959747,
          0.06824837222123614,
          0.07484268287668283,
          0.07941338193234226,
          0.07725807761835657,
          0.07655262550027941,
          0.0701860368856837,
          0.06375268858649163,
          0.14064461651948845
         ]
        },
        {
         "name": "right and cue_red and wm_red",
         "type": "scatter",
         "x": [
          0,
          1,
          2,
          3,
          4,
          5,
          6,
          7,
          8,
          9,
          10,
          11,
          12,
          13,
          14
         ],
         "y": [
          0.9477696012865466,
          0.23356783528435798,
          0.14427564020731076,
          0.12798210877036809,
          0.09042757708278892,
          0.08212509331080553,
          0.06939881403241355,
          0.07569107178142431,
          0.0621859172126451,
          0.05869020674674197,
          0.06441990680903575,
          0.06439049733501001,
          0.05834425997278869,
          0.055062095039958736,
          0.4701587284768636
         ]
        },
        {
         "name": "left and cue_green and wm_green",
         "type": "scatter",
         "x": [
          0,
          1,
          2,
          3,
          4,
          5,
          6,
          7,
          8,
          9,
          10,
          11,
          12,
          13,
          14
         ],
         "y": [
          0.46477429735682085,
          0.4474756210953361,
          0.45768168804065423,
          0.3399782524117809,
          0.44024293574282436,
          0.4983846562984413,
          0.6729261290173413,
          1.012696067964634,
          0.9930617768849677,
          0.45395692514669483,
          0.5120839729594382,
          0.5079344121073965,
          0.34211739328293644,
          0.37016434742938265,
          0.46961734897770957
         ]
        },
        {
         "name": "right and cue_green and wm_green",
         "type": "scatter",
         "x": [
          0,
          1,
          2,
          3,
          4,
          5,
          6,
          7,
          8,
          9,
          10,
          11,
          12,
          13,
          14
         ],
         "y": [
          0.45313401548420684,
          0.41262381025697437,
          0.49394992038466734,
          0.37685555775469326,
          0.40209530477030564,
          0.5317615666206258,
          0.7025660908159804,
          0.9812424793538922,
          0.9036938672437242,
          0.43911441404588825,
          0.4885413125487508,
          0.5424459285374116,
          0.3829306385572877,
          0.3435041523361264,
          0.4853936416622744
         ]
        }
       ],
       "layout": {}
      },
      "text/html": [
       "<div id=\"0a8a1684-b306-424e-9b40-d383524e9e90\" style=\"height: 525px; width: 100%;\" class=\"plotly-graph-div\"></div><script type=\"text/javascript\">require([\"plotly\"], function(Plotly) { window.PLOTLYENV=window.PLOTLYENV || {};window.PLOTLYENV.BASE_URL=\"https://plot.ly\";Plotly.newPlot(\"0a8a1684-b306-424e-9b40-d383524e9e90\", [{\"x\": [0, 1, 2, 3, 4, 5, 6, 7, 8, 9, 10, 11, 12, 13, 14], \"y\": [1.0023665576379786, 0.4716060185507065, 0.26437253541130945, 0.17228812946120087, 0.11621511811363439, 0.09398245898828939, 0.07245410089959747, 0.06824837222123614, 0.07484268287668283, 0.07941338193234226, 0.07725807761835657, 0.07655262550027941, 0.0701860368856837, 0.06375268858649163, 0.14064461651948845], \"type\": \"scatter\", \"name\": \"left and cue_red and wm_red\"}, {\"x\": [0, 1, 2, 3, 4, 5, 6, 7, 8, 9, 10, 11, 12, 13, 14], \"y\": [0.9477696012865466, 0.23356783528435798, 0.14427564020731076, 0.12798210877036809, 0.09042757708278892, 0.08212509331080553, 0.06939881403241355, 0.07569107178142431, 0.0621859172126451, 0.05869020674674197, 0.06441990680903575, 0.06439049733501001, 0.05834425997278869, 0.055062095039958736, 0.4701587284768636], \"type\": \"scatter\", \"name\": \"right and cue_red and wm_red\"}, {\"x\": [0, 1, 2, 3, 4, 5, 6, 7, 8, 9, 10, 11, 12, 13, 14], \"y\": [0.46477429735682085, 0.4474756210953361, 0.45768168804065423, 0.3399782524117809, 0.44024293574282436, 0.4983846562984413, 0.6729261290173413, 1.012696067964634, 0.9930617768849677, 0.45395692514669483, 0.5120839729594382, 0.5079344121073965, 0.34211739328293644, 0.37016434742938265, 0.46961734897770957], \"type\": \"scatter\", \"name\": \"left and cue_green and wm_green\"}, {\"x\": [0, 1, 2, 3, 4, 5, 6, 7, 8, 9, 10, 11, 12, 13, 14], \"y\": [0.45313401548420684, 0.41262381025697437, 0.49394992038466734, 0.37685555775469326, 0.40209530477030564, 0.5317615666206258, 0.7025660908159804, 0.9812424793538922, 0.9036938672437242, 0.43911441404588825, 0.4885413125487508, 0.5424459285374116, 0.3829306385572877, 0.3435041523361264, 0.4853936416622744], \"type\": \"scatter\", \"name\": \"right and cue_green and wm_green\"}], {}, {\"showLink\": true, \"linkText\": \"Export to plot.ly\"})});</script>"
      ],
      "text/vnd.plotly.v1+html": [
       "<div id=\"0a8a1684-b306-424e-9b40-d383524e9e90\" style=\"height: 525px; width: 100%;\" class=\"plotly-graph-div\"></div><script type=\"text/javascript\">require([\"plotly\"], function(Plotly) { window.PLOTLYENV=window.PLOTLYENV || {};window.PLOTLYENV.BASE_URL=\"https://plot.ly\";Plotly.newPlot(\"0a8a1684-b306-424e-9b40-d383524e9e90\", [{\"x\": [0, 1, 2, 3, 4, 5, 6, 7, 8, 9, 10, 11, 12, 13, 14], \"y\": [1.0023665576379786, 0.4716060185507065, 0.26437253541130945, 0.17228812946120087, 0.11621511811363439, 0.09398245898828939, 0.07245410089959747, 0.06824837222123614, 0.07484268287668283, 0.07941338193234226, 0.07725807761835657, 0.07655262550027941, 0.0701860368856837, 0.06375268858649163, 0.14064461651948845], \"type\": \"scatter\", \"name\": \"left and cue_red and wm_red\"}, {\"x\": [0, 1, 2, 3, 4, 5, 6, 7, 8, 9, 10, 11, 12, 13, 14], \"y\": [0.9477696012865466, 0.23356783528435798, 0.14427564020731076, 0.12798210877036809, 0.09042757708278892, 0.08212509331080553, 0.06939881403241355, 0.07569107178142431, 0.0621859172126451, 0.05869020674674197, 0.06441990680903575, 0.06439049733501001, 0.05834425997278869, 0.055062095039958736, 0.4701587284768636], \"type\": \"scatter\", \"name\": \"right and cue_red and wm_red\"}, {\"x\": [0, 1, 2, 3, 4, 5, 6, 7, 8, 9, 10, 11, 12, 13, 14], \"y\": [0.46477429735682085, 0.4474756210953361, 0.45768168804065423, 0.3399782524117809, 0.44024293574282436, 0.4983846562984413, 0.6729261290173413, 1.012696067964634, 0.9930617768849677, 0.45395692514669483, 0.5120839729594382, 0.5079344121073965, 0.34211739328293644, 0.37016434742938265, 0.46961734897770957], \"type\": \"scatter\", \"name\": \"left and cue_green and wm_green\"}, {\"x\": [0, 1, 2, 3, 4, 5, 6, 7, 8, 9, 10, 11, 12, 13, 14], \"y\": [0.45313401548420684, 0.41262381025697437, 0.49394992038466734, 0.37685555775469326, 0.40209530477030564, 0.5317615666206258, 0.7025660908159804, 0.9812424793538922, 0.9036938672437242, 0.43911441404588825, 0.4885413125487508, 0.5424459285374116, 0.3829306385572877, 0.3435041523361264, 0.4853936416622744], \"type\": \"scatter\", \"name\": \"right and cue_green and wm_green\"}], {}, {\"showLink\": true, \"linkText\": \"Export to plot.ly\"})});</script>"
      ]
     },
     "metadata": {},
     "output_type": "display_data"
    },
    {
     "data": {
      "application/vnd.plotly.v1+json": {
       "data": [
        {
         "name": "left and cue_red and wm_red",
         "type": "scatter",
         "x": [
          0,
          1,
          2,
          3,
          4,
          5,
          6,
          7,
          8,
          9,
          10,
          11,
          12,
          13,
          14
         ],
         "y": [
          1.0031253693144837,
          0.47244576454598486,
          0.2538322438412193,
          0.1536656552004081,
          0.11502022377245802,
          0.09272923004966693,
          0.0764997834409713,
          0.06665063125699378,
          0.07071574616074816,
          0.08734555096415986,
          0.0849353455018006,
          0.07483795558218276,
          0.07232892307624983,
          0.07018034505917548,
          0.14828586668565125
         ]
        },
        {
         "name": "right and cue_red and wm_red",
         "type": "scatter",
         "x": [
          0,
          1,
          2,
          3,
          4,
          5,
          6,
          7,
          8,
          9,
          10,
          11,
          12,
          13,
          14
         ],
         "y": [
          0.948667793579234,
          0.22346289304380496,
          0.13963092006027245,
          0.12933864124459793,
          0.08481215434022205,
          0.08284498942935814,
          0.06581361717446899,
          0.07590850923115211,
          0.06203651055710013,
          0.0678226289172913,
          0.06911417461972191,
          0.06355246741418386,
          0.062471160529303016,
          0.05584494253041461,
          0.4630373279158244
         ]
        },
        {
         "name": "left and cue_green and wm_green",
         "type": "scatter",
         "x": [
          0,
          1,
          2,
          3,
          4,
          5,
          6,
          7,
          8,
          9,
          10,
          11,
          12,
          13,
          14
         ],
         "y": [
          0.4169803149196769,
          0.4026111203649616,
          0.45915491208375414,
          0.3364438678559276,
          0.4413749111699692,
          0.49516915466506284,
          0.6739279804028525,
          1.0147572894591232,
          0.8667713340562271,
          0.42720930838406135,
          0.5201112152540872,
          0.45771211073140194,
          0.3394429417567434,
          0.3373527546633037,
          0.4731064574483126
         ]
        },
        {
         "name": "right and cue_green and wm_green",
         "type": "scatter",
         "x": [
          0,
          1,
          2,
          3,
          4,
          5,
          6,
          7,
          8,
          9,
          10,
          11,
          12,
          13,
          14
         ],
         "y": [
          0.452542412105839,
          0.41076089948469674,
          0.5001887873822406,
          0.34510528474016844,
          0.4065306382972319,
          0.5260610464005271,
          0.6827793899793086,
          0.9810716274079725,
          0.8975313466147774,
          0.445474698446398,
          0.4901116708994421,
          0.4886840517685759,
          0.34386251279230473,
          0.30829864251696937,
          0.43882046654726814
         ]
        }
       ],
       "layout": {}
      },
      "text/html": [
       "<div id=\"20e16e75-d6bc-4047-8aff-523d80ae0f33\" style=\"height: 525px; width: 100%;\" class=\"plotly-graph-div\"></div><script type=\"text/javascript\">require([\"plotly\"], function(Plotly) { window.PLOTLYENV=window.PLOTLYENV || {};window.PLOTLYENV.BASE_URL=\"https://plot.ly\";Plotly.newPlot(\"20e16e75-d6bc-4047-8aff-523d80ae0f33\", [{\"x\": [0, 1, 2, 3, 4, 5, 6, 7, 8, 9, 10, 11, 12, 13, 14], \"y\": [1.0031253693144837, 0.47244576454598486, 0.2538322438412193, 0.1536656552004081, 0.11502022377245802, 0.09272923004966693, 0.0764997834409713, 0.06665063125699378, 0.07071574616074816, 0.08734555096415986, 0.0849353455018006, 0.07483795558218276, 0.07232892307624983, 0.07018034505917548, 0.14828586668565125], \"type\": \"scatter\", \"name\": \"left and cue_red and wm_red\"}, {\"x\": [0, 1, 2, 3, 4, 5, 6, 7, 8, 9, 10, 11, 12, 13, 14], \"y\": [0.948667793579234, 0.22346289304380496, 0.13963092006027245, 0.12933864124459793, 0.08481215434022205, 0.08284498942935814, 0.06581361717446899, 0.07590850923115211, 0.06203651055710013, 0.0678226289172913, 0.06911417461972191, 0.06355246741418386, 0.062471160529303016, 0.05584494253041461, 0.4630373279158244], \"type\": \"scatter\", \"name\": \"right and cue_red and wm_red\"}, {\"x\": [0, 1, 2, 3, 4, 5, 6, 7, 8, 9, 10, 11, 12, 13, 14], \"y\": [0.4169803149196769, 0.4026111203649616, 0.45915491208375414, 0.3364438678559276, 0.4413749111699692, 0.49516915466506284, 0.6739279804028525, 1.0147572894591232, 0.8667713340562271, 0.42720930838406135, 0.5201112152540872, 0.45771211073140194, 0.3394429417567434, 0.3373527546633037, 0.4731064574483126], \"type\": \"scatter\", \"name\": \"left and cue_green and wm_green\"}, {\"x\": [0, 1, 2, 3, 4, 5, 6, 7, 8, 9, 10, 11, 12, 13, 14], \"y\": [0.452542412105839, 0.41076089948469674, 0.5001887873822406, 0.34510528474016844, 0.4065306382972319, 0.5260610464005271, 0.6827793899793086, 0.9810716274079725, 0.8975313466147774, 0.445474698446398, 0.4901116708994421, 0.4886840517685759, 0.34386251279230473, 0.30829864251696937, 0.43882046654726814], \"type\": \"scatter\", \"name\": \"right and cue_green and wm_green\"}], {}, {\"showLink\": true, \"linkText\": \"Export to plot.ly\"})});</script>"
      ],
      "text/vnd.plotly.v1+html": [
       "<div id=\"20e16e75-d6bc-4047-8aff-523d80ae0f33\" style=\"height: 525px; width: 100%;\" class=\"plotly-graph-div\"></div><script type=\"text/javascript\">require([\"plotly\"], function(Plotly) { window.PLOTLYENV=window.PLOTLYENV || {};window.PLOTLYENV.BASE_URL=\"https://plot.ly\";Plotly.newPlot(\"20e16e75-d6bc-4047-8aff-523d80ae0f33\", [{\"x\": [0, 1, 2, 3, 4, 5, 6, 7, 8, 9, 10, 11, 12, 13, 14], \"y\": [1.0031253693144837, 0.47244576454598486, 0.2538322438412193, 0.1536656552004081, 0.11502022377245802, 0.09272923004966693, 0.0764997834409713, 0.06665063125699378, 0.07071574616074816, 0.08734555096415986, 0.0849353455018006, 0.07483795558218276, 0.07232892307624983, 0.07018034505917548, 0.14828586668565125], \"type\": \"scatter\", \"name\": \"left and cue_red and wm_red\"}, {\"x\": [0, 1, 2, 3, 4, 5, 6, 7, 8, 9, 10, 11, 12, 13, 14], \"y\": [0.948667793579234, 0.22346289304380496, 0.13963092006027245, 0.12933864124459793, 0.08481215434022205, 0.08284498942935814, 0.06581361717446899, 0.07590850923115211, 0.06203651055710013, 0.0678226289172913, 0.06911417461972191, 0.06355246741418386, 0.062471160529303016, 0.05584494253041461, 0.4630373279158244], \"type\": \"scatter\", \"name\": \"right and cue_red and wm_red\"}, {\"x\": [0, 1, 2, 3, 4, 5, 6, 7, 8, 9, 10, 11, 12, 13, 14], \"y\": [0.4169803149196769, 0.4026111203649616, 0.45915491208375414, 0.3364438678559276, 0.4413749111699692, 0.49516915466506284, 0.6739279804028525, 1.0147572894591232, 0.8667713340562271, 0.42720930838406135, 0.5201112152540872, 0.45771211073140194, 0.3394429417567434, 0.3373527546633037, 0.4731064574483126], \"type\": \"scatter\", \"name\": \"left and cue_green and wm_green\"}, {\"x\": [0, 1, 2, 3, 4, 5, 6, 7, 8, 9, 10, 11, 12, 13, 14], \"y\": [0.452542412105839, 0.41076089948469674, 0.5001887873822406, 0.34510528474016844, 0.4065306382972319, 0.5260610464005271, 0.6827793899793086, 0.9810716274079725, 0.8975313466147774, 0.445474698446398, 0.4901116708994421, 0.4886840517685759, 0.34386251279230473, 0.30829864251696937, 0.43882046654726814], \"type\": \"scatter\", \"name\": \"right and cue_green and wm_green\"}], {}, {\"showLink\": true, \"linkText\": \"Export to plot.ly\"})});</script>"
      ]
     },
     "metadata": {},
     "output_type": "display_data"
    },
    {
     "data": {
      "application/vnd.plotly.v1+json": {
       "data": [
        {
         "name": "left and cue_red and wm_red",
         "type": "scatter",
         "x": [
          0,
          1,
          2,
          3,
          4,
          5,
          6,
          7,
          8,
          9,
          10,
          11,
          12,
          13,
          14
         ],
         "y": [
          0.9989515772262313,
          0.47101830164558656,
          0.25800577530678726,
          0.16191750264724258,
          0.11818544708505152,
          0.09015751841227826,
          0.0688591422178082,
          0.06285222089185516,
          0.06941636538114171,
          0.07297230568519208,
          0.07673411889099468,
          0.07367634687182245,
          0.06927848826141703,
          0.069988483925851,
          0.13089428851565588
         ]
        },
        {
         "name": "right and cue_red and wm_red",
         "type": "scatter",
         "x": [
          0,
          1,
          2,
          3,
          4,
          5,
          6,
          7,
          8,
          9,
          10,
          11,
          12,
          13,
          14
         ],
         "y": [
          0.9503363936951772,
          0.22681226874185978,
          0.13470932662416757,
          0.12838227485003628,
          0.08305000067759438,
          0.07565763884834187,
          0.07312655821915981,
          0.08044231461197082,
          0.06817589458481066,
          0.06951332858276449,
          0.06688484147679141,
          0.06238944773127497,
          0.06864109851911726,
          0.0868892112034576,
          0.45856738909037265
         ]
        },
        {
         "name": "left and cue_green and wm_green",
         "type": "scatter",
         "x": [
          0,
          1,
          2,
          3,
          4,
          5,
          6,
          7,
          8,
          9,
          10,
          11,
          12,
          13,
          14
         ],
         "y": [
          0.41915748072172276,
          0.3984510556872052,
          0.463252655161438,
          0.33836724769894333,
          0.3975446114068577,
          0.49258273638791183,
          0.668171612750651,
          1.013893068592046,
          0.860294317243226,
          0.3976400286313234,
          0.5235370045778319,
          0.45597702939270945,
          0.3352698931105599,
          0.30742722518116183,
          0.4753329295489521
         ]
        },
        {
         "name": "right and cue_green and wm_green",
         "type": "scatter",
         "x": [
          0,
          1,
          2,
          3,
          4,
          5,
          6,
          7,
          8,
          9,
          10,
          11,
          12,
          13,
          14
         ],
         "y": [
          0.4515959049126166,
          0.3653678686899926,
          0.44286948722544717,
          0.34206064515895074,
          0.40952368285518737,
          0.5247506411850367,
          0.6734210985816901,
          0.9798261641612046,
          0.8919203562480076,
          0.36713537111971806,
          0.48621235262653695,
          0.4925528732060872,
          0.306699780390721,
          0.3121644947707023,
          0.44123517799054124
         ]
        }
       ],
       "layout": {}
      },
      "text/html": [
       "<div id=\"17cadbc4-72c9-4a52-b04b-6fc266b05a8a\" style=\"height: 525px; width: 100%;\" class=\"plotly-graph-div\"></div><script type=\"text/javascript\">require([\"plotly\"], function(Plotly) { window.PLOTLYENV=window.PLOTLYENV || {};window.PLOTLYENV.BASE_URL=\"https://plot.ly\";Plotly.newPlot(\"17cadbc4-72c9-4a52-b04b-6fc266b05a8a\", [{\"x\": [0, 1, 2, 3, 4, 5, 6, 7, 8, 9, 10, 11, 12, 13, 14], \"y\": [0.9989515772262313, 0.47101830164558656, 0.25800577530678726, 0.16191750264724258, 0.11818544708505152, 0.09015751841227826, 0.0688591422178082, 0.06285222089185516, 0.06941636538114171, 0.07297230568519208, 0.07673411889099468, 0.07367634687182245, 0.06927848826141703, 0.069988483925851, 0.13089428851565588], \"type\": \"scatter\", \"name\": \"left and cue_red and wm_red\"}, {\"x\": [0, 1, 2, 3, 4, 5, 6, 7, 8, 9, 10, 11, 12, 13, 14], \"y\": [0.9503363936951772, 0.22681226874185978, 0.13470932662416757, 0.12838227485003628, 0.08305000067759438, 0.07565763884834187, 0.07312655821915981, 0.08044231461197082, 0.06817589458481066, 0.06951332858276449, 0.06688484147679141, 0.06238944773127497, 0.06864109851911726, 0.0868892112034576, 0.45856738909037265], \"type\": \"scatter\", \"name\": \"right and cue_red and wm_red\"}, {\"x\": [0, 1, 2, 3, 4, 5, 6, 7, 8, 9, 10, 11, 12, 13, 14], \"y\": [0.41915748072172276, 0.3984510556872052, 0.463252655161438, 0.33836724769894333, 0.3975446114068577, 0.49258273638791183, 0.668171612750651, 1.013893068592046, 0.860294317243226, 0.3976400286313234, 0.5235370045778319, 0.45597702939270945, 0.3352698931105599, 0.30742722518116183, 0.4753329295489521], \"type\": \"scatter\", \"name\": \"left and cue_green and wm_green\"}, {\"x\": [0, 1, 2, 3, 4, 5, 6, 7, 8, 9, 10, 11, 12, 13, 14], \"y\": [0.4515959049126166, 0.3653678686899926, 0.44286948722544717, 0.34206064515895074, 0.40952368285518737, 0.5247506411850367, 0.6734210985816901, 0.9798261641612046, 0.8919203562480076, 0.36713537111971806, 0.48621235262653695, 0.4925528732060872, 0.306699780390721, 0.3121644947707023, 0.44123517799054124], \"type\": \"scatter\", \"name\": \"right and cue_green and wm_green\"}], {}, {\"showLink\": true, \"linkText\": \"Export to plot.ly\"})});</script>"
      ],
      "text/vnd.plotly.v1+html": [
       "<div id=\"17cadbc4-72c9-4a52-b04b-6fc266b05a8a\" style=\"height: 525px; width: 100%;\" class=\"plotly-graph-div\"></div><script type=\"text/javascript\">require([\"plotly\"], function(Plotly) { window.PLOTLYENV=window.PLOTLYENV || {};window.PLOTLYENV.BASE_URL=\"https://plot.ly\";Plotly.newPlot(\"17cadbc4-72c9-4a52-b04b-6fc266b05a8a\", [{\"x\": [0, 1, 2, 3, 4, 5, 6, 7, 8, 9, 10, 11, 12, 13, 14], \"y\": [0.9989515772262313, 0.47101830164558656, 0.25800577530678726, 0.16191750264724258, 0.11818544708505152, 0.09015751841227826, 0.0688591422178082, 0.06285222089185516, 0.06941636538114171, 0.07297230568519208, 0.07673411889099468, 0.07367634687182245, 0.06927848826141703, 0.069988483925851, 0.13089428851565588], \"type\": \"scatter\", \"name\": \"left and cue_red and wm_red\"}, {\"x\": [0, 1, 2, 3, 4, 5, 6, 7, 8, 9, 10, 11, 12, 13, 14], \"y\": [0.9503363936951772, 0.22681226874185978, 0.13470932662416757, 0.12838227485003628, 0.08305000067759438, 0.07565763884834187, 0.07312655821915981, 0.08044231461197082, 0.06817589458481066, 0.06951332858276449, 0.06688484147679141, 0.06238944773127497, 0.06864109851911726, 0.0868892112034576, 0.45856738909037265], \"type\": \"scatter\", \"name\": \"right and cue_red and wm_red\"}, {\"x\": [0, 1, 2, 3, 4, 5, 6, 7, 8, 9, 10, 11, 12, 13, 14], \"y\": [0.41915748072172276, 0.3984510556872052, 0.463252655161438, 0.33836724769894333, 0.3975446114068577, 0.49258273638791183, 0.668171612750651, 1.013893068592046, 0.860294317243226, 0.3976400286313234, 0.5235370045778319, 0.45597702939270945, 0.3352698931105599, 0.30742722518116183, 0.4753329295489521], \"type\": \"scatter\", \"name\": \"left and cue_green and wm_green\"}, {\"x\": [0, 1, 2, 3, 4, 5, 6, 7, 8, 9, 10, 11, 12, 13, 14], \"y\": [0.4515959049126166, 0.3653678686899926, 0.44286948722544717, 0.34206064515895074, 0.40952368285518737, 0.5247506411850367, 0.6734210985816901, 0.9798261641612046, 0.8919203562480076, 0.36713537111971806, 0.48621235262653695, 0.4925528732060872, 0.306699780390721, 0.3121644947707023, 0.44123517799054124], \"type\": \"scatter\", \"name\": \"right and cue_green and wm_green\"}], {}, {\"showLink\": true, \"linkText\": \"Export to plot.ly\"})});</script>"
      ]
     },
     "metadata": {},
     "output_type": "display_data"
    },
    {
     "data": {
      "application/vnd.plotly.v1+json": {
       "data": [
        {
         "name": "left and cue_red and wm_red",
         "type": "scatter",
         "x": [
          0,
          1,
          2,
          3,
          4,
          5,
          6,
          7,
          8,
          9,
          10,
          11,
          12,
          13,
          14
         ],
         "y": [
          0.9983369185150597,
          0.4618118549958228,
          0.26528853280903353,
          0.15332639359218359,
          0.11929934057779845,
          0.09054622852930017,
          0.07231628890210029,
          0.06316868829868505,
          0.06370164742459361,
          0.07090124092656391,
          0.07370204829789961,
          0.06925480294364261,
          0.0714563703228197,
          0.06523228542051285,
          0.13839613849142385
         ]
        },
        {
         "name": "right and cue_red and wm_red",
         "type": "scatter",
         "x": [
          0,
          1,
          2,
          3,
          4,
          5,
          6,
          7,
          8,
          9,
          10,
          11,
          12,
          13,
          14
         ],
         "y": [
          0.9505230304371401,
          0.22146776994014572,
          0.13921592466571608,
          0.12250764239660383,
          0.08598779090629327,
          0.0729361339008342,
          0.07342096845620161,
          0.07655308586673959,
          0.07050966166913442,
          0.07551057259830418,
          0.06935974464293082,
          0.05600876383099118,
          0.058496082695319584,
          0.06204939435489654,
          0.4677207338432767
         ]
        },
        {
         "name": "left and cue_green and wm_green",
         "type": "scatter",
         "x": [
          0,
          1,
          2,
          3,
          4,
          5,
          6,
          7,
          8,
          9,
          10,
          11,
          12,
          13,
          14
         ],
         "y": [
          0.4142910204339203,
          0.3271342897649703,
          0.4154841457856151,
          0.3361527151396071,
          0.3952294808669705,
          0.4951177490040477,
          0.669770224443909,
          1.0197957579749126,
          0.8263955593769812,
          0.39207952665638623,
          0.5262328937372516,
          0.4620251678134427,
          0.33621573796488,
          0.2869117702586387,
          0.4745634222914006
         ]
        },
        {
         "name": "right and cue_green and wm_green",
         "type": "scatter",
         "x": [
          0,
          1,
          2,
          3,
          4,
          5,
          6,
          7,
          8,
          9,
          10,
          11,
          12,
          13,
          14
         ],
         "y": [
          0.45428375106498187,
          0.3288805744045792,
          0.4454825011987862,
          0.34050440353821365,
          0.3890979161307213,
          0.47914295194969514,
          0.6550357980437572,
          0.9800336657634572,
          0.8182276779138324,
          0.36818169592706884,
          0.48317228521772737,
          0.4415501230752059,
          0.30602379102518307,
          0.3082535207974879,
          0.4394891732512922
         ]
        }
       ],
       "layout": {}
      },
      "text/html": [
       "<div id=\"ee1fa2bf-f65d-47ad-bff6-bc5d6598a0b2\" style=\"height: 525px; width: 100%;\" class=\"plotly-graph-div\"></div><script type=\"text/javascript\">require([\"plotly\"], function(Plotly) { window.PLOTLYENV=window.PLOTLYENV || {};window.PLOTLYENV.BASE_URL=\"https://plot.ly\";Plotly.newPlot(\"ee1fa2bf-f65d-47ad-bff6-bc5d6598a0b2\", [{\"x\": [0, 1, 2, 3, 4, 5, 6, 7, 8, 9, 10, 11, 12, 13, 14], \"y\": [0.9983369185150597, 0.4618118549958228, 0.26528853280903353, 0.15332639359218359, 0.11929934057779845, 0.09054622852930017, 0.07231628890210029, 0.06316868829868505, 0.06370164742459361, 0.07090124092656391, 0.07370204829789961, 0.06925480294364261, 0.0714563703228197, 0.06523228542051285, 0.13839613849142385], \"type\": \"scatter\", \"name\": \"left and cue_red and wm_red\"}, {\"x\": [0, 1, 2, 3, 4, 5, 6, 7, 8, 9, 10, 11, 12, 13, 14], \"y\": [0.9505230304371401, 0.22146776994014572, 0.13921592466571608, 0.12250764239660383, 0.08598779090629327, 0.0729361339008342, 0.07342096845620161, 0.07655308586673959, 0.07050966166913442, 0.07551057259830418, 0.06935974464293082, 0.05600876383099118, 0.058496082695319584, 0.06204939435489654, 0.4677207338432767], \"type\": \"scatter\", \"name\": \"right and cue_red and wm_red\"}, {\"x\": [0, 1, 2, 3, 4, 5, 6, 7, 8, 9, 10, 11, 12, 13, 14], \"y\": [0.4142910204339203, 0.3271342897649703, 0.4154841457856151, 0.3361527151396071, 0.3952294808669705, 0.4951177490040477, 0.669770224443909, 1.0197957579749126, 0.8263955593769812, 0.39207952665638623, 0.5262328937372516, 0.4620251678134427, 0.33621573796488, 0.2869117702586387, 0.4745634222914006], \"type\": \"scatter\", \"name\": \"left and cue_green and wm_green\"}, {\"x\": [0, 1, 2, 3, 4, 5, 6, 7, 8, 9, 10, 11, 12, 13, 14], \"y\": [0.45428375106498187, 0.3288805744045792, 0.4454825011987862, 0.34050440353821365, 0.3890979161307213, 0.47914295194969514, 0.6550357980437572, 0.9800336657634572, 0.8182276779138324, 0.36818169592706884, 0.48317228521772737, 0.4415501230752059, 0.30602379102518307, 0.3082535207974879, 0.4394891732512922], \"type\": \"scatter\", \"name\": \"right and cue_green and wm_green\"}], {}, {\"showLink\": true, \"linkText\": \"Export to plot.ly\"})});</script>"
      ],
      "text/vnd.plotly.v1+html": [
       "<div id=\"ee1fa2bf-f65d-47ad-bff6-bc5d6598a0b2\" style=\"height: 525px; width: 100%;\" class=\"plotly-graph-div\"></div><script type=\"text/javascript\">require([\"plotly\"], function(Plotly) { window.PLOTLYENV=window.PLOTLYENV || {};window.PLOTLYENV.BASE_URL=\"https://plot.ly\";Plotly.newPlot(\"ee1fa2bf-f65d-47ad-bff6-bc5d6598a0b2\", [{\"x\": [0, 1, 2, 3, 4, 5, 6, 7, 8, 9, 10, 11, 12, 13, 14], \"y\": [0.9983369185150597, 0.4618118549958228, 0.26528853280903353, 0.15332639359218359, 0.11929934057779845, 0.09054622852930017, 0.07231628890210029, 0.06316868829868505, 0.06370164742459361, 0.07090124092656391, 0.07370204829789961, 0.06925480294364261, 0.0714563703228197, 0.06523228542051285, 0.13839613849142385], \"type\": \"scatter\", \"name\": \"left and cue_red and wm_red\"}, {\"x\": [0, 1, 2, 3, 4, 5, 6, 7, 8, 9, 10, 11, 12, 13, 14], \"y\": [0.9505230304371401, 0.22146776994014572, 0.13921592466571608, 0.12250764239660383, 0.08598779090629327, 0.0729361339008342, 0.07342096845620161, 0.07655308586673959, 0.07050966166913442, 0.07551057259830418, 0.06935974464293082, 0.05600876383099118, 0.058496082695319584, 0.06204939435489654, 0.4677207338432767], \"type\": \"scatter\", \"name\": \"right and cue_red and wm_red\"}, {\"x\": [0, 1, 2, 3, 4, 5, 6, 7, 8, 9, 10, 11, 12, 13, 14], \"y\": [0.4142910204339203, 0.3271342897649703, 0.4154841457856151, 0.3361527151396071, 0.3952294808669705, 0.4951177490040477, 0.669770224443909, 1.0197957579749126, 0.8263955593769812, 0.39207952665638623, 0.5262328937372516, 0.4620251678134427, 0.33621573796488, 0.2869117702586387, 0.4745634222914006], \"type\": \"scatter\", \"name\": \"left and cue_green and wm_green\"}, {\"x\": [0, 1, 2, 3, 4, 5, 6, 7, 8, 9, 10, 11, 12, 13, 14], \"y\": [0.45428375106498187, 0.3288805744045792, 0.4454825011987862, 0.34050440353821365, 0.3890979161307213, 0.47914295194969514, 0.6550357980437572, 0.9800336657634572, 0.8182276779138324, 0.36818169592706884, 0.48317228521772737, 0.4415501230752059, 0.30602379102518307, 0.3082535207974879, 0.4394891732512922], \"type\": \"scatter\", \"name\": \"right and cue_green and wm_green\"}], {}, {\"showLink\": true, \"linkText\": \"Export to plot.ly\"})});</script>"
      ]
     },
     "metadata": {},
     "output_type": "display_data"
    },
    {
     "data": {
      "application/vnd.plotly.v1+json": {
       "data": [
        {
         "name": "left and cue_red and wm_red",
         "type": "scatter",
         "x": [
          0,
          1,
          2,
          3,
          4,
          5,
          6,
          7,
          8,
          9,
          10,
          11,
          12,
          13,
          14
         ],
         "y": [
          1.0018746277417931,
          0.46537287779283676,
          0.2525789406941925,
          0.1453684313735638,
          0.10365069174432939,
          0.08907719547455373,
          0.07289796618947442,
          0.06524745376160601,
          0.06928576341707515,
          0.06909629359002256,
          0.06803293449581393,
          0.06704372692434013,
          0.06790711809762029,
          0.06271061894440422,
          0.13455342473391751
         ]
        },
        {
         "name": "right and cue_red and wm_red",
         "type": "scatter",
         "x": [
          0,
          1,
          2,
          3,
          4,
          5,
          6,
          7,
          8,
          9,
          10,
          11,
          12,
          13,
          14
         ],
         "y": [
          0.9536844741744597,
          0.21247340000779824,
          0.13536466416614568,
          0.12133109592242097,
          0.08708246083911164,
          0.072600566581005,
          0.07192676713541113,
          0.07579808578152403,
          0.0682266541979295,
          0.0764246832556319,
          0.06721744854004141,
          0.0562801828195999,
          0.060055421454882074,
          0.06193943222332554,
          0.462606281935823
         ]
        },
        {
         "name": "left and cue_green and wm_green",
         "type": "scatter",
         "x": [
          0,
          1,
          2,
          3,
          4,
          5,
          6,
          7,
          8,
          9,
          10,
          11,
          12,
          13,
          14
         ],
         "y": [
          0.3044641048492982,
          0.29638596482587865,
          0.37443247206894725,
          0.2823406548882269,
          0.40039285848096084,
          0.40355770381814127,
          0.5976145549478037,
          1.010564300253232,
          0.763113486660525,
          0.36121895107101587,
          0.44453523157219754,
          0.387632051451963,
          0.3321104921461242,
          0.2923771614142632,
          0.43060048858813205
         ]
        },
        {
         "name": "right and cue_green and wm_green",
         "type": "scatter",
         "x": [
          0,
          1,
          2,
          3,
          4,
          5,
          6,
          7,
          8,
          9,
          10,
          11,
          12,
          13,
          14
         ],
         "y": [
          0.29467184795993884,
          0.273482417455454,
          0.3901522353058604,
          0.2762413501831458,
          0.3943724215339881,
          0.4242768343113632,
          0.627058331101928,
          0.973805417365582,
          0.6912438534858574,
          0.3633396592586524,
          0.4803869573147208,
          0.40361420844221907,
          0.30248802790508633,
          0.28479662828859686,
          0.39914524151202824
         ]
        }
       ],
       "layout": {}
      },
      "text/html": [
       "<div id=\"de8e10a6-2aef-4c8a-a6c5-d3c172b6aaf2\" style=\"height: 525px; width: 100%;\" class=\"plotly-graph-div\"></div><script type=\"text/javascript\">require([\"plotly\"], function(Plotly) { window.PLOTLYENV=window.PLOTLYENV || {};window.PLOTLYENV.BASE_URL=\"https://plot.ly\";Plotly.newPlot(\"de8e10a6-2aef-4c8a-a6c5-d3c172b6aaf2\", [{\"x\": [0, 1, 2, 3, 4, 5, 6, 7, 8, 9, 10, 11, 12, 13, 14], \"y\": [1.0018746277417931, 0.46537287779283676, 0.2525789406941925, 0.1453684313735638, 0.10365069174432939, 0.08907719547455373, 0.07289796618947442, 0.06524745376160601, 0.06928576341707515, 0.06909629359002256, 0.06803293449581393, 0.06704372692434013, 0.06790711809762029, 0.06271061894440422, 0.13455342473391751], \"type\": \"scatter\", \"name\": \"left and cue_red and wm_red\"}, {\"x\": [0, 1, 2, 3, 4, 5, 6, 7, 8, 9, 10, 11, 12, 13, 14], \"y\": [0.9536844741744597, 0.21247340000779824, 0.13536466416614568, 0.12133109592242097, 0.08708246083911164, 0.072600566581005, 0.07192676713541113, 0.07579808578152403, 0.0682266541979295, 0.0764246832556319, 0.06721744854004141, 0.0562801828195999, 0.060055421454882074, 0.06193943222332554, 0.462606281935823], \"type\": \"scatter\", \"name\": \"right and cue_red and wm_red\"}, {\"x\": [0, 1, 2, 3, 4, 5, 6, 7, 8, 9, 10, 11, 12, 13, 14], \"y\": [0.3044641048492982, 0.29638596482587865, 0.37443247206894725, 0.2823406548882269, 0.40039285848096084, 0.40355770381814127, 0.5976145549478037, 1.010564300253232, 0.763113486660525, 0.36121895107101587, 0.44453523157219754, 0.387632051451963, 0.3321104921461242, 0.2923771614142632, 0.43060048858813205], \"type\": \"scatter\", \"name\": \"left and cue_green and wm_green\"}, {\"x\": [0, 1, 2, 3, 4, 5, 6, 7, 8, 9, 10, 11, 12, 13, 14], \"y\": [0.29467184795993884, 0.273482417455454, 0.3901522353058604, 0.2762413501831458, 0.3943724215339881, 0.4242768343113632, 0.627058331101928, 0.973805417365582, 0.6912438534858574, 0.3633396592586524, 0.4803869573147208, 0.40361420844221907, 0.30248802790508633, 0.28479662828859686, 0.39914524151202824], \"type\": \"scatter\", \"name\": \"right and cue_green and wm_green\"}], {}, {\"showLink\": true, \"linkText\": \"Export to plot.ly\"})});</script>"
      ],
      "text/vnd.plotly.v1+html": [
       "<div id=\"de8e10a6-2aef-4c8a-a6c5-d3c172b6aaf2\" style=\"height: 525px; width: 100%;\" class=\"plotly-graph-div\"></div><script type=\"text/javascript\">require([\"plotly\"], function(Plotly) { window.PLOTLYENV=window.PLOTLYENV || {};window.PLOTLYENV.BASE_URL=\"https://plot.ly\";Plotly.newPlot(\"de8e10a6-2aef-4c8a-a6c5-d3c172b6aaf2\", [{\"x\": [0, 1, 2, 3, 4, 5, 6, 7, 8, 9, 10, 11, 12, 13, 14], \"y\": [1.0018746277417931, 0.46537287779283676, 0.2525789406941925, 0.1453684313735638, 0.10365069174432939, 0.08907719547455373, 0.07289796618947442, 0.06524745376160601, 0.06928576341707515, 0.06909629359002256, 0.06803293449581393, 0.06704372692434013, 0.06790711809762029, 0.06271061894440422, 0.13455342473391751], \"type\": \"scatter\", \"name\": \"left and cue_red and wm_red\"}, {\"x\": [0, 1, 2, 3, 4, 5, 6, 7, 8, 9, 10, 11, 12, 13, 14], \"y\": [0.9536844741744597, 0.21247340000779824, 0.13536466416614568, 0.12133109592242097, 0.08708246083911164, 0.072600566581005, 0.07192676713541113, 0.07579808578152403, 0.0682266541979295, 0.0764246832556319, 0.06721744854004141, 0.0562801828195999, 0.060055421454882074, 0.06193943222332554, 0.462606281935823], \"type\": \"scatter\", \"name\": \"right and cue_red and wm_red\"}, {\"x\": [0, 1, 2, 3, 4, 5, 6, 7, 8, 9, 10, 11, 12, 13, 14], \"y\": [0.3044641048492982, 0.29638596482587865, 0.37443247206894725, 0.2823406548882269, 0.40039285848096084, 0.40355770381814127, 0.5976145549478037, 1.010564300253232, 0.763113486660525, 0.36121895107101587, 0.44453523157219754, 0.387632051451963, 0.3321104921461242, 0.2923771614142632, 0.43060048858813205], \"type\": \"scatter\", \"name\": \"left and cue_green and wm_green\"}, {\"x\": [0, 1, 2, 3, 4, 5, 6, 7, 8, 9, 10, 11, 12, 13, 14], \"y\": [0.29467184795993884, 0.273482417455454, 0.3901522353058604, 0.2762413501831458, 0.3943724215339881, 0.4242768343113632, 0.627058331101928, 0.973805417365582, 0.6912438534858574, 0.3633396592586524, 0.4803869573147208, 0.40361420844221907, 0.30248802790508633, 0.28479662828859686, 0.39914524151202824], \"type\": \"scatter\", \"name\": \"right and cue_green and wm_green\"}], {}, {\"showLink\": true, \"linkText\": \"Export to plot.ly\"})});</script>"
      ]
     },
     "metadata": {},
     "output_type": "display_data"
    },
    {
     "data": {
      "application/vnd.plotly.v1+json": {
       "data": [
        {
         "name": "left and cue_red and wm_red",
         "type": "scatter",
         "x": [
          0,
          1,
          2,
          3,
          4,
          5,
          6,
          7,
          8,
          9,
          10,
          11,
          12,
          13,
          14
         ],
         "y": [
          0.998744232147897,
          0.4712816333958949,
          0.257934914902638,
          0.153368276421046,
          0.1176232607382961,
          0.09041505353657908,
          0.07746363042830695,
          0.06605306993323612,
          0.07322730286962187,
          0.07227959095079717,
          0.06594833245815379,
          0.07460362914820107,
          0.06611062748822949,
          0.06179922476832389,
          0.12361101466320001
         ]
        },
        {
         "name": "right and cue_red and wm_red",
         "type": "scatter",
         "x": [
          0,
          1,
          2,
          3,
          4,
          5,
          6,
          7,
          8,
          9,
          10,
          11,
          12,
          13,
          14
         ],
         "y": [
          0.9585499996177389,
          0.20211742746760786,
          0.13332236299056466,
          0.11504222936731989,
          0.08912555781717102,
          0.07569356935305305,
          0.07174400747765897,
          0.07441087130185453,
          0.06512349695764597,
          0.0738092896517537,
          0.07000749762828895,
          0.05444433172401364,
          0.06053526145688104,
          0.0603650351567373,
          0.46170426352231764
         ]
        },
        {
         "name": "left and cue_green and wm_green",
         "type": "scatter",
         "x": [
          0,
          1,
          2,
          3,
          4,
          5,
          6,
          7,
          8,
          9,
          10,
          11,
          12,
          13,
          14
         ],
         "y": [
          0.27698152253325725,
          0.2959978835003405,
          0.37799414095748785,
          0.2508464147990831,
          0.4026167850537865,
          0.375904130395333,
          0.5527043940782171,
          1.0146781764505046,
          0.7386524863397563,
          0.36838951477698756,
          0.44898809276463436,
          0.3909874439499229,
          0.3387038266144915,
          0.27060711117169034,
          0.38557372355707686
         ]
        },
        {
         "name": "right and cue_green and wm_green",
         "type": "scatter",
         "x": [
          0,
          1,
          2,
          3,
          4,
          5,
          6,
          7,
          8,
          9,
          10,
          11,
          12,
          13,
          14
         ],
         "y": [
          0.2963426001117523,
          0.27125093702886915,
          0.39804745760365645,
          0.2771955800645798,
          0.39372534344368537,
          0.38115441238647096,
          0.6020067333778547,
          0.9745642431358078,
          0.6921280124598124,
          0.36902325043933193,
          0.47971958673992954,
          0.40662512080012814,
          0.3009618142438554,
          0.25415158298308793,
          0.3946706841276584
         ]
        }
       ],
       "layout": {}
      },
      "text/html": [
       "<div id=\"00b6c481-2d1c-43da-8b0d-d3ce5a7b39a1\" style=\"height: 525px; width: 100%;\" class=\"plotly-graph-div\"></div><script type=\"text/javascript\">require([\"plotly\"], function(Plotly) { window.PLOTLYENV=window.PLOTLYENV || {};window.PLOTLYENV.BASE_URL=\"https://plot.ly\";Plotly.newPlot(\"00b6c481-2d1c-43da-8b0d-d3ce5a7b39a1\", [{\"x\": [0, 1, 2, 3, 4, 5, 6, 7, 8, 9, 10, 11, 12, 13, 14], \"y\": [0.998744232147897, 0.4712816333958949, 0.257934914902638, 0.153368276421046, 0.1176232607382961, 0.09041505353657908, 0.07746363042830695, 0.06605306993323612, 0.07322730286962187, 0.07227959095079717, 0.06594833245815379, 0.07460362914820107, 0.06611062748822949, 0.06179922476832389, 0.12361101466320001], \"type\": \"scatter\", \"name\": \"left and cue_red and wm_red\"}, {\"x\": [0, 1, 2, 3, 4, 5, 6, 7, 8, 9, 10, 11, 12, 13, 14], \"y\": [0.9585499996177389, 0.20211742746760786, 0.13332236299056466, 0.11504222936731989, 0.08912555781717102, 0.07569356935305305, 0.07174400747765897, 0.07441087130185453, 0.06512349695764597, 0.0738092896517537, 0.07000749762828895, 0.05444433172401364, 0.06053526145688104, 0.0603650351567373, 0.46170426352231764], \"type\": \"scatter\", \"name\": \"right and cue_red and wm_red\"}, {\"x\": [0, 1, 2, 3, 4, 5, 6, 7, 8, 9, 10, 11, 12, 13, 14], \"y\": [0.27698152253325725, 0.2959978835003405, 0.37799414095748785, 0.2508464147990831, 0.4026167850537865, 0.375904130395333, 0.5527043940782171, 1.0146781764505046, 0.7386524863397563, 0.36838951477698756, 0.44898809276463436, 0.3909874439499229, 0.3387038266144915, 0.27060711117169034, 0.38557372355707686], \"type\": \"scatter\", \"name\": \"left and cue_green and wm_green\"}, {\"x\": [0, 1, 2, 3, 4, 5, 6, 7, 8, 9, 10, 11, 12, 13, 14], \"y\": [0.2963426001117523, 0.27125093702886915, 0.39804745760365645, 0.2771955800645798, 0.39372534344368537, 0.38115441238647096, 0.6020067333778547, 0.9745642431358078, 0.6921280124598124, 0.36902325043933193, 0.47971958673992954, 0.40662512080012814, 0.3009618142438554, 0.25415158298308793, 0.3946706841276584], \"type\": \"scatter\", \"name\": \"right and cue_green and wm_green\"}], {}, {\"showLink\": true, \"linkText\": \"Export to plot.ly\"})});</script>"
      ],
      "text/vnd.plotly.v1+html": [
       "<div id=\"00b6c481-2d1c-43da-8b0d-d3ce5a7b39a1\" style=\"height: 525px; width: 100%;\" class=\"plotly-graph-div\"></div><script type=\"text/javascript\">require([\"plotly\"], function(Plotly) { window.PLOTLYENV=window.PLOTLYENV || {};window.PLOTLYENV.BASE_URL=\"https://plot.ly\";Plotly.newPlot(\"00b6c481-2d1c-43da-8b0d-d3ce5a7b39a1\", [{\"x\": [0, 1, 2, 3, 4, 5, 6, 7, 8, 9, 10, 11, 12, 13, 14], \"y\": [0.998744232147897, 0.4712816333958949, 0.257934914902638, 0.153368276421046, 0.1176232607382961, 0.09041505353657908, 0.07746363042830695, 0.06605306993323612, 0.07322730286962187, 0.07227959095079717, 0.06594833245815379, 0.07460362914820107, 0.06611062748822949, 0.06179922476832389, 0.12361101466320001], \"type\": \"scatter\", \"name\": \"left and cue_red and wm_red\"}, {\"x\": [0, 1, 2, 3, 4, 5, 6, 7, 8, 9, 10, 11, 12, 13, 14], \"y\": [0.9585499996177389, 0.20211742746760786, 0.13332236299056466, 0.11504222936731989, 0.08912555781717102, 0.07569356935305305, 0.07174400747765897, 0.07441087130185453, 0.06512349695764597, 0.0738092896517537, 0.07000749762828895, 0.05444433172401364, 0.06053526145688104, 0.0603650351567373, 0.46170426352231764], \"type\": \"scatter\", \"name\": \"right and cue_red and wm_red\"}, {\"x\": [0, 1, 2, 3, 4, 5, 6, 7, 8, 9, 10, 11, 12, 13, 14], \"y\": [0.27698152253325725, 0.2959978835003405, 0.37799414095748785, 0.2508464147990831, 0.4026167850537865, 0.375904130395333, 0.5527043940782171, 1.0146781764505046, 0.7386524863397563, 0.36838951477698756, 0.44898809276463436, 0.3909874439499229, 0.3387038266144915, 0.27060711117169034, 0.38557372355707686], \"type\": \"scatter\", \"name\": \"left and cue_green and wm_green\"}, {\"x\": [0, 1, 2, 3, 4, 5, 6, 7, 8, 9, 10, 11, 12, 13, 14], \"y\": [0.2963426001117523, 0.27125093702886915, 0.39804745760365645, 0.2771955800645798, 0.39372534344368537, 0.38115441238647096, 0.6020067333778547, 0.9745642431358078, 0.6921280124598124, 0.36902325043933193, 0.47971958673992954, 0.40662512080012814, 0.3009618142438554, 0.25415158298308793, 0.3946706841276584], \"type\": \"scatter\", \"name\": \"right and cue_green and wm_green\"}], {}, {\"showLink\": true, \"linkText\": \"Export to plot.ly\"})});</script>"
      ]
     },
     "metadata": {},
     "output_type": "display_data"
    },
    {
     "data": {
      "application/vnd.plotly.v1+json": {
       "data": [
        {
         "name": "left and cue_red and wm_red",
         "type": "scatter",
         "x": [
          0,
          1,
          2,
          3,
          4,
          5,
          6,
          7,
          8,
          9,
          10,
          11,
          12,
          13,
          14
         ],
         "y": [
          1.002011199393765,
          0.471862362327497,
          0.2549620546724122,
          0.1677001977159337,
          0.12123851602826141,
          0.08750977946096772,
          0.07427895223343484,
          0.06137747758579737,
          0.06376160620925908,
          0.08408331227196231,
          0.07904044583361713,
          0.07839258526947479,
          0.06993031924155035,
          0.07413488358795617,
          0.11768813866265615
         ]
        },
        {
         "name": "right and cue_red and wm_red",
         "type": "scatter",
         "x": [
          0,
          1,
          2,
          3,
          4,
          5,
          6,
          7,
          8,
          9,
          10,
          11,
          12,
          13,
          14
         ],
         "y": [
          0.9617655904567207,
          0.20371509255665843,
          0.12792311979055793,
          0.10820217297275869,
          0.08672830803047682,
          0.06929881460604082,
          0.06441553272122669,
          0.08622846966686004,
          0.0835124018120248,
          0.07050919748619189,
          0.06916523233842187,
          0.05978015042278062,
          0.06566403025401224,
          0.05863088629399649,
          0.46841120649854306
         ]
        },
        {
         "name": "left and cue_green and wm_green",
         "type": "scatter",
         "x": [
          0,
          1,
          2,
          3,
          4,
          5,
          6,
          7,
          8,
          9,
          10,
          11,
          12,
          13,
          14
         ],
         "y": [
          0.2808152004074975,
          0.26920171701944073,
          0.3779120998210115,
          0.25632151378757384,
          0.36564002460280987,
          0.3375441646994941,
          0.5577270689084391,
          1.0204050355482748,
          0.7103789989179388,
          0.370474701559933,
          0.45360511151842275,
          0.3692441344320362,
          0.2837388806389274,
          0.25096041687713644,
          0.3846108675774421
         ]
        },
        {
         "name": "right and cue_green and wm_green",
         "type": "scatter",
         "x": [
          0,
          1,
          2,
          3,
          4,
          5,
          6,
          7,
          8,
          9,
          10,
          11,
          12,
          13,
          14
         ],
         "y": [
          0.2966887888176932,
          0.2678634063910831,
          0.4023477648468927,
          0.276887281507042,
          0.37217595628197475,
          0.3664105802568516,
          0.5873960307953067,
          0.9749906812850928,
          0.6855625902719544,
          0.3386152850512707,
          0.4819404792780222,
          0.33701545975399605,
          0.30152680576768387,
          0.2548247762270772,
          0.39828792750046016
         ]
        }
       ],
       "layout": {}
      },
      "text/html": [
       "<div id=\"dbbd81a3-5404-4db5-91f8-b0ec6204a73f\" style=\"height: 525px; width: 100%;\" class=\"plotly-graph-div\"></div><script type=\"text/javascript\">require([\"plotly\"], function(Plotly) { window.PLOTLYENV=window.PLOTLYENV || {};window.PLOTLYENV.BASE_URL=\"https://plot.ly\";Plotly.newPlot(\"dbbd81a3-5404-4db5-91f8-b0ec6204a73f\", [{\"x\": [0, 1, 2, 3, 4, 5, 6, 7, 8, 9, 10, 11, 12, 13, 14], \"y\": [1.002011199393765, 0.471862362327497, 0.2549620546724122, 0.1677001977159337, 0.12123851602826141, 0.08750977946096772, 0.07427895223343484, 0.06137747758579737, 0.06376160620925908, 0.08408331227196231, 0.07904044583361713, 0.07839258526947479, 0.06993031924155035, 0.07413488358795617, 0.11768813866265615], \"type\": \"scatter\", \"name\": \"left and cue_red and wm_red\"}, {\"x\": [0, 1, 2, 3, 4, 5, 6, 7, 8, 9, 10, 11, 12, 13, 14], \"y\": [0.9617655904567207, 0.20371509255665843, 0.12792311979055793, 0.10820217297275869, 0.08672830803047682, 0.06929881460604082, 0.06441553272122669, 0.08622846966686004, 0.0835124018120248, 0.07050919748619189, 0.06916523233842187, 0.05978015042278062, 0.06566403025401224, 0.05863088629399649, 0.46841120649854306], \"type\": \"scatter\", \"name\": \"right and cue_red and wm_red\"}, {\"x\": [0, 1, 2, 3, 4, 5, 6, 7, 8, 9, 10, 11, 12, 13, 14], \"y\": [0.2808152004074975, 0.26920171701944073, 0.3779120998210115, 0.25632151378757384, 0.36564002460280987, 0.3375441646994941, 0.5577270689084391, 1.0204050355482748, 0.7103789989179388, 0.370474701559933, 0.45360511151842275, 0.3692441344320362, 0.2837388806389274, 0.25096041687713644, 0.3846108675774421], \"type\": \"scatter\", \"name\": \"left and cue_green and wm_green\"}, {\"x\": [0, 1, 2, 3, 4, 5, 6, 7, 8, 9, 10, 11, 12, 13, 14], \"y\": [0.2966887888176932, 0.2678634063910831, 0.4023477648468927, 0.276887281507042, 0.37217595628197475, 0.3664105802568516, 0.5873960307953067, 0.9749906812850928, 0.6855625902719544, 0.3386152850512707, 0.4819404792780222, 0.33701545975399605, 0.30152680576768387, 0.2548247762270772, 0.39828792750046016], \"type\": \"scatter\", \"name\": \"right and cue_green and wm_green\"}], {}, {\"showLink\": true, \"linkText\": \"Export to plot.ly\"})});</script>"
      ],
      "text/vnd.plotly.v1+html": [
       "<div id=\"dbbd81a3-5404-4db5-91f8-b0ec6204a73f\" style=\"height: 525px; width: 100%;\" class=\"plotly-graph-div\"></div><script type=\"text/javascript\">require([\"plotly\"], function(Plotly) { window.PLOTLYENV=window.PLOTLYENV || {};window.PLOTLYENV.BASE_URL=\"https://plot.ly\";Plotly.newPlot(\"dbbd81a3-5404-4db5-91f8-b0ec6204a73f\", [{\"x\": [0, 1, 2, 3, 4, 5, 6, 7, 8, 9, 10, 11, 12, 13, 14], \"y\": [1.002011199393765, 0.471862362327497, 0.2549620546724122, 0.1677001977159337, 0.12123851602826141, 0.08750977946096772, 0.07427895223343484, 0.06137747758579737, 0.06376160620925908, 0.08408331227196231, 0.07904044583361713, 0.07839258526947479, 0.06993031924155035, 0.07413488358795617, 0.11768813866265615], \"type\": \"scatter\", \"name\": \"left and cue_red and wm_red\"}, {\"x\": [0, 1, 2, 3, 4, 5, 6, 7, 8, 9, 10, 11, 12, 13, 14], \"y\": [0.9617655904567207, 0.20371509255665843, 0.12792311979055793, 0.10820217297275869, 0.08672830803047682, 0.06929881460604082, 0.06441553272122669, 0.08622846966686004, 0.0835124018120248, 0.07050919748619189, 0.06916523233842187, 0.05978015042278062, 0.06566403025401224, 0.05863088629399649, 0.46841120649854306], \"type\": \"scatter\", \"name\": \"right and cue_red and wm_red\"}, {\"x\": [0, 1, 2, 3, 4, 5, 6, 7, 8, 9, 10, 11, 12, 13, 14], \"y\": [0.2808152004074975, 0.26920171701944073, 0.3779120998210115, 0.25632151378757384, 0.36564002460280987, 0.3375441646994941, 0.5577270689084391, 1.0204050355482748, 0.7103789989179388, 0.370474701559933, 0.45360511151842275, 0.3692441344320362, 0.2837388806389274, 0.25096041687713644, 0.3846108675774421], \"type\": \"scatter\", \"name\": \"left and cue_green and wm_green\"}, {\"x\": [0, 1, 2, 3, 4, 5, 6, 7, 8, 9, 10, 11, 12, 13, 14], \"y\": [0.2966887888176932, 0.2678634063910831, 0.4023477648468927, 0.276887281507042, 0.37217595628197475, 0.3664105802568516, 0.5873960307953067, 0.9749906812850928, 0.6855625902719544, 0.3386152850512707, 0.4819404792780222, 0.33701545975399605, 0.30152680576768387, 0.2548247762270772, 0.39828792750046016], \"type\": \"scatter\", \"name\": \"right and cue_green and wm_green\"}], {}, {\"showLink\": true, \"linkText\": \"Export to plot.ly\"})});</script>"
      ]
     },
     "metadata": {},
     "output_type": "display_data"
    }
   ],
   "source": [
    "TD(15,50000,.1,.9,.5)\n",
    "#inputs: nstates,nepisodes,lrate,gamma,td_lambda"
   ]
  },
  {
   "cell_type": "markdown",
   "metadata": {},
   "source": [
    "# Testing Stuff Below"
   ]
  }
 ],
 "metadata": {
  "kernelspec": {
   "display_name": "Python 3",
   "language": "python",
   "name": "python3"
  },
  "language_info": {
   "codemirror_mode": {
    "name": "ipython",
    "version": 3
   },
   "file_extension": ".py",
   "mimetype": "text/x-python",
   "name": "python",
   "nbconvert_exporter": "python",
   "pygments_lexer": "ipython3",
   "version": "3.6.0"
  }
 },
 "nbformat": 4,
 "nbformat_minor": 2
}
