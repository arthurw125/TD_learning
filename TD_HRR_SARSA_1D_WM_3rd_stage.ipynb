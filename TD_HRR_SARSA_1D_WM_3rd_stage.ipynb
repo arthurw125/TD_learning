{
 "cells": [
  {
   "cell_type": "markdown",
   "metadata": {},
   "source": [
    "# Equations"
   ]
  },
  {
   "cell_type": "markdown",
   "metadata": {},
   "source": [
    "$ \\delta = [R_{t+1} + \\gamma Q(s_{t+1}, a_{t+1})] - Q(s_t,a_t) $"
   ]
  },
  {
   "cell_type": "markdown",
   "metadata": {},
   "source": [
    "$ Q(s_t,a_t) = Q(s_t,a_t) + \\alpha\\delta $"
   ]
  },
  {
   "cell_type": "markdown",
   "metadata": {},
   "source": [
    "## Working Memory With SARSA"
   ]
  },
  {
   "cell_type": "code",
   "execution_count": 1,
   "metadata": {},
   "outputs": [
    {
     "data": {
      "text/html": [
       "<script>requirejs.config({paths: { 'plotly': ['https://cdn.plot.ly/plotly-latest.min']},});if(!window.Plotly) {{require(['plotly'],function(plotly) {window.Plotly=plotly;});}}</script>"
      ],
      "text/vnd.plotly.v1+html": [
       "<script>requirejs.config({paths: { 'plotly': ['https://cdn.plot.ly/plotly-latest.min']},});if(!window.Plotly) {{require(['plotly'],function(plotly) {window.Plotly=plotly;});}}</script>"
      ]
     },
     "metadata": {},
     "output_type": "display_data"
    }
   ],
   "source": [
    "#from plotly.graph_objs import Scatter, Layout\n",
    "import matplotlib.pyplot as plt\n",
    "import plotly\n",
    "import numpy as np\n",
    "import random\n",
    "import hrr\n",
    "import math\n",
    "from plotly.graph_objs import Scatter, Layout, Surface\n",
    "plotly.offline.init_notebook_mode(connected=True)"
   ]
  },
  {
   "cell_type": "code",
   "execution_count": 2,
   "metadata": {
    "collapsed": true
   },
   "outputs": [],
   "source": [
    "def log_transform(error):\n",
    "    return math.copysign(1.0,error)*math.log(math.fabs(error)+1,2)"
   ]
  },
  {
   "cell_type": "code",
   "execution_count": 3,
   "metadata": {
    "collapsed": true
   },
   "outputs": [],
   "source": [
    "def argmax(arr_2d,restrict):\n",
    "    max_row = 0\n",
    "    max_col = 0\n",
    "    max_value = arr_2d[0,0]\n",
    "    for row in range(arr_2d.shape[0]):\n",
    "        if row not in restrict:\n",
    "            continue\n",
    "    \n",
    "        for col in range(arr_2d.shape[1]):\n",
    "            if arr_2d[row,col] > max_value:\n",
    "                max_value = arr_2d[row,col]\n",
    "                max_row,max_col = row,col\n",
    "    return list((max_row,max_col))"
   ]
  },
  {
   "cell_type": "code",
   "execution_count": 78,
   "metadata": {},
   "outputs": [],
   "source": [
    "def TD(nstates,nepisodes,lrate,gamma,td_lambda): \n",
    "    #n = 2048\n",
    "    #n = 4096\n",
    "    #n = 8192\n",
    "    #n = 16000\n",
    "    #n = 32000\n",
    "    #n = 64000\n",
    "    n = 128000\n",
    "    #nstates = 50\n",
    "    nactions = 2\n",
    "    nslots = 2\n",
    "    ncolors = 2\n",
    "    \n",
    "    #goal for red is at 0, green at middle\n",
    "    goal = [0,nstates//2,None]\n",
    "    reward = np.zeros((nslots+1,nstates))\n",
    "    \n",
    "    # reward matrix for each context\n",
    "    for x in range(nslots):\n",
    "        reward[x,goal[x]] = 1\n",
    "    \n",
    "    # basic actions are left and right\n",
    "    states = hrr.hrrs(n,nstates)\n",
    "    actions = hrr.hrrs(n,nactions)\n",
    "    \n",
    "    # identity vector\n",
    "    hrr_i = np.zeros(n)\n",
    "    hrr_i[0] = 1\n",
    "    \n",
    "    # external color\n",
    "    external = hrr.hrrs(n,nslots)\n",
    "    external = np.row_stack((external,hrr_i))\n",
    "    \n",
    "    # WorkingMemory\n",
    "    wm_slots = hrr.hrrs(n,nslots)\n",
    "    wm_slots = np.row_stack((wm_slots,hrr_i))\n",
    "    \n",
    "    # precomputed state/state/action/working_memory \n",
    "    #stateactions = hrr.oconvolve(actions,states)\n",
    "    #s_a_wm = hrr.oconvolve(stateactions,wm_slots)\n",
    "    #s_s_a_wm = hrr.oconvolve(s_a_wm,external)\n",
    "    #s_s_a_wm = np.reshape(s_s_a_wm,(nslots+1,nslots+1,nstates,nactions,n))\n",
    "    \n",
    "    stateactions = hrr.oconvolve(actions,states)\n",
    "    s_s_a_wm = hrr.oconvolve(stateactions,hrr.oconvolve(wm_slots,external))\n",
    "    s_s_a_wm = np.reshape(s_s_a_wm,(nslots+1,nslots+1,nstates,nactions,n))\n",
    "    # External representation of color\n",
    "    #ncolors = 2\n",
    "    #colors = hrr.hrrs(n,ncolors)\n",
    "    \n",
    "    # weight vector\n",
    "    W = hrr.hrr(n)\n",
    "    bias = 1\n",
    "\n",
    "    #lrate = 0.1\n",
    "    eligibility = np.zeros(n)\n",
    "    #gamma = 0.9\n",
    "    #td_lambda = 0.5\n",
    "    epsilon = 0.01\n",
    "    #nepisodes = 10000\n",
    "    nsteps = 100\n",
    "    \n",
    "    color_signal = -1\n",
    "    #current_wm = 2\n",
    "    for episode in range(nepisodes):\n",
    "        state = random.randrange(0,nstates)\n",
    "        \n",
    "        # cue to signal context\n",
    "        color_signal = random.randrange(0,ncolors+1)\n",
    "        #color_signal = (color_signal+1)%3\n",
    "        #color_signal = 0\n",
    "        # set external cue\n",
    "        cue = color_signal\n",
    "        color = cue\n",
    "        #print(\"episode:\",episode,\"cue:\",cue)\n",
    "        # set context \n",
    "        #current_wm = 2\n",
    "        \n",
    "        values = np.dot(s_s_a_wm[color,:,state,:,:],W) + bias\n",
    "        possible_wm = np.unique(np.array([2,color_signal]))\n",
    "        wm_action = argmax(values,possible_wm)\n",
    "        current_wm = wm_action[0]\n",
    "        action = wm_action[1]\n",
    "        \n",
    "        if random.random() < epsilon:\n",
    "            action = random.randrange(0,nactions)\n",
    "            current_wm = random.choice(possible_wm)\n",
    "        values = values[current_wm,action]\n",
    "        eligibility = np.zeros(n)\n",
    "        \n",
    "        # turn signal off\n",
    "        \n",
    "        for step in range(nsteps):\n",
    "            r = reward[color,state]\n",
    "            if state == goal[color]:\n",
    "                eligibility = s_s_a_wm[cue,current_wm,state,action,:] + td_lambda*eligibility\n",
    "                #error = r - values[action]\n",
    "                error = r - values\n",
    "                #W += lrate*error*eligibility\n",
    "                W += lrate*log_transform(error)*eligibility\n",
    "                #print(cue,current_wm)\n",
    "                break\n",
    "            \n",
    "            ## update\n",
    "            pstate = state\n",
    "            pvalues = values\n",
    "            paction = action\n",
    "            previous_wm = current_wm\n",
    "            psignal = cue\n",
    "            \n",
    "            eligibility = s_s_a_wm[cue,current_wm,state,action,:] + td_lambda*eligibility\n",
    "            \n",
    "            state = ((state+np.array([-1,1]))%nstates)[action]\n",
    "            # turn off cue\n",
    "            cue = 2\n",
    "            \n",
    "            values = np.dot(s_s_a_wm[cue,:,state,:,:],W) + bias \n",
    "            #action = values.argmax()\n",
    "            possible_wm = np.unique(np.array([2,previous_wm,psignal]))\n",
    "            \n",
    "            wm_action = argmax(values,possible_wm)\n",
    "            \n",
    "            current_wm = wm_action[0]\n",
    "            action = wm_action[1]\n",
    "            \n",
    "            if random.random() < epsilon:\n",
    "                action = random.randrange(0,nactions)\n",
    "                current_wm = random.choice(possible_wm)\n",
    "            \n",
    "            values = values[current_wm,action]\n",
    "            #print('values:',values)\n",
    "            #print()\n",
    "            #error = (r+gamma*values[action])-pvalues[paction]\n",
    "            error = (r+gamma*values)-pvalues\n",
    "            #print('error:',error)\n",
    "            #W += lrate*error*eligibility\n",
    "            W += lrate*log_transform(error)*eligibility\n",
    "            \n",
    "        if episode%1000==0:\n",
    "            V1 = list(map(lambda x: np.dot(x,W)+bias, s_s_a_wm[2,0,:,0,:]))\n",
    "            V2 = list(map(lambda x: np.dot(x,W)+bias, s_s_a_wm[2,0,:,1,:]))\n",
    "            V3 = list(map(lambda x: np.dot(x,W)+bias, s_s_a_wm[2,1,:,0,:]))\n",
    "            V4 = list(map(lambda x: np.dot(x,W)+bias, s_s_a_wm[2,1,:,1,:]))\n",
    "            V5 = list(map(lambda x: np.dot(x,W)+bias, s_s_a_wm[0,2,:,0,:]))\n",
    "            V6 = list(map(lambda x: np.dot(x,W)+bias, s_s_a_wm[0,2,:,1,:]))\n",
    "            V7 = list(map(lambda x: np.dot(x,W)+bias, s_s_a_wm[1,2,:,0,:]))\n",
    "            V8 = list(map(lambda x: np.dot(x,W)+bias, s_s_a_wm[1,2,:,1,:]))\n",
    "            plotly.offline.iplot([\n",
    "            dict(x=[x for x in range(len(V1))] , y=V1, type='scatter',name='left and cue_2 and wm_0'),\n",
    "            dict(x=[x for x in range(len(V1))] , y=V2, type='scatter',name='right and cue_2 and wm_0'),\n",
    "            dict(x=[x for x in range(len(V1))] , y=V3, type='scatter',name='left and cue_2 and wm_1'),\n",
    "            dict(x=[x for x in range(len(V1))] , y=V4, type='scatter',name='right and cue_2 and wm_1'),\n",
    "            dict(x=[x for x in range(len(V1))] , y=V1, type='scatter',name='left and cue_0 and wm_2'),\n",
    "            dict(x=[x for x in range(len(V1))] , y=V2, type='scatter',name='right and cue_0 and wm_2'),\n",
    "            dict(x=[x for x in range(len(V1))] , y=V3, type='scatter',name='left and cue_1 and wm_2'),\n",
    "            dict(x=[x for x in range(len(V1))] , y=V4, type='scatter',name='right and cue_1 and wm_2')\n",
    "            ])\n",
    "            \n",
    "    V1 = list(map(lambda x: np.dot(x,W)+bias, s_s_a_wm[0,0,:,0,:]))\n",
    "    V2 = list(map(lambda x: np.dot(x,W)+bias, s_s_a_wm[0,0,:,1,:]))\n",
    "    V3 = list(map(lambda x: np.dot(x,W)+bias, s_s_a_wm[1,1,:,0,:]))\n",
    "    V4 = list(map(lambda x: np.dot(x,W)+bias, s_s_a_wm[1,1,:,1,:]))\n",
    "    V5 = list(map(lambda x: np.dot(x,W)+bias, s_s_a_wm[1,2,:,0,:]))\n",
    "    V6 = list(map(lambda x: np.dot(x,W)+bias, s_s_a_wm[1,2,:,1,:]))\n",
    "    V7 = list(map(lambda x: np.dot(x,W)+bias, s_s_a_wm[0,2,:,0,:]))\n",
    "    V8 = list(map(lambda x: np.dot(x,W)+bias, s_s_a_wm[0,2,:,1,:]))\n",
    "    V9 = list(map(lambda x: np.dot(x,W)+bias, s_s_a_wm[0,1,:,0,:]))\n",
    "    V10 = list(map(lambda x: np.dot(x,W)+bias, s_s_a_wm[0,1,:,1,:]))\n",
    "    V11 = list(map(lambda x: np.dot(x,W)+bias, s_s_a_wm[1,0,:,0,:]))\n",
    "    V12 = list(map(lambda x: np.dot(x,W)+bias, s_s_a_wm[1,0,:,1,:]))\n",
    "    V13 = list(map(lambda x: np.dot(x,W)+bias, s_s_a_wm[2,2,:,0,:]))\n",
    "    V14 = list(map(lambda x: np.dot(x,W)+bias, s_s_a_wm[2,2,:,1,:]))\n",
    "    V15 = list(map(lambda x: np.dot(x,W)+bias, s_s_a_wm[2,1,:,0,:]))\n",
    "    V16 = list(map(lambda x: np.dot(x,W)+bias, s_s_a_wm[2,1,:,1,:]))\n",
    "    V17 = list(map(lambda x: np.dot(x,W)+bias, s_s_a_wm[2,0,:,0,:]))\n",
    "    V18 = list(map(lambda x: np.dot(x,W)+bias, s_s_a_wm[2,0,:,1,:]))\n",
    "    \n",
    "    plotly.offline.iplot([\n",
    "    dict(x=[x for x in range(len(V1))] , y=V1, type='scatter',name='left and cue_0 and wm_0'),\n",
    "    dict(x=[x for x in range(len(V1))] , y=V2, type='scatter',name='right and cue_0 and wm_0'),\n",
    "    dict(x=[x for x in range(len(V1))] , y=V3, type='scatter',name='left and cue_1 and wm_1'),\n",
    "    dict(x=[x for x in range(len(V1))] , y=V4, type='scatter',name='right and cue_1 and wm_1'),\n",
    "    dict(x=[x for x in range(len(V1))] , y=V5, type='scatter',name='left and cue_1 and wm_2'),\n",
    "    dict(x=[x for x in range(len(V1))] , y=V6, type='scatter',name='right and cue_1 and wm_2'),\n",
    "    dict(x=[x for x in range(len(V1))] , y=V7, type='scatter',name='left and cue_0 and wm_2'),\n",
    "    dict(x=[x for x in range(len(V1))] , y=V8, type='scatter',name='right and cue_0 and wm_2'),\n",
    "    dict(x=[x for x in range(len(V1))] , y=V9, type='scatter',name='left and cue_0 and wm_1'),\n",
    "    dict(x=[x for x in range(len(V1))] , y=V10, type='scatter',name='right and cue_0 and wm_1'),\n",
    "    dict(x=[x for x in range(len(V1))] , y=V11, type='scatter',name='left and cue_1 and wm_0'),\n",
    "    dict(x=[x for x in range(len(V1))] , y=V12, type='scatter',name='right and cue_1 and wm_0'),\n",
    "    dict(x=[x for x in range(len(V1))] , y=V13, type='scatter',name='left and cue_2 and wm_2'),\n",
    "    dict(x=[x for x in range(len(V1))] , y=V14, type='scatter',name='right and cue_2 and wm_2'),\n",
    "    dict(x=[x for x in range(len(V1))] , y=V15, type='scatter',name='left and cue_2 and wm_1'),\n",
    "    dict(x=[x for x in range(len(V1))] , y=V16, type='scatter',name='right and cue_2 and wm_1'),\n",
    "    dict(x=[x for x in range(len(V1))] , y=V15, type='scatter',name='left and cue_2 and wm_0'),\n",
    "    dict(x=[x for x in range(len(V1))] , y=V16, type='scatter',name='right and cue_2 and wm_0')    \n",
    "    ])"
   ]
  },
  {
   "cell_type": "code",
   "execution_count": 79,
   "metadata": {},
   "outputs": [
    {
     "data": {
      "application/vnd.plotly.v1+json": {
       "data": [
        {
         "name": "left and cue_2 and wm_0",
         "type": "scatter",
         "x": [
          0,
          1,
          2,
          3,
          4,
          5,
          6,
          7,
          8,
          9
         ],
         "y": [
          1.0017548051998681,
          0.9971044094459748,
          1.0015127994814876,
          1.003587120922064,
          1.0009712261664758,
          0.9967243253764305,
          0.999891316281392,
          0.996126480483587,
          0.9969731027183711,
          0.9954840284684681
         ]
        },
        {
         "name": "right and cue_2 and wm_0",
         "type": "scatter",
         "x": [
          0,
          1,
          2,
          3,
          4,
          5,
          6,
          7,
          8,
          9
         ],
         "y": [
          0.9971718000966304,
          0.9958385465820857,
          0.9960197324783217,
          0.9991470738581714,
          1.0030432793311013,
          1.0025237722116447,
          1.000979684284301,
          0.9991839763248457,
          0.9993818304251841,
          1.0062515803669596
         ]
        },
        {
         "name": "left and cue_2 and wm_1",
         "type": "scatter",
         "x": [
          0,
          1,
          2,
          3,
          4,
          5,
          6,
          7,
          8,
          9
         ],
         "y": [
          1.002606496248076,
          0.9999651899462189,
          0.999300721091097,
          0.9997016124838372,
          0.9990328447901701,
          1.002960892276072,
          1.0017426849406899,
          0.9996998620384264,
          0.998271948513839,
          0.9965043509869429
         ]
        },
        {
         "name": "right and cue_2 and wm_1",
         "type": "scatter",
         "x": [
          0,
          1,
          2,
          3,
          4,
          5,
          6,
          7,
          8,
          9
         ],
         "y": [
          0.9965237820009172,
          1.0013697162925597,
          1.0019747911400003,
          1.00389823626623,
          0.9997494645076971,
          0.9977615589750127,
          1.002928308838447,
          0.9975526956251741,
          0.9987208339159797,
          1.0003918700945242
         ]
        },
        {
         "name": "left and cue_0 and wm_2",
         "type": "scatter",
         "x": [
          0,
          1,
          2,
          3,
          4,
          5,
          6,
          7,
          8,
          9
         ],
         "y": [
          1.0017548051998681,
          0.9971044094459748,
          1.0015127994814876,
          1.003587120922064,
          1.0009712261664758,
          0.9967243253764305,
          0.999891316281392,
          0.996126480483587,
          0.9969731027183711,
          0.9954840284684681
         ]
        },
        {
         "name": "right and cue_0 and wm_2",
         "type": "scatter",
         "x": [
          0,
          1,
          2,
          3,
          4,
          5,
          6,
          7,
          8,
          9
         ],
         "y": [
          0.9971718000966304,
          0.9958385465820857,
          0.9960197324783217,
          0.9991470738581714,
          1.0030432793311013,
          1.0025237722116447,
          1.000979684284301,
          0.9991839763248457,
          0.9993818304251841,
          1.0062515803669596
         ]
        },
        {
         "name": "left and cue_1 and wm_2",
         "type": "scatter",
         "x": [
          0,
          1,
          2,
          3,
          4,
          5,
          6,
          7,
          8,
          9
         ],
         "y": [
          1.002606496248076,
          0.9999651899462189,
          0.999300721091097,
          0.9997016124838372,
          0.9990328447901701,
          1.002960892276072,
          1.0017426849406899,
          0.9996998620384264,
          0.998271948513839,
          0.9965043509869429
         ]
        },
        {
         "name": "right and cue_1 and wm_2",
         "type": "scatter",
         "x": [
          0,
          1,
          2,
          3,
          4,
          5,
          6,
          7,
          8,
          9
         ],
         "y": [
          0.9965237820009172,
          1.0013697162925597,
          1.0019747911400003,
          1.00389823626623,
          0.9997494645076971,
          0.9977615589750127,
          1.002928308838447,
          0.9975526956251741,
          0.9987208339159797,
          1.0003918700945242
         ]
        }
       ],
       "layout": {}
      },
      "text/html": [
       "<div id=\"c7451ec7-60ac-4ad3-ae46-427a5c888c5d\" style=\"height: 525px; width: 100%;\" class=\"plotly-graph-div\"></div><script type=\"text/javascript\">require([\"plotly\"], function(Plotly) { window.PLOTLYENV=window.PLOTLYENV || {};window.PLOTLYENV.BASE_URL=\"https://plot.ly\";Plotly.newPlot(\"c7451ec7-60ac-4ad3-ae46-427a5c888c5d\", [{\"x\": [0, 1, 2, 3, 4, 5, 6, 7, 8, 9], \"y\": [1.0017548051998681, 0.9971044094459748, 1.0015127994814876, 1.003587120922064, 1.0009712261664758, 0.9967243253764305, 0.999891316281392, 0.996126480483587, 0.9969731027183711, 0.9954840284684681], \"type\": \"scatter\", \"name\": \"left and cue_2 and wm_0\"}, {\"x\": [0, 1, 2, 3, 4, 5, 6, 7, 8, 9], \"y\": [0.9971718000966304, 0.9958385465820857, 0.9960197324783217, 0.9991470738581714, 1.0030432793311013, 1.0025237722116447, 1.000979684284301, 0.9991839763248457, 0.9993818304251841, 1.0062515803669596], \"type\": \"scatter\", \"name\": \"right and cue_2 and wm_0\"}, {\"x\": [0, 1, 2, 3, 4, 5, 6, 7, 8, 9], \"y\": [1.002606496248076, 0.9999651899462189, 0.999300721091097, 0.9997016124838372, 0.9990328447901701, 1.002960892276072, 1.0017426849406899, 0.9996998620384264, 0.998271948513839, 0.9965043509869429], \"type\": \"scatter\", \"name\": \"left and cue_2 and wm_1\"}, {\"x\": [0, 1, 2, 3, 4, 5, 6, 7, 8, 9], \"y\": [0.9965237820009172, 1.0013697162925597, 1.0019747911400003, 1.00389823626623, 0.9997494645076971, 0.9977615589750127, 1.002928308838447, 0.9975526956251741, 0.9987208339159797, 1.0003918700945242], \"type\": \"scatter\", \"name\": \"right and cue_2 and wm_1\"}, {\"x\": [0, 1, 2, 3, 4, 5, 6, 7, 8, 9], \"y\": [1.0017548051998681, 0.9971044094459748, 1.0015127994814876, 1.003587120922064, 1.0009712261664758, 0.9967243253764305, 0.999891316281392, 0.996126480483587, 0.9969731027183711, 0.9954840284684681], \"type\": \"scatter\", \"name\": \"left and cue_0 and wm_2\"}, {\"x\": [0, 1, 2, 3, 4, 5, 6, 7, 8, 9], \"y\": [0.9971718000966304, 0.9958385465820857, 0.9960197324783217, 0.9991470738581714, 1.0030432793311013, 1.0025237722116447, 1.000979684284301, 0.9991839763248457, 0.9993818304251841, 1.0062515803669596], \"type\": \"scatter\", \"name\": \"right and cue_0 and wm_2\"}, {\"x\": [0, 1, 2, 3, 4, 5, 6, 7, 8, 9], \"y\": [1.002606496248076, 0.9999651899462189, 0.999300721091097, 0.9997016124838372, 0.9990328447901701, 1.002960892276072, 1.0017426849406899, 0.9996998620384264, 0.998271948513839, 0.9965043509869429], \"type\": \"scatter\", \"name\": \"left and cue_1 and wm_2\"}, {\"x\": [0, 1, 2, 3, 4, 5, 6, 7, 8, 9], \"y\": [0.9965237820009172, 1.0013697162925597, 1.0019747911400003, 1.00389823626623, 0.9997494645076971, 0.9977615589750127, 1.002928308838447, 0.9975526956251741, 0.9987208339159797, 1.0003918700945242], \"type\": \"scatter\", \"name\": \"right and cue_1 and wm_2\"}], {}, {\"showLink\": true, \"linkText\": \"Export to plot.ly\"})});</script>"
      ],
      "text/vnd.plotly.v1+html": [
       "<div id=\"c7451ec7-60ac-4ad3-ae46-427a5c888c5d\" style=\"height: 525px; width: 100%;\" class=\"plotly-graph-div\"></div><script type=\"text/javascript\">require([\"plotly\"], function(Plotly) { window.PLOTLYENV=window.PLOTLYENV || {};window.PLOTLYENV.BASE_URL=\"https://plot.ly\";Plotly.newPlot(\"c7451ec7-60ac-4ad3-ae46-427a5c888c5d\", [{\"x\": [0, 1, 2, 3, 4, 5, 6, 7, 8, 9], \"y\": [1.0017548051998681, 0.9971044094459748, 1.0015127994814876, 1.003587120922064, 1.0009712261664758, 0.9967243253764305, 0.999891316281392, 0.996126480483587, 0.9969731027183711, 0.9954840284684681], \"type\": \"scatter\", \"name\": \"left and cue_2 and wm_0\"}, {\"x\": [0, 1, 2, 3, 4, 5, 6, 7, 8, 9], \"y\": [0.9971718000966304, 0.9958385465820857, 0.9960197324783217, 0.9991470738581714, 1.0030432793311013, 1.0025237722116447, 1.000979684284301, 0.9991839763248457, 0.9993818304251841, 1.0062515803669596], \"type\": \"scatter\", \"name\": \"right and cue_2 and wm_0\"}, {\"x\": [0, 1, 2, 3, 4, 5, 6, 7, 8, 9], \"y\": [1.002606496248076, 0.9999651899462189, 0.999300721091097, 0.9997016124838372, 0.9990328447901701, 1.002960892276072, 1.0017426849406899, 0.9996998620384264, 0.998271948513839, 0.9965043509869429], \"type\": \"scatter\", \"name\": \"left and cue_2 and wm_1\"}, {\"x\": [0, 1, 2, 3, 4, 5, 6, 7, 8, 9], \"y\": [0.9965237820009172, 1.0013697162925597, 1.0019747911400003, 1.00389823626623, 0.9997494645076971, 0.9977615589750127, 1.002928308838447, 0.9975526956251741, 0.9987208339159797, 1.0003918700945242], \"type\": \"scatter\", \"name\": \"right and cue_2 and wm_1\"}, {\"x\": [0, 1, 2, 3, 4, 5, 6, 7, 8, 9], \"y\": [1.0017548051998681, 0.9971044094459748, 1.0015127994814876, 1.003587120922064, 1.0009712261664758, 0.9967243253764305, 0.999891316281392, 0.996126480483587, 0.9969731027183711, 0.9954840284684681], \"type\": \"scatter\", \"name\": \"left and cue_0 and wm_2\"}, {\"x\": [0, 1, 2, 3, 4, 5, 6, 7, 8, 9], \"y\": [0.9971718000966304, 0.9958385465820857, 0.9960197324783217, 0.9991470738581714, 1.0030432793311013, 1.0025237722116447, 1.000979684284301, 0.9991839763248457, 0.9993818304251841, 1.0062515803669596], \"type\": \"scatter\", \"name\": \"right and cue_0 and wm_2\"}, {\"x\": [0, 1, 2, 3, 4, 5, 6, 7, 8, 9], \"y\": [1.002606496248076, 0.9999651899462189, 0.999300721091097, 0.9997016124838372, 0.9990328447901701, 1.002960892276072, 1.0017426849406899, 0.9996998620384264, 0.998271948513839, 0.9965043509869429], \"type\": \"scatter\", \"name\": \"left and cue_1 and wm_2\"}, {\"x\": [0, 1, 2, 3, 4, 5, 6, 7, 8, 9], \"y\": [0.9965237820009172, 1.0013697162925597, 1.0019747911400003, 1.00389823626623, 0.9997494645076971, 0.9977615589750127, 1.002928308838447, 0.9975526956251741, 0.9987208339159797, 1.0003918700945242], \"type\": \"scatter\", \"name\": \"right and cue_1 and wm_2\"}], {}, {\"showLink\": true, \"linkText\": \"Export to plot.ly\"})});</script>"
      ]
     },
     "metadata": {},
     "output_type": "display_data"
    },
    {
     "data": {
      "application/vnd.plotly.v1+json": {
       "data": [
        {
         "name": "left and cue_2 and wm_0",
         "type": "scatter",
         "x": [
          0,
          1,
          2,
          3,
          4,
          5,
          6,
          7,
          8,
          9
         ],
         "y": [
          0.009080051156263091,
          0.03389303452933723,
          0.005031865535539248,
          0.09691305862682764,
          0.07581900372746364,
          0.008594050080180549,
          0.02070792718572112,
          0.005383558420007595,
          0.010628037481433594,
          0.005401983955976575
         ]
        },
        {
         "name": "right and cue_2 and wm_0",
         "type": "scatter",
         "x": [
          0,
          1,
          2,
          3,
          4,
          5,
          6,
          7,
          8,
          9
         ],
         "y": [
          0.0018197864725140178,
          0.011620497430477883,
          0.007455310231084145,
          0.008338454666664274,
          0.007375152761108006,
          0.006736088837616894,
          0.008221429416283565,
          0.01833499243511194,
          0.052156378922961544,
          -0.00025700462584832273
         ]
        },
        {
         "name": "left and cue_2 and wm_1",
         "type": "scatter",
         "x": [
          0,
          1,
          2,
          3,
          4,
          5,
          6,
          7,
          8,
          9
         ],
         "y": [
          0.5811090207903322,
          0.552871089487585,
          0.6921250438955381,
          0.7510530740020582,
          0.8049846475591801,
          0.997850132814823,
          0.8963014893454081,
          0.796891605851041,
          0.711170468755355,
          0.6434497673639971
         ]
        },
        {
         "name": "right and cue_2 and wm_1",
         "type": "scatter",
         "x": [
          0,
          1,
          2,
          3,
          4,
          5,
          6,
          7,
          8,
          9
         ],
         "y": [
          0.5636730203600246,
          0.6472274345871236,
          0.7188300302740335,
          0.7962872435325983,
          0.9005248685592052,
          0.999434194363668,
          0.8354051816053033,
          0.7499649776486861,
          0.6289433756012215,
          0.602470451037071
         ]
        },
        {
         "name": "left and cue_0 and wm_2",
         "type": "scatter",
         "x": [
          0,
          1,
          2,
          3,
          4,
          5,
          6,
          7,
          8,
          9
         ],
         "y": [
          0.009080051156263091,
          0.03389303452933723,
          0.005031865535539248,
          0.09691305862682764,
          0.07581900372746364,
          0.008594050080180549,
          0.02070792718572112,
          0.005383558420007595,
          0.010628037481433594,
          0.005401983955976575
         ]
        },
        {
         "name": "right and cue_0 and wm_2",
         "type": "scatter",
         "x": [
          0,
          1,
          2,
          3,
          4,
          5,
          6,
          7,
          8,
          9
         ],
         "y": [
          0.0018197864725140178,
          0.011620497430477883,
          0.007455310231084145,
          0.008338454666664274,
          0.007375152761108006,
          0.006736088837616894,
          0.008221429416283565,
          0.01833499243511194,
          0.052156378922961544,
          -0.00025700462584832273
         ]
        },
        {
         "name": "left and cue_1 and wm_2",
         "type": "scatter",
         "x": [
          0,
          1,
          2,
          3,
          4,
          5,
          6,
          7,
          8,
          9
         ],
         "y": [
          0.5811090207903322,
          0.552871089487585,
          0.6921250438955381,
          0.7510530740020582,
          0.8049846475591801,
          0.997850132814823,
          0.8963014893454081,
          0.796891605851041,
          0.711170468755355,
          0.6434497673639971
         ]
        },
        {
         "name": "right and cue_1 and wm_2",
         "type": "scatter",
         "x": [
          0,
          1,
          2,
          3,
          4,
          5,
          6,
          7,
          8,
          9
         ],
         "y": [
          0.5636730203600246,
          0.6472274345871236,
          0.7188300302740335,
          0.7962872435325983,
          0.9005248685592052,
          0.999434194363668,
          0.8354051816053033,
          0.7499649776486861,
          0.6289433756012215,
          0.602470451037071
         ]
        }
       ],
       "layout": {}
      },
      "text/html": [
       "<div id=\"cfd4c148-75da-45dd-8d52-ee2d48132033\" style=\"height: 525px; width: 100%;\" class=\"plotly-graph-div\"></div><script type=\"text/javascript\">require([\"plotly\"], function(Plotly) { window.PLOTLYENV=window.PLOTLYENV || {};window.PLOTLYENV.BASE_URL=\"https://plot.ly\";Plotly.newPlot(\"cfd4c148-75da-45dd-8d52-ee2d48132033\", [{\"x\": [0, 1, 2, 3, 4, 5, 6, 7, 8, 9], \"y\": [0.009080051156263091, 0.03389303452933723, 0.005031865535539248, 0.09691305862682764, 0.07581900372746364, 0.008594050080180549, 0.02070792718572112, 0.005383558420007595, 0.010628037481433594, 0.005401983955976575], \"type\": \"scatter\", \"name\": \"left and cue_2 and wm_0\"}, {\"x\": [0, 1, 2, 3, 4, 5, 6, 7, 8, 9], \"y\": [0.0018197864725140178, 0.011620497430477883, 0.007455310231084145, 0.008338454666664274, 0.007375152761108006, 0.006736088837616894, 0.008221429416283565, 0.01833499243511194, 0.052156378922961544, -0.00025700462584832273], \"type\": \"scatter\", \"name\": \"right and cue_2 and wm_0\"}, {\"x\": [0, 1, 2, 3, 4, 5, 6, 7, 8, 9], \"y\": [0.5811090207903322, 0.552871089487585, 0.6921250438955381, 0.7510530740020582, 0.8049846475591801, 0.997850132814823, 0.8963014893454081, 0.796891605851041, 0.711170468755355, 0.6434497673639971], \"type\": \"scatter\", \"name\": \"left and cue_2 and wm_1\"}, {\"x\": [0, 1, 2, 3, 4, 5, 6, 7, 8, 9], \"y\": [0.5636730203600246, 0.6472274345871236, 0.7188300302740335, 0.7962872435325983, 0.9005248685592052, 0.999434194363668, 0.8354051816053033, 0.7499649776486861, 0.6289433756012215, 0.602470451037071], \"type\": \"scatter\", \"name\": \"right and cue_2 and wm_1\"}, {\"x\": [0, 1, 2, 3, 4, 5, 6, 7, 8, 9], \"y\": [0.009080051156263091, 0.03389303452933723, 0.005031865535539248, 0.09691305862682764, 0.07581900372746364, 0.008594050080180549, 0.02070792718572112, 0.005383558420007595, 0.010628037481433594, 0.005401983955976575], \"type\": \"scatter\", \"name\": \"left and cue_0 and wm_2\"}, {\"x\": [0, 1, 2, 3, 4, 5, 6, 7, 8, 9], \"y\": [0.0018197864725140178, 0.011620497430477883, 0.007455310231084145, 0.008338454666664274, 0.007375152761108006, 0.006736088837616894, 0.008221429416283565, 0.01833499243511194, 0.052156378922961544, -0.00025700462584832273], \"type\": \"scatter\", \"name\": \"right and cue_0 and wm_2\"}, {\"x\": [0, 1, 2, 3, 4, 5, 6, 7, 8, 9], \"y\": [0.5811090207903322, 0.552871089487585, 0.6921250438955381, 0.7510530740020582, 0.8049846475591801, 0.997850132814823, 0.8963014893454081, 0.796891605851041, 0.711170468755355, 0.6434497673639971], \"type\": \"scatter\", \"name\": \"left and cue_1 and wm_2\"}, {\"x\": [0, 1, 2, 3, 4, 5, 6, 7, 8, 9], \"y\": [0.5636730203600246, 0.6472274345871236, 0.7188300302740335, 0.7962872435325983, 0.9005248685592052, 0.999434194363668, 0.8354051816053033, 0.7499649776486861, 0.6289433756012215, 0.602470451037071], \"type\": \"scatter\", \"name\": \"right and cue_1 and wm_2\"}], {}, {\"showLink\": true, \"linkText\": \"Export to plot.ly\"})});</script>"
      ],
      "text/vnd.plotly.v1+html": [
       "<div id=\"cfd4c148-75da-45dd-8d52-ee2d48132033\" style=\"height: 525px; width: 100%;\" class=\"plotly-graph-div\"></div><script type=\"text/javascript\">require([\"plotly\"], function(Plotly) { window.PLOTLYENV=window.PLOTLYENV || {};window.PLOTLYENV.BASE_URL=\"https://plot.ly\";Plotly.newPlot(\"cfd4c148-75da-45dd-8d52-ee2d48132033\", [{\"x\": [0, 1, 2, 3, 4, 5, 6, 7, 8, 9], \"y\": [0.009080051156263091, 0.03389303452933723, 0.005031865535539248, 0.09691305862682764, 0.07581900372746364, 0.008594050080180549, 0.02070792718572112, 0.005383558420007595, 0.010628037481433594, 0.005401983955976575], \"type\": \"scatter\", \"name\": \"left and cue_2 and wm_0\"}, {\"x\": [0, 1, 2, 3, 4, 5, 6, 7, 8, 9], \"y\": [0.0018197864725140178, 0.011620497430477883, 0.007455310231084145, 0.008338454666664274, 0.007375152761108006, 0.006736088837616894, 0.008221429416283565, 0.01833499243511194, 0.052156378922961544, -0.00025700462584832273], \"type\": \"scatter\", \"name\": \"right and cue_2 and wm_0\"}, {\"x\": [0, 1, 2, 3, 4, 5, 6, 7, 8, 9], \"y\": [0.5811090207903322, 0.552871089487585, 0.6921250438955381, 0.7510530740020582, 0.8049846475591801, 0.997850132814823, 0.8963014893454081, 0.796891605851041, 0.711170468755355, 0.6434497673639971], \"type\": \"scatter\", \"name\": \"left and cue_2 and wm_1\"}, {\"x\": [0, 1, 2, 3, 4, 5, 6, 7, 8, 9], \"y\": [0.5636730203600246, 0.6472274345871236, 0.7188300302740335, 0.7962872435325983, 0.9005248685592052, 0.999434194363668, 0.8354051816053033, 0.7499649776486861, 0.6289433756012215, 0.602470451037071], \"type\": \"scatter\", \"name\": \"right and cue_2 and wm_1\"}, {\"x\": [0, 1, 2, 3, 4, 5, 6, 7, 8, 9], \"y\": [0.009080051156263091, 0.03389303452933723, 0.005031865535539248, 0.09691305862682764, 0.07581900372746364, 0.008594050080180549, 0.02070792718572112, 0.005383558420007595, 0.010628037481433594, 0.005401983955976575], \"type\": \"scatter\", \"name\": \"left and cue_0 and wm_2\"}, {\"x\": [0, 1, 2, 3, 4, 5, 6, 7, 8, 9], \"y\": [0.0018197864725140178, 0.011620497430477883, 0.007455310231084145, 0.008338454666664274, 0.007375152761108006, 0.006736088837616894, 0.008221429416283565, 0.01833499243511194, 0.052156378922961544, -0.00025700462584832273], \"type\": \"scatter\", \"name\": \"right and cue_0 and wm_2\"}, {\"x\": [0, 1, 2, 3, 4, 5, 6, 7, 8, 9], \"y\": [0.5811090207903322, 0.552871089487585, 0.6921250438955381, 0.7510530740020582, 0.8049846475591801, 0.997850132814823, 0.8963014893454081, 0.796891605851041, 0.711170468755355, 0.6434497673639971], \"type\": \"scatter\", \"name\": \"left and cue_1 and wm_2\"}, {\"x\": [0, 1, 2, 3, 4, 5, 6, 7, 8, 9], \"y\": [0.5636730203600246, 0.6472274345871236, 0.7188300302740335, 0.7962872435325983, 0.9005248685592052, 0.999434194363668, 0.8354051816053033, 0.7499649776486861, 0.6289433756012215, 0.602470451037071], \"type\": \"scatter\", \"name\": \"right and cue_1 and wm_2\"}], {}, {\"showLink\": true, \"linkText\": \"Export to plot.ly\"})});</script>"
      ]
     },
     "metadata": {},
     "output_type": "display_data"
    },
    {
     "data": {
      "application/vnd.plotly.v1+json": {
       "data": [
        {
         "name": "left and cue_2 and wm_0",
         "type": "scatter",
         "x": [
          0,
          1,
          2,
          3,
          4,
          5,
          6,
          7,
          8,
          9
         ],
         "y": [
          0.017196389754785324,
          0.2299778342838119,
          0.022386522815172505,
          0.015266360578100269,
          0.03542900600778687,
          0.008244358490299475,
          0.012596516270684921,
          0.015821675559478665,
          0.015007682484210472,
          0.010205332544300338
         ]
        },
        {
         "name": "right and cue_2 and wm_0",
         "type": "scatter",
         "x": [
          0,
          1,
          2,
          3,
          4,
          5,
          6,
          7,
          8,
          9
         ],
         "y": [
          -0.00493029071199369,
          0.029489256188210744,
          0.016392150281857254,
          0.01772297034116388,
          0.008582314433844607,
          0.014270807670208496,
          0.0077370516423183044,
          0.016605382746699426,
          0.00653363920904293,
          -0.008643860368334977
         ]
        },
        {
         "name": "left and cue_2 and wm_1",
         "type": "scatter",
         "x": [
          0,
          1,
          2,
          3,
          4,
          5,
          6,
          7,
          8,
          9
         ],
         "y": [
          0.5865091775015153,
          0.5544404701064525,
          0.6372872320272416,
          0.7087355022442917,
          0.7909633401791469,
          0.9997526028922709,
          0.900636295908037,
          0.8102005018375048,
          0.7288779763272395,
          0.6561378976408464
         ]
        },
        {
         "name": "right and cue_2 and wm_1",
         "type": "scatter",
         "x": [
          0,
          1,
          2,
          3,
          4,
          5,
          6,
          7,
          8,
          9
         ],
         "y": [
          0.5581845226356323,
          0.6183479458558184,
          0.692261622553702,
          0.7914524474268215,
          0.8998395781316734,
          0.9982728746884163,
          0.8395982368588271,
          0.7561872630150082,
          0.6363437890748104,
          0.6021741837058073
         ]
        },
        {
         "name": "left and cue_0 and wm_2",
         "type": "scatter",
         "x": [
          0,
          1,
          2,
          3,
          4,
          5,
          6,
          7,
          8,
          9
         ],
         "y": [
          0.017196389754785324,
          0.2299778342838119,
          0.022386522815172505,
          0.015266360578100269,
          0.03542900600778687,
          0.008244358490299475,
          0.012596516270684921,
          0.015821675559478665,
          0.015007682484210472,
          0.010205332544300338
         ]
        },
        {
         "name": "right and cue_0 and wm_2",
         "type": "scatter",
         "x": [
          0,
          1,
          2,
          3,
          4,
          5,
          6,
          7,
          8,
          9
         ],
         "y": [
          -0.00493029071199369,
          0.029489256188210744,
          0.016392150281857254,
          0.01772297034116388,
          0.008582314433844607,
          0.014270807670208496,
          0.0077370516423183044,
          0.016605382746699426,
          0.00653363920904293,
          -0.008643860368334977
         ]
        },
        {
         "name": "left and cue_1 and wm_2",
         "type": "scatter",
         "x": [
          0,
          1,
          2,
          3,
          4,
          5,
          6,
          7,
          8,
          9
         ],
         "y": [
          0.5865091775015153,
          0.5544404701064525,
          0.6372872320272416,
          0.7087355022442917,
          0.7909633401791469,
          0.9997526028922709,
          0.900636295908037,
          0.8102005018375048,
          0.7288779763272395,
          0.6561378976408464
         ]
        },
        {
         "name": "right and cue_1 and wm_2",
         "type": "scatter",
         "x": [
          0,
          1,
          2,
          3,
          4,
          5,
          6,
          7,
          8,
          9
         ],
         "y": [
          0.5581845226356323,
          0.6183479458558184,
          0.692261622553702,
          0.7914524474268215,
          0.8998395781316734,
          0.9982728746884163,
          0.8395982368588271,
          0.7561872630150082,
          0.6363437890748104,
          0.6021741837058073
         ]
        }
       ],
       "layout": {}
      },
      "text/html": [
       "<div id=\"a55fc715-5fcd-462b-9d16-ad9f4c651d45\" style=\"height: 525px; width: 100%;\" class=\"plotly-graph-div\"></div><script type=\"text/javascript\">require([\"plotly\"], function(Plotly) { window.PLOTLYENV=window.PLOTLYENV || {};window.PLOTLYENV.BASE_URL=\"https://plot.ly\";Plotly.newPlot(\"a55fc715-5fcd-462b-9d16-ad9f4c651d45\", [{\"x\": [0, 1, 2, 3, 4, 5, 6, 7, 8, 9], \"y\": [0.017196389754785324, 0.2299778342838119, 0.022386522815172505, 0.015266360578100269, 0.03542900600778687, 0.008244358490299475, 0.012596516270684921, 0.015821675559478665, 0.015007682484210472, 0.010205332544300338], \"type\": \"scatter\", \"name\": \"left and cue_2 and wm_0\"}, {\"x\": [0, 1, 2, 3, 4, 5, 6, 7, 8, 9], \"y\": [-0.00493029071199369, 0.029489256188210744, 0.016392150281857254, 0.01772297034116388, 0.008582314433844607, 0.014270807670208496, 0.0077370516423183044, 0.016605382746699426, 0.00653363920904293, -0.008643860368334977], \"type\": \"scatter\", \"name\": \"right and cue_2 and wm_0\"}, {\"x\": [0, 1, 2, 3, 4, 5, 6, 7, 8, 9], \"y\": [0.5865091775015153, 0.5544404701064525, 0.6372872320272416, 0.7087355022442917, 0.7909633401791469, 0.9997526028922709, 0.900636295908037, 0.8102005018375048, 0.7288779763272395, 0.6561378976408464], \"type\": \"scatter\", \"name\": \"left and cue_2 and wm_1\"}, {\"x\": [0, 1, 2, 3, 4, 5, 6, 7, 8, 9], \"y\": [0.5581845226356323, 0.6183479458558184, 0.692261622553702, 0.7914524474268215, 0.8998395781316734, 0.9982728746884163, 0.8395982368588271, 0.7561872630150082, 0.6363437890748104, 0.6021741837058073], \"type\": \"scatter\", \"name\": \"right and cue_2 and wm_1\"}, {\"x\": [0, 1, 2, 3, 4, 5, 6, 7, 8, 9], \"y\": [0.017196389754785324, 0.2299778342838119, 0.022386522815172505, 0.015266360578100269, 0.03542900600778687, 0.008244358490299475, 0.012596516270684921, 0.015821675559478665, 0.015007682484210472, 0.010205332544300338], \"type\": \"scatter\", \"name\": \"left and cue_0 and wm_2\"}, {\"x\": [0, 1, 2, 3, 4, 5, 6, 7, 8, 9], \"y\": [-0.00493029071199369, 0.029489256188210744, 0.016392150281857254, 0.01772297034116388, 0.008582314433844607, 0.014270807670208496, 0.0077370516423183044, 0.016605382746699426, 0.00653363920904293, -0.008643860368334977], \"type\": \"scatter\", \"name\": \"right and cue_0 and wm_2\"}, {\"x\": [0, 1, 2, 3, 4, 5, 6, 7, 8, 9], \"y\": [0.5865091775015153, 0.5544404701064525, 0.6372872320272416, 0.7087355022442917, 0.7909633401791469, 0.9997526028922709, 0.900636295908037, 0.8102005018375048, 0.7288779763272395, 0.6561378976408464], \"type\": \"scatter\", \"name\": \"left and cue_1 and wm_2\"}, {\"x\": [0, 1, 2, 3, 4, 5, 6, 7, 8, 9], \"y\": [0.5581845226356323, 0.6183479458558184, 0.692261622553702, 0.7914524474268215, 0.8998395781316734, 0.9982728746884163, 0.8395982368588271, 0.7561872630150082, 0.6363437890748104, 0.6021741837058073], \"type\": \"scatter\", \"name\": \"right and cue_1 and wm_2\"}], {}, {\"showLink\": true, \"linkText\": \"Export to plot.ly\"})});</script>"
      ],
      "text/vnd.plotly.v1+html": [
       "<div id=\"a55fc715-5fcd-462b-9d16-ad9f4c651d45\" style=\"height: 525px; width: 100%;\" class=\"plotly-graph-div\"></div><script type=\"text/javascript\">require([\"plotly\"], function(Plotly) { window.PLOTLYENV=window.PLOTLYENV || {};window.PLOTLYENV.BASE_URL=\"https://plot.ly\";Plotly.newPlot(\"a55fc715-5fcd-462b-9d16-ad9f4c651d45\", [{\"x\": [0, 1, 2, 3, 4, 5, 6, 7, 8, 9], \"y\": [0.017196389754785324, 0.2299778342838119, 0.022386522815172505, 0.015266360578100269, 0.03542900600778687, 0.008244358490299475, 0.012596516270684921, 0.015821675559478665, 0.015007682484210472, 0.010205332544300338], \"type\": \"scatter\", \"name\": \"left and cue_2 and wm_0\"}, {\"x\": [0, 1, 2, 3, 4, 5, 6, 7, 8, 9], \"y\": [-0.00493029071199369, 0.029489256188210744, 0.016392150281857254, 0.01772297034116388, 0.008582314433844607, 0.014270807670208496, 0.0077370516423183044, 0.016605382746699426, 0.00653363920904293, -0.008643860368334977], \"type\": \"scatter\", \"name\": \"right and cue_2 and wm_0\"}, {\"x\": [0, 1, 2, 3, 4, 5, 6, 7, 8, 9], \"y\": [0.5865091775015153, 0.5544404701064525, 0.6372872320272416, 0.7087355022442917, 0.7909633401791469, 0.9997526028922709, 0.900636295908037, 0.8102005018375048, 0.7288779763272395, 0.6561378976408464], \"type\": \"scatter\", \"name\": \"left and cue_2 and wm_1\"}, {\"x\": [0, 1, 2, 3, 4, 5, 6, 7, 8, 9], \"y\": [0.5581845226356323, 0.6183479458558184, 0.692261622553702, 0.7914524474268215, 0.8998395781316734, 0.9982728746884163, 0.8395982368588271, 0.7561872630150082, 0.6363437890748104, 0.6021741837058073], \"type\": \"scatter\", \"name\": \"right and cue_2 and wm_1\"}, {\"x\": [0, 1, 2, 3, 4, 5, 6, 7, 8, 9], \"y\": [0.017196389754785324, 0.2299778342838119, 0.022386522815172505, 0.015266360578100269, 0.03542900600778687, 0.008244358490299475, 0.012596516270684921, 0.015821675559478665, 0.015007682484210472, 0.010205332544300338], \"type\": \"scatter\", \"name\": \"left and cue_0 and wm_2\"}, {\"x\": [0, 1, 2, 3, 4, 5, 6, 7, 8, 9], \"y\": [-0.00493029071199369, 0.029489256188210744, 0.016392150281857254, 0.01772297034116388, 0.008582314433844607, 0.014270807670208496, 0.0077370516423183044, 0.016605382746699426, 0.00653363920904293, -0.008643860368334977], \"type\": \"scatter\", \"name\": \"right and cue_0 and wm_2\"}, {\"x\": [0, 1, 2, 3, 4, 5, 6, 7, 8, 9], \"y\": [0.5865091775015153, 0.5544404701064525, 0.6372872320272416, 0.7087355022442917, 0.7909633401791469, 0.9997526028922709, 0.900636295908037, 0.8102005018375048, 0.7288779763272395, 0.6561378976408464], \"type\": \"scatter\", \"name\": \"left and cue_1 and wm_2\"}, {\"x\": [0, 1, 2, 3, 4, 5, 6, 7, 8, 9], \"y\": [0.5581845226356323, 0.6183479458558184, 0.692261622553702, 0.7914524474268215, 0.8998395781316734, 0.9982728746884163, 0.8395982368588271, 0.7561872630150082, 0.6363437890748104, 0.6021741837058073], \"type\": \"scatter\", \"name\": \"right and cue_1 and wm_2\"}], {}, {\"showLink\": true, \"linkText\": \"Export to plot.ly\"})});</script>"
      ]
     },
     "metadata": {},
     "output_type": "display_data"
    },
    {
     "data": {
      "application/vnd.plotly.v1+json": {
       "data": [
        {
         "name": "left and cue_2 and wm_0",
         "type": "scatter",
         "x": [
          0,
          1,
          2,
          3,
          4,
          5,
          6,
          7,
          8,
          9
         ],
         "y": [
          0.129675766248744,
          0.00906314613174053,
          0.008785458713577832,
          0.008706684258904529,
          0.01778181092288067,
          0.01426117934192439,
          0.010136378753514141,
          0.009881131481647487,
          0.011909025166055187,
          0.01599754365466355
         ]
        },
        {
         "name": "right and cue_2 and wm_0",
         "type": "scatter",
         "x": [
          0,
          1,
          2,
          3,
          4,
          5,
          6,
          7,
          8,
          9
         ],
         "y": [
          0.00931427217841363,
          0.008871477866985611,
          0.008566764984921482,
          0.01192489956719367,
          0.015823403989371432,
          0.009341242748989287,
          0.010332228378451047,
          0.011198289734263178,
          0.009134673381454128,
          0.012969647093635683
         ]
        },
        {
         "name": "left and cue_2 and wm_1",
         "type": "scatter",
         "x": [
          0,
          1,
          2,
          3,
          4,
          5,
          6,
          7,
          8,
          9
         ],
         "y": [
          0.5884036410932396,
          0.556742066693413,
          0.6251896141651648,
          0.7086049366623712,
          0.7911930205269162,
          1.000102593874318,
          0.9001689276178362,
          0.8098200929640151,
          0.7288672597025057,
          0.6539166701596549
         ]
        },
        {
         "name": "right and cue_2 and wm_1",
         "type": "scatter",
         "x": [
          0,
          1,
          2,
          3,
          4,
          5,
          6,
          7,
          8,
          9
         ],
         "y": [
          0.5564716126527101,
          0.6134448084282528,
          0.728850690743931,
          0.8101183443516424,
          0.8998731802821923,
          0.999154260432002,
          0.8428609836321915,
          0.7214920966416549,
          0.6368250592289435,
          0.6035850065564198
         ]
        },
        {
         "name": "left and cue_0 and wm_2",
         "type": "scatter",
         "x": [
          0,
          1,
          2,
          3,
          4,
          5,
          6,
          7,
          8,
          9
         ],
         "y": [
          0.129675766248744,
          0.00906314613174053,
          0.008785458713577832,
          0.008706684258904529,
          0.01778181092288067,
          0.01426117934192439,
          0.010136378753514141,
          0.009881131481647487,
          0.011909025166055187,
          0.01599754365466355
         ]
        },
        {
         "name": "right and cue_0 and wm_2",
         "type": "scatter",
         "x": [
          0,
          1,
          2,
          3,
          4,
          5,
          6,
          7,
          8,
          9
         ],
         "y": [
          0.00931427217841363,
          0.008871477866985611,
          0.008566764984921482,
          0.01192489956719367,
          0.015823403989371432,
          0.009341242748989287,
          0.010332228378451047,
          0.011198289734263178,
          0.009134673381454128,
          0.012969647093635683
         ]
        },
        {
         "name": "left and cue_1 and wm_2",
         "type": "scatter",
         "x": [
          0,
          1,
          2,
          3,
          4,
          5,
          6,
          7,
          8,
          9
         ],
         "y": [
          0.5884036410932396,
          0.556742066693413,
          0.6251896141651648,
          0.7086049366623712,
          0.7911930205269162,
          1.000102593874318,
          0.9001689276178362,
          0.8098200929640151,
          0.7288672597025057,
          0.6539166701596549
         ]
        },
        {
         "name": "right and cue_1 and wm_2",
         "type": "scatter",
         "x": [
          0,
          1,
          2,
          3,
          4,
          5,
          6,
          7,
          8,
          9
         ],
         "y": [
          0.5564716126527101,
          0.6134448084282528,
          0.728850690743931,
          0.8101183443516424,
          0.8998731802821923,
          0.999154260432002,
          0.8428609836321915,
          0.7214920966416549,
          0.6368250592289435,
          0.6035850065564198
         ]
        }
       ],
       "layout": {}
      },
      "text/html": [
       "<div id=\"9b9c4fad-865c-4ff4-8516-1c38fb6d15b3\" style=\"height: 525px; width: 100%;\" class=\"plotly-graph-div\"></div><script type=\"text/javascript\">require([\"plotly\"], function(Plotly) { window.PLOTLYENV=window.PLOTLYENV || {};window.PLOTLYENV.BASE_URL=\"https://plot.ly\";Plotly.newPlot(\"9b9c4fad-865c-4ff4-8516-1c38fb6d15b3\", [{\"x\": [0, 1, 2, 3, 4, 5, 6, 7, 8, 9], \"y\": [0.129675766248744, 0.00906314613174053, 0.008785458713577832, 0.008706684258904529, 0.01778181092288067, 0.01426117934192439, 0.010136378753514141, 0.009881131481647487, 0.011909025166055187, 0.01599754365466355], \"type\": \"scatter\", \"name\": \"left and cue_2 and wm_0\"}, {\"x\": [0, 1, 2, 3, 4, 5, 6, 7, 8, 9], \"y\": [0.00931427217841363, 0.008871477866985611, 0.008566764984921482, 0.01192489956719367, 0.015823403989371432, 0.009341242748989287, 0.010332228378451047, 0.011198289734263178, 0.009134673381454128, 0.012969647093635683], \"type\": \"scatter\", \"name\": \"right and cue_2 and wm_0\"}, {\"x\": [0, 1, 2, 3, 4, 5, 6, 7, 8, 9], \"y\": [0.5884036410932396, 0.556742066693413, 0.6251896141651648, 0.7086049366623712, 0.7911930205269162, 1.000102593874318, 0.9001689276178362, 0.8098200929640151, 0.7288672597025057, 0.6539166701596549], \"type\": \"scatter\", \"name\": \"left and cue_2 and wm_1\"}, {\"x\": [0, 1, 2, 3, 4, 5, 6, 7, 8, 9], \"y\": [0.5564716126527101, 0.6134448084282528, 0.728850690743931, 0.8101183443516424, 0.8998731802821923, 0.999154260432002, 0.8428609836321915, 0.7214920966416549, 0.6368250592289435, 0.6035850065564198], \"type\": \"scatter\", \"name\": \"right and cue_2 and wm_1\"}, {\"x\": [0, 1, 2, 3, 4, 5, 6, 7, 8, 9], \"y\": [0.129675766248744, 0.00906314613174053, 0.008785458713577832, 0.008706684258904529, 0.01778181092288067, 0.01426117934192439, 0.010136378753514141, 0.009881131481647487, 0.011909025166055187, 0.01599754365466355], \"type\": \"scatter\", \"name\": \"left and cue_0 and wm_2\"}, {\"x\": [0, 1, 2, 3, 4, 5, 6, 7, 8, 9], \"y\": [0.00931427217841363, 0.008871477866985611, 0.008566764984921482, 0.01192489956719367, 0.015823403989371432, 0.009341242748989287, 0.010332228378451047, 0.011198289734263178, 0.009134673381454128, 0.012969647093635683], \"type\": \"scatter\", \"name\": \"right and cue_0 and wm_2\"}, {\"x\": [0, 1, 2, 3, 4, 5, 6, 7, 8, 9], \"y\": [0.5884036410932396, 0.556742066693413, 0.6251896141651648, 0.7086049366623712, 0.7911930205269162, 1.000102593874318, 0.9001689276178362, 0.8098200929640151, 0.7288672597025057, 0.6539166701596549], \"type\": \"scatter\", \"name\": \"left and cue_1 and wm_2\"}, {\"x\": [0, 1, 2, 3, 4, 5, 6, 7, 8, 9], \"y\": [0.5564716126527101, 0.6134448084282528, 0.728850690743931, 0.8101183443516424, 0.8998731802821923, 0.999154260432002, 0.8428609836321915, 0.7214920966416549, 0.6368250592289435, 0.6035850065564198], \"type\": \"scatter\", \"name\": \"right and cue_1 and wm_2\"}], {}, {\"showLink\": true, \"linkText\": \"Export to plot.ly\"})});</script>"
      ],
      "text/vnd.plotly.v1+html": [
       "<div id=\"9b9c4fad-865c-4ff4-8516-1c38fb6d15b3\" style=\"height: 525px; width: 100%;\" class=\"plotly-graph-div\"></div><script type=\"text/javascript\">require([\"plotly\"], function(Plotly) { window.PLOTLYENV=window.PLOTLYENV || {};window.PLOTLYENV.BASE_URL=\"https://plot.ly\";Plotly.newPlot(\"9b9c4fad-865c-4ff4-8516-1c38fb6d15b3\", [{\"x\": [0, 1, 2, 3, 4, 5, 6, 7, 8, 9], \"y\": [0.129675766248744, 0.00906314613174053, 0.008785458713577832, 0.008706684258904529, 0.01778181092288067, 0.01426117934192439, 0.010136378753514141, 0.009881131481647487, 0.011909025166055187, 0.01599754365466355], \"type\": \"scatter\", \"name\": \"left and cue_2 and wm_0\"}, {\"x\": [0, 1, 2, 3, 4, 5, 6, 7, 8, 9], \"y\": [0.00931427217841363, 0.008871477866985611, 0.008566764984921482, 0.01192489956719367, 0.015823403989371432, 0.009341242748989287, 0.010332228378451047, 0.011198289734263178, 0.009134673381454128, 0.012969647093635683], \"type\": \"scatter\", \"name\": \"right and cue_2 and wm_0\"}, {\"x\": [0, 1, 2, 3, 4, 5, 6, 7, 8, 9], \"y\": [0.5884036410932396, 0.556742066693413, 0.6251896141651648, 0.7086049366623712, 0.7911930205269162, 1.000102593874318, 0.9001689276178362, 0.8098200929640151, 0.7288672597025057, 0.6539166701596549], \"type\": \"scatter\", \"name\": \"left and cue_2 and wm_1\"}, {\"x\": [0, 1, 2, 3, 4, 5, 6, 7, 8, 9], \"y\": [0.5564716126527101, 0.6134448084282528, 0.728850690743931, 0.8101183443516424, 0.8998731802821923, 0.999154260432002, 0.8428609836321915, 0.7214920966416549, 0.6368250592289435, 0.6035850065564198], \"type\": \"scatter\", \"name\": \"right and cue_2 and wm_1\"}, {\"x\": [0, 1, 2, 3, 4, 5, 6, 7, 8, 9], \"y\": [0.129675766248744, 0.00906314613174053, 0.008785458713577832, 0.008706684258904529, 0.01778181092288067, 0.01426117934192439, 0.010136378753514141, 0.009881131481647487, 0.011909025166055187, 0.01599754365466355], \"type\": \"scatter\", \"name\": \"left and cue_0 and wm_2\"}, {\"x\": [0, 1, 2, 3, 4, 5, 6, 7, 8, 9], \"y\": [0.00931427217841363, 0.008871477866985611, 0.008566764984921482, 0.01192489956719367, 0.015823403989371432, 0.009341242748989287, 0.010332228378451047, 0.011198289734263178, 0.009134673381454128, 0.012969647093635683], \"type\": \"scatter\", \"name\": \"right and cue_0 and wm_2\"}, {\"x\": [0, 1, 2, 3, 4, 5, 6, 7, 8, 9], \"y\": [0.5884036410932396, 0.556742066693413, 0.6251896141651648, 0.7086049366623712, 0.7911930205269162, 1.000102593874318, 0.9001689276178362, 0.8098200929640151, 0.7288672597025057, 0.6539166701596549], \"type\": \"scatter\", \"name\": \"left and cue_1 and wm_2\"}, {\"x\": [0, 1, 2, 3, 4, 5, 6, 7, 8, 9], \"y\": [0.5564716126527101, 0.6134448084282528, 0.728850690743931, 0.8101183443516424, 0.8998731802821923, 0.999154260432002, 0.8428609836321915, 0.7214920966416549, 0.6368250592289435, 0.6035850065564198], \"type\": \"scatter\", \"name\": \"right and cue_1 and wm_2\"}], {}, {\"showLink\": true, \"linkText\": \"Export to plot.ly\"})});</script>"
      ]
     },
     "metadata": {},
     "output_type": "display_data"
    },
    {
     "ename": "KeyboardInterrupt",
     "evalue": "",
     "output_type": "error",
     "traceback": [
      "\u001b[0;31m---------------------------------------------------------------------------\u001b[0m",
      "\u001b[0;31mKeyboardInterrupt\u001b[0m                         Traceback (most recent call last)",
      "\u001b[0;32m<ipython-input-79-6c80993007b4>\u001b[0m in \u001b[0;36m<module>\u001b[0;34m()\u001b[0m\n\u001b[0;32m----> 1\u001b[0;31m \u001b[0mTD\u001b[0m\u001b[0;34m(\u001b[0m\u001b[0;36m10\u001b[0m\u001b[0;34m,\u001b[0m\u001b[0;36m10000\u001b[0m\u001b[0;34m,\u001b[0m\u001b[0;36m.1\u001b[0m\u001b[0;34m,\u001b[0m\u001b[0;36m.9\u001b[0m\u001b[0;34m,\u001b[0m\u001b[0;36m.5\u001b[0m\u001b[0;34m)\u001b[0m\u001b[0;34m\u001b[0m\u001b[0m\n\u001b[0m\u001b[1;32m      2\u001b[0m \u001b[0;31m#inputs: nstates,nepisodes,lrate,gamma,td_lambda\u001b[0m\u001b[0;34m\u001b[0m\u001b[0;34m\u001b[0m\u001b[0m\n",
      "\u001b[0;32m<ipython-input-78-cd8d47119ff2>\u001b[0m in \u001b[0;36mTD\u001b[0;34m(nstates, nepisodes, lrate, gamma, td_lambda)\u001b[0m\n\u001b[1;32m    114\u001b[0m             \u001b[0mpsignal\u001b[0m \u001b[0;34m=\u001b[0m \u001b[0mcue\u001b[0m\u001b[0;34m\u001b[0m\u001b[0m\n\u001b[1;32m    115\u001b[0m \u001b[0;34m\u001b[0m\u001b[0m\n\u001b[0;32m--> 116\u001b[0;31m             \u001b[0meligibility\u001b[0m \u001b[0;34m=\u001b[0m \u001b[0ms_s_a_wm\u001b[0m\u001b[0;34m[\u001b[0m\u001b[0mcue\u001b[0m\u001b[0;34m,\u001b[0m\u001b[0mcurrent_wm\u001b[0m\u001b[0;34m,\u001b[0m\u001b[0mstate\u001b[0m\u001b[0;34m,\u001b[0m\u001b[0maction\u001b[0m\u001b[0;34m,\u001b[0m\u001b[0;34m:\u001b[0m\u001b[0;34m]\u001b[0m \u001b[0;34m+\u001b[0m \u001b[0mtd_lambda\u001b[0m\u001b[0;34m*\u001b[0m\u001b[0meligibility\u001b[0m\u001b[0;34m\u001b[0m\u001b[0m\n\u001b[0m\u001b[1;32m    117\u001b[0m \u001b[0;34m\u001b[0m\u001b[0m\n\u001b[1;32m    118\u001b[0m             \u001b[0mstate\u001b[0m \u001b[0;34m=\u001b[0m \u001b[0;34m(\u001b[0m\u001b[0;34m(\u001b[0m\u001b[0mstate\u001b[0m\u001b[0;34m+\u001b[0m\u001b[0mnp\u001b[0m\u001b[0;34m.\u001b[0m\u001b[0marray\u001b[0m\u001b[0;34m(\u001b[0m\u001b[0;34m[\u001b[0m\u001b[0;34m-\u001b[0m\u001b[0;36m1\u001b[0m\u001b[0;34m,\u001b[0m\u001b[0;36m1\u001b[0m\u001b[0;34m]\u001b[0m\u001b[0;34m)\u001b[0m\u001b[0;34m)\u001b[0m\u001b[0;34m%\u001b[0m\u001b[0mnstates\u001b[0m\u001b[0;34m)\u001b[0m\u001b[0;34m[\u001b[0m\u001b[0maction\u001b[0m\u001b[0;34m]\u001b[0m\u001b[0;34m\u001b[0m\u001b[0m\n",
      "\u001b[0;31mKeyboardInterrupt\u001b[0m: "
     ]
    }
   ],
   "source": [
    "TD(10,10000,.1,.9,.5)\n",
    "#inputs: nstates,nepisodes,lrate,gamma,td_lambda"
   ]
  },
  {
   "cell_type": "markdown",
   "metadata": {},
   "source": [
    "# Testing Stuff Below"
   ]
  }
 ],
 "metadata": {
  "kernelspec": {
   "display_name": "Python 3",
   "language": "python",
   "name": "python3"
  },
  "language_info": {
   "codemirror_mode": {
    "name": "ipython",
    "version": 3
   },
   "file_extension": ".py",
   "mimetype": "text/x-python",
   "name": "python",
   "nbconvert_exporter": "python",
   "pygments_lexer": "ipython3",
   "version": "3.6.0"
  }
 },
 "nbformat": 4,
 "nbformat_minor": 2
}
