{
 "cells": [
  {
   "cell_type": "markdown",
   "metadata": {},
   "source": [
    "# Equations"
   ]
  },
  {
   "cell_type": "markdown",
   "metadata": {},
   "source": [
    "$ \\delta = [R_{t+1} + \\gamma Q(s_{t+1}, a_{t+1})] - Q(s_t,a_t) $"
   ]
  },
  {
   "cell_type": "markdown",
   "metadata": {},
   "source": [
    "$ Q(s_t,a_t) = Q(s_t,a_t) + \\alpha\\delta $"
   ]
  },
  {
   "cell_type": "markdown",
   "metadata": {},
   "source": [
    "## Working Memory With SARSA"
   ]
  },
  {
   "cell_type": "code",
   "execution_count": 17,
   "metadata": {},
   "outputs": [
    {
     "data": {
      "text/html": [
       "<script>requirejs.config({paths: { 'plotly': ['https://cdn.plot.ly/plotly-latest.min']},});if(!window.Plotly) {{require(['plotly'],function(plotly) {window.Plotly=plotly;});}}</script>"
      ],
      "text/vnd.plotly.v1+html": [
       "<script>requirejs.config({paths: { 'plotly': ['https://cdn.plot.ly/plotly-latest.min']},});if(!window.Plotly) {{require(['plotly'],function(plotly) {window.Plotly=plotly;});}}</script>"
      ]
     },
     "metadata": {},
     "output_type": "display_data"
    }
   ],
   "source": [
    "#from plotly.graph_objs import Scatter, Layout\n",
    "import matplotlib.pyplot as plt\n",
    "import plotly\n",
    "import numpy as np\n",
    "import random\n",
    "import hrr\n",
    "import math\n",
    "from plotly.graph_objs import Scatter, Layout, Surface\n",
    "plotly.offline.init_notebook_mode(connected=True)"
   ]
  },
  {
   "cell_type": "code",
   "execution_count": 18,
   "metadata": {
    "collapsed": true
   },
   "outputs": [],
   "source": [
    "## input:  float value\n",
    "## returns:  log modulus tranformation of input value (error)\n",
    "def log_transform(error):\n",
    "    return math.copysign(1.0,error)*math.log(math.fabs(error)+1,2)"
   ]
  },
  {
   "cell_type": "code",
   "execution_count": 81,
   "metadata": {
    "collapsed": true
   },
   "outputs": [],
   "source": [
    "## inputs:  2D numpy array, list of integers (index of rows in array)\n",
    "## returns:  index of the maximum value in the array \n",
    "##           within the restricted row list (restrict)\n",
    "def argmax(arr_2d,restrict):\n",
    "    max_row = 0\n",
    "    max_col = 0\n",
    "    max_value = arr_2d[0,0]\n",
    "    for row in range(arr_2d.shape[0]):\n",
    "        if row not in restrict:\n",
    "            continue\n",
    "        for col in range(arr_2d.shape[1]):\n",
    "            if arr_2d[row,col] > max_value:\n",
    "                max_value = arr_2d[row,col]\n",
    "                max_row,max_col = row,col\n",
    "    return tuple((max_row,max_col))"
   ]
  },
  {
   "cell_type": "markdown",
   "metadata": {},
   "source": [
    "# Problem Description:\n",
    "    This algorithm solves a 2 level hierarchy working memory problem with the outer context consisting of 3 choices (0,1,2) and the inner context consisting of 3 choices (0,1,2).  After every 10 episodes the outer context is switched and held in place.  Reward is given at outer context 0, inner context 0, at state 0.  A reward is also given at outer context 1, inner context 1, at state n/2.\n",
    "    \n",
    "    Cue: 0 denotes red, 1 denotes green, 2 denotes seeing nothing\n",
    "    Outer Context: 0 denotes blue, 1 denotes purple, 2 denotes nothing in wm\n",
    "    Inner Context: 0 denotes red, 1 denotes green, 2 denotes nothing in wm\n",
    "    Actions: 0 denotes left, 1 denotes right"
   ]
  },
  {
   "cell_type": "code",
   "execution_count": 82,
   "metadata": {},
   "outputs": [],
   "source": [
    "def TD(nstates,nepisodes,lrate,gamma,td_lambda): \n",
    "    #n = 2048\n",
    "    #n = 4096\n",
    "    #n = 8192\n",
    "    #n = 16000\n",
    "    #n = 32000\n",
    "    n = 64000\n",
    "    #nstates = 50\n",
    "    nactions = 2\n",
    "    nslots = 2\n",
    "    ncolors = 2\n",
    "    n_outer = 2\n",
    "    #goal for red is at 0, green at middle\n",
    "    goal = [0,nstates//2]\n",
    "    reward = np.zeros((n_outer+1,nslots+1,nstates))\n",
    "    \n",
    "    # reward matrix for each inner and outer context\n",
    "    ## outer context of 0 and cue 0 has reward at state 0\n",
    "    ## outer context of 1 and cue 1 has reward at state n/2\n",
    "    for x in range(nslots):\n",
    "        reward[x,x,goal[x]] = 1\n",
    "    \n",
    "    # basic actions are left and right\n",
    "    states = hrr.hrrs(n,nstates)\n",
    "    actions = hrr.hrrs(n,nactions)\n",
    "    \n",
    "    # identity vector\n",
    "    hrr_i = np.zeros(n)\n",
    "    hrr_i[0] = 1\n",
    "    \n",
    "    # external color (seeing the color)\n",
    "    external = hrr.hrrs(n,nslots)\n",
    "    external = np.row_stack((external,hrr_i))\n",
    "    \n",
    "    # Outer WorkingMemory\n",
    "    outer_wm_slots = hrr.hrrs(n,nslots)\n",
    "    outer_wm_slots = np.row_stack((outer_wm_slots,hrr_i))\n",
    "    \n",
    "    # Inner WorkingMemory\n",
    "    inner_wm_slots = hrr.hrrs(n,nslots)\n",
    "    inner_wm_slots = np.row_stack((inner_wm_slots,hrr_i))\n",
    "    \n",
    "    # precomputed state/action/working_memory triplet\n",
    "    stateactions = hrr.oconvolve(actions,states)\n",
    "    s_a_wm = hrr.oconvolve(stateactions,outer_wm_slots)\n",
    "    s_s_a_wm = hrr.oconvolve(s_a_wm,inner_wm_slots)\n",
    "    s_s_s_a_wm = hrr.oconvolve(s_s_a_wm,external)\n",
    "    s_s_s_a_wm = np.reshape(s_s_s_a_wm,(nslots+1,nslots+1,nslots+1,nstates,nactions,n))\n",
    "    \n",
    "    # weight vector\n",
    "    W = hrr.hrr(n)\n",
    "    bias = 1\n",
    "\n",
    "    #lrate = 0.1\n",
    "    eligibility = np.zeros(n)\n",
    "    #gamma = 0.9\n",
    "    #td_lambda = 0.5\n",
    "    epsilon = 0.01\n",
    "    #nepisodes = 10000\n",
    "    nsteps = 100\n",
    "\n",
    "    # set working memory to nothing initially(inner working memory).\n",
    "    ## initialized outside of loop so that current_wm is not flushed\n",
    "    ## between episodes.\n",
    "    current_wm = 2\n",
    "    \n",
    "    # set context to nothing initially(outer working memory)\n",
    "    outer_context = 2\n",
    "    ## keeps track of context layer\n",
    "    ## r\n",
    "    context_matrix = np.array([[0,0],[1,1],[None,None]])\n",
    "    color_signal = -1\n",
    "    for episode in range(nepisodes):    \n",
    "        state = random.randrange(0,nstates)\n",
    "        \n",
    "        # cue to signal context\n",
    "        color_signal = (color_signal+1)%len(external)\n",
    "        # set external cue\n",
    "        cue = color_signal\n",
    "        color = cue\n",
    "        \n",
    "        ## change reward and switch context\n",
    "        if episode%10==0:\n",
    "            outer_context = (outer_context+1)%len(outer_wm_slots)\n",
    "        \n",
    "        values = np.dot(s_s_s_a_wm[color,outer_context,current_wm,state,:,:],W) + bias\n",
    "        \n",
    "        action = values.argmax()\n",
    "        # returns index (row,col) of max value\n",
    "        #color_action = np.unravel_index(values.argmax(), values.shape)\n",
    "        #current_wm = color_action[0]\n",
    "        #action = color_action[1]\n",
    "        if random.random() < epsilon:\n",
    "            action = random.randrange(0,nactions)\n",
    "        values = values[action]\n",
    "        eligibility = np.zeros(n)\n",
    "        \n",
    "        # turn signal off\n",
    "        \n",
    "        for step in range(nsteps):\n",
    "            r = reward[outer_context,color,state]\n",
    "            ## use context matrix to determine if agent should get a reward\n",
    "            if ((context_matrix[outer_context,0]==outer_context and context_matrix[outer_context,1]==color) \n",
    "            and (color < 2 and state == goal[color])):\n",
    "                eligibility = s_s_s_a_wm[cue,outer_context,current_wm,state,action,:] + td_lambda*eligibility\n",
    "                #error = r - values[action]\n",
    "                error = r - values\n",
    "                #W += lrate*error*eligibility\n",
    "                W += lrate*log_transform(error)*eligibility\n",
    "                #print(cue,current_wm)\n",
    "                #print('episode:',episode)\n",
    "                #print('outer:',outer_context,'color:',color,'state:',state)\n",
    "                #print('reward:',r)\n",
    "                break\n",
    "                \n",
    "            ## updates    \n",
    "            pstate = state\n",
    "            pvalues = values\n",
    "            paction = action\n",
    "            previous_wm = current_wm\n",
    "            p_outer_wm = outer_context\n",
    "            psignal = cue\n",
    "            #####\n",
    "            \n",
    "            eligibility = s_s_s_a_wm[cue,outer_context,current_wm,state,action,:] + td_lambda*eligibility\n",
    "            \n",
    "            state = ((state+np.array([-1,1]))%nstates)[action]\n",
    "            \n",
    "            ## turn off cue\n",
    "            cue = 2\n",
    "            \n",
    "            values = np.dot(s_s_s_a_wm[cue,outer_context,:,state,:,:],W) + bias \n",
    "            #action = values.argmax()\n",
    "            possible_wm = np.unique(np.array([2,previous_wm,psignal]))\n",
    "            \n",
    "            #wm_action = np.unravel_index(values.argmax(), values.shape)\n",
    "            wm_action = argmax(values,possible_wm)\n",
    "            \n",
    "            current_wm = wm_action[0]\n",
    "            action = wm_action[1]\n",
    "            #values = values[current_wm,action]\n",
    "            \n",
    "            #wm_values = np.dot(s_s_a_wm[cue,:,state,action,:],W) + bias\n",
    "            #print(wm_values)\n",
    "            #current_wm = np.unique(np.array([wm_values[2],wm_values[previous_wm]],wm_values[psignal])).argmax()\n",
    "            \n",
    "            if random.random() < epsilon:\n",
    "                action = random.randrange(0,nactions)\n",
    "                current_wm = random.randrange(0,nslots+1)\n",
    "            \n",
    "            values = values[current_wm,action]\n",
    "            #error = (r+gamma*values[action])-pvalues[paction]\n",
    "            ## calculate error (observation - expectation)\n",
    "            error = (r+gamma*values)-pvalues\n",
    "            \n",
    "            ## update the weight vector\n",
    "            W += lrate*log_transform(error)*eligibility\n",
    "        \n",
    "        if episode%1000==0:\n",
    "            V1 = list(map(lambda x: np.dot(x,W)+bias, s_s_s_a_wm[0,0,0,:,0,:]))\n",
    "            V2 = list(map(lambda x: np.dot(x,W)+bias, s_s_s_a_wm[0,0,0,:,1,:]))\n",
    "            V3 = list(map(lambda x: np.dot(x,W)+bias, s_s_s_a_wm[1,1,1,:,0,:]))\n",
    "            V4 = list(map(lambda x: np.dot(x,W)+bias, s_s_s_a_wm[1,1,1,:,1,:]))\n",
    "            V1 = list(map(lambda x: np.dot(x,W)+bias, s_s_s_a_wm[0,0,0,:,0,:]))\n",
    "            V2 = list(map(lambda x: np.dot(x,W)+bias, s_s_s_a_wm[0,0,0,:,1,:]))\n",
    "            V3 = list(map(lambda x: np.dot(x,W)+bias, s_s_s_a_wm[1,1,1,:,0,:]))\n",
    "            V4 = list(map(lambda x: np.dot(x,W)+bias, s_s_s_a_wm[1,1,1,:,1,:]))\n",
    "            plotly.offline.iplot([\n",
    "            dict(x=[x for x in range(len(V1))] , y=V1, type='scatter',name='left and cue_0 and wm_0 and outer_0'),\n",
    "            dict(x=[x for x in range(len(V1))] , y=V2, type='scatter',name='right and cue_0 and wm_0 and outer_0' ),\n",
    "            dict(x=[x for x in range(len(V1))] , y=V3, type='scatter',name='left and cue_1 and wm_1 and outer_1'),\n",
    "            dict(x=[x for x in range(len(V1))] , y=V4, type='scatter',name='right and cue_1 and wm_1 and outer_1'),\n",
    "            ])\n",
    "    \n",
    "       \n",
    "    V1 = list(map(lambda x: np.dot(x,W)+bias, s_s_s_a_wm[0,0,0,:,0,:]))\n",
    "    V2 = list(map(lambda x: np.dot(x,W)+bias, s_s_s_a_wm[0,0,0,:,1,:]))\n",
    "    V3 = list(map(lambda x: np.dot(x,W)+bias, s_s_s_a_wm[1,1,0,:,0,:]))\n",
    "    V4 = list(map(lambda x: np.dot(x,W)+bias, s_s_s_a_wm[1,1,0,:,1,:]))\n",
    "    V5 = list(map(lambda x: np.dot(x,W)+bias, s_s_s_a_wm[1,2,0,:,0,:]))\n",
    "    V6 = list(map(lambda x: np.dot(x,W)+bias, s_s_s_a_wm[1,2,0,:,1,:]))\n",
    "    V7 = list(map(lambda x: np.dot(x,W)+bias, s_s_s_a_wm[0,2,0,:,0,:]))\n",
    "    V8 = list(map(lambda x: np.dot(x,W)+bias, s_s_s_a_wm[0,2,0,:,1,:]))\n",
    "    V9 = list(map(lambda x: np.dot(x,W)+bias, s_s_s_a_wm[0,1,0,:,0,:]))\n",
    "    V10 = list(map(lambda x: np.dot(x,W)+bias, s_s_s_a_wm[0,1,0,:,1,:]))\n",
    "    V11 = list(map(lambda x: np.dot(x,W)+bias, s_s_s_a_wm[1,0,0,:,0,:]))\n",
    "    V12 = list(map(lambda x: np.dot(x,W)+bias, s_s_s_a_wm[1,0,0,:,1,:]))\n",
    "    V13 = list(map(lambda x: np.dot(x,W)+bias, s_s_s_a_wm[2,2,0,:,0,:]))\n",
    "    V14 = list(map(lambda x: np.dot(x,W)+bias, s_s_s_a_wm[2,2,0,:,1,:]))\n",
    "    V15 = list(map(lambda x: np.dot(x,W)+bias, s_s_s_a_wm[2,1,0,:,0,:]))\n",
    "    V16 = list(map(lambda x: np.dot(x,W)+bias, s_s_s_a_wm[2,1,0,:,1,:]))\n",
    "    \n",
    "    plotly.offline.iplot([\n",
    "    dict(x=[x for x in range(len(V1))] , y=V1, type='scatter',name='left and cue_0 and wm_0 and outer_0'),\n",
    "    dict(x=[x for x in range(len(V1))] , y=V2, type='scatter',name='right and cue_0 and wm_0 and outer_0'),\n",
    "    dict(x=[x for x in range(len(V1))] , y=V3, type='scatter',name='left and cue_1 and wm_1 and outer_0'),\n",
    "    dict(x=[x for x in range(len(V1))] , y=V4, type='scatter',name='right and cue_1 and wm_1 and outer_0'),\n",
    "    \n",
    "    dict(x=[x for x in range(len(V1))] , y=V5, type='scatter',name='left and cue_1 and wm_2'),\n",
    "    dict(x=[x for x in range(len(V1))] , y=V6, type='scatter',name='right and cue_1 and wm_2'),\n",
    "    dict(x=[x for x in range(len(V1))] , y=V7, type='scatter',name='left and cue_0 and wm_2'),\n",
    "    dict(x=[x for x in range(len(V1))] , y=V8, type='scatter',name='right and cue_0 and wm_2'),\n",
    "    dict(x=[x for x in range(len(V1))] , y=V9, type='scatter',name='left and cue_0 and wm_1'),\n",
    "    dict(x=[x for x in range(len(V1))] , y=V10, type='scatter',name='right and cue_0 and wm_1'),\n",
    "    dict(x=[x for x in range(len(V1))] , y=V11, type='scatter',name='left and cue_1 and wm_0'),\n",
    "    dict(x=[x for x in range(len(V1))] , y=V12, type='scatter',name='right and cue_1 and wm_0'),\n",
    "    dict(x=[x for x in range(len(V1))] , y=V13, type='scatter',name='left and cue_2 and wm_2'),\n",
    "    dict(x=[x for x in range(len(V1))] , y=V14, type='scatter',name='right and cue_2 and wm_2'),\n",
    "    dict(x=[x for x in range(len(V1))] , y=V15, type='scatter',name='left and cue_2 and wm_1'),\n",
    "    dict(x=[x for x in range(len(V1))] , y=V16, type='scatter',name='right and cue_2 and wm_1')\n",
    "    ])\n",
    "    "
   ]
  },
  {
   "cell_type": "code",
   "execution_count": 83,
   "metadata": {},
   "outputs": [
    {
     "data": {
      "application/vnd.plotly.v1+json": {
       "data": [
        {
         "name": "left and cue_0 and wm_0 and outer_0",
         "type": "scatter",
         "x": [
          0,
          1,
          2,
          3,
          4,
          5,
          6,
          7,
          8,
          9
         ],
         "y": [
          0.9922794892598722,
          1.0073283248494234,
          0.996109384727059,
          0.9954632726006615,
          0.9984506076609736,
          0.9998252484787915,
          0.9993048402963428,
          1.000533964867223,
          1.0028126255167855,
          0.9943906833138666
         ]
        },
        {
         "name": "right and cue_0 and wm_0 and outer_0",
         "type": "scatter",
         "x": [
          0,
          1,
          2,
          3,
          4,
          5,
          6,
          7,
          8,
          9
         ],
         "y": [
          1.006227874274473,
          1.000804603234958,
          1.0036246444383454,
          0.9950834051809233,
          0.9989702330858157,
          1.0025151375736587,
          0.9986538743872707,
          0.9969077695559215,
          0.9927549602612437,
          0.9974545544667397
         ]
        },
        {
         "name": "left and cue_1 and wm_1 and outer_1",
         "type": "scatter",
         "x": [
          0,
          1,
          2,
          3,
          4,
          5,
          6,
          7,
          8,
          9
         ],
         "y": [
          0.9942679765542588,
          0.9956375854980416,
          1.0000044263606716,
          0.9934686388090053,
          1.0005712231549746,
          1.001712565057659,
          1.001432806076406,
          0.9955801068220547,
          1.0047211233696087,
          1.0078959989498812
         ]
        },
        {
         "name": "right and cue_1 and wm_1 and outer_1",
         "type": "scatter",
         "x": [
          0,
          1,
          2,
          3,
          4,
          5,
          6,
          7,
          8,
          9
         ],
         "y": [
          1.0021863862625637,
          0.9969665092373368,
          1.0019059561080053,
          1.0027051539222942,
          0.9954674068890111,
          1.0035546761368748,
          0.9967605264986112,
          1.0016167168453243,
          0.9992991978265683,
          0.9990523770240477
         ]
        }
       ],
       "layout": {}
      },
      "text/html": [
       "<div id=\"02f0cba0-a92c-4d0e-84a8-982896f30437\" style=\"height: 525px; width: 100%;\" class=\"plotly-graph-div\"></div><script type=\"text/javascript\">require([\"plotly\"], function(Plotly) { window.PLOTLYENV=window.PLOTLYENV || {};window.PLOTLYENV.BASE_URL=\"https://plot.ly\";Plotly.newPlot(\"02f0cba0-a92c-4d0e-84a8-982896f30437\", [{\"x\": [0, 1, 2, 3, 4, 5, 6, 7, 8, 9], \"y\": [0.9922794892598722, 1.0073283248494234, 0.996109384727059, 0.9954632726006615, 0.9984506076609736, 0.9998252484787915, 0.9993048402963428, 1.000533964867223, 1.0028126255167855, 0.9943906833138666], \"type\": \"scatter\", \"name\": \"left and cue_0 and wm_0 and outer_0\"}, {\"x\": [0, 1, 2, 3, 4, 5, 6, 7, 8, 9], \"y\": [1.006227874274473, 1.000804603234958, 1.0036246444383454, 0.9950834051809233, 0.9989702330858157, 1.0025151375736587, 0.9986538743872707, 0.9969077695559215, 0.9927549602612437, 0.9974545544667397], \"type\": \"scatter\", \"name\": \"right and cue_0 and wm_0 and outer_0\"}, {\"x\": [0, 1, 2, 3, 4, 5, 6, 7, 8, 9], \"y\": [0.9942679765542588, 0.9956375854980416, 1.0000044263606716, 0.9934686388090053, 1.0005712231549746, 1.001712565057659, 1.001432806076406, 0.9955801068220547, 1.0047211233696087, 1.0078959989498812], \"type\": \"scatter\", \"name\": \"left and cue_1 and wm_1 and outer_1\"}, {\"x\": [0, 1, 2, 3, 4, 5, 6, 7, 8, 9], \"y\": [1.0021863862625637, 0.9969665092373368, 1.0019059561080053, 1.0027051539222942, 0.9954674068890111, 1.0035546761368748, 0.9967605264986112, 1.0016167168453243, 0.9992991978265683, 0.9990523770240477], \"type\": \"scatter\", \"name\": \"right and cue_1 and wm_1 and outer_1\"}], {}, {\"showLink\": true, \"linkText\": \"Export to plot.ly\"})});</script>"
      ],
      "text/vnd.plotly.v1+html": [
       "<div id=\"02f0cba0-a92c-4d0e-84a8-982896f30437\" style=\"height: 525px; width: 100%;\" class=\"plotly-graph-div\"></div><script type=\"text/javascript\">require([\"plotly\"], function(Plotly) { window.PLOTLYENV=window.PLOTLYENV || {};window.PLOTLYENV.BASE_URL=\"https://plot.ly\";Plotly.newPlot(\"02f0cba0-a92c-4d0e-84a8-982896f30437\", [{\"x\": [0, 1, 2, 3, 4, 5, 6, 7, 8, 9], \"y\": [0.9922794892598722, 1.0073283248494234, 0.996109384727059, 0.9954632726006615, 0.9984506076609736, 0.9998252484787915, 0.9993048402963428, 1.000533964867223, 1.0028126255167855, 0.9943906833138666], \"type\": \"scatter\", \"name\": \"left and cue_0 and wm_0 and outer_0\"}, {\"x\": [0, 1, 2, 3, 4, 5, 6, 7, 8, 9], \"y\": [1.006227874274473, 1.000804603234958, 1.0036246444383454, 0.9950834051809233, 0.9989702330858157, 1.0025151375736587, 0.9986538743872707, 0.9969077695559215, 0.9927549602612437, 0.9974545544667397], \"type\": \"scatter\", \"name\": \"right and cue_0 and wm_0 and outer_0\"}, {\"x\": [0, 1, 2, 3, 4, 5, 6, 7, 8, 9], \"y\": [0.9942679765542588, 0.9956375854980416, 1.0000044263606716, 0.9934686388090053, 1.0005712231549746, 1.001712565057659, 1.001432806076406, 0.9955801068220547, 1.0047211233696087, 1.0078959989498812], \"type\": \"scatter\", \"name\": \"left and cue_1 and wm_1 and outer_1\"}, {\"x\": [0, 1, 2, 3, 4, 5, 6, 7, 8, 9], \"y\": [1.0021863862625637, 0.9969665092373368, 1.0019059561080053, 1.0027051539222942, 0.9954674068890111, 1.0035546761368748, 0.9967605264986112, 1.0016167168453243, 0.9992991978265683, 0.9990523770240477], \"type\": \"scatter\", \"name\": \"right and cue_1 and wm_1 and outer_1\"}], {}, {\"showLink\": true, \"linkText\": \"Export to plot.ly\"})});</script>"
      ]
     },
     "metadata": {},
     "output_type": "display_data"
    },
    {
     "data": {
      "application/vnd.plotly.v1+json": {
       "data": [
        {
         "name": "left and cue_0 and wm_0 and outer_0",
         "type": "scatter",
         "x": [
          0,
          1,
          2,
          3,
          4,
          5,
          6,
          7,
          8,
          9
         ],
         "y": [
          1.0160290791945186,
          0.9546254266328134,
          0.8665861370757029,
          0.8928105215133804,
          0.6935134655715326,
          0.48632663202162485,
          0.5403845009638449,
          0.5274131229875401,
          0.5914128479436951,
          0.7609302055682079
         ]
        },
        {
         "name": "right and cue_0 and wm_0 and outer_0",
         "type": "scatter",
         "x": [
          0,
          1,
          2,
          3,
          4,
          5,
          6,
          7,
          8,
          9
         ],
         "y": [
          1.0323822471292425,
          0.9463770982319288,
          0.9038865939119867,
          0.8806688987902291,
          0.6761749445987066,
          0.5249733362721767,
          0.539674220736704,
          0.5735952426824359,
          0.6422588613210739,
          0.8373365941160011
         ]
        },
        {
         "name": "left and cue_1 and wm_1 and outer_1",
         "type": "scatter",
         "x": [
          0,
          1,
          2,
          3,
          4,
          5,
          6,
          7,
          8,
          9
         ],
         "y": [
          0.9145644350702884,
          0.8423709425287478,
          0.7608872645609848,
          0.8117680242257443,
          1.010620385299749,
          1.052102089793278,
          0.9984893080449888,
          0.855421098804298,
          0.8157790426545426,
          0.697058782523467
         ]
        },
        {
         "name": "right and cue_1 and wm_1 and outer_1",
         "type": "scatter",
         "x": [
          0,
          1,
          2,
          3,
          4,
          5,
          6,
          7,
          8,
          9
         ],
         "y": [
          0.9348012488616992,
          0.7898578007430364,
          0.7290825246837106,
          0.8326580775062757,
          1.0683635038280332,
          1.0141887525750017,
          0.957223279651038,
          0.7979050163828032,
          0.8036081587577355,
          0.6655097595198128
         ]
        }
       ],
       "layout": {}
      },
      "text/html": [
       "<div id=\"dcb56bbb-46b5-4ead-bb2b-954b886e4075\" style=\"height: 525px; width: 100%;\" class=\"plotly-graph-div\"></div><script type=\"text/javascript\">require([\"plotly\"], function(Plotly) { window.PLOTLYENV=window.PLOTLYENV || {};window.PLOTLYENV.BASE_URL=\"https://plot.ly\";Plotly.newPlot(\"dcb56bbb-46b5-4ead-bb2b-954b886e4075\", [{\"x\": [0, 1, 2, 3, 4, 5, 6, 7, 8, 9], \"y\": [1.0160290791945186, 0.9546254266328134, 0.8665861370757029, 0.8928105215133804, 0.6935134655715326, 0.48632663202162485, 0.5403845009638449, 0.5274131229875401, 0.5914128479436951, 0.7609302055682079], \"type\": \"scatter\", \"name\": \"left and cue_0 and wm_0 and outer_0\"}, {\"x\": [0, 1, 2, 3, 4, 5, 6, 7, 8, 9], \"y\": [1.0323822471292425, 0.9463770982319288, 0.9038865939119867, 0.8806688987902291, 0.6761749445987066, 0.5249733362721767, 0.539674220736704, 0.5735952426824359, 0.6422588613210739, 0.8373365941160011], \"type\": \"scatter\", \"name\": \"right and cue_0 and wm_0 and outer_0\"}, {\"x\": [0, 1, 2, 3, 4, 5, 6, 7, 8, 9], \"y\": [0.9145644350702884, 0.8423709425287478, 0.7608872645609848, 0.8117680242257443, 1.010620385299749, 1.052102089793278, 0.9984893080449888, 0.855421098804298, 0.8157790426545426, 0.697058782523467], \"type\": \"scatter\", \"name\": \"left and cue_1 and wm_1 and outer_1\"}, {\"x\": [0, 1, 2, 3, 4, 5, 6, 7, 8, 9], \"y\": [0.9348012488616992, 0.7898578007430364, 0.7290825246837106, 0.8326580775062757, 1.0683635038280332, 1.0141887525750017, 0.957223279651038, 0.7979050163828032, 0.8036081587577355, 0.6655097595198128], \"type\": \"scatter\", \"name\": \"right and cue_1 and wm_1 and outer_1\"}], {}, {\"showLink\": true, \"linkText\": \"Export to plot.ly\"})});</script>"
      ],
      "text/vnd.plotly.v1+html": [
       "<div id=\"dcb56bbb-46b5-4ead-bb2b-954b886e4075\" style=\"height: 525px; width: 100%;\" class=\"plotly-graph-div\"></div><script type=\"text/javascript\">require([\"plotly\"], function(Plotly) { window.PLOTLYENV=window.PLOTLYENV || {};window.PLOTLYENV.BASE_URL=\"https://plot.ly\";Plotly.newPlot(\"dcb56bbb-46b5-4ead-bb2b-954b886e4075\", [{\"x\": [0, 1, 2, 3, 4, 5, 6, 7, 8, 9], \"y\": [1.0160290791945186, 0.9546254266328134, 0.8665861370757029, 0.8928105215133804, 0.6935134655715326, 0.48632663202162485, 0.5403845009638449, 0.5274131229875401, 0.5914128479436951, 0.7609302055682079], \"type\": \"scatter\", \"name\": \"left and cue_0 and wm_0 and outer_0\"}, {\"x\": [0, 1, 2, 3, 4, 5, 6, 7, 8, 9], \"y\": [1.0323822471292425, 0.9463770982319288, 0.9038865939119867, 0.8806688987902291, 0.6761749445987066, 0.5249733362721767, 0.539674220736704, 0.5735952426824359, 0.6422588613210739, 0.8373365941160011], \"type\": \"scatter\", \"name\": \"right and cue_0 and wm_0 and outer_0\"}, {\"x\": [0, 1, 2, 3, 4, 5, 6, 7, 8, 9], \"y\": [0.9145644350702884, 0.8423709425287478, 0.7608872645609848, 0.8117680242257443, 1.010620385299749, 1.052102089793278, 0.9984893080449888, 0.855421098804298, 0.8157790426545426, 0.697058782523467], \"type\": \"scatter\", \"name\": \"left and cue_1 and wm_1 and outer_1\"}, {\"x\": [0, 1, 2, 3, 4, 5, 6, 7, 8, 9], \"y\": [0.9348012488616992, 0.7898578007430364, 0.7290825246837106, 0.8326580775062757, 1.0683635038280332, 1.0141887525750017, 0.957223279651038, 0.7979050163828032, 0.8036081587577355, 0.6655097595198128], \"type\": \"scatter\", \"name\": \"right and cue_1 and wm_1 and outer_1\"}], {}, {\"showLink\": true, \"linkText\": \"Export to plot.ly\"})});</script>"
      ]
     },
     "metadata": {},
     "output_type": "display_data"
    },
    {
     "data": {
      "application/vnd.plotly.v1+json": {
       "data": [
        {
         "name": "left and cue_0 and wm_0 and outer_0",
         "type": "scatter",
         "x": [
          0,
          1,
          2,
          3,
          4,
          5,
          6,
          7,
          8,
          9
         ],
         "y": [
          1.0592903021622915,
          0.8170950015488552,
          0.6028230602771381,
          0.6716916118477883,
          0.4097798459480916,
          0.4185392555710853,
          0.41931008681135085,
          0.4348975145331221,
          0.38810674165322556,
          0.6718453011601968
         ]
        },
        {
         "name": "right and cue_0 and wm_0 and outer_0",
         "type": "scatter",
         "x": [
          0,
          1,
          2,
          3,
          4,
          5,
          6,
          7,
          8,
          9
         ],
         "y": [
          1.068424350876229,
          0.7852664296146054,
          0.598749558491934,
          0.7327592389876002,
          0.39960125470425534,
          0.47492474685161656,
          0.41745385937896473,
          0.3935761715008623,
          0.39573500501445,
          0.6642757225836391
         ]
        },
        {
         "name": "left and cue_1 and wm_1 and outer_1",
         "type": "scatter",
         "x": [
          0,
          1,
          2,
          3,
          4,
          5,
          6,
          7,
          8,
          9
         ],
         "y": [
          0.7692986818278068,
          0.6706235051251109,
          0.5629290294601719,
          0.6595371088997612,
          0.9373304690231322,
          1.0424851593401125,
          0.8678721217423001,
          0.5953457965725805,
          0.7420407767947382,
          0.46689497999957386
         ]
        },
        {
         "name": "right and cue_1 and wm_1 and outer_1",
         "type": "scatter",
         "x": [
          0,
          1,
          2,
          3,
          4,
          5,
          6,
          7,
          8,
          9
         ],
         "y": [
          0.7722656779045813,
          0.6733166176647971,
          0.5521328073802372,
          0.6759073657684241,
          0.8895661896968057,
          1.0131539601284776,
          0.8697217773914445,
          0.6079892586565565,
          0.7888512333380112,
          0.44446689156631125
         ]
        }
       ],
       "layout": {}
      },
      "text/html": [
       "<div id=\"2f97e1ae-d363-48a1-ab43-0ad10a15b40b\" style=\"height: 525px; width: 100%;\" class=\"plotly-graph-div\"></div><script type=\"text/javascript\">require([\"plotly\"], function(Plotly) { window.PLOTLYENV=window.PLOTLYENV || {};window.PLOTLYENV.BASE_URL=\"https://plot.ly\";Plotly.newPlot(\"2f97e1ae-d363-48a1-ab43-0ad10a15b40b\", [{\"x\": [0, 1, 2, 3, 4, 5, 6, 7, 8, 9], \"y\": [1.0592903021622915, 0.8170950015488552, 0.6028230602771381, 0.6716916118477883, 0.4097798459480916, 0.4185392555710853, 0.41931008681135085, 0.4348975145331221, 0.38810674165322556, 0.6718453011601968], \"type\": \"scatter\", \"name\": \"left and cue_0 and wm_0 and outer_0\"}, {\"x\": [0, 1, 2, 3, 4, 5, 6, 7, 8, 9], \"y\": [1.068424350876229, 0.7852664296146054, 0.598749558491934, 0.7327592389876002, 0.39960125470425534, 0.47492474685161656, 0.41745385937896473, 0.3935761715008623, 0.39573500501445, 0.6642757225836391], \"type\": \"scatter\", \"name\": \"right and cue_0 and wm_0 and outer_0\"}, {\"x\": [0, 1, 2, 3, 4, 5, 6, 7, 8, 9], \"y\": [0.7692986818278068, 0.6706235051251109, 0.5629290294601719, 0.6595371088997612, 0.9373304690231322, 1.0424851593401125, 0.8678721217423001, 0.5953457965725805, 0.7420407767947382, 0.46689497999957386], \"type\": \"scatter\", \"name\": \"left and cue_1 and wm_1 and outer_1\"}, {\"x\": [0, 1, 2, 3, 4, 5, 6, 7, 8, 9], \"y\": [0.7722656779045813, 0.6733166176647971, 0.5521328073802372, 0.6759073657684241, 0.8895661896968057, 1.0131539601284776, 0.8697217773914445, 0.6079892586565565, 0.7888512333380112, 0.44446689156631125], \"type\": \"scatter\", \"name\": \"right and cue_1 and wm_1 and outer_1\"}], {}, {\"showLink\": true, \"linkText\": \"Export to plot.ly\"})});</script>"
      ],
      "text/vnd.plotly.v1+html": [
       "<div id=\"2f97e1ae-d363-48a1-ab43-0ad10a15b40b\" style=\"height: 525px; width: 100%;\" class=\"plotly-graph-div\"></div><script type=\"text/javascript\">require([\"plotly\"], function(Plotly) { window.PLOTLYENV=window.PLOTLYENV || {};window.PLOTLYENV.BASE_URL=\"https://plot.ly\";Plotly.newPlot(\"2f97e1ae-d363-48a1-ab43-0ad10a15b40b\", [{\"x\": [0, 1, 2, 3, 4, 5, 6, 7, 8, 9], \"y\": [1.0592903021622915, 0.8170950015488552, 0.6028230602771381, 0.6716916118477883, 0.4097798459480916, 0.4185392555710853, 0.41931008681135085, 0.4348975145331221, 0.38810674165322556, 0.6718453011601968], \"type\": \"scatter\", \"name\": \"left and cue_0 and wm_0 and outer_0\"}, {\"x\": [0, 1, 2, 3, 4, 5, 6, 7, 8, 9], \"y\": [1.068424350876229, 0.7852664296146054, 0.598749558491934, 0.7327592389876002, 0.39960125470425534, 0.47492474685161656, 0.41745385937896473, 0.3935761715008623, 0.39573500501445, 0.6642757225836391], \"type\": \"scatter\", \"name\": \"right and cue_0 and wm_0 and outer_0\"}, {\"x\": [0, 1, 2, 3, 4, 5, 6, 7, 8, 9], \"y\": [0.7692986818278068, 0.6706235051251109, 0.5629290294601719, 0.6595371088997612, 0.9373304690231322, 1.0424851593401125, 0.8678721217423001, 0.5953457965725805, 0.7420407767947382, 0.46689497999957386], \"type\": \"scatter\", \"name\": \"left and cue_1 and wm_1 and outer_1\"}, {\"x\": [0, 1, 2, 3, 4, 5, 6, 7, 8, 9], \"y\": [0.7722656779045813, 0.6733166176647971, 0.5521328073802372, 0.6759073657684241, 0.8895661896968057, 1.0131539601284776, 0.8697217773914445, 0.6079892586565565, 0.7888512333380112, 0.44446689156631125], \"type\": \"scatter\", \"name\": \"right and cue_1 and wm_1 and outer_1\"}], {}, {\"showLink\": true, \"linkText\": \"Export to plot.ly\"})});</script>"
      ]
     },
     "metadata": {},
     "output_type": "display_data"
    },
    {
     "data": {
      "application/vnd.plotly.v1+json": {
       "data": [
        {
         "name": "left and cue_0 and wm_0 and outer_0",
         "type": "scatter",
         "x": [
          0,
          1,
          2,
          3,
          4,
          5,
          6,
          7,
          8,
          9
         ],
         "y": [
          1.0614330527796016,
          0.7618440403637717,
          0.44153835492170956,
          0.4563755921627979,
          0.316551474207712,
          0.3240059514575351,
          0.3115298963561355,
          0.35010843918301116,
          0.326427134336121,
          0.598247290675768
         ]
        },
        {
         "name": "right and cue_0 and wm_0 and outer_0",
         "type": "scatter",
         "x": [
          0,
          1,
          2,
          3,
          4,
          5,
          6,
          7,
          8,
          9
         ],
         "y": [
          1.064013909122118,
          0.7183673743375916,
          0.49561824315350367,
          0.4772411696499269,
          0.336236031367646,
          0.35890579172241566,
          0.2804686899500486,
          0.3314082415471027,
          0.2849786388765191,
          0.5791970762143519
         ]
        },
        {
         "name": "left and cue_1 and wm_1 and outer_1",
         "type": "scatter",
         "x": [
          0,
          1,
          2,
          3,
          4,
          5,
          6,
          7,
          8,
          9
         ],
         "y": [
          0.5864356614090209,
          0.6061030345336779,
          0.44442840379364457,
          0.5300254675195553,
          0.861187609291749,
          0.9913748415824714,
          0.8410156245135935,
          0.5561554046698448,
          0.6686038977958937,
          0.3659738619413907
         ]
        },
        {
         "name": "right and cue_1 and wm_1 and outer_1",
         "type": "scatter",
         "x": [
          0,
          1,
          2,
          3,
          4,
          5,
          6,
          7,
          8,
          9
         ],
         "y": [
          0.5413429211354905,
          0.5755394315892314,
          0.4696882950183521,
          0.5972164399455964,
          0.8266567227881527,
          0.99677365586409,
          0.7958021841201972,
          0.5574125066504577,
          0.7154104592526339,
          0.35747402846515675
         ]
        }
       ],
       "layout": {}
      },
      "text/html": [
       "<div id=\"4ca34eee-2047-46fe-8eec-27ef8db40059\" style=\"height: 525px; width: 100%;\" class=\"plotly-graph-div\"></div><script type=\"text/javascript\">require([\"plotly\"], function(Plotly) { window.PLOTLYENV=window.PLOTLYENV || {};window.PLOTLYENV.BASE_URL=\"https://plot.ly\";Plotly.newPlot(\"4ca34eee-2047-46fe-8eec-27ef8db40059\", [{\"x\": [0, 1, 2, 3, 4, 5, 6, 7, 8, 9], \"y\": [1.0614330527796016, 0.7618440403637717, 0.44153835492170956, 0.4563755921627979, 0.316551474207712, 0.3240059514575351, 0.3115298963561355, 0.35010843918301116, 0.326427134336121, 0.598247290675768], \"type\": \"scatter\", \"name\": \"left and cue_0 and wm_0 and outer_0\"}, {\"x\": [0, 1, 2, 3, 4, 5, 6, 7, 8, 9], \"y\": [1.064013909122118, 0.7183673743375916, 0.49561824315350367, 0.4772411696499269, 0.336236031367646, 0.35890579172241566, 0.2804686899500486, 0.3314082415471027, 0.2849786388765191, 0.5791970762143519], \"type\": \"scatter\", \"name\": \"right and cue_0 and wm_0 and outer_0\"}, {\"x\": [0, 1, 2, 3, 4, 5, 6, 7, 8, 9], \"y\": [0.5864356614090209, 0.6061030345336779, 0.44442840379364457, 0.5300254675195553, 0.861187609291749, 0.9913748415824714, 0.8410156245135935, 0.5561554046698448, 0.6686038977958937, 0.3659738619413907], \"type\": \"scatter\", \"name\": \"left and cue_1 and wm_1 and outer_1\"}, {\"x\": [0, 1, 2, 3, 4, 5, 6, 7, 8, 9], \"y\": [0.5413429211354905, 0.5755394315892314, 0.4696882950183521, 0.5972164399455964, 0.8266567227881527, 0.99677365586409, 0.7958021841201972, 0.5574125066504577, 0.7154104592526339, 0.35747402846515675], \"type\": \"scatter\", \"name\": \"right and cue_1 and wm_1 and outer_1\"}], {}, {\"showLink\": true, \"linkText\": \"Export to plot.ly\"})});</script>"
      ],
      "text/vnd.plotly.v1+html": [
       "<div id=\"4ca34eee-2047-46fe-8eec-27ef8db40059\" style=\"height: 525px; width: 100%;\" class=\"plotly-graph-div\"></div><script type=\"text/javascript\">require([\"plotly\"], function(Plotly) { window.PLOTLYENV=window.PLOTLYENV || {};window.PLOTLYENV.BASE_URL=\"https://plot.ly\";Plotly.newPlot(\"4ca34eee-2047-46fe-8eec-27ef8db40059\", [{\"x\": [0, 1, 2, 3, 4, 5, 6, 7, 8, 9], \"y\": [1.0614330527796016, 0.7618440403637717, 0.44153835492170956, 0.4563755921627979, 0.316551474207712, 0.3240059514575351, 0.3115298963561355, 0.35010843918301116, 0.326427134336121, 0.598247290675768], \"type\": \"scatter\", \"name\": \"left and cue_0 and wm_0 and outer_0\"}, {\"x\": [0, 1, 2, 3, 4, 5, 6, 7, 8, 9], \"y\": [1.064013909122118, 0.7183673743375916, 0.49561824315350367, 0.4772411696499269, 0.336236031367646, 0.35890579172241566, 0.2804686899500486, 0.3314082415471027, 0.2849786388765191, 0.5791970762143519], \"type\": \"scatter\", \"name\": \"right and cue_0 and wm_0 and outer_0\"}, {\"x\": [0, 1, 2, 3, 4, 5, 6, 7, 8, 9], \"y\": [0.5864356614090209, 0.6061030345336779, 0.44442840379364457, 0.5300254675195553, 0.861187609291749, 0.9913748415824714, 0.8410156245135935, 0.5561554046698448, 0.6686038977958937, 0.3659738619413907], \"type\": \"scatter\", \"name\": \"left and cue_1 and wm_1 and outer_1\"}, {\"x\": [0, 1, 2, 3, 4, 5, 6, 7, 8, 9], \"y\": [0.5413429211354905, 0.5755394315892314, 0.4696882950183521, 0.5972164399455964, 0.8266567227881527, 0.99677365586409, 0.7958021841201972, 0.5574125066504577, 0.7154104592526339, 0.35747402846515675], \"type\": \"scatter\", \"name\": \"right and cue_1 and wm_1 and outer_1\"}], {}, {\"showLink\": true, \"linkText\": \"Export to plot.ly\"})});</script>"
      ]
     },
     "metadata": {},
     "output_type": "display_data"
    },
    {
     "ename": "KeyboardInterrupt",
     "evalue": "",
     "output_type": "error",
     "traceback": [
      "\u001b[0;31m---------------------------------------------------------------------------\u001b[0m",
      "\u001b[0;31mKeyboardInterrupt\u001b[0m                         Traceback (most recent call last)",
      "\u001b[0;32m<ipython-input-83-5ca42e5e80b8>\u001b[0m in \u001b[0;36m<module>\u001b[0;34m()\u001b[0m\n\u001b[0;32m----> 1\u001b[0;31m \u001b[0mTD\u001b[0m\u001b[0;34m(\u001b[0m\u001b[0;36m10\u001b[0m\u001b[0;34m,\u001b[0m\u001b[0;36m50000\u001b[0m\u001b[0;34m,\u001b[0m\u001b[0;36m.1\u001b[0m\u001b[0;34m,\u001b[0m\u001b[0;36m.9\u001b[0m\u001b[0;34m,\u001b[0m\u001b[0;36m.5\u001b[0m\u001b[0;34m)\u001b[0m\u001b[0;34m\u001b[0m\u001b[0m\n\u001b[0m\u001b[1;32m      2\u001b[0m \u001b[0;31m#inputs: nstates,nepisodes,lrate,gamma,td_lambda\u001b[0m\u001b[0;34m\u001b[0m\u001b[0;34m\u001b[0m\u001b[0m\n",
      "\u001b[0;32m<ipython-input-82-61feb343874b>\u001b[0m in \u001b[0;36mTD\u001b[0;34m(nstates, nepisodes, lrate, gamma, td_lambda)\u001b[0m\n\u001b[1;32m    155\u001b[0m \u001b[0;34m\u001b[0m\u001b[0m\n\u001b[1;32m    156\u001b[0m             \u001b[0;31m## update the weight vector\u001b[0m\u001b[0;34m\u001b[0m\u001b[0;34m\u001b[0m\u001b[0m\n\u001b[0;32m--> 157\u001b[0;31m             \u001b[0mW\u001b[0m \u001b[0;34m+=\u001b[0m \u001b[0mlrate\u001b[0m\u001b[0;34m*\u001b[0m\u001b[0mlog_transform\u001b[0m\u001b[0;34m(\u001b[0m\u001b[0merror\u001b[0m\u001b[0;34m)\u001b[0m\u001b[0;34m*\u001b[0m\u001b[0meligibility\u001b[0m\u001b[0;34m\u001b[0m\u001b[0m\n\u001b[0m\u001b[1;32m    158\u001b[0m \u001b[0;34m\u001b[0m\u001b[0m\n\u001b[1;32m    159\u001b[0m         \u001b[0;32mif\u001b[0m \u001b[0mepisode\u001b[0m\u001b[0;34m%\u001b[0m\u001b[0;36m1000\u001b[0m\u001b[0;34m==\u001b[0m\u001b[0;36m0\u001b[0m\u001b[0;34m:\u001b[0m\u001b[0;34m\u001b[0m\u001b[0m\n",
      "\u001b[0;31mKeyboardInterrupt\u001b[0m: "
     ]
    }
   ],
   "source": [
    "TD(10,50000,.1,.9,.5)\n",
    "#inputs: nstates,nepisodes,lrate,gamma,td_lambda"
   ]
  },
  {
   "cell_type": "markdown",
   "metadata": {},
   "source": [
    "# Testing Stuff Below"
   ]
  }
 ],
 "metadata": {
  "kernelspec": {
   "display_name": "Python 3",
   "language": "python",
   "name": "python3"
  },
  "language_info": {
   "codemirror_mode": {
    "name": "ipython",
    "version": 3
   },
   "file_extension": ".py",
   "mimetype": "text/x-python",
   "name": "python",
   "nbconvert_exporter": "python",
   "pygments_lexer": "ipython3",
   "version": "3.6.0"
  }
 },
 "nbformat": 4,
 "nbformat_minor": 2
}
