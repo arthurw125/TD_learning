{
 "cells": [
  {
   "cell_type": "markdown",
   "metadata": {},
   "source": [
    "# AX-CPT Task\n",
    "    The sequence A,X is represented by 0,0 with the correct action represented by 0 and the incorrect action represented by 1."
   ]
  },
  {
   "cell_type": "code",
   "execution_count": null,
   "metadata": {},
   "outputs": [],
   "source": [
    "#from plotly.graph_objs import Scatter, Layout\n",
    "import matplotlib.pyplot as plt\n",
    "import plotly\n",
    "import numpy as np\n",
    "import random\n",
    "import hrr\n",
    "import math\n",
    "from plotly.graph_objs import Scatter, Layout, Surface\n",
    "plotly.offline.init_notebook_mode(connected=True)"
   ]
  },
  {
   "cell_type": "code",
   "execution_count": null,
   "metadata": {
    "collapsed": true
   },
   "outputs": [],
   "source": [
    "def log_transform(error):\n",
    "    return math.copysign(1.0,error)*math.log(math.fabs(error)+1,2)"
   ]
  },
  {
   "cell_type": "code",
   "execution_count": null,
   "metadata": {
    "collapsed": true
   },
   "outputs": [],
   "source": [
    "def argmax(arr_3d,outer,inner):\n",
    "    max_row = outer[0]\n",
    "    max_col = inner[0]\n",
    "    max_x = 0\n",
    "    #max_value = arr_2d[0,0]\n",
    "    max_value = arr_3d[outer[0],inner[0],0]\n",
    "    for row in range(arr_3d.shape[0]):\n",
    "        if row not in outer:\n",
    "            continue\n",
    "        for col in range(arr_3d.shape[1]):\n",
    "            if col not in inner:\n",
    "                continue\n",
    "            for x in range(arr_3d.shape[2]):\n",
    "                if arr_3d[row,col,x] > max_value:\n",
    "                    max_value = arr_3d[row,col,x]\n",
    "                    max_row,max_col,max_x = row,col,x\n",
    "    return list((max_row,max_col,max_x))"
   ]
  },
  {
   "cell_type": "code",
   "execution_count": null,
   "metadata": {
    "collapsed": true
   },
   "outputs": [],
   "source": [
    "def context_check(outer,inner):\n",
    "    return outer==0 and inner==0"
   ]
  },
  {
   "cell_type": "code",
   "execution_count": null,
   "metadata": {},
   "outputs": [],
   "source": [
    "def TD(ntrials,lrate):\n",
    "    n = 64000\n",
    "    nactions = 2 # number of actions\n",
    "    nwm_o = 2 # number of outer wm slots\n",
    "    nwm_i = 2 # number of inner wm slots\n",
    "    nsig_o = 2 # number of outer external signals\n",
    "    nsig_i = 2 # number of inner external signals\n",
    "    \n",
    "    ## reward matrix, reward given at 0,0,0\n",
    "    reward = np.zeros((nsig_o+1,nsig_i+1,nactions))\n",
    "    reward[0,0,0] = 1\n",
    "    \n",
    "    ## hrr for actions and states\n",
    "    actions = hrr.hrrs(n,nactions)\n",
    "    \n",
    "    ## identity vector\n",
    "    hrr_i = np.zeros(n)\n",
    "    hrr_i[0] = 1\n",
    "    \n",
    "    ## external outer\n",
    "    sig_outer = hrr.hrrs(n,nsig_o)\n",
    "    sig_outer = np.row_stack((sig_outer,hrr_i))\n",
    "    \n",
    "    ## external inner\n",
    "    sig_inner = hrr.hrrs(n,nsig_i)\n",
    "    sig_inner = np.row_stack((sig_inner,hrr_i))\n",
    "    \n",
    "    ## Outer WorkingMemory\n",
    "    wm_outer = hrr.hrrs(n,nwm_o)\n",
    "    wm_outer = np.row_stack((wm_outer,hrr_i))\n",
    "    \n",
    "    ## Inner WorkingMemory\n",
    "    wm_inner = hrr.hrrs(n,nwm_i)\n",
    "    wm_inner = np.row_stack((wm_inner,hrr_i))\n",
    "    \n",
    "    ## precompute action,wm_o,wm_i,sig_o,sig_i\n",
    "    #sa = hrr.oconvolve(actions,states)\n",
    "    wm = hrr.oconvolve(hrr.oconvolve(wm_inner,wm_outer),actions)\n",
    "    external = hrr.oconvolve(sig_inner,sig_outer)\n",
    "    s_a_c_c_wm_wm = hrr.oconvolve(wm,external)\n",
    "    s_a_c_c_wm_wm = np.reshape(s_a_c_c_wm_wm,(nsig_o+1,nsig_i+1,nwm_o+1,nwm_i+1,nactions,n))\n",
    "    \n",
    "    ## weight vector and bias\n",
    "    W = hrr.hrr(n)\n",
    "    bias = 0\n",
    "    \n",
    "    ## eligibilty trace, epsilon value and number of steps\n",
    "    #eligibility = np.zeros(n)\n",
    "    epsilon = .01\n",
    "    nsteps = 10\n",
    "    \n",
    "    for trial in range(ntrials):\n",
    "        # cue signal\n",
    "        if trial%10==0:\n",
    "            outer_signal = random.randrange(0,nsig_o)\n",
    "        # probe signal\n",
    "        inner_signal = random.randrange(0,nsig_i)\n",
    "        \n",
    "        ## sets the context for later use\n",
    "        outer = outer_signal\n",
    "        inner = inner_signal\n",
    "        \n",
    "        values = np.dot(s_a_c_c_wm_wm[outer_signal,inner_signal,:,:,:,:],W) + bias\n",
    "        possible_outer_wm = np.unique(np.array([2,outer_signal]))\n",
    "        possible_inner_wm = np.unique(np.array([2,inner_signal]))\n",
    "        wm_wm_action = argmax(values,possible_outer_wm,possible_inner_wm)\n",
    "        current_outer_wm = wm_wm_action[0]\n",
    "        current_inner_wm = wm_wm_action[1]\n",
    "        action = wm_wm_action[2]\n",
    "        \n",
    "        ## epsilon soft policy\n",
    "        if random.random() < epsilon:\n",
    "            action = random.randrange(0,nactions)\n",
    "            current_outer_wm = random.choice(possible_outer_wm)\n",
    "            current_inner_wm = random.choice(possible_inner_wm)\n",
    "        \n",
    "        values = values[current_outer_wm,current_inner_wm,action]\n",
    "        \n",
    "        #####\n",
    "        r = reward[outer,inner,action]\n",
    "        error = r - values\n",
    "        W += lrate*log_transform(error)*s_a_c_c_wm_wm[outer_signal,inner_signal,current_outer_wm,current_inner_wm,action,:]\n",
    "        #print('outer:',outer,'inner:',inner,'r:',r)\n",
    "        if trial%1000==0:\n",
    "            V1 = list(map(lambda x: np.dot(x,W)+bias, s_a_c_c_wm_wm[0,0,0,0,:,:]))\n",
    "            V2 = list(map(lambda x: np.dot(x,W)+bias, s_a_c_c_wm_wm[1,1,1,1,:,:]))\n",
    "            V3 = list(map(lambda x: np.dot(x,W)+bias, s_a_c_c_wm_wm[1,1,0,0,:,:]))\n",
    "            V4 = list(map(lambda x: np.dot(x,W)+bias, s_a_c_c_wm_wm[0,0,1,1,:,:]))\n",
    "            V5 = list(map(lambda x: np.dot(x,W)+bias, s_a_c_c_wm_wm[0,1,0,1,:,:]))\n",
    "            V6 = list(map(lambda x: np.dot(x,W)+bias, s_a_c_c_wm_wm[1,0,1,0,:,:]))\n",
    "            \n",
    "            plotly.offline.iplot([\n",
    "            dict(x=[x for x in range(len(V1))] , y=V1, type='scatter',name='A,X and outerwm_A innerwm_X'),\n",
    "            dict(x=[x for x in range(len(V1))] , y=V2, type='scatter',name='B,Y and outerwm_B innerwm_Y'),\n",
    "            dict(x=[x for x in range(len(V1))] , y=V3, type='scatter',name='B,Y and outerwm_A innerwm_X'),\n",
    "            dict(x=[x for x in range(len(V1))] , y=V4, type='scatter',name='A,X and outerwm_B innerwm_Y'),\n",
    "            dict(x=[x for x in range(len(V1))] , y=V5, type='scatter',name='A,Y and outerwm_A innerwm_Y'),\n",
    "            dict(x=[x for x in range(len(V1))] , y=V6, type='scatter',name='B,X and outerwm_B innerwm_X'),\n",
    "            ])\n",
    "            "
   ]
  },
  {
   "cell_type": "code",
   "execution_count": null,
   "metadata": {},
   "outputs": [],
   "source": [
    "TD(10000,.3)\n",
    "## trials,lrate"
   ]
  },
  {
   "cell_type": "code",
   "execution_count": null,
   "metadata": {
    "collapsed": true
   },
   "outputs": [],
   "source": []
  }
 ],
 "metadata": {
  "kernelspec": {
   "display_name": "Python 3",
   "language": "python",
   "name": "python3"
  },
  "language_info": {
   "codemirror_mode": {
    "name": "ipython",
    "version": 3
   },
   "file_extension": ".py",
   "mimetype": "text/x-python",
   "name": "python",
   "nbconvert_exporter": "python",
   "pygments_lexer": "ipython3",
   "version": "3.6.0"
  }
 },
 "nbformat": 4,
 "nbformat_minor": 2
}
