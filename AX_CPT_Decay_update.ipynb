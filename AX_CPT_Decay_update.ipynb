{
 "cells": [
  {
   "cell_type": "code",
   "execution_count": 1,
   "metadata": {},
   "outputs": [
    {
     "data": {
      "text/html": [
       "<script>requirejs.config({paths: { 'plotly': ['https://cdn.plot.ly/plotly-latest.min']},});if(!window.Plotly) {{require(['plotly'],function(plotly) {window.Plotly=plotly;});}}</script>"
      ],
      "text/vnd.plotly.v1+html": [
       "<script>requirejs.config({paths: { 'plotly': ['https://cdn.plot.ly/plotly-latest.min']},});if(!window.Plotly) {{require(['plotly'],function(plotly) {window.Plotly=plotly;});}}</script>"
      ]
     },
     "metadata": {},
     "output_type": "display_data"
    }
   ],
   "source": [
    "import matplotlib.pyplot as plt\n",
    "import plotly\n",
    "import numpy as np\n",
    "import random\n",
    "import hrr\n",
    "import math\n",
    "from plotly.graph_objs import Scatter, Layout, Surface\n",
    "plotly.offline.init_notebook_mode(connected=True)"
   ]
  },
  {
   "cell_type": "code",
   "execution_count": 2,
   "metadata": {
    "collapsed": true
   },
   "outputs": [],
   "source": [
    "def log_transform(error):\n",
    "    return math.copysign(1.0,error)*math.log(math.fabs(error)+1,2)"
   ]
  },
  {
   "cell_type": "code",
   "execution_count": 3,
   "metadata": {
    "collapsed": true
   },
   "outputs": [],
   "source": [
    "def softmax(arr,t=1.0):\n",
    "    w = np.array(arr)\n",
    "    e = np.exp(w / t)\n",
    "    dist = e / np.sum(e)\n",
    "    return dist"
   ]
  },
  {
   "cell_type": "code",
   "execution_count": 4,
   "metadata": {
    "collapsed": true
   },
   "outputs": [],
   "source": [
    "def argmax(arr_3d,outer,inner):\n",
    "    max_row = outer[0]\n",
    "    max_col = inner[0]\n",
    "    max_x = 0\n",
    "    #max_value = arr_2d[0,0]\n",
    "    max_value = arr_3d[outer[0],inner[0],0]\n",
    "    for row in range(arr_3d.shape[0]):\n",
    "        if row not in outer:\n",
    "            continue\n",
    "        for col in range(arr_3d.shape[1]):\n",
    "            if col not in inner:\n",
    "                continue\n",
    "            for x in range(arr_3d.shape[2]):\n",
    "                if arr_3d[row,col,x] > max_value:\n",
    "                    max_value = arr_3d[row,col,x]\n",
    "                    max_row,max_col,max_x = row,col,x\n",
    "    return list((max_row,max_col,max_x))"
   ]
  },
  {
   "cell_type": "code",
   "execution_count": 5,
   "metadata": {
    "collapsed": true
   },
   "outputs": [],
   "source": [
    "def context_check(outer,inner):\n",
    "    if outer == 0:\n",
    "        if inner == 0:\n",
    "            return 'AX'\n",
    "        elif inner == 1:\n",
    "            return 'AY'\n",
    "    elif outer == 1:\n",
    "        if inner == 0:\n",
    "            return 'BX'\n",
    "        elif inner == 1:\n",
    "            return 'BY'"
   ]
  },
  {
   "cell_type": "code",
   "execution_count": 6,
   "metadata": {
    "collapsed": true
   },
   "outputs": [],
   "source": [
    "def performance(outer,inner,action,arr_2d):\n",
    "    # arr_2d[count,numcorrect,performance]\n",
    "    if context_check(outer,inner)=='AX':\n",
    "        #count1+=1\n",
    "        arr_2d[0,0]+=1\n",
    "        if action == 0:\n",
    "            #nc1 += 1\n",
    "            arr_2d[0,1]+=1\n",
    "        #AX_perf = nc1/count1\n",
    "        arr_2d[0,2] = arr_2d[0,1]/arr_2d[0,0]\n",
    "    elif context_check(outer,inner)=='BX':\n",
    "        #count2+=1\n",
    "        arr_2d[1,0]+=1\n",
    "        if action == 1:\n",
    "            #nc2 += 1\n",
    "            arr_2d[1,1]+=1\n",
    "        #BX_perf = nc2/count2\n",
    "        arr_2d[1,2] = arr_2d[1,1]/arr_2d[1,0]\n",
    "    elif context_check(outer,inner)=='AY':\n",
    "        #count3+=1\n",
    "        arr_2d[2,0]+=1\n",
    "        if action == 1:\n",
    "            #nc3 += 1\n",
    "            arr_2d[2,1]+=1\n",
    "        #AY_perf = nc3/count3\n",
    "        arr_2d[2,2] = arr_2d[2,1]/arr_2d[2,0]\n",
    "    elif context_check(outer,inner)=='BY':\n",
    "        #count4+=1\n",
    "        arr_2d[3,0]+=1\n",
    "        if action == 1:\n",
    "            #nc4 += 1\n",
    "            arr_2d[3,1]+=1\n",
    "        #BY_perf = nc4/count4\n",
    "        arr_2d[3,2] = arr_2d[3,1]/arr_2d[3,0]"
   ]
  },
  {
   "cell_type": "code",
   "execution_count": 7,
   "metadata": {
    "collapsed": true
   },
   "outputs": [],
   "source": [
    "def TD(ntrials,lrate,gamma,td_lambda,temp,decay,time):\n",
    "    n = 1000\n",
    "    nactions = 2 # number of actions\n",
    "    nwm_o = 2 # number of outer wm slots\n",
    "    nwm_i = 2 # number of inner wm slots\n",
    "    nsig_o = 2 # number of cue signals\n",
    "    nsig_i = 2 # number of probe signals\n",
    "    \n",
    "    # reward matix, reward given at 0,0,0\n",
    "    reward = np.zeros((nsig_o+1,nsig_i+1,nactions))\n",
    "    reward[0,0,0] = 1\n",
    "    reward[0,1,1] = 1\n",
    "    reward[1,0,1] = 1\n",
    "    reward[1,1,1] = 1\n",
    "    \n",
    "    #reward_outer = np.zeros((nsig_o+1,nactions))\n",
    "    #reward_outer[0,0] = 1\n",
    "    #reward_outer[1,1] = 1\n",
    "    # hrr for actions\n",
    "    actions = hrr.hrrs(n,nactions)\n",
    "    \n",
    "    # identity vector\n",
    "    hrr_i = np.zeros(n)\n",
    "    hrr_i[0] = 1\n",
    "    \n",
    "    # cue outer\n",
    "    sig_outer = hrr.hrrs(n,nsig_o)\n",
    "    sig_outer = np.row_stack((sig_outer,hrr_i))\n",
    "    \n",
    "    # probe inner\n",
    "    sig_inner = hrr.hrrs(n,nsig_i)\n",
    "    sig_inner = np.row_stack((sig_inner,hrr_i))\n",
    "     \n",
    "    # outer working memory\n",
    "    wm_outer = hrr.hrrs(n,nwm_o)\n",
    "    wm_outer = np.row_stack((wm_outer,hrr_i))\n",
    "    \n",
    "    # inner working memory\n",
    "    wm_inner = hrr.hrrs(n,nwm_i)\n",
    "    wm_inner = np.row_stack((wm_inner,hrr_i))\n",
    "    \n",
    "    # precomputed\n",
    "    external = hrr.oconvolve(sig_inner,sig_outer) \n",
    "    s_a = hrr.oconvolve(external,actions)\n",
    "    s_a = np.reshape(s_a,(nsig_o+1,nsig_i+1,nactions,n))\n",
    "    # weight vector and bias\n",
    "    W = hrr.hrr(n)\n",
    "    bias = 1\n",
    "    \n",
    "    # epsilon for e-soft policy\n",
    "    epsilon = .01\n",
    "    \n",
    "    # temperature for softmax\n",
    "    t = temp\n",
    "    \n",
    "    # eligibility trace\n",
    "    eligibility = np.zeros(n)\n",
    "    # array that keeps track of AX-CPT performance\n",
    "    perf_arr = np.zeros((4,3))\n",
    "    for trial in range(ntrials):\n",
    "        eligibility = np.zeros(n)\n",
    "        # 70% AX trials, 30% AY,BX,BY trials #\n",
    "        index = np.random.choice([0,1,2,3],p=[.7,.1,.1,.1])\n",
    "        choices = [(0,0),(0,1),(1,0),(1,1)]\n",
    "        cue,probe = choices[index]\n",
    "        #################################\n",
    "        \n",
    "        # sets context for later use\n",
    "        outer = cue\n",
    "        \n",
    "        inner = probe\n",
    "        \n",
    "        ###### is cue worth remembering #######\n",
    "        #######################################\n",
    "        cue_outerwm = hrr.convolve(sig_outer[cue],wm_outer)\n",
    "        values = np.dot(cue_outerwm,W) + bias\n",
    "        sm_prob = softmax(values,t)\n",
    "        wm_o = np.unravel_index(np.argmax(sm_prob),sm_prob.shape)\n",
    "        #wm1 = wm_outer[wm_o] # selected memory slot\n",
    "        #print('convolve:',cue_outerwm.shape)\n",
    "        #print('values:',values.shape)\n",
    "        #print('smax:',sm_prob.shape)\n",
    "        #print('wm1:',wm1.shape)\n",
    "        #print(wm_o)\n",
    "        #print(sm_prob)\n",
    "        \n",
    "        ########## epsilon soft ###################\n",
    "        if random.random() < epsilon:\n",
    "            wm_o = random.randrange(nwm_o+1)\n",
    "            \n",
    "        trace1 = hrr.convolve(sig_outer[cue],wm_outer[wm_o])\n",
    "        wm1 = wm_outer[wm_o] # selected memory slot\n",
    "        ###### decay chosen workingMemory ########\n",
    "        wm_outer_decayed = np.array(wm1)\n",
    "        wm_outer_decayed = hrr.pow(wm_outer_decayed,decay**time)\n",
    "        #trace1 = hrr.convolve(sig_outer[cue],wm_outer_decayed) #changed\n",
    "        #######################################\n",
    "        #print(wm_outer_decayed)\n",
    "        #r = 0 # reward for outer memory choice\n",
    "        pvalue = values[wm_o] # stores previous Q value\n",
    "        eligibility = cue_outerwm[wm_o] + td_lambda*eligibility\n",
    "        #eligibility = trace1 + td_lambda*eligibility\n",
    "        #######################################\n",
    "        wm1_wm2 = hrr.convolve(wm_outer_decayed,wm_inner) # convolve chosen outer wm with matrix of inner wm choices\n",
    "        #wm1_wm2 = hrr.convolve(trace1,wm_inner) # changed\n",
    "        probe_outerinnerwm_a = hrr.convolve(sig_inner[probe],hrr.oconvolve(wm1_wm2,actions))\n",
    "        probe_outerinnerwm_a = np.reshape(probe_outerinnerwm_a,(nwm_o+1,nactions,n))\n",
    "        values = np.dot(probe_outerinnerwm_a,W) + bias\n",
    "        sm_prob = softmax(values,t)\n",
    "        wm_i = np.unravel_index(np.argmax(sm_prob),sm_prob.shape) \n",
    "        current_memory = wm_i[0]\n",
    "        action = wm_i[1]\n",
    "        #print('probe:',probe_outerinnerwm_a.shape)\n",
    "        #print('value:',values.shape)\n",
    "        #print('smax:',sm_prob.shape)\n",
    "        #print(sm_prob)\n",
    "        #print(eligibility.shape)\n",
    "        #######################################\n",
    "    \n",
    "        ######### epsilon soft policy ##########\n",
    "        if random.random() < epsilon:\n",
    "            \n",
    "            action = random.randrange(0,nactions)\n",
    "            current_memory = random.randrange(nwm_i+1)\n",
    "            #current_outer_wm = random.randrange(nwm_o+1)\n",
    "            #current_inner_wm = random.randrange(nwm_i+1)\n",
    "        ########################################  \n",
    "        r = reward[outer,inner,action]\n",
    "        value = values[current_memory,action]\n",
    "        error = (r + gamma*value) - pvalue\n",
    "        W += lrate*log_transform(error)*eligibility\n",
    "        \n",
    "        eligibility = probe_outerinnerwm_a[current_memory,action,:] + td_lambda*eligibility\n",
    "        ########################################\n",
    "        value = values[current_memory,action]\n",
    "        #r = reward[outer,inner,action]\n",
    "        error = r - value\n",
    "        W += lrate*log_transform(error)*eligibility\n",
    "        performance(outer,inner,action,perf_arr)\n",
    "        ########################################\n",
    "        \n",
    "        if trial%1000==0:\n",
    "            print('Trial:',trial,end='\\n\\n')\n",
    "            print(format('','>10s'),format('count','>12s'),format('performance','>20s'))\n",
    "            print(format('AX |','<10s'),format(perf_arr[0,0],'>12.1f'),format(perf_arr[0,2],'>20.2%'))\n",
    "            print(format('BX |','<10s'),format(perf_arr[1,0],'>12.1f'),format(perf_arr[1,2],'>20.2%'))\n",
    "            print(format('AY |','<10s'),format(perf_arr[2,0],'>12.1f'),format(perf_arr[2,2],'>20.2%'))\n",
    "            print(format('BY |','<10s'),format(perf_arr[3,0],'>12.1f'),format(perf_arr[3,2],'>20.2%'))\n",
    "            perf_arr = np.zeros((4,3))\n",
    "            print(end='\\n\\n')\n",
    "        \n",
    "    print('Trial:',trial,end='\\n\\n')\n",
    "    print(format('','>10s'),format('count','>12s'),format('performance','>20s'))\n",
    "    print(format('AX |','<10s'),format(perf_arr[0,0],'>12.1f'),format(perf_arr[0,2],'>20.2%'))\n",
    "    print(format('BX |','<10s'),format(perf_arr[1,0],'>12.1f'),format(perf_arr[1,2],'>20.2%'))\n",
    "    print(format('AY |','<10s'),format(perf_arr[2,0],'>12.1f'),format(perf_arr[2,2],'>20.2%'))\n",
    "    print(format('BY |','<10s'),format(perf_arr[3,0],'>12.1f'),format(perf_arr[3,2],'>20.2%'))\n",
    "    perf_arr = np.zeros((4,3))\n",
    "    print(end='\\n\\n')\n",
    "         "
   ]
  },
  {
   "cell_type": "code",
   "execution_count": null,
   "metadata": {},
   "outputs": [
    {
     "name": "stdout",
     "output_type": "stream",
     "text": [
      "Trial: 0\n",
      "\n",
      "                  count          performance\n",
      "AX |                0.0                0.00%\n",
      "BX |                0.0                0.00%\n",
      "AY |                1.0                0.00%\n",
      "BY |                0.0                0.00%\n",
      "\n",
      "\n",
      "Trial: 1000\n",
      "\n",
      "                  count          performance\n",
      "AX |              680.0               97.06%\n",
      "BX |              115.0               67.83%\n",
      "AY |              103.0               98.06%\n",
      "BY |              102.0               89.22%\n",
      "\n",
      "\n",
      "Trial: 2000\n",
      "\n",
      "                  count          performance\n",
      "AX |              686.0               98.83%\n",
      "BX |               92.0               95.65%\n",
      "AY |              114.0               97.37%\n",
      "BY |              108.0               98.15%\n",
      "\n",
      "\n",
      "Trial: 3000\n",
      "\n",
      "                  count          performance\n",
      "AX |              716.0               98.60%\n",
      "BX |               99.0               96.97%\n",
      "AY |               93.0              100.00%\n",
      "BY |               92.0               96.74%\n",
      "\n",
      "\n",
      "Trial: 4000\n",
      "\n",
      "                  count          performance\n",
      "AX |              711.0               99.02%\n",
      "BX |              103.0              100.00%\n",
      "AY |               85.0               96.47%\n",
      "BY |              101.0               99.01%\n",
      "\n",
      "\n",
      "Trial: 5000\n",
      "\n",
      "                  count          performance\n",
      "AX |              679.0               99.12%\n",
      "BX |              102.0               99.02%\n",
      "AY |              106.0               99.06%\n",
      "BY |              113.0              100.00%\n",
      "\n",
      "\n",
      "Trial: 6000\n",
      "\n",
      "                  count          performance\n",
      "AX |              697.0               99.00%\n",
      "BX |              110.0               99.09%\n",
      "AY |               93.0               98.92%\n",
      "BY |              100.0              100.00%\n",
      "\n",
      "\n",
      "Trial: 7000\n",
      "\n",
      "                  count          performance\n",
      "AX |              700.0               99.14%\n",
      "BX |              100.0              100.00%\n",
      "AY |              101.0               98.02%\n",
      "BY |               99.0               98.99%\n",
      "\n",
      "\n",
      "Trial: 8000\n",
      "\n",
      "                  count          performance\n",
      "AX |              688.0               98.98%\n",
      "BX |               89.0               97.75%\n",
      "AY |              122.0              100.00%\n",
      "BY |              101.0              100.00%\n",
      "\n",
      "\n",
      "Trial: 9000\n",
      "\n",
      "                  count          performance\n",
      "AX |              712.0               99.30%\n",
      "BX |               92.0               98.91%\n",
      "AY |               92.0               98.91%\n",
      "BY |              104.0              100.00%\n",
      "\n",
      "\n",
      "Trial: 10000\n",
      "\n",
      "                  count          performance\n",
      "AX |              704.0               98.86%\n",
      "BX |               91.0              100.00%\n",
      "AY |               98.0              100.00%\n",
      "BY |              107.0              100.00%\n",
      "\n",
      "\n",
      "Trial: 10999\n",
      "\n",
      "                  count          performance\n",
      "AX |              700.0               99.14%\n",
      "BX |              101.0              100.00%\n",
      "AY |              101.0               98.02%\n",
      "BY |               97.0               98.97%\n",
      "\n",
      "\n"
     ]
    }
   ],
   "source": [
    "TD(11000,.01,.9,.8,.1,.5,0)\n",
    "# (num trials, learning rate, discount factor, lambda, temperature, decay factor, decay time steps)"
   ]
  },
  {
   "cell_type": "code",
   "execution_count": null,
   "metadata": {},
   "outputs": [
    {
     "name": "stdout",
     "output_type": "stream",
     "text": [
      "Trial: 0\n",
      "\n",
      "                  count          performance\n",
      "AX |                0.0                0.00%\n",
      "BX |                1.0              100.00%\n",
      "AY |                0.0                0.00%\n",
      "BY |                0.0                0.00%\n",
      "\n",
      "\n",
      "Trial: 1000\n",
      "\n",
      "                  count          performance\n",
      "AX |              695.0               95.83%\n",
      "BX |               91.0                2.20%\n",
      "AY |              105.0               95.24%\n",
      "BY |              109.0               97.25%\n",
      "\n",
      "\n",
      "Trial: 2000\n",
      "\n",
      "                  count          performance\n",
      "AX |              688.0               99.42%\n",
      "BX |               88.0                2.27%\n",
      "AY |              120.0               97.50%\n",
      "BY |              104.0              100.00%\n",
      "\n",
      "\n",
      "Trial: 3000\n",
      "\n",
      "                  count          performance\n",
      "AX |              692.0               98.99%\n",
      "BX |              109.0                0.92%\n",
      "AY |               96.0               98.96%\n",
      "BY |              103.0              100.00%\n",
      "\n",
      "\n",
      "Trial: 4000\n",
      "\n",
      "                  count          performance\n",
      "AX |              719.0               99.30%\n",
      "BX |               90.0                2.22%\n",
      "AY |               99.0              100.00%\n",
      "BY |               92.0              100.00%\n",
      "\n",
      "\n"
     ]
    }
   ],
   "source": [
    "TD(11000,.01,.9,.5,.1,.5,5000)"
   ]
  },
  {
   "cell_type": "code",
   "execution_count": 15,
   "metadata": {},
   "outputs": [
    {
     "data": {
      "text/plain": [
       "array([ 0.55259584,  0.03874157,  0.380548  ,  0.24951881,  0.01340751,\n",
       "       -0.35237558, -0.26257127,  0.34096257,  0.31601992, -0.27684736])"
      ]
     },
     "execution_count": 15,
     "metadata": {},
     "output_type": "execute_result"
    }
   ],
   "source": [
    "x"
   ]
  },
  {
   "cell_type": "code",
   "execution_count": 127,
   "metadata": {
    "collapsed": true
   },
   "outputs": [],
   "source": [
    "x = np.zeros((4,3))"
   ]
  },
  {
   "cell_type": "code",
   "execution_count": 128,
   "metadata": {},
   "outputs": [
    {
     "data": {
      "text/plain": [
       "array([[ 0.,  0.,  0.],\n",
       "       [ 0.,  0.,  0.],\n",
       "       [ 0.,  0.,  0.],\n",
       "       [ 0.,  0.,  0.]])"
      ]
     },
     "execution_count": 128,
     "metadata": {},
     "output_type": "execute_result"
    }
   ],
   "source": [
    "x"
   ]
  },
  {
   "cell_type": "code",
   "execution_count": 146,
   "metadata": {},
   "outputs": [
    {
     "name": "stdout",
     "output_type": "stream",
     "text": [
      "                            count          performance\n",
      "AX |                           12           45.000000%\n",
      "AY |                           12           45.000000%\n",
      "BX |                           12           45.000000%\n",
      "BY |                           12           45.000000%\n"
     ]
    }
   ],
   "source": [
    "count = 12\n",
    "perf = .45\n",
    "print(format('','>20s'),format('count','>12s'),format('performance','>20s'))\n",
    "print(format('AX |','<20s'),format(count,'>12d'),format(perf,'>20%'))\n",
    "print(format('AY |','<20s'),format(count,'>12d'),format(perf,'>20%'))\n",
    "print(format('BX |','<20s'),format(count,'>12d'),format(perf,'>20%'))\n",
    "print(format('BY |','<20s'),format(count,'>12d'),format(perf,'>20%'))"
   ]
  },
  {
   "cell_type": "code",
   "execution_count": null,
   "metadata": {
    "collapsed": true
   },
   "outputs": [],
   "source": []
  }
 ],
 "metadata": {
  "kernelspec": {
   "display_name": "Python 3",
   "language": "python",
   "name": "python3"
  },
  "language_info": {
   "codemirror_mode": {
    "name": "ipython",
    "version": 3
   },
   "file_extension": ".py",
   "mimetype": "text/x-python",
   "name": "python",
   "nbconvert_exporter": "python",
   "pygments_lexer": "ipython3",
   "version": "3.6.0"
  }
 },
 "nbformat": 4,
 "nbformat_minor": 2
}
