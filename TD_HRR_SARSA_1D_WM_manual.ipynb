{
 "cells": [
  {
   "cell_type": "markdown",
   "metadata": {},
   "source": [
    "# Equations"
   ]
  },
  {
   "cell_type": "markdown",
   "metadata": {},
   "source": [
    "$ \\delta = [R_{t+1} + \\gamma Q(s_{t+1}, a_{t+1})] - Q(s_t,a_t) $"
   ]
  },
  {
   "cell_type": "markdown",
   "metadata": {},
   "source": [
    "$ Q(s_t,a_t) = Q(s_t,a_t) + \\alpha\\delta $"
   ]
  },
  {
   "cell_type": "markdown",
   "metadata": {},
   "source": [
    "## Working Memory With SARSA"
   ]
  },
  {
   "cell_type": "code",
   "execution_count": 43,
   "metadata": {
    "collapsed": false
   },
   "outputs": [
    {
     "data": {
      "text/html": [
       "<script>requirejs.config({paths: { 'plotly': ['https://cdn.plot.ly/plotly-latest.min']},});if(!window.Plotly) {{require(['plotly'],function(plotly) {window.Plotly=plotly;});}}</script>"
      ],
      "text/vnd.plotly.v1+html": [
       "<script>requirejs.config({paths: { 'plotly': ['https://cdn.plot.ly/plotly-latest.min']},});if(!window.Plotly) {{require(['plotly'],function(plotly) {window.Plotly=plotly;});}}</script>"
      ]
     },
     "metadata": {},
     "output_type": "display_data"
    }
   ],
   "source": [
    "#from plotly.graph_objs import Scatter, Layout\n",
    "import matplotlib.pyplot as plt\n",
    "import plotly\n",
    "import numpy as np\n",
    "import random\n",
    "import hrr\n",
    "from plotly.graph_objs import Scatter, Layout, Surface\n",
    "plotly.offline.init_notebook_mode(connected=True)"
   ]
  },
  {
   "cell_type": "code",
   "execution_count": 132,
   "metadata": {
    "collapsed": false
   },
   "outputs": [],
   "source": [
    "def TD(nstates,nepisodes,lrate,gamma,td_lambda): \n",
    "    n = 1024\n",
    "    #nstates = 50\n",
    "    nactions = 2\n",
    "    nslots = 2\n",
    "    \n",
    "    #goal for red is at 0, green at middle\n",
    "    goal = [0,nstates//2]\n",
    "    reward = np.zeros((nslots,nstates))\n",
    "    \n",
    "    # reward matrix for each context\n",
    "    for x in range(nslots):\n",
    "        reward[x,goal[x]] = 1\n",
    "    \n",
    "    # basic actions are left and right\n",
    "    states = hrr.hrrs(n,nstates)\n",
    "    actions = hrr.hrrs(n,nactions)\n",
    "    \n",
    "    # identity vector\n",
    "    hrr_i = np.zeros(n)\n",
    "    hrr_i[0] = 1\n",
    "    \n",
    "    # WorkingMemory\n",
    "    wm_slots = hrr.hrrs(n,nslots)\n",
    "    \n",
    "    # External representation of color\n",
    "    ncolors = 2\n",
    "    colors = hrr.hrrs(n,ncolors)\n",
    "    \n",
    "    # add identity vector to colors matrix\n",
    "    colors = np.row_stack((colors,hrr_i))\n",
    "    #print(\"color shape:\",colors.shape)\n",
    "    \n",
    "    # add identity vector to wm_slots matrix\n",
    "    wm_slots = np.row_stack((wm_slots,hrr_i))\n",
    "    \n",
    "    # precomputed state/action/working_memory triplet\n",
    "    stateactions = hrr.oconvolve(actions,states)\n",
    "    s_a_wm = hrr.oconvolve(stateactions,wm_slots)\n",
    "    #s_a_wm = np.reshape(s_a_wm,(nslots,nstates,nactions,n))\n",
    "    s_s_a_wm = hrr.oconvolve(s_a_wm,colors)\n",
    "    s_s_a_wm = np.reshape(s_s_a_wm,(ncolors+1,nslots+1,nstates,nactions,n))\n",
    "    \n",
    "    \n",
    "    # weight vector\n",
    "    W = hrr.hrr(n)\n",
    "    bias = 1\n",
    "\n",
    "    #lrate = 0.1\n",
    "    eligibility = np.zeros(n)\n",
    "    #gamma = 0.9\n",
    "    #td_lambda = 0.5\n",
    "    epsilon = 0.05\n",
    "    #nepisodes = 10000\n",
    "    nsteps = 100\n",
    "   \n",
    "    \n",
    "    for episode in range(nepisodes):\n",
    "        state = random.randrange(0,nstates)\n",
    "        #initialize current Working memory\n",
    "        current_wm = nslots - 1\n",
    "        \n",
    "        # cue to signal context\n",
    "        color_signal = random.randrange(0,ncolors)\n",
    "        #values = np.dot(s_a_wm[:,state,:,:],W) + bias\n",
    "        values = np.dot(s_s_a_wm[color_signal,:,state,:,:],W) + bias\n",
    "        # returns index (row,col) of max value\n",
    "       \n",
    "        color_action = np.unravel_index(values.argmax(), values.shape)\n",
    "        #print(color_action.shape)\n",
    "        #action = values.argmax()\n",
    "    \n",
    "        color = color_action[0]\n",
    "        action = color_action[1]\n",
    "        if random.random() < epsilon:\n",
    "            action = random.randrange(0,nactions)\n",
    "            \n",
    "        eligibility = np.zeros(n)\n",
    "        \n",
    "        for step in range(nsteps):\n",
    "            r = reward[color_signal,state]\n",
    "            if state == goal[color_signal]:\n",
    "                #eligibility = s_a_wm[color,state,action,:] + td_lambda*gamma*eligibility\n",
    "                eligibility = s_s_a_wm[color_signal,current_wm,state,action,:] + td_lambda*gamma*eligibility\n",
    "                error = r - values[current_wm,action]\n",
    "                W += lrate*error*eligibility\n",
    "                break\n",
    "                \n",
    "            pstate = state\n",
    "            pvalues = values\n",
    "            paction = action\n",
    "            \n",
    "            previous_wm = current_wm\n",
    "            \n",
    "            #eligibility = s_a_wm[color,state,action,:] + td_lambda*gamma*eligibility\n",
    "            eligibility = s_s_a_wm[color_signal,current_wm,state,action,:] + td_lambda*gamma*eligibility\n",
    "            state = ((state+np.array([-1,1]))%nstates)[action]\n",
    "            \n",
    "            #values = np.dot(s_a_wm[:,state,:,:],W) + bias \n",
    "            values = np.dot(s_s_a_wm[color_signal,:,state,:,:],W) + bias\n",
    "            color_action = np.unravel_index(values.argmax(), values.shape)\n",
    "            current_wm = color_action[0]\n",
    "            action = color_action[1]\n",
    "            #action = values.argmax()\n",
    "            if random.random() < epsilon:\n",
    "                action = random.randrange(0,nactions)\n",
    "                \n",
    "            error = (r+gamma*values[current_wm,action])-pvalues[paction]\n",
    "            W += lrate*error*eligibility\n",
    "            \n",
    "        \n",
    "    V1 = list(map(lambda x: np.dot(x,W)+bias, s_s_a_wm[0,0,0,:,:]))\n",
    "    V2 = list(map(lambda x: np.dot(x,W)+bias, s_s_a_wm[0,0,1,:,:]))\n",
    "    V3 = list(map(lambda x: np.dot(x,W)+bias, s_s_a_wm[1,1,0,:,:]))\n",
    "    V4 = list(map(lambda x: np.dot(x,W)+bias, s_s_a_wm[1,1,1,:,:]))\n",
    "    \n",
    "    plotly.offline.iplot([\n",
    "    dict(x=[x for x in range(len(V1))] , y=V1, type='scatter',name='left and red'),\n",
    "    dict(x=[x for x in range(len(V1))] , y=V2, type='scatter',name='right and red'),\n",
    "    dict(x=[x for x in range(len(V1))] , y=V3, type='scatter',name='left and green'),\n",
    "    dict(x=[x for x in range(len(V1))] , y=V4, type='scatter',name='right and green')\n",
    "    ])"
   ]
  },
  {
   "cell_type": "code",
   "execution_count": 133,
   "metadata": {
    "collapsed": false
   },
   "outputs": [
    {
     "name": "stdout",
     "output_type": "stream",
     "text": [
      "color shape: (3, 1024)\n"
     ]
    },
    {
     "ename": "ValueError",
     "evalue": "operands could not be broadcast together with shapes (2,) (1024,) ",
     "output_type": "error",
     "traceback": [
      "\u001b[0;31m---------------------------------------------------------------------------\u001b[0m",
      "\u001b[0;31mValueError\u001b[0m                                Traceback (most recent call last)",
      "\u001b[0;32m<ipython-input-133-0c82d3598337>\u001b[0m in \u001b[0;36m<module>\u001b[0;34m()\u001b[0m\n\u001b[0;32m----> 1\u001b[0;31m \u001b[0mTD\u001b[0m\u001b[0;34m(\u001b[0m\u001b[0;36m50\u001b[0m\u001b[0;34m,\u001b[0m\u001b[0;36m10000\u001b[0m\u001b[0;34m,\u001b[0m\u001b[0;36m.1\u001b[0m\u001b[0;34m,\u001b[0m\u001b[0;36m.9\u001b[0m\u001b[0;34m,\u001b[0m\u001b[0;36m.5\u001b[0m\u001b[0;34m)\u001b[0m\u001b[0;34m\u001b[0m\u001b[0m\n\u001b[0m\u001b[1;32m      2\u001b[0m \u001b[0;31m#inputs: nstates,nepisodes,lrate,gamma,td_lambda\u001b[0m\u001b[0;34m\u001b[0m\u001b[0;34m\u001b[0m\u001b[0m\n",
      "\u001b[0;32m<ipython-input-132-886aa6c5b8f0>\u001b[0m in \u001b[0;36mTD\u001b[0;34m(nstates, nepisodes, lrate, gamma, td_lambda)\u001b[0m\n\u001b[1;32m    107\u001b[0m \u001b[0;34m\u001b[0m\u001b[0m\n\u001b[1;32m    108\u001b[0m             \u001b[0merror\u001b[0m \u001b[0;34m=\u001b[0m \u001b[0;34m(\u001b[0m\u001b[0mr\u001b[0m\u001b[0;34m+\u001b[0m\u001b[0mgamma\u001b[0m\u001b[0;34m*\u001b[0m\u001b[0mvalues\u001b[0m\u001b[0;34m[\u001b[0m\u001b[0mcurrent_wm\u001b[0m\u001b[0;34m,\u001b[0m\u001b[0maction\u001b[0m\u001b[0;34m]\u001b[0m\u001b[0;34m)\u001b[0m\u001b[0;34m-\u001b[0m\u001b[0mpvalues\u001b[0m\u001b[0;34m[\u001b[0m\u001b[0mpaction\u001b[0m\u001b[0;34m]\u001b[0m\u001b[0;34m\u001b[0m\u001b[0m\n\u001b[0;32m--> 109\u001b[0;31m             \u001b[0mW\u001b[0m \u001b[0;34m+=\u001b[0m \u001b[0mlrate\u001b[0m\u001b[0;34m*\u001b[0m\u001b[0merror\u001b[0m\u001b[0;34m*\u001b[0m\u001b[0meligibility\u001b[0m\u001b[0;34m\u001b[0m\u001b[0m\n\u001b[0m\u001b[1;32m    110\u001b[0m \u001b[0;34m\u001b[0m\u001b[0m\n\u001b[1;32m    111\u001b[0m \u001b[0;34m\u001b[0m\u001b[0m\n",
      "\u001b[0;31mValueError\u001b[0m: operands could not be broadcast together with shapes (2,) (1024,) "
     ]
    }
   ],
   "source": [
    "TD(50,10000,.1,.9,.5)\n",
    "#inputs: nstates,nepisodes,lrate,gamma,td_lambda"
   ]
  },
  {
   "cell_type": "markdown",
   "metadata": {},
   "source": [
    "# Testing Stuff Below"
   ]
  },
  {
   "cell_type": "code",
   "execution_count": 31,
   "metadata": {
    "collapsed": false
   },
   "outputs": [
    {
     "name": "stdout",
     "output_type": "stream",
     "text": [
      "[[[[[  2.77710361e-01  -1.38923364e-01  -3.64956344e-01   9.02234529e-02\n",
      "       3.44268711e-01  -2.37548228e-02  -9.45448047e-02   5.05515983e-02\n",
      "      -2.92461853e-01  -2.10651761e-02]\n",
      "    [ -1.52650195e-01  -2.19966194e-01   1.48672286e-01   2.37240793e-01\n",
      "      -9.66869392e-02  -1.86226126e-01  -2.02194123e-03  -3.72009952e-02\n",
      "       1.40017725e-01   2.83722774e-01]]\n",
      "\n",
      "   [[ -2.91782726e-01  -2.83811969e-01   5.03339004e-01   1.80637922e-01\n",
      "      -2.82913357e-01  -2.79541901e-01   2.58913565e-01   4.89037539e-02\n",
      "       9.98663404e-02   2.01095109e-01]\n",
      "    [ -6.48620230e-02   4.15745746e-01   8.44468283e-02  -3.85951194e-01\n",
      "      -1.19222796e-01   1.94544048e-01   1.69909313e-01  -7.56270999e-02\n",
      "      -2.45165645e-02  -2.97245343e-01]]\n",
      "\n",
      "   [[  1.69800880e-01   2.20687373e-02   1.46427733e-01  -5.35918251e-02\n",
      "      -2.32499142e-01   1.67990348e-01  -9.38813959e-02  -2.23785553e-01\n",
      "      -5.68122021e-02   1.34537756e-01]\n",
      "    [ -1.23430593e-01  -9.18559403e-02  -6.63351615e-02  -7.75429388e-02\n",
      "       2.15722133e-01   7.70156636e-02  -1.27855466e-01   8.91710637e-02\n",
      "       8.20563841e-02   3.61722633e-02]]\n",
      "\n",
      "   [[  1.34772232e-01   3.76876307e-01   2.01012423e-01  -2.08472953e-01\n",
      "       3.10363882e-02  -1.09629508e-02  -1.04636219e-01   5.57472146e-02\n",
      "       1.03088658e-01  -3.21486602e-01]\n",
      "    [  2.20175251e-01  -1.54531294e-01  -2.61497697e-01  -8.92094762e-02\n",
      "       1.34627682e-01   2.53441559e-02   1.26299215e-01  -4.21524325e-03\n",
      "      -1.95466306e-01   2.77521652e-02]]\n",
      "\n",
      "   [[ -2.52756191e-01  -3.20204604e-01   2.69820792e-01   8.21625073e-02\n",
      "      -3.64803580e-01   1.53428775e-01   9.15316658e-02  -1.64747408e-01\n",
      "      -5.57087132e-03   3.89898855e-01]\n",
      "    [ -1.97452669e-01   3.17488800e-01   8.64169769e-02  -1.93393208e-01\n",
      "       8.05149063e-02   9.82913986e-02  -1.54281694e-01   6.78405483e-02\n",
      "       1.32052378e-01  -1.56931349e-01]]]\n",
      "\n",
      "\n",
      "  [[[ -2.00329358e-01   2.12028927e-01   2.46566561e-01  -3.58531944e-01\n",
      "      -4.31170739e-01   1.42363978e-01   2.93554879e-01   4.41989937e-02\n",
      "       1.99561953e-01  -1.10437240e-01]\n",
      "    [  3.00771368e-01   1.64068631e-01  -2.42181751e-01  -1.75527792e-01\n",
      "       2.87237186e-01   2.56227252e-01  -1.08416707e-01  -1.74906574e-01\n",
      "      -2.08681760e-01  -1.23706355e-01]]\n",
      "\n",
      "   [[  2.79700794e-01   9.70278836e-02  -6.17682846e-01   7.24454531e-02\n",
      "       4.48602156e-01   2.52320334e-01  -5.31206383e-01  -1.14530761e-01\n",
      "      -2.73969435e-02   1.06902846e-01]\n",
      "    [ -2.35748281e-01  -4.04657267e-01   1.18864013e-01   5.07709040e-01\n",
      "      -6.44363041e-02  -3.77745789e-01  -1.55727899e-01   3.08613053e-01\n",
      "       1.48936659e-01   1.76659479e-01]]\n",
      "\n",
      "   [[ -2.24911716e-01   3.81719339e-02   3.17989713e-02   1.85731259e-01\n",
      "       2.71307007e-01  -1.10471159e-01   1.66436420e-01   1.42827394e-01\n",
      "      -1.25317330e-01  -3.71256751e-01]\n",
      "    [  2.63123459e-01   9.51378882e-02  -4.05489299e-02  -1.07236713e-01\n",
      "      -2.73871149e-01  -4.06639230e-02   1.39028199e-01  -9.53007144e-02\n",
      "      -3.49881974e-02   9.24527178e-02]]\n",
      "\n",
      "   [[ -4.26193425e-01  -3.67339607e-01  -4.29586456e-02   5.06661673e-01\n",
      "       3.98071955e-02   7.98305253e-02   3.38782264e-02   3.73351077e-02\n",
      "      -1.18517344e-01   2.01323675e-01]\n",
      "    [ -1.40404640e-01   3.32469758e-01   2.39322753e-01  -8.61534548e-02\n",
      "      -3.72555345e-01  -7.43356722e-02  -6.59625008e-02   1.28414701e-01\n",
      "       1.33561447e-01  -5.70386495e-02]]\n",
      "\n",
      "   [[  4.14245478e-01   2.19595526e-01  -2.78137774e-01  -1.13495157e-01\n",
      "       3.81689513e-01  -2.29354607e-01  -1.05284571e-01   2.85498316e-02\n",
      "       1.35254281e-02  -3.04831538e-01]\n",
      "    [  9.04701003e-02  -4.04055360e-01  -9.67075844e-03   2.28450644e-01\n",
      "      -2.49746054e-02  -1.12891963e-01   1.54923365e-01  -5.32884590e-02\n",
      "      -2.86631334e-02   1.42093424e-01]]]\n",
      "\n",
      "\n",
      "  [[[  6.76689367e-02   1.71683950e-01   2.43361506e-01   2.80118478e-01\n",
      "       2.58764094e-01   6.42704171e-01   5.97552293e-01   2.16916798e-01\n",
      "       3.85311181e-01   5.53276221e-01]\n",
      "    [ -2.23614019e-01  -5.61153687e-02  -1.86340881e-01  -1.65654244e-01\n",
      "      -1.74312292e-01  -2.60905932e-01  -5.34868623e-01  -2.85652751e-01\n",
      "      -8.81784761e-02  -2.94686145e-01]]\n",
      "\n",
      "   [[ -2.50758947e-01  -1.75828241e-01  -2.09943281e-01  -4.79583217e-01\n",
      "      -8.81530356e-02  -5.51082312e-01  -4.00238359e-01  -4.08341355e-01\n",
      "       1.74000346e-01  -6.66897244e-01]\n",
      "    [  4.53290926e-01   7.76601398e-02   2.16845668e-01   2.01065505e-01\n",
      "       1.96664219e-01   1.06035929e-01   4.11423999e-01   3.18318408e-01\n",
      "       8.55429407e-02  -3.60391844e-02]]\n",
      "\n",
      "   [[ -1.72026213e-02   3.65151007e-01   2.10401893e-01   1.86596384e-01\n",
      "       3.68675381e-01   6.14741766e-03  -2.16661682e-01  -7.63238913e-02\n",
      "      -3.54879445e-01  -8.17703148e-02]\n",
      "    [ -1.35750854e-02  -1.13402231e-01  -3.21802095e-01  -5.55289729e-02\n",
      "      -1.64491769e-01  -1.20432676e-01   1.45580984e-01   8.40696648e-02\n",
      "       1.30018211e-01   1.70377541e-01]]\n",
      "\n",
      "   [[ -3.58048225e-01  -6.74037666e-01  -8.90218467e-02  -3.31049770e-01\n",
      "      -2.02671228e-01  -7.47750974e-01  -2.29342262e-01  -8.08228381e-01\n",
      "      -8.10566521e-01  -8.26833742e-01]\n",
      "    [  4.30041588e-01   2.65251511e-01   3.06654874e-01   1.24917284e-02\n",
      "       2.20591128e-01   3.16337650e-01   5.02245034e-01   2.13066000e-01\n",
      "       6.19775744e-01   4.86826178e-01]]\n",
      "\n",
      "   [[  1.13372522e-01   6.95089133e-01  -1.02167414e-01   1.81457686e-01\n",
      "       3.01449967e-01   2.21831994e-01  -1.70206798e-01   5.39592012e-01\n",
      "       3.33979428e-01   2.81179800e-01]\n",
      "    [ -1.30701175e-01  -2.14518221e-01  -3.10450554e-01   1.56467854e-01\n",
      "      -2.42700196e-01  -1.93417266e-01  -4.63715117e-02  -1.84602666e-02\n",
      "      -3.99115165e-01  -1.92241003e-01]]]]\n",
      "\n",
      "\n",
      "\n",
      " [[[[  4.70473600e-02   4.62404271e-01  -1.19004081e-01  -2.52016100e-01\n",
      "       1.81355820e-01   7.02308396e-02  -2.98293128e-01  -4.13937834e-02\n",
      "       1.57612372e-01  -2.77182582e-01]\n",
      "    [  2.17412556e-01  -2.30757557e-01  -2.36155446e-01   1.87899873e-01\n",
      "       1.03212690e-01  -9.66651243e-02   5.47296065e-02   1.39821753e-01\n",
      "      -1.14656317e-01   2.11570502e-02]]\n",
      "\n",
      "   [[  3.08664060e-01  -3.30539847e-01  -2.75552809e-01   5.00689883e-01\n",
      "       5.99044701e-02  -3.12039532e-01   9.63289031e-02   2.02335454e-01\n",
      "      -1.74493709e-01  -1.33625928e-02]\n",
      "    [ -1.93692984e-01  -1.11084796e-01   3.86456692e-01  -1.69914961e-02\n",
      "      -3.32172874e-01   6.37401056e-02   1.08845841e-01  -8.03955266e-02\n",
      "       2.53748833e-03   1.31611381e-01]]\n",
      "\n",
      "   [[  4.54113932e-02  -1.30864613e-01  -1.72391347e-01  -1.77566155e-02\n",
      "      -1.33084540e-01  -1.92743446e-01   3.43229588e-01   1.41922965e-01\n",
      "      -8.27373540e-02   1.91109470e-01]\n",
      "    [ -6.64474266e-02   5.85742338e-02   1.05466508e-01   6.92733401e-02\n",
      "      -2.39069994e-02   1.64420366e-01  -2.32449311e-02  -2.81067504e-01\n",
      "       1.27840073e-02  -1.06002235e-02]]\n",
      "\n",
      "   [[ -2.90721093e-01   1.90245850e-02   1.78160755e-01  -2.45483329e-01\n",
      "      -2.45529999e-01   1.14447735e-01   6.42165386e-02  -6.16015930e-02\n",
      "       3.27146017e-01   2.43216530e-01]\n",
      "    [  2.26795094e-02   2.31329712e-01  -7.67672559e-02  -2.73593979e-02\n",
      "       1.65745668e-01   4.65045052e-02  -9.84736592e-02   2.97132570e-02\n",
      "      -5.57578335e-02  -3.05960490e-01]]\n",
      "\n",
      "   [[  3.12969736e-01  -3.44454759e-01  -2.27998192e-01   4.96001110e-01\n",
      "      -1.98618176e-02  -3.48439479e-01   3.58441159e-01   8.38379142e-02\n",
      "      -4.32386740e-01   7.33543061e-02]\n",
      "    [ -2.05027557e-01  -9.38977550e-02   3.11008947e-01  -6.27640646e-02\n",
      "      -2.93179132e-01   1.99721107e-01   4.41840549e-02  -2.58710850e-01\n",
      "       1.66273022e-01   2.24637728e-01]]]\n",
      "\n",
      "\n",
      "  [[[ -2.21252446e-01  -4.02105388e-01   2.56352807e-01   3.15768113e-01\n",
      "      -1.41687876e-01  -1.24887738e-03   3.37967477e-01   1.57149001e-02\n",
      "      -2.30661847e-01   8.62882447e-02]\n",
      "    [ -6.11132244e-02   3.10740917e-01   1.39051302e-01  -3.14379897e-01\n",
      "      -1.61368173e-01   9.86794701e-02  -4.02611304e-02  -1.22863111e-01\n",
      "       1.15496266e-01   2.59625401e-02]]\n",
      "\n",
      "   [[ -1.59102238e-01   3.29314197e-01   8.47760918e-02  -5.66929411e-01\n",
      "       2.39919882e-02   3.63613636e-01  -1.00668320e-01  -2.31978390e-01\n",
      "       1.77304636e-01   6.61394601e-02]\n",
      "    [  1.36388849e-01  -2.58553572e-02  -3.46161670e-01   1.67780030e-01\n",
      "       3.77916684e-01  -1.27461393e-01  -1.92503337e-01   5.61469021e-02\n",
      "       4.41500268e-02  -8.14065023e-02]]\n",
      "\n",
      "   [[  1.30505138e-01   3.03650245e-01   2.66467508e-01  -1.20458244e-03\n",
      "      -9.97480844e-03  -8.18555281e-02  -5.16303117e-01  -1.62073637e-01\n",
      "       1.21181243e-01  -4.86645997e-02]\n",
      "    [ -5.92360744e-02  -1.46649154e-01  -1.64553622e-01  -6.88713516e-02\n",
      "       7.01955966e-02  -2.02033280e-02   2.05250413e-01   3.31311395e-01\n",
      "      -5.63866434e-02  -9.20051396e-02]]\n",
      "\n",
      "   [[  4.44939861e-01   8.54800184e-02  -3.13389827e-02   3.18867715e-01\n",
      "       1.82292291e-01  -2.98405100e-01  -2.68346536e-01  -1.06163733e-01\n",
      "      -3.01513316e-01  -4.83001416e-02]\n",
      "    [ -2.08028768e-01  -3.26822389e-01   4.03184500e-02   1.81153466e-03\n",
      "      -1.53867236e-01   1.76764738e-02   2.16862823e-01   1.05673647e-01\n",
      "       1.29423106e-01   1.91892257e-01]]\n",
      "\n",
      "   [[ -2.73808335e-01   3.18925974e-01   6.84407537e-02  -5.51284037e-01\n",
      "       4.47140806e-02   3.42851231e-01  -2.86053423e-01   2.33507709e-02\n",
      "       4.20343455e-01  -9.68707123e-02]\n",
      "    [  2.28157869e-01   6.94639622e-02  -2.67023986e-01   1.51518471e-01\n",
      "       2.96472296e-01  -2.05285910e-01  -6.91523761e-02   1.68885222e-01\n",
      "      -2.06622753e-01  -1.73461409e-01]]]\n",
      "\n",
      "\n",
      "  [[[  3.11516667e-01  -4.02916764e-02   3.24142630e-01   5.32815717e-01\n",
      "       1.60110913e-01   8.97782999e-02   2.55549843e-01   2.87687970e-02\n",
      "      -3.55304722e-01   6.10048700e-02]\n",
      "    [ -2.04064751e-01  -1.40270548e-01  -5.35720384e-02  -3.50379272e-01\n",
      "      -2.35677724e-01  -8.68679133e-03  -6.38458564e-02  -1.49964630e-01\n",
      "       1.08248415e-01   1.89318836e-01]]\n",
      "\n",
      "   [[ -4.40611672e-01  -2.30184424e-01   1.18290666e-01  -4.00048930e-01\n",
      "      -2.29181767e-01   1.73108012e-01  -1.89274693e-01  -2.40231222e-01\n",
      "       7.11053155e-02   1.43271313e-01]\n",
      "    [  2.50093544e-02   3.44698874e-01   7.88769776e-04   5.65379066e-02\n",
      "       2.93992281e-01  -4.52652901e-02  -6.29687219e-02   1.90616863e-01\n",
      "       1.22955340e-01  -1.13359573e-01]]\n",
      "\n",
      "   [[  2.95614325e-01   2.75735638e-01   3.52025395e-02  -2.70498670e-01\n",
      "      -4.46368978e-01  -1.14796875e-01  -2.55545193e-01  -7.62783177e-02\n",
      "       4.64896501e-01   2.48223772e-01]\n",
      "    [ -1.22161387e-01  -1.80079395e-01  -4.71425367e-02   7.46933050e-02\n",
      "       3.07838966e-01   2.09770137e-01   2.22728096e-02   1.43169380e-01\n",
      "      -2.05425253e-01  -3.06697688e-01]]\n",
      "\n",
      "   [[  2.78492354e-01   1.35837627e-01  -3.33457312e-01  -2.23728178e-01\n",
      "      -3.85481062e-01  -6.63415536e-01  -5.71322153e-01  -6.81249683e-02\n",
      "      -6.97385253e-02  -1.31788632e-01]\n",
      "    [ -2.47352175e-02  -1.81876448e-01   1.30196596e-01   2.69496201e-01\n",
      "       1.82928189e-01   3.45600177e-01   4.38490069e-01   2.16807412e-01\n",
      "      -8.17814345e-02   5.53205072e-02]]\n",
      "\n",
      "   [[ -2.81998700e-01   2.98043371e-02   2.87231887e-01  -2.43467744e-01\n",
      "       2.51029748e-02   5.88982288e-01   5.11788154e-02  -6.82103942e-02\n",
      "       4.53344842e-01   1.17067979e-01]\n",
      "    [  7.86325594e-02   1.59161747e-01  -1.52591469e-01  -9.51264830e-02\n",
      "       1.87548211e-01  -2.55176785e-01  -3.21030054e-01   1.00262007e-01\n",
      "      -8.55360475e-02  -2.53281459e-01]]]]]\n"
     ]
    }
   ],
   "source": [
    "nslots = 3\n",
    "nstates = 5\n",
    "ncolors = 2\n",
    "n = 10\n",
    "nactions = 2\n",
    "bias = 1\n",
    "# basic actions are left and right\n",
    "states = hrr.hrrs(n,nstates)\n",
    "actions = hrr.hrrs(n,nactions)\n",
    "wm_slots = hrr.hrrs(n,nslots)\n",
    "colors = hrr.hrrs(n,ncolors)\n",
    "    \n",
    "stateactions = hrr.oconvolve(actions,states)\n",
    "s_a_wm = hrr.oconvolve(stateactions,wm_slots)\n",
    "s_s_a_wm = hrr.oconvolve(s_a_wm,colors)\n",
    "s_s_a_wm = np.reshape(s_s_a_wm,(ncolors,nslots,nstates,nactions,n))\n",
    "\n",
    "W = hrr.hrr(n)\n",
    "print(s_s_a_wm)"
   ]
  },
  {
   "cell_type": "code",
   "execution_count": null,
   "metadata": {
    "collapsed": false
   },
   "outputs": [],
   "source": [
    "s_a_wm = np.reshape(s_a_wm,(nslots,nstates,nactions,n))\n",
    "print(s_a_wm)"
   ]
  },
  {
   "cell_type": "code",
   "execution_count": null,
   "metadata": {
    "collapsed": false
   },
   "outputs": [],
   "source": [
    "state = 3\n",
    "values = np.dot(s_a_wm[:,state,:,],W) + bias\n",
    "print(values)\n",
    "#action = np.argmax(values)\n",
    "action = np.unravel_index(values.argmax(), values.shape)\n",
    "print(action)\n",
    "(nslots,nactions)"
   ]
  },
  {
   "cell_type": "code",
   "execution_count": null,
   "metadata": {
    "collapsed": false
   },
   "outputs": [],
   "source": [
    "s_a_wm.shape"
   ]
  },
  {
   "cell_type": "code",
   "execution_count": null,
   "metadata": {
    "collapsed": false
   },
   "outputs": [],
   "source": [
    "s_a_wm[0]"
   ]
  },
  {
   "cell_type": "code",
   "execution_count": null,
   "metadata": {
    "collapsed": true
   },
   "outputs": [],
   "source": [
    "goal = [0,nstates//2]"
   ]
  },
  {
   "cell_type": "code",
   "execution_count": null,
   "metadata": {
    "collapsed": false
   },
   "outputs": [],
   "source": [
    "goal"
   ]
  },
  {
   "cell_type": "code",
   "execution_count": null,
   "metadata": {
    "collapsed": false
   },
   "outputs": [],
   "source": [
    "reward = np.zeros((2,3))\n",
    "print (reward)"
   ]
  },
  {
   "cell_type": "code",
   "execution_count": null,
   "metadata": {
    "collapsed": false
   },
   "outputs": [],
   "source": [
    "s_a_wm[0,0,:,:]"
   ]
  },
  {
   "cell_type": "code",
   "execution_count": 142,
   "metadata": {
    "collapsed": false
   },
   "outputs": [],
   "source": [
    "states = hrr.hrrs(n,nstates)\n",
    "actions = hrr.hrrs(n,nactions)\n",
    "\n",
    "    # identity vector\n",
    "hrr_i = np.zeros(n)\n",
    "hrr_i[0] = 1\n",
    "    \n",
    "    # WorkingMemory\n",
    "wm_slots = hrr.hrrs(n,nslots)\n",
    "    \n",
    "    # External representation of color\n",
    "ncolors = 2\n",
    "colors = hrr.hrrs(n,ncolors)\n",
    "nslots = 2\n",
    "\n",
    "    # add identity vector to colors matrix\n",
    "colors = np.row_stack((colors,hrr_i))\n",
    "    #print(\"color shape:\",colors.shape)\n",
    "    \n",
    "    # add identity vector to wm_slots matrix\n",
    "wm_slots = np.row_stack((wm_slots,hrr_i))\n",
    "    \n",
    "    # precomputed state/action/working_memory triplet\n",
    "stateactions = hrr.oconvolve(actions,states)\n",
    "s_a_wm = hrr.oconvolve(stateactions,wm_slots)\n",
    "    #s_a_wm = np.reshape(s_a_wm,(nslots,nstates,nactions,n))\n",
    "s_s_a_wm = hrr.oconvolve(s_a_wm,colors)\n",
    "s_s_a_wm = np.reshape(s_s_a_wm,(ncolors+1,nslots+1,nstates,nactions,n))\n",
    "    \n",
    "    \n",
    "    # weight vector\n",
    "W = hrr.hrr(n)\n",
    "bias = 1"
   ]
  },
  {
   "cell_type": "code",
   "execution_count": 143,
   "metadata": {
    "collapsed": false
   },
   "outputs": [],
   "source": [
    "color_signal = 0\n",
    "state = 0\n",
    "values = np.dot(s_s_a_wm[color_signal,:,state,:,:],W) + bias\n",
    "        # returns index (row,col) of max value\n",
    "       \n",
    "color_action = np.unravel_index(values.argmax(), values.shape)\n",
    "        #print(color_action.shape)\n",
    "        #action = values.argmax()\n",
    "    \n",
    "color = color_action[0]\n",
    "action = color_action[1]"
   ]
  },
  {
   "cell_type": "code",
   "execution_count": 139,
   "metadata": {
    "collapsed": false
   },
   "outputs": [
    {
     "name": "stdout",
     "output_type": "stream",
     "text": [
      "(2, 1)\n",
      "[[ 0.94648173  0.73398013]\n",
      " [ 0.75742677  0.99427962]\n",
      " [ 0.89761643  1.2950496 ]\n",
      " [ 0.8058958   0.91645998]]\n"
     ]
    }
   ],
   "source": [
    "print(color_action)\n",
    "print(values)"
   ]
  },
  {
   "cell_type": "code",
   "execution_count": 144,
   "metadata": {
    "collapsed": false
   },
   "outputs": [
    {
     "data": {
      "text/plain": [
       "(3, 3, 5, 2, 10)"
      ]
     },
     "execution_count": 144,
     "metadata": {},
     "output_type": "execute_result"
    }
   ],
   "source": [
    "s_s_a_wm.shape"
   ]
  },
  {
   "cell_type": "code",
   "execution_count": null,
   "metadata": {
    "collapsed": true
   },
   "outputs": [],
   "source": []
  }
 ],
 "metadata": {
  "kernelspec": {
   "display_name": "Python 3",
   "language": "python",
   "name": "python3"
  },
  "language_info": {
   "codemirror_mode": {
    "name": "ipython",
    "version": 3
   },
   "file_extension": ".py",
   "mimetype": "text/x-python",
   "name": "python",
   "nbconvert_exporter": "python",
   "pygments_lexer": "ipython3",
   "version": "3.6.0"
  }
 },
 "nbformat": 4,
 "nbformat_minor": 2
}
