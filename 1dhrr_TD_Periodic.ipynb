{
 "cells": [
  {
   "cell_type": "markdown",
   "metadata": {},
   "source": [
    "# Equations"
   ]
  },
  {
   "cell_type": "markdown",
   "metadata": {},
   "source": [
    "$ V(s_t) = \\gamma ^0r(s_t) + \\gamma ^1r(s_{t+1}) + \\gamma ^2r(s_{t+2}) + ... + \\gamma ^nr(s_{t+n})$"
   ]
  },
  {
   "cell_type": "markdown",
   "metadata": {},
   "source": [
    "$ \\delta (s_t) = [r(s_t) + \\gamma V(s_{t+1})] - V(s_t) $"
   ]
  },
  {
   "cell_type": "markdown",
   "metadata": {},
   "source": [
    "$ V(s_t) = V(s_t) + \\alpha\\delta $"
   ]
  },
  {
   "cell_type": "markdown",
   "metadata": {},
   "source": [
    "$ \\pi (s_t) = argmax_a V(s_t) $"
   ]
  },
  {
   "cell_type": "markdown",
   "metadata": {},
   "source": [
    "## Temporal Difference "
   ]
  },
  {
   "cell_type": "code",
   "execution_count": 10,
   "metadata": {
    "collapsed": false
   },
   "outputs": [
    {
     "data": {
      "text/html": [
       "<script>requirejs.config({paths: { 'plotly': ['https://cdn.plot.ly/plotly-latest.min']},});if(!window.Plotly) {{require(['plotly'],function(plotly) {window.Plotly=plotly;});}}</script>"
      ],
      "text/vnd.plotly.v1+html": [
       "<script>requirejs.config({paths: { 'plotly': ['https://cdn.plot.ly/plotly-latest.min']},});if(!window.Plotly) {{require(['plotly'],function(plotly) {window.Plotly=plotly;});}}</script>"
      ]
     },
     "metadata": {},
     "output_type": "display_data"
    }
   ],
   "source": [
    "#from plotly.graph_objs import Scatter, Layout\n",
    "import matplotlib.pyplot as plt\n",
    "import plotly\n",
    "import numpy as np\n",
    "import random\n",
    "import hrr\n",
    "from plotly.graph_objs import Scatter, Layout, Surface\n",
    "plotly.offline.init_notebook_mode(connected=True)"
   ]
  },
  {
   "cell_type": "code",
   "execution_count": 13,
   "metadata": {
    "collapsed": false
   },
   "outputs": [],
   "source": [
    "# state 2 is where the cheese is\n",
    "# 1X3 maze\n",
    "\n",
    "def reward(s):\n",
    "    if s == 0:\n",
    "        return 1\n",
    "    else:\n",
    "        return 0\n",
    "    \n",
    "def valuefunc(s,V,W,bias):\n",
    "    return np.dot(V[s],W)+bias\n",
    "    \n",
    "def policy(s,V,W,bias):\n",
    "    x = random.random()\n",
    "    ep = 0.01\n",
    "    left = ((s-1)+len(V))%len(V)\n",
    "    right = ((s+1)+len(V))%len(V)\n",
    "    \n",
    "    if x < ep:\n",
    "            #print('Random choice')\n",
    "        return random.choice([left,right])\n",
    "    elif valuefunc(right,V,W,bias) == valuefunc(left,V,W,bias):\n",
    "        return random.choice([left,right])\n",
    "    elif valuefunc(right,V,W,bias) > valuefunc(left,V,W,bias):\n",
    "        return right\n",
    "    else:\n",
    "        return left\n",
    "        \n",
    "def TD(v_size, num_ep, alpha, gamma): \n",
    "    #number of states\n",
    "    nstates = v_size\n",
    "    \n",
    "    #length of hrr\n",
    "    n = 128\n",
    "    \n",
    "    #encode each state as a unique hrr\n",
    "    states = hrr.hrrs(n,nstates)\n",
    "    \n",
    "    #initialize weight vector with small random values\n",
    "    W = np.random.random(n)*.01\n",
    "    bias = 0\n",
    "    \n",
    "    num_episodes = num_ep\n",
    "    #V = [0]*v_size\n",
    "    #V[9] = -10 # sudo barrier\n",
    "    #print('Initial V is',V)\n",
    "    #plt.plot([x for x in range(v_size)], V, 'bo',[x for x in range(v_size)], V, 'k')\n",
    "    #plt.axis([0, v_size, 0, 1])\n",
    "    #plt.show()\n",
    "    for x in range(num_episodes):\n",
    "        #print('Episode:',x)\n",
    "        s = random.randrange(0,v_size)\n",
    "        t_state = 0\n",
    "        current_value = 0\n",
    "        next_value = 0\n",
    "        while s != t_state:\n",
    "            new_state = policy(s,states,W,bias) #get new state\n",
    "            r = reward(s) #get reward at state s\n",
    "            \n",
    "            ## Get the learned value V[s] of the current state\n",
    "            ## Note this is a simple perceptron, or single-layer\n",
    "            ## neural network which produces a weighted sum of the\n",
    "            ## HRR for the current state.\n",
    "            current_value = np.dot(states[s],W)+bias\n",
    "            next_value = np.dot(states[new_state],W)+bias\n",
    "            #print(\"Value of V[\",s,\"] is\",current_value)\n",
    "            #print(\"Value of V[\",new_state,\"] is\",next_value)\n",
    "            #error = (r + gamma*V[new_state]) - V[s] #calc error\n",
    "            error = (r + gamma*next_value)-current_value\n",
    "            \n",
    "            #V[s] += alpha*error #update V\n",
    "            W += alpha*error*states[s]\n",
    "            #bias += alpha*error\n",
    "            s = new_state #update state s\n",
    "           \n",
    "        #reward absorbed\n",
    "        r = reward(s)\n",
    "        #print(\"final state is\",s)\n",
    "        #error = r - V[s]\n",
    "        current_value = np.dot(states[s],W)+bias\n",
    "        error = r - current_value\n",
    "        #print(\"Error =\",error)\n",
    "        W += alpha*error*states[s]\n",
    "        #bias += alpha*error\n",
    "        #print(list(map(lambda x: np.dot(x,W)+bias, states)))\n",
    "        #V[s] += error\n",
    "        ##############\n",
    "        #print(V)\n",
    "    V = list(map(lambda x: np.dot(x,W)+bias, states))\n",
    "    plotly.offline.iplot([\n",
    "    dict(x=[x for x in range(len(V))] , y=V, type='scatter')\n",
    "    ])\n",
    "    '''\n",
    "    print('Final V is',V)\n",
    "    plt.plot([x for x in range(v_size)], V, 'bo',[x for x in range(v_size)], V, 'k')\n",
    "    plt.axis([0, v_size, 0, 1])\n",
    "    plt.show()'''"
   ]
  },
  {
   "cell_type": "code",
   "execution_count": 17,
   "metadata": {
    "collapsed": false
   },
   "outputs": [
    {
     "data": {
      "application/vnd.plotly.v1+json": {
       "data": [
        {
         "type": "scatter",
         "x": [
          0,
          1,
          2,
          3,
          4,
          5,
          6,
          7,
          8,
          9
         ],
         "y": [
          0.9998994519873664,
          0.4986766531117165,
          0.24840834119509309,
          0.12314405522282255,
          0.06148951998931962,
          0.030982795028151253,
          0.06118895339967803,
          0.12302706435661662,
          0.24834716298194137,
          0.4991942671310272
         ]
        }
       ],
       "layout": {}
      },
      "text/html": [
       "<div id=\"3c2475d1-a737-4b5b-b609-32d3182af1fc\" style=\"height: 525px; width: 100%;\" class=\"plotly-graph-div\"></div><script type=\"text/javascript\">require([\"plotly\"], function(Plotly) { window.PLOTLYENV=window.PLOTLYENV || {};window.PLOTLYENV.BASE_URL=\"https://plot.ly\";Plotly.newPlot(\"3c2475d1-a737-4b5b-b609-32d3182af1fc\", [{\"x\": [0, 1, 2, 3, 4, 5, 6, 7, 8, 9], \"y\": [0.9998994519873664, 0.4986766531117165, 0.24840834119509309, 0.12314405522282255, 0.06148951998931962, 0.030982795028151253, 0.06118895339967803, 0.12302706435661662, 0.24834716298194137, 0.4991942671310272], \"type\": \"scatter\"}], {}, {\"showLink\": true, \"linkText\": \"Export to plot.ly\"})});</script>"
      ],
      "text/vnd.plotly.v1+html": [
       "<div id=\"3c2475d1-a737-4b5b-b609-32d3182af1fc\" style=\"height: 525px; width: 100%;\" class=\"plotly-graph-div\"></div><script type=\"text/javascript\">require([\"plotly\"], function(Plotly) { window.PLOTLYENV=window.PLOTLYENV || {};window.PLOTLYENV.BASE_URL=\"https://plot.ly\";Plotly.newPlot(\"3c2475d1-a737-4b5b-b609-32d3182af1fc\", [{\"x\": [0, 1, 2, 3, 4, 5, 6, 7, 8, 9], \"y\": [0.9998994519873664, 0.4986766531117165, 0.24840834119509309, 0.12314405522282255, 0.06148951998931962, 0.030982795028151253, 0.06118895339967803, 0.12302706435661662, 0.24834716298194137, 0.4991942671310272], \"type\": \"scatter\"}], {}, {\"showLink\": true, \"linkText\": \"Export to plot.ly\"})});</script>"
      ]
     },
     "metadata": {},
     "output_type": "display_data"
    }
   ],
   "source": [
    "TD(10,10000,.01,.5)"
   ]
  },
  {
   "cell_type": "code",
   "execution_count": null,
   "metadata": {
    "collapsed": true
   },
   "outputs": [],
   "source": []
  }
 ],
 "metadata": {
  "kernelspec": {
   "display_name": "Python 3",
   "language": "python",
   "name": "python3"
  },
  "language_info": {
   "codemirror_mode": {
    "name": "ipython",
    "version": 3
   },
   "file_extension": ".py",
   "mimetype": "text/x-python",
   "name": "python",
   "nbconvert_exporter": "python",
   "pygments_lexer": "ipython3",
   "version": "3.6.0"
  }
 },
 "nbformat": 4,
 "nbformat_minor": 2
}
