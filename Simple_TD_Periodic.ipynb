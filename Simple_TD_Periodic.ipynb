{
 "cells": [
  {
   "cell_type": "markdown",
   "metadata": {},
   "source": [
    "# Equations"
   ]
  },
  {
   "cell_type": "markdown",
   "metadata": {},
   "source": [
    "$ V(s_t) = \\gamma ^0r(s_t) + \\gamma ^1r(s_{t+1}) + \\gamma ^2r(s_{t+2}) + ... + \\gamma ^nr(s_{t+n})$"
   ]
  },
  {
   "cell_type": "markdown",
   "metadata": {},
   "source": [
    "$ \\delta (s_t) = [r(s_t) + \\gamma V(s_{t+1})] - V(s_t) $"
   ]
  },
  {
   "cell_type": "markdown",
   "metadata": {},
   "source": [
    "$ V(s_t) = V(s_t) + \\alpha\\delta $"
   ]
  },
  {
   "cell_type": "markdown",
   "metadata": {},
   "source": [
    "$ \\pi (s_t) = argmax_a V(s_t) $"
   ]
  },
  {
   "cell_type": "markdown",
   "metadata": {},
   "source": [
    "## Temporal Difference "
   ]
  },
  {
   "cell_type": "code",
   "execution_count": 1,
   "metadata": {
    "collapsed": true
   },
   "outputs": [],
   "source": [
    "from plotly.graph_objs import Scatter, Layout\n",
    "import matplotlib.pyplot as plt\n",
    "import plotly\n",
    "import numpy as np\n",
    "import random"
   ]
  },
  {
   "cell_type": "code",
   "execution_count": 38,
   "metadata": {
    "collapsed": false
   },
   "outputs": [],
   "source": [
    "# state 2 is where the cheese is\n",
    "# 1X3 maze\n",
    "\n",
    "def reward(s):\n",
    "    if s == 0:\n",
    "        return 1\n",
    "    else:\n",
    "        return 0\n",
    "    \n",
    "def policy(s,V):\n",
    "    x = random.random()\n",
    "    ep = 0.1\n",
    "    left = ((s-1)+len(V))%len(V)\n",
    "    right = ((s+1)+len(V))%len(V)\n",
    "    \n",
    "    if x < ep:\n",
    "            #print('Random choice')\n",
    "        return random.choice([left,right])\n",
    "    if V[right] == V[left]:\n",
    "        return random.choice([left,right])\n",
    "    elif V[right] > V[left]:\n",
    "        return right\n",
    "    else:\n",
    "        return left\n",
    "        \n",
    "def TD(v_size, num_ep, alpha, gamma):    \n",
    "    num_episodes = num_ep\n",
    "    V = [0]*v_size\n",
    "    V[9] = -10\n",
    "    print('Initial V is',V)\n",
    "    plt.plot([x for x in range(v_size)], V, 'bo',[x for x in range(v_size)], V, 'k')\n",
    "    plt.axis([0, v_size, 0, 1])\n",
    "    plt.show()\n",
    "    for x in range(num_episodes):\n",
    "        #print('Episode:',x)\n",
    "        s = 10\n",
    "        t_state = 0\n",
    "        while s != t_state:\n",
    "            new_state = policy(s,V) #get new state\n",
    "            r = reward(s) #get reward at state s\n",
    "            error = (r + gamma*V[new_state]) - V[s] #calc error\n",
    "            V[s] += alpha*error #update V\n",
    "            s = new_state #update state s\n",
    "           \n",
    "        #reward absorbed\n",
    "        r = reward(s)\n",
    "        error = r - V[s]\n",
    "        V[s] += error\n",
    "        ##############\n",
    "        #print(V)\n",
    "    print('Final V is',V)\n",
    "    plt.plot([x for x in range(v_size)], V, 'bo',[x for x in range(v_size)], V, 'k')\n",
    "    plt.axis([0, v_size, 0, 1])\n",
    "    plt.show()"
   ]
  },
  {
   "cell_type": "code",
   "execution_count": 39,
   "metadata": {
    "collapsed": false
   },
   "outputs": [
    {
     "name": "stdout",
     "output_type": "stream",
     "text": [
      "Initial V is [0, 0, 0, 0, 0, 0, 0, 0, 0, -10, 0, 0, 0, 0, 0, 0, 0, 0, 0, 0]\n"
     ]
    },
    {
     "data": {
      "image/png": "[encoded data removed]",
      "text/plain": [
       "<matplotlib.figure.Figure at 0x11766af98>"
      ]
     },
     "metadata": {},
     "output_type": "display_data"
    },
    {
     "name": "stdout",
     "output_type": "stream",
     "text": [
      "Final V is [1, 0.7875000000000001, 0.405, 0.09112500000000001, 0.0, 0.0, 0.0, -0.06574142172691201, 0.16330538312256465, 0.21337420090152684, 0.31933952937830257, 0.36332337628060163, 0.4082813806206386, 0.4579962594877392, 0.5183779958751388, 0.585075445672605, 0.654746224708517, 0.728778082096406, 0.8099647750166183, 0.8999973907426924]\n"
     ]
    },
    {
     "data": {
      "image/png": "[encoded data removed]",
      "text/plain": [
       "<matplotlib.figure.Figure at 0x1175a57f0>"
      ]
     },
     "metadata": {},
     "output_type": "display_data"
    }
   ],
   "source": [
    "TD(20,4000,.5,.9)"
   ]
  },
  {
   "cell_type": "code",
   "execution_count": null,
   "metadata": {
    "collapsed": false
   },
   "outputs": [],
   "source": [
    "add negative punishment for 2d maze\n",
    "add eligibility traces\n",
    "V += alpha Delta(x)eVect"
   ]
  }
 ],
 "metadata": {
  "kernelspec": {
   "display_name": "Python 3",
   "language": "python",
   "name": "python3"
  },
  "language_info": {
   "codemirror_mode": {
    "name": "ipython",
    "version": 3
   },
   "file_extension": ".py",
   "mimetype": "text/x-python",
   "name": "python",
   "nbconvert_exporter": "python",
   "pygments_lexer": "ipython3",
   "version": "3.6.0"
  }
 },
 "nbformat": 4,
 "nbformat_minor": 2
}
