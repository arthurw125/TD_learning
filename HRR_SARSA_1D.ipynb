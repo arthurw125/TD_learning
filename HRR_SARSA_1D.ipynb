{
 "cells": [
  {
   "cell_type": "markdown",
   "metadata": {},
   "source": [
    "# Equations"
   ]
  },
  {
   "cell_type": "markdown",
   "metadata": {},
   "source": [
    "$ V(s_t) = \\gamma ^0r(s_t) + \\gamma ^1r(s_{t+1}) + \\gamma ^2r(s_{t+2}) + ... + \\gamma ^nr(s_{t+n})$"
   ]
  },
  {
   "cell_type": "markdown",
   "metadata": {},
   "source": [
    "$ \\delta (s_t) = [r(s_t) + \\gamma V(s_{t+1})] - V(s_t) $"
   ]
  },
  {
   "cell_type": "markdown",
   "metadata": {},
   "source": [
    "$ V(s_t) = V(s_t) + \\alpha\\delta $"
   ]
  },
  {
   "cell_type": "markdown",
   "metadata": {},
   "source": [
    "$ \\pi (s_t) = argmax_a V(s_t) $"
   ]
  },
  {
   "cell_type": "markdown",
   "metadata": {},
   "source": [
    "## SARSA"
   ]
  },
  {
   "cell_type": "code",
   "execution_count": 1,
   "metadata": {
    "collapsed": false
   },
   "outputs": [
    {
     "data": {
      "text/html": [
       "<script>requirejs.config({paths: { 'plotly': ['https://cdn.plot.ly/plotly-latest.min']},});if(!window.Plotly) {{require(['plotly'],function(plotly) {window.Plotly=plotly;});}}</script>"
      ],
      "text/vnd.plotly.v1+html": [
       "<script>requirejs.config({paths: { 'plotly': ['https://cdn.plot.ly/plotly-latest.min']},});if(!window.Plotly) {{require(['plotly'],function(plotly) {window.Plotly=plotly;});}}</script>"
      ]
     },
     "metadata": {},
     "output_type": "display_data"
    }
   ],
   "source": [
    "#from plotly.graph_objs import Scatter, Layout\n",
    "import matplotlib.pyplot as plt\n",
    "import plotly\n",
    "import numpy as np\n",
    "import random\n",
    "import hrr\n",
    "from plotly.graph_objs import Scatter, Layout, Surface\n",
    "plotly.offline.init_notebook_mode(connected=True)"
   ]
  },
  {
   "cell_type": "code",
   "execution_count": 4,
   "metadata": {
    "collapsed": false
   },
   "outputs": [],
   "source": [
    "\n",
    "def reward(s):\n",
    "    if s == 0:\n",
    "        return 1\n",
    "    else:\n",
    "        return 0\n",
    "    \n",
    "def valuefunc(s,S,W,bias,a,A):\n",
    "    return np.dot(hrr.convolve(S[s],A[a]),W)+bias\n",
    "    \n",
    "def policy(s,S,W,bias,a,A):\n",
    "    x = random.random()\n",
    "    ep = 0.01\n",
    "    left = ((s-1)+len(S))%len(S)\n",
    "    right = ((s+1)+len(S))%len(S)\n",
    "    \n",
    "    if x < ep or valuefunc(right,S,W,bias,a,A) == valuefunc(left,S,W,bias,a,A):\n",
    "        c = random.choice([left,right])\n",
    "        if c == left:\n",
    "            return 0,left\n",
    "        else:\n",
    "            return 1,right\n",
    "    elif valuefunc(right,S,W,bias,a,A) > valuefunc(left,S,W,bias,a,A):\n",
    "        return 1,right\n",
    "    else:\n",
    "        return 0,left\n",
    "        \n",
    "def TD(v_size, num_ep, alpha, gamma): \n",
    "    #number of states\n",
    "    nstates = v_size\n",
    "    \n",
    "    #length of hrr\n",
    "    n = 128\n",
    "    \n",
    "    #encode each state as a unique hrr\n",
    "    states = hrr.hrrs(n,nstates)\n",
    "    \n",
    "    #encode left and right action hrr\n",
    "    #left = hrr.hrr(n)\n",
    "    #right = hrr.hrr(n)\n",
    "    actions = hrr.hrrs(n,2)\n",
    "    \n",
    "    #initialize weight vector with small random values\n",
    "    W = np.random.random(n)*.01\n",
    "    bias = 1 # start optimistically\n",
    "    \n",
    "    num_episodes = num_ep\n",
    "    #V = [0]*v_size\n",
    "    #V[9] = -10 # sudo barrier\n",
    "    #print('Initial V is',V)\n",
    "    #plt.plot([x for x in range(v_size)], V, 'bo',[x for x in range(v_size)], V, 'k')\n",
    "    #plt.axis([0, v_size, 0, 1])\n",
    "    #plt.show()\n",
    "    for x in range(num_episodes):\n",
    "        #print('Episode:',x)\n",
    "        s = random.randrange(0,v_size)\n",
    "        a = random.randrange(0,2)\n",
    "        t_state = 0\n",
    "        current_value = 0\n",
    "        next_value = 0\n",
    "        curr_sa = 0\n",
    "        \n",
    "        while s != t_state:\n",
    "            new_action,new_state = policy(s,states,W,bias,a,actions) #get new state and new action\n",
    "            r = reward(s) #get reward at state s\n",
    "            \n",
    "            ## state action vector\n",
    "            curr_sa = hrr.convolve(states[s],actions[a])\n",
    "            next_sa = hrr.convolve(states[new_state],actions[new_action])\n",
    "            \n",
    "            ## Get the learned value V[s] of the current state\n",
    "            ## Note this is a simple perceptron, or single-layer\n",
    "            ## neural network which produces a weighted sum of the\n",
    "            ## HRR for the current state.\n",
    "            current_value = np.dot(curr_sa,W)+bias\n",
    "            next_value = np.dot(next_sa,W)+bias\n",
    "            #print(\"Value of V[\",s,\"] is\",current_value)\n",
    "            #print(\"Value of V[\",new_state,\"] is\",next_value)\n",
    "            #error = (r + gamma*V[new_state]) - V[s] #calc error\n",
    "            error = (r + gamma*next_value)-current_value\n",
    "            \n",
    "            #V[s] += alpha*error #update V\n",
    "            W += alpha*error*curr_sa\n",
    "            #bias += alpha*error\n",
    "            s = new_state #update state s\n",
    "            a = new_action #update action a\n",
    "           \n",
    "        #reward absorbed\n",
    "        r = reward(s)\n",
    "        #print(\"final state is\",s)\n",
    "        #error = r - V[s]\n",
    "        current_value = np.dot(curr_sa,W)+bias\n",
    "        error = r - current_value\n",
    "        #print(\"Error =\",error)\n",
    "        W += alpha*error*curr_sa\n",
    "        #bias += alpha*error\n",
    "        #print(list(map(lambda x: np.dot(x,W)+bias, states)))\n",
    "        #V[s] += error\n",
    "        ##############\n",
    "        #print(V)\n",
    "    V1 = list(map(lambda x: np.dot(hrr.convolve(x,actions[0]),W)+bias, states))\n",
    "    V2 = list(map(lambda x: np.dot(hrr.convolve(x,actions[1]),W)+bias, states))\n",
    "    \n",
    "    plotly.offline.iplot([\n",
    "    dict(x=[x for x in range(len(V1))] , y=V1, type='scatter',name='left'),\n",
    "    dict(x=[x for x in range(len(V1))] , y=V2, type='scatter',name='right')\n",
    "    ])\n",
    "    '''\n",
    "    print('Final V is',V)\n",
    "    plt.plot([x for x in range(v_size)], V, 'bo',[x for x in range(v_size)], V, 'k')\n",
    "    plt.axis([0, v_size, 0, 1])\n",
    "    plt.show()'''"
   ]
  },
  {
   "cell_type": "code",
   "execution_count": 8,
   "metadata": {
    "collapsed": false
   },
   "outputs": [
    {
     "data": {
      "application/vnd.plotly.v1+json": {
       "data": [
        {
         "name": "left",
         "type": "scatter",
         "x": [
          0,
          1,
          2,
          3,
          4,
          5,
          6,
          7,
          8,
          9
         ],
         "y": [
          0.8537072611757244,
          0.7115310083018109,
          0.3561698041243808,
          0.17665030408865612,
          0.08953938872650169,
          0.032211777483181936,
          0.07682428672297303,
          0.20559982649913822,
          0.35769266717009285,
          0.6952137901234097
         ]
        },
        {
         "name": "right",
         "type": "scatter",
         "x": [
          0,
          1,
          2,
          3,
          4,
          5,
          6,
          7,
          8,
          9
         ],
         "y": [
          0.7416431384547635,
          0.7142625875426796,
          0.36052097662144433,
          0.18152827200709332,
          0.09470337843148036,
          0.04145174121648576,
          0.08121891651811874,
          0.17105822907750257,
          0.34247194164996775,
          0.6876282381000127
         ]
        }
       ],
       "layout": {}
      },
      "text/html": [
       "<div id=\"1cac30c3-c32e-4006-8005-191cc849d1d8\" style=\"height: 525px; width: 100%;\" class=\"plotly-graph-div\"></div><script type=\"text/javascript\">require([\"plotly\"], function(Plotly) { window.PLOTLYENV=window.PLOTLYENV || {};window.PLOTLYENV.BASE_URL=\"https://plot.ly\";Plotly.newPlot(\"1cac30c3-c32e-4006-8005-191cc849d1d8\", [{\"x\": [0, 1, 2, 3, 4, 5, 6, 7, 8, 9], \"y\": [0.8537072611757244, 0.7115310083018109, 0.3561698041243808, 0.17665030408865612, 0.08953938872650169, 0.032211777483181936, 0.07682428672297303, 0.20559982649913822, 0.35769266717009285, 0.6952137901234097], \"type\": \"scatter\", \"name\": \"left\"}, {\"x\": [0, 1, 2, 3, 4, 5, 6, 7, 8, 9], \"y\": [0.7416431384547635, 0.7142625875426796, 0.36052097662144433, 0.18152827200709332, 0.09470337843148036, 0.04145174121648576, 0.08121891651811874, 0.17105822907750257, 0.34247194164996775, 0.6876282381000127], \"type\": \"scatter\", \"name\": \"right\"}], {}, {\"showLink\": true, \"linkText\": \"Export to plot.ly\"})});</script>"
      ],
      "text/vnd.plotly.v1+html": [
       "<div id=\"1cac30c3-c32e-4006-8005-191cc849d1d8\" style=\"height: 525px; width: 100%;\" class=\"plotly-graph-div\"></div><script type=\"text/javascript\">require([\"plotly\"], function(Plotly) { window.PLOTLYENV=window.PLOTLYENV || {};window.PLOTLYENV.BASE_URL=\"https://plot.ly\";Plotly.newPlot(\"1cac30c3-c32e-4006-8005-191cc849d1d8\", [{\"x\": [0, 1, 2, 3, 4, 5, 6, 7, 8, 9], \"y\": [0.8537072611757244, 0.7115310083018109, 0.3561698041243808, 0.17665030408865612, 0.08953938872650169, 0.032211777483181936, 0.07682428672297303, 0.20559982649913822, 0.35769266717009285, 0.6952137901234097], \"type\": \"scatter\", \"name\": \"left\"}, {\"x\": [0, 1, 2, 3, 4, 5, 6, 7, 8, 9], \"y\": [0.7416431384547635, 0.7142625875426796, 0.36052097662144433, 0.18152827200709332, 0.09470337843148036, 0.04145174121648576, 0.08121891651811874, 0.17105822907750257, 0.34247194164996775, 0.6876282381000127], \"type\": \"scatter\", \"name\": \"right\"}], {}, {\"showLink\": true, \"linkText\": \"Export to plot.ly\"})});</script>"
      ]
     },
     "metadata": {},
     "output_type": "display_data"
    }
   ],
   "source": [
    "TD(10,10000,.01,.5)"
   ]
  },
  {
   "cell_type": "code",
   "execution_count": null,
   "metadata": {
    "collapsed": true
   },
   "outputs": [],
   "source": []
  }
 ],
 "metadata": {
  "kernelspec": {
   "display_name": "Python 3",
   "language": "python",
   "name": "python3"
  },
  "language_info": {
   "codemirror_mode": {
    "name": "ipython",
    "version": 3
   },
   "file_extension": ".py",
   "mimetype": "text/x-python",
   "name": "python",
   "nbconvert_exporter": "python",
   "pygments_lexer": "ipython3",
   "version": "3.6.0"
  }
 },
 "nbformat": 4,
 "nbformat_minor": 2
}
