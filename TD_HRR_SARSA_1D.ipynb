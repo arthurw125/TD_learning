{
 "cells": [
  {
   "cell_type": "markdown",
   "metadata": {},
   "source": [
    "# Equations"
   ]
  },
  {
   "cell_type": "markdown",
   "metadata": {},
   "source": [
    "$ \\delta = [R_{t+1} + \\gamma Q(s_{t+1}, a_{t+1})] - Q(s_t,a_t) $"
   ]
  },
  {
   "cell_type": "markdown",
   "metadata": {},
   "source": [
    "$ Q(s_t,a_t) = Q(s_t,a_t) + \\alpha\\delta $"
   ]
  },
  {
   "cell_type": "markdown",
   "metadata": {},
   "source": [
    "## SARSA"
   ]
  },
  {
   "cell_type": "code",
   "execution_count": null,
   "metadata": {
    "collapsed": false
   },
   "outputs": [],
   "source": [
    "#from plotly.graph_objs import Scatter, Layout\n",
    "import matplotlib.pyplot as plt\n",
    "import plotly\n",
    "import numpy as np\n",
    "import random\n",
    "import hrr\n",
    "from plotly.graph_objs import Scatter, Layout, Surface\n",
    "plotly.offline.init_notebook_mode(connected=True)"
   ]
  },
  {
   "cell_type": "code",
   "execution_count": null,
   "metadata": {
    "collapsed": false
   },
   "outputs": [],
   "source": [
    "def TD(nstates,nepisodes,lrate,gamma,td_lambda): \n",
    "    n = 1024\n",
    "    #nstates = 50\n",
    "    nactions = 2\n",
    "    goal = 0\n",
    "    reward = np.zeros(nstates)\n",
    "    reward[goal] = 1\n",
    "    \n",
    "    states = hrr.hrrs(n,nstates)\n",
    "    actions = hrr.hrrs(n,nactions)\n",
    "    \n",
    "    stateactions = hrr.oconvolve(actions,states)\n",
    "    stateactions = np.reshape(stateactions,(nstates,nactions,n))\n",
    "    \n",
    "    W = hrr.hrr(n)\n",
    "    bias = 1\n",
    "\n",
    "    #lrate = 0.1\n",
    "    eligibility = np.zeros(n)\n",
    "    #gamma = 0.9\n",
    "    #td_lambda = 0.5\n",
    "    epsilon = 0.05\n",
    "    #nepisodes = 10000\n",
    "    nsteps = 100\n",
    "    \n",
    "    for episode in range(nepisodes):\n",
    "        state = random.randrange(0,nstates)\n",
    "        values = np.dot(stateactions[state],W) + bias\n",
    "        action = np.argmax(values)\n",
    "        if random.random() < epsilon:\n",
    "            action = random.randrange(0,nactions)\n",
    "            \n",
    "        eligibility = np.zeros(n)\n",
    "        \n",
    "        for step in range(nsteps):\n",
    "            r = reward[state]\n",
    "            if state == goal:\n",
    "                eligibility = stateactions[state,action,] + td_lambda*gamma*eligibility\n",
    "                error = r - values[action]\n",
    "                W += lrate*error*eligibility\n",
    "                break\n",
    "                \n",
    "            pstate = state\n",
    "            pvalues = values\n",
    "            paction = action\n",
    "            \n",
    "            eligibility = stateactions[state,action,] + td_lambda*gamma*eligibility\n",
    "            \n",
    "            state = ((state+np.array([-1,1]))%nstates)[action]\n",
    "            \n",
    "            values = np.dot(stateactions[state],W) + bias \n",
    "            action = np.argmax(values)\n",
    "            if random.random() < epsilon:\n",
    "                action = random.randrange(0,nactions)\n",
    "                \n",
    "            error = (r+gamma*values[action])-pvalues[paction]\n",
    "            W += lrate*error*eligibility\n",
    "            \n",
    "        \n",
    "    V1 = list(map(lambda x: np.dot(x,W)+bias, stateactions[:,0,:]))\n",
    "    V2 = list(map(lambda x: np.dot(x,W)+bias, stateactions[:,1,:]))\n",
    "    \n",
    "    plotly.offline.iplot([\n",
    "    dict(x=[x for x in range(len(V1))] , y=V1, type='scatter',name='left'),\n",
    "    dict(x=[x for x in range(len(V1))] , y=V2, type='scatter',name='right')\n",
    "    ])\n",
    "   "
   ]
  },
  {
   "cell_type": "code",
   "execution_count": null,
   "metadata": {
    "collapsed": false
   },
   "outputs": [],
   "source": [
    "TD(50,10000,.1,.9,.5)\n",
    "#inputs: nstates,nepisodes,lrate,gamma,td_lambda"
   ]
  },
  {
   "cell_type": "code",
   "execution_count": null,
   "metadata": {
    "collapsed": true
   },
   "outputs": [],
   "source": []
  }
 ],
 "metadata": {
  "kernelspec": {
   "display_name": "Python 3",
   "language": "python",
   "name": "python3"
  },
  "language_info": {
   "codemirror_mode": {
    "name": "ipython",
    "version": 3
   },
   "file_extension": ".py",
   "mimetype": "text/x-python",
   "name": "python",
   "nbconvert_exporter": "python",
   "pygments_lexer": "ipython3",
   "version": "3.6.0"
  }
 },
 "nbformat": 4,
 "nbformat_minor": 2
}
