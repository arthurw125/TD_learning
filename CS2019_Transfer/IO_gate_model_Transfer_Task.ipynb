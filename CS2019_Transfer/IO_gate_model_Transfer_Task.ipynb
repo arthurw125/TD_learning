{
 "cells": [
  {
   "cell_type": "code",
   "execution_count": 1,
   "metadata": {},
   "outputs": [
    {
     "data": {
      "text/html": [
       "<script>requirejs.config({paths: { 'plotly': ['https://cdn.plot.ly/plotly-latest.min']},});if(!window.Plotly) {{require(['plotly'],function(plotly) {window.Plotly=plotly;});}}</script>"
      ],
      "text/vnd.plotly.v1+html": [
       "<script>requirejs.config({paths: { 'plotly': ['https://cdn.plot.ly/plotly-latest.min']},});if(!window.Plotly) {{require(['plotly'],function(plotly) {window.Plotly=plotly;});}}</script>"
      ]
     },
     "metadata": {},
     "output_type": "display_data"
    },
    {
     "data": {
      "text/html": [
       "<script>requirejs.config({paths: { 'plotly': ['https://cdn.plot.ly/plotly-latest.min']},});if(!window.Plotly) {{require(['plotly'],function(plotly) {window.Plotly=plotly;});}}</script>"
      ],
      "text/vnd.plotly.v1+html": [
       "<script>requirejs.config({paths: { 'plotly': ['https://cdn.plot.ly/plotly-latest.min']},});if(!window.Plotly) {{require(['plotly'],function(plotly) {window.Plotly=plotly;});}}</script>"
      ]
     },
     "metadata": {},
     "output_type": "display_data"
    }
   ],
   "source": [
    "import sys\n",
    "sys.path.append('../')\n",
    "import matplotlib.pyplot as plt\n",
    "import plotly\n",
    "import numpy as np\n",
    "import random\n",
    "import hrr2 as hrr\n",
    "import math\n",
    "import state_machine_class as state_machine\n",
    "import Gate_Class_v4 as gate\n",
    "from plotly.graph_objs import Scatter, Layout, Surface\n",
    "plotly.offline.init_notebook_mode(connected=True)"
   ]
  },
  {
   "cell_type": "markdown",
   "metadata": {},
   "source": [
    "# Trained w/out Handholding for desired Gates\n",
    "# Test on Transfer Task"
   ]
  },
  {
   "cell_type": "code",
   "execution_count": 2,
   "metadata": {
    "collapsed": true
   },
   "outputs": [],
   "source": [
    "# reward for transfer task\n",
    "def reward(loc,cue,size):\n",
    "    if cue == 'red':\n",
    "        if loc[0] == 0 and loc[1] == 0:\n",
    "            return 1\n",
    "        else:\n",
    "            return 0\n",
    "    elif cue == 'green': \n",
    "        if loc[0] == 0 and loc[1] == size[1]-1:\n",
    "            return 1\n",
    "        else:\n",
    "            return 0\n",
    "    elif cue == 'purple': # middle\n",
    "        if loc[0] == 0 and loc[1] == 2:\n",
    "            return 1\n",
    "        else:\n",
    "            return 0"
   ]
  },
  {
   "cell_type": "code",
   "execution_count": 3,
   "metadata": {
    "collapsed": true
   },
   "outputs": [],
   "source": [
    "def punishment(loc,cue,size):\n",
    "    if cue == 'red':\n",
    "        if loc[0] == 0 and loc[1] == 0:\n",
    "            return 0\n",
    "        else:\n",
    "            return -1\n",
    "    elif cue == 'green': # middle point\n",
    "        if loc[0] == 0 and loc[1] == size[1]-1:\n",
    "            return 0\n",
    "        else:\n",
    "            return -1"
   ]
  },
  {
   "cell_type": "code",
   "execution_count": 4,
   "metadata": {
    "collapsed": true
   },
   "outputs": [],
   "source": [
    "def optimal_path_length(init_loc,cue):\n",
    "    row,col = init_loc[0],init_loc[1]\n",
    "    red = [ [0,1,2,2,1],\n",
    "            [1,2,3,3,2],\n",
    "            [2,3,4,4,3],\n",
    "            [2,3,4,4,3],\n",
    "            [1,2,3,3,2] ]\n",
    "    \n",
    "    green = [ [1,2,2,1,0],\n",
    "              [2,3,3,2,1],\n",
    "              [3,4,4,3,2],\n",
    "              [3,4,4,3,2],\n",
    "              [2,3,3,2,1] ]\n",
    "    \n",
    "    if cue == 0: # red\n",
    "        return red[row][col]\n",
    "    elif cue == 1:\n",
    "        return green[row][col]\n",
    "        "
   ]
  },
  {
   "cell_type": "code",
   "execution_count": 5,
   "metadata": {
    "collapsed": true
   },
   "outputs": [],
   "source": [
    "def optimal_path_length_bottle(init_loc,cue):\n",
    "    row,col = init_loc[0],init_loc[1]\n",
    "    red = [ [0,1,2,3,4],\n",
    "            [1,2,3,4,5],\n",
    "            [6,5,4,5,6],\n",
    "            [7,6,5,6,7],\n",
    "            [8,7,6,7,8] ]\n",
    "    \n",
    "    green = [ [4,3,2,1,0],\n",
    "              [5,4,3,2,1],\n",
    "              [6,5,4,5,6],\n",
    "              [7,6,5,6,7],\n",
    "              [8,7,6,7,8] ]\n",
    "    \n",
    "    purple = [ [2,1,0,1,2],\n",
    "               [3,2,1,2,3],\n",
    "               [4,3,2,3,4],\n",
    "               [5,4,3,4,5],\n",
    "               [6,5,4,5,6] ]\n",
    "    \n",
    "    if cue == 0: # red\n",
    "        return red[row][col]\n",
    "    elif cue == 1:\n",
    "        return green[row][col]\n",
    "    elif cue == 2:\n",
    "        return purple[row][col]"
   ]
  },
  {
   "cell_type": "code",
   "execution_count": 6,
   "metadata": {
    "collapsed": true
   },
   "outputs": [],
   "source": [
    "# load weights into 1D list from file\n",
    "def load_weights(fname):\n",
    "    W = []\n",
    "    f_obj = open(fname,\"r\")\n",
    "    for item in f_obj:\n",
    "        W.append(float(item))\n",
    "        \n",
    "    return np.array(W)"
   ]
  },
  {
   "cell_type": "code",
   "execution_count": 7,
   "metadata": {
    "collapsed": true
   },
   "outputs": [],
   "source": [
    "-"
   ]
  },
  {
   "cell_type": "code",
   "execution_count": 8,
   "metadata": {
    "collapsed": true
   },
   "outputs": [],
   "source": [
    "#WM_Objs = [LTM_obj2, agent2, i_gate2, o_gate2, WM2]"
   ]
  },
  {
   "cell_type": "code",
   "execution_count": 9,
   "metadata": {},
   "outputs": [
    {
     "ename": "NameError",
     "evalue": "name 'WM_Objs' is not defined",
     "output_type": "error",
     "traceback": [
      "\u001b[0;31m---------------------------------------------------------------------------\u001b[0m",
      "\u001b[0;31mNameError\u001b[0m                                 Traceback (most recent call last)",
      "\u001b[0;32m<ipython-input-9-f9dcaf5d0dae>\u001b[0m in \u001b[0;36m<module>\u001b[0;34m()\u001b[0m\n\u001b[0;32m----> 1\u001b[0;31m \u001b[0mTransfer_Task\u001b[0m\u001b[0;34m(\u001b[0m\u001b[0mWM_Objs\u001b[0m\u001b[0;34m,\u001b[0m\u001b[0;34m[\u001b[0m\u001b[0;36m5\u001b[0m\u001b[0;34m,\u001b[0m\u001b[0;36m5\u001b[0m\u001b[0;34m]\u001b[0m\u001b[0;34m,\u001b[0m\u001b[0;36m100000\u001b[0m\u001b[0;34m,\u001b[0m\u001b[0;36m1000\u001b[0m\u001b[0;34m)\u001b[0m\u001b[0;34m\u001b[0m\u001b[0m\n\u001b[0m",
      "\u001b[0;31mNameError\u001b[0m: name 'WM_Objs' is not defined"
     ]
    }
   ],
   "source": [
    "Transfer_Task(WM_Objs,[5,5],100000,1000)"
   ]
  },
  {
   "cell_type": "code",
   "execution_count": null,
   "metadata": {
    "collapsed": true
   },
   "outputs": [],
   "source": []
  }
 ],
 "metadata": {
  "kernelspec": {
   "display_name": "Python 3",
   "language": "python",
   "name": "python3"
  },
  "language_info": {
   "codemirror_mode": {
    "name": "ipython",
    "version": 3
   },
   "file_extension": ".py",
   "mimetype": "text/x-python",
   "name": "python",
   "nbconvert_exporter": "python",
   "pygments_lexer": "ipython3",
   "version": "3.6.0"
  }
 },
 "nbformat": 4,
 "nbformat_minor": 2
}
